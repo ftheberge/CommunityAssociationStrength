{
 "cells": [
  {
   "cell_type": "code",
   "execution_count": 1,
   "metadata": {},
   "outputs": [],
   "source": [
    "import igraph as ig\n",
    "import pandas as pd\n",
    "import numpy as np\n",
    "import matplotlib.pyplot as plt\n",
    "import powerlaw\n",
    "\n",
    "from tqdm import trange, tqdm\n",
    "\n",
    "from collections import defaultdict\n",
    "from itertools import combinations"
   ]
  },
  {
   "cell_type": "code",
   "execution_count": 29,
   "metadata": {},
   "outputs": [],
   "source": [
    "def measure_params(g, coms, drop_outliers=False, min_degree=5, min_com_size=10):\n",
    "    \"\"\"\n",
    "    Measure parameters of a graph with known communities.\n",
    "\n",
    "    input:\n",
    "    - g: the graph (igraph). Each vertex must have it's a set of it's communities stored in a 'comms' attribute.\n",
    "    - coms: a list of lists containing the vertex id's in each community\n",
    "    - drop_outliers  False: drop the outliers before measuring any params (if true then n_out will be 0).\n",
    "    - min_degree  5: override the minimum degree parameter if the actual min degree is too small.\n",
    "        This value will also be used for computeing the degree powerlaw exponent.\n",
    "    - min_com_size  10: override the minimum community size parameter if the actual min com size is too small.\n",
    "        This value will also be used for computeing the community size powerlaw exponent.\n",
    "\n",
    "    returns:\n",
    "    - params: a dictionary with the measured parameters\n",
    "    \"\"\"\n",
    "    params = dict()\n",
    "\n",
    "    n_coms = np.array([len(comms) for comms in g.vs[\"comms\"]])\n",
    "    is_outlier = n_coms == 0\n",
    "    if drop_outliers:\n",
    "        g = g.subgraph(np.argwhere(~is_outlier).reshape(-1))\n",
    "        params[\"n\"] = int(g.vcount())\n",
    "        params[\"n_out\"] = 0\n",
    "        n_coms = n_coms[~is_outlier]\n",
    "    else:\n",
    "        params[\"n\"] = int(g.vcount())\n",
    "        params[\"n_out\"] = int(np.sum(is_outlier))\n",
    "\n",
    "    params[\"eta\"] = float(np.mean(n_coms))\n",
    "\n",
    "    degrees = np.array(g.degree())\n",
    "    d_min = np.maximum(min_degree, np.min(degrees))\n",
    "    params[\"d_min\"] = d_min\n",
    "    params[\"d_max\"] = int(np.max(degrees))\n",
    "    params[\"t1\"] = powerlaw.Fit(degrees, discrete=True, verbose=False, xmin=d_min).power_law.alpha\n",
    "\n",
    "    com_sizes = np.array([len(com) for com in coms])\n",
    "    c_min = np.maximum(min_com_size, np.min(com_sizes))\n",
    "    params[\"c_min\"] = c_min\n",
    "    params[\"c_max\"] = int(np.max(com_sizes))\n",
    "    params[\"t2\"] = powerlaw.Fit(com_sizes, discrete=True, verbose=False, xmin=c_min).power_law.alpha\n",
    "\n",
    "    xi = sum([len(g.vs[e.source][\"comms\"].intersection(g.vs[e.target][\"comms\"]))==0 for e in g.es]) / g.ecount()\n",
    "    params[\"xi\"] = xi\n",
    "\n",
    "    rho = np.corrcoef(degrees, [len(c) for c in g.vs[\"comms\"]])[0, 1]\n",
    "    params[\"rho\"] = rho\n",
    "\n",
    "    return params"
   ]
  },
  {
   "cell_type": "code",
   "execution_count": 26,
   "metadata": {},
   "outputs": [
    {
     "name": "stdout",
     "output_type": "stream",
     "text": [
      "1134890 vertices\n",
      "2987623 edges\n",
      "16386 communities\n"
     ]
    }
   ],
   "source": [
    "# # Read Graph\n",
    "graph_path = \"../../SNAP/com-dblp.ungraph.txt\"\n",
    "com_path = \"../../SNAP/com-dblp.all.cmty.txt\"\n",
    "\n",
    "graph_path = \"../../SNAP/com-amazon.ungraph.txt\"\n",
    "com_path = \"../../SNAP/com-amazon.all.dedup.cmty.txt\"\n",
    "\n",
    "graph_path = \"../../SNAP/com-youtube.ungraph.txt\"\n",
    "com_path = \"../../SNAP/com-youtube.all.cmty.txt\"\n",
    "\n",
    "\n",
    "edges = pd.read_csv(graph_path, sep='\\t', comment=\"#\")\n",
    "coms = []\n",
    "with open(com_path, \"r\") as infile:\n",
    "    for line in infile:\n",
    "        x = line[:-1]  # drop trailing newline\n",
    "        x = x.split('\\t')\n",
    "        coms.append(frozenset([int(y) for y in x])) ## map to 0-based\n",
    "\n",
    "g = ig.Graph.DataFrame(edges, directed=False)\n",
    "\n",
    "c = [set() for _ in range(g.vcount())]\n",
    "for i, com in enumerate(coms):\n",
    "    for v in com:\n",
    "        c[v].add(i)\n",
    "        #print(f\"Vertex {v} in community {i}\")\n",
    "        #print(f\"Vetrex {v} is now in {len(c[v])} coms\")\n",
    "c = [frozenset(i) for i in c] \n",
    "g.vs[\"comms\"] = c\n",
    "\n",
    "g = g.subgraph(np.arange(g.vcount())[np.array(g.degree()) > 0])  # Vertex list is not continugous, degree 0 vertices get added\n",
    "\n",
    "\n",
    "print(f\"{g.vcount()} vertices\")\n",
    "print(f\"{g.ecount()} edges\")\n",
    "print(f\"{len(coms)} communities\")"
   ]
  },
  {
   "cell_type": "code",
   "execution_count": 30,
   "metadata": {},
   "outputs": [
    {
     "data": {
      "text/plain": [
       "{'n': 52675,\n",
       " 'n_out': 0,\n",
       " 'eta': 2.4528144280968203,\n",
       " 'd_min': 5,\n",
       " 'd_max': 1928,\n",
       " 't1': 1.8702187087097446,\n",
       " 'c_min': 10,\n",
       " 'c_max': 3001,\n",
       " 't2': 2.130965769664415,\n",
       " 'xi': 0.5928066048845747,\n",
       " 'rho': 0.3746343169285614}"
      ]
     },
     "execution_count": 30,
     "metadata": {},
     "output_type": "execute_result"
    }
   ],
   "source": [
    "measure_params(g, coms, drop_outliers=True)"
   ]
  },
  {
   "cell_type": "code",
   "execution_count": null,
   "metadata": {},
   "outputs": [],
   "source": []
  }
 ],
 "metadata": {
  "kernelspec": {
   "display_name": "betastar",
   "language": "python",
   "name": "python3"
  },
  "language_info": {
   "codemirror_mode": {
    "name": "ipython",
    "version": 3
   },
   "file_extension": ".py",
   "mimetype": "text/x-python",
   "name": "python",
   "nbconvert_exporter": "python",
   "pygments_lexer": "ipython3",
   "version": "3.11.0"
  }
 },
 "nbformat": 4,
 "nbformat_minor": 2
}

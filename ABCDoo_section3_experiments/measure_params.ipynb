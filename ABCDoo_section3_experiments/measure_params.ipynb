{
 "cells": [
  {
   "cell_type": "code",
   "execution_count": 1,
   "metadata": {},
   "outputs": [],
   "source": [
    "import igraph as ig\n",
    "import pandas as pd\n",
    "import numpy as np\n",
    "import matplotlib.pyplot as plt\n",
    "import powerlaw\n",
    "\n",
    "from tqdm import trange, tqdm\n",
    "\n",
    "from collections import defaultdict\n",
    "from itertools import combinations\n",
    "\n",
    "from load_graph import *"
   ]
  },
  {
   "cell_type": "code",
   "execution_count": 8,
   "metadata": {},
   "outputs": [],
   "source": [
    "def measure_params(g, coms, min_degree=5, min_com_size=10):\n",
    "    \"\"\"\n",
    "    Measure parameters of a graph with known communities.\n",
    "\n",
    "    input:\n",
    "    - g: the graph (igraph). Each vertex must have it's a set of it's communities stored in a 'comms' attribute.\n",
    "    - coms: a list of lists containing the vertex id's in each community\n",
    "    - min_degree  5: override the minimum degree parameter if the actual min degree is too small.\n",
    "        This value will also be used for computeing the degree powerlaw exponent.\n",
    "    - min_com_size  10: override the minimum community size parameter if the actual min com size is too small.\n",
    "        This value will also be used for computeing the community size powerlaw exponent.\n",
    "\n",
    "    returns:\n",
    "    - params: a dictionary with the measured parameters\n",
    "    \"\"\"\n",
    "    params = dict()\n",
    "\n",
    "    n_coms = np.array([len(comms) for comms in g.vs[\"comms\"]])\n",
    "    is_outlier = n_coms == 0\n",
    "    params[\"n\"] = int(g.vcount())\n",
    "    params[\"n_out\"] = int(np.sum(is_outlier))\n",
    "\n",
    "    params[\"eta\"] = float(np.mean(n_coms))\n",
    "\n",
    "    degrees = np.array(g.degree())\n",
    "    d_min = np.maximum(min_degree, np.min(degrees))\n",
    "    params[\"d_min\"] = d_min\n",
    "    params[\"d_max\"] = int(np.max(degrees))\n",
    "    params[\"t1\"] = powerlaw.Fit(degrees, discrete=True, verbose=False, xmin=d_min).power_law.alpha\n",
    "\n",
    "    com_sizes = np.array([len(com) for com in coms])\n",
    "    c_min = np.maximum(min_com_size, np.min(com_sizes))\n",
    "    params[\"c_min\"] = c_min\n",
    "    params[\"c_max\"] = int(np.max(com_sizes))\n",
    "    params[\"t2\"] = powerlaw.Fit(com_sizes, discrete=True, verbose=False, xmin=c_min).power_law.alpha\n",
    "\n",
    "    xi = sum([len(g.vs[e.source][\"comms\"].intersection(g.vs[e.target][\"comms\"]))==0 for e in g.es]) / g.ecount()\n",
    "    params[\"xi\"] = xi\n",
    "\n",
    "    rho = np.corrcoef(degrees, [len(c) for c in g.vs[\"comms\"]])[0, 1]\n",
    "    params[\"rho\"] = rho\n",
    "\n",
    "    return params"
   ]
  },
  {
   "cell_type": "code",
   "execution_count": 9,
   "metadata": {},
   "outputs": [
    {
     "data": {
      "text/plain": [
       "{'n': 52675,\n",
       " 'n_out': 0,\n",
       " 'eta': 2.4528144280968203,\n",
       " 'd_min': 5,\n",
       " 'd_max': 1928,\n",
       " 't1': 1.8702187087097446,\n",
       " 'c_min': 10,\n",
       " 'c_max': 3001,\n",
       " 't2': 2.130965769664415,\n",
       " 'xi': 0.5928066048845747,\n",
       " 'rho': 0.3746343169285614}"
      ]
     },
     "execution_count": 9,
     "metadata": {},
     "output_type": "execute_result"
    }
   ],
   "source": [
    "# # Read Graph\n",
    "graph_path = \"data/com-youtube.ungraph.txt\"\n",
    "com_path = \"data/com-youtube.all.cmty.txt\"\n",
    "drop_outliers=True\n",
    "\n",
    "# graph_path = \"data/com-dblp.ungraph.txt\"\n",
    "# com_path = \"data/com-dblp.all.cmty.txt\"\n",
    "# drop_outliers=False\n",
    "\n",
    "# graph_path = \"data/com-amazon.ungraph.txt\"\n",
    "# com_path = \"data/com-amazon.all.dedup.cmty.txt\"\n",
    "# drop_outliers=False\n",
    "\n",
    "g, coms = load_snap(graph_path, com_path, drop_outliers)\n",
    "measure_params(g, coms)"
   ]
  }
 ],
 "metadata": {
  "kernelspec": {
   "display_name": "betastar",
   "language": "python",
   "name": "python3"
  },
  "language_info": {
   "codemirror_mode": {
    "name": "ipython",
    "version": 3
   },
   "file_extension": ".py",
   "mimetype": "text/x-python",
   "name": "python",
   "nbconvert_exporter": "python",
   "pygments_lexer": "ipython3",
   "version": "3.11.0"
  }
 },
 "nbformat": 4,
 "nbformat_minor": 2
}

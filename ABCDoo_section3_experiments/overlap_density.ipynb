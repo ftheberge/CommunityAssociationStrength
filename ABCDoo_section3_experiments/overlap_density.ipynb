{
 "cells": [
  {
   "cell_type": "code",
   "execution_count": 2,
   "metadata": {},
   "outputs": [],
   "source": [
    "import igraph as ig\n",
    "import pandas as pd\n",
    "import numpy as np\n",
    "import matplotlib.pyplot as plt\n",
    "import seaborn as sns\n",
    "import powerlaw\n",
    "import scipy.sparse as sparse\n",
    "\n",
    "from tqdm import trange, tqdm\n",
    "\n",
    "from collections import defaultdict, Counter\n",
    "from itertools import combinations\n",
    "\n",
    "import sys\n",
    "sys.path.append('../')\n",
    "from CAS import *"
   ]
  },
  {
   "cell_type": "code",
   "execution_count": 3,
   "metadata": {},
   "outputs": [],
   "source": [
    "def read_snap(edge_file, com_file, prefix=\"\"):\n",
    "    edges = pd.read_csv(prefix+edge_file, sep='\\t', comment=\"#\")\n",
    "    coms = []\n",
    "    with open(prefix+com_file, \"r\") as infile:\n",
    "        for line in infile:\n",
    "            x = line[:-1]  # drop trailing newline\n",
    "            x = x.split('\\t')\n",
    "            coms.append(frozenset([int(y) for y in x])) ## map to 0-based\n",
    "\n",
    "    g = ig.Graph.DataFrame(edges, directed=False)\n",
    "\n",
    "    c = [set() for _ in range(g.vcount())]\n",
    "    for i, com in enumerate(coms):\n",
    "        for v in com:\n",
    "            c[v].add(i)\n",
    "    c = [frozenset(i) for i in c] \n",
    "    g.vs[\"comms\"] = c\n",
    "    g.vs['n_comms'] = [len(x) for x in g.vs['comms']]\n",
    "    # Vertex list is not continugous, drop degree 0 vertices\n",
    "    g = g.subgraph(np.arange(g.vcount())[np.array(g.degree()) > 0])  \n",
    "\n",
    "    # Drop some vars to free up memory\n",
    "    del edges\n",
    "\n",
    "    return g, g.vs[\"comms\"]\n",
    "\n",
    "\n",
    "def read_abcdoo(edge_file, com_file, prefix=\"\"):\n",
    "    ## read edges, build graph\n",
    "    fn = prefix+edge_file\n",
    "    Edges = pd.read_csv(fn, sep='\\t', header=None)-1\n",
    "    G = ig.Graph.DataFrame(Edges, directed=False)\n",
    "    ## read communities\n",
    "    fn = prefix+com_file\n",
    "    L = []\n",
    "    with open(fn, \"r\") as infile:\n",
    "        for line in infile:\n",
    "            x = line.split('\\t')\n",
    "            coms = [int(y)-1 for y in x[1].rstrip()[1:-1].split(',')]  # map to 0-based\n",
    "            try:\n",
    "                coms.remove(0)  # Community 0 is outliers\n",
    "            except ValueError:\n",
    "                pass\n",
    "            L.append(tuple(coms)) \n",
    "    G.vs['comms'] = L\n",
    "    G.vs['n_comms'] = [len(x) for x in G.vs['comms']]\n",
    "    return G"
   ]
  },
  {
   "cell_type": "code",
   "execution_count": 14,
   "metadata": {},
   "outputs": [
    {
     "name": "stdout",
     "output_type": "stream",
     "text": [
      "DBLP has 317080 vertices.\n",
      "DBLP has 1049865 edges.\n"
     ]
    }
   ],
   "source": [
    "## DBLP graph\n",
    "dblp_g, dblp_coms = read_snap(\"com-dblp.ungraph.txt\", \"com-dblp.all.cmty.txt\", \"../../SNAP/\")\n",
    "abcdoo_d2_g = read_abcdoo(\"abcdoo_dblp_d2_edge.dat\", \"abcdoo_dblp_d2_com.dat\", \"../../ABCDGraphGenerator.jl/utils/\")\n",
    "abcdoo_d5_g = read_abcdoo(\"abcdoo_dblp_d5_edge.dat\",  \"abcdoo_dblp_d5_com.dat\",\"../../ABCDGraphGenerator.jl/utils/\")\n",
    "abcdoo_d10_g = read_abcdoo(\"abcdoo_dblp_d10_edge.dat\", \"abcdoo_dblp_d10_com.dat\", \"../../ABCDGraphGenerator.jl/utils/\")\n",
    "abcdoo_d2_nocorr_g = read_abcdoo(\"abcdoo_dblp_d2_nocorr_edge.dat\", \"abcdoo_dblp_d2_nocorr_com.dat\", \"../../ABCDGraphGenerator.jl/utils/\")\n",
    "abcdoo_d5_nocorr_g = read_abcdoo(\"abcdoo_dblp_d5_nocorr_edge.dat\",  \"abcdoo_dblp_d5_nocorr_com.dat\",\"../../ABCDGraphGenerator.jl/utils/\")\n",
    "abcdoo_d10_nocorr_g = read_abcdoo(\"abcdoo_dblp_d10_nocorr_edge.dat\", \"abcdoo_dblp_d10_nocorr_com.dat\", \"../../ABCDGraphGenerator.jl/utils/\")\n",
    "\n",
    "\n",
    "print(f\"DBLP has {dblp_g.vcount()} vertices.\")\n",
    "print(f\"DBLP has {dblp_g.ecount()} edges.\")"
   ]
  },
  {
   "cell_type": "code",
   "execution_count": 33,
   "metadata": {},
   "outputs": [
    {
     "name": "stdout",
     "output_type": "stream",
     "text": [
      "Get pairs of communities with large overlaps.\n"
     ]
    }
   ],
   "source": [
    "print(\"Get pairs of communities with large overlaps.\")\n",
    "def communities(comms):\n",
    "    communities = defaultdict(set)\n",
    "    for i, coms in enumerate(comms):\n",
    "        for c in coms:\n",
    "            communities[c].add(i)\n",
    "    return list(communities.values())\n",
    "\n",
    "def plot_overlap_densities(graphs, LARGE, titles):\n",
    "    data = []\n",
    "    for g, title in zip(graphs, titles):\n",
    "        print(title)\n",
    "        large_overlaps = set()\n",
    "        coms = communities(g.vs[\"comms\"])\n",
    "        for i in trange(len(coms)):\n",
    "            for j in range(i):\n",
    "                if len(coms[i].intersection(coms[j])) >= LARGE:\n",
    "                    large_overlaps.add((i,j))\n",
    "        print(f\"{len(large_overlaps)} pairs of communities have overlaps size >= {LARGE}\")\n",
    "\n",
    "        print(\"Compute densities.\")\n",
    "        for k, (i,j) in tqdm(enumerate(large_overlaps), total=len(large_overlaps)):\n",
    "            I = coms[i].intersection(coms[j])\n",
    "            sg = g.subgraph(I)\n",
    "            idt = 2*sg.ecount()/(sg.vcount()*(sg.vcount()-1))\n",
    "            inter = sg.vcount()\n",
    "            sg = g.subgraph(coms[i].union(coms[j]))\n",
    "            udt = 2*sg.ecount()/(sg.vcount()*(sg.vcount()-1))\n",
    "            sg = g.subgraph(np.random.choice(list(coms[i].union(coms[j])), size=inter))\n",
    "            sdt = 2*sg.ecount()/(sg.vcount()*(sg.vcount()-1))\n",
    "\n",
    "            data.append([title, 'Intersection Density', idt])\n",
    "            data.append([title, 'Union Density', udt])\n",
    "            data.append([title, 'Sample Density', sdt])\n",
    "\n",
    "    print(\"Plot Graph\")\n",
    "    df = pd.DataFrame(data, columns=['graph', 'measure', 'amount'])\n",
    "    fig, ax = plt.subplots()\n",
    "    sns.boxplot(x=\"graph\", y=\"amount\",\n",
    "            hue=\"measure\", palette=\"crest\",\n",
    "            data=df,\n",
    "            whis=(0, 100),\n",
    "            ax=ax\n",
    "            )\n",
    "    sns.despine(offset=10, trim=True)\n",
    "    #plt.ylim((0, 0.2))\n",
    "    plt.title(f\"Large (>={LARGE}) Overlap Densities\", fontsize=18)\n",
    "    fig.set_dpi(140)\n",
    "    fig.set_size_inches(10, 5)\n",
    "    plt.tight_layout()\n",
    "    plt.show()"
   ]
  },
  {
   "cell_type": "code",
   "execution_count": 34,
   "metadata": {},
   "outputs": [
    {
     "name": "stdout",
     "output_type": "stream",
     "text": [
      "DBLP\n"
     ]
    },
    {
     "name": "stderr",
     "output_type": "stream",
     "text": [
      "100%|██████████| 13477/13477 [00:27<00:00, 493.59it/s]\n"
     ]
    },
    {
     "name": "stdout",
     "output_type": "stream",
     "text": [
      "8913 pairs of communities have overlaps size >= 50\n",
      "Compute densities.\n"
     ]
    },
    {
     "name": "stderr",
     "output_type": "stream",
     "text": [
      "100%|██████████| 8913/8913 [00:21<00:00, 424.07it/s]\n"
     ]
    },
    {
     "name": "stdout",
     "output_type": "stream",
     "text": [
      "d=2 rho=0.76\n"
     ]
    },
    {
     "name": "stderr",
     "output_type": "stream",
     "text": [
      "100%|██████████| 8287/8287 [00:17<00:00, 462.63it/s]\n"
     ]
    },
    {
     "name": "stdout",
     "output_type": "stream",
     "text": [
      "3022 pairs of communities have overlaps size >= 50\n",
      "Compute densities.\n"
     ]
    },
    {
     "name": "stderr",
     "output_type": "stream",
     "text": [
      "100%|██████████| 3022/3022 [00:06<00:00, 444.37it/s]\n"
     ]
    },
    {
     "name": "stdout",
     "output_type": "stream",
     "text": [
      "d=5 rho=0.76\n"
     ]
    },
    {
     "name": "stderr",
     "output_type": "stream",
     "text": [
      "100%|██████████| 8031/8031 [00:17<00:00, 463.52it/s]\n"
     ]
    },
    {
     "name": "stdout",
     "output_type": "stream",
     "text": [
      "2446 pairs of communities have overlaps size >= 50\n",
      "Compute densities.\n"
     ]
    },
    {
     "name": "stderr",
     "output_type": "stream",
     "text": [
      "100%|██████████| 2446/2446 [00:08<00:00, 283.05it/s]\n"
     ]
    },
    {
     "name": "stdout",
     "output_type": "stream",
     "text": [
      "d=10 rho=0.76\n"
     ]
    },
    {
     "name": "stderr",
     "output_type": "stream",
     "text": [
      "100%|██████████| 8190/8190 [00:18<00:00, 451.25it/s]\n"
     ]
    },
    {
     "name": "stdout",
     "output_type": "stream",
     "text": [
      "3164 pairs of communities have overlaps size >= 50\n",
      "Compute densities.\n"
     ]
    },
    {
     "name": "stderr",
     "output_type": "stream",
     "text": [
      "100%|██████████| 3164/3164 [00:13<00:00, 229.82it/s]\n"
     ]
    },
    {
     "name": "stdout",
     "output_type": "stream",
     "text": [
      "d=2 rho=0\n"
     ]
    },
    {
     "name": "stderr",
     "output_type": "stream",
     "text": [
      "100%|██████████| 8287/8287 [00:18<00:00, 457.25it/s]\n"
     ]
    },
    {
     "name": "stdout",
     "output_type": "stream",
     "text": [
      "3022 pairs of communities have overlaps size >= 50\n",
      "Compute densities.\n"
     ]
    },
    {
     "name": "stderr",
     "output_type": "stream",
     "text": [
      "100%|██████████| 3022/3022 [00:06<00:00, 479.59it/s]\n"
     ]
    },
    {
     "name": "stdout",
     "output_type": "stream",
     "text": [
      "d=5 rho=0\n"
     ]
    },
    {
     "name": "stderr",
     "output_type": "stream",
     "text": [
      "100%|██████████| 8510/8510 [00:19<00:00, 443.18it/s]\n"
     ]
    },
    {
     "name": "stdout",
     "output_type": "stream",
     "text": [
      "2477 pairs of communities have overlaps size >= 50\n",
      "Compute densities.\n"
     ]
    },
    {
     "name": "stderr",
     "output_type": "stream",
     "text": [
      "100%|██████████| 2477/2477 [00:07<00:00, 343.58it/s]\n"
     ]
    },
    {
     "name": "stdout",
     "output_type": "stream",
     "text": [
      "d=10 rho=0\n"
     ]
    },
    {
     "name": "stderr",
     "output_type": "stream",
     "text": [
      "100%|██████████| 8427/8427 [00:18<00:00, 451.99it/s]\n"
     ]
    },
    {
     "name": "stdout",
     "output_type": "stream",
     "text": [
      "3062 pairs of communities have overlaps size >= 50\n",
      "Compute densities.\n"
     ]
    },
    {
     "name": "stderr",
     "output_type": "stream",
     "text": [
      "100%|██████████| 3062/3062 [00:10<00:00, 283.07it/s]\n"
     ]
    },
    {
     "name": "stdout",
     "output_type": "stream",
     "text": [
      "Plot Graph\n"
     ]
    },
    {
     "data": {
      "image/png": "[encoded data removed]",
      "text/plain": [
       "<Figure size 1400x700 with 1 Axes>"
      ]
     },
     "metadata": {},
     "output_type": "display_data"
    }
   ],
   "source": [
    "plot_overlap_densities(\n",
    "    [\n",
    "        dblp_g,\n",
    "        abcdoo_d2_g,\n",
    "        abcdoo_d5_g,\n",
    "        abcdoo_d10_g,\n",
    "        abcdoo_d2_nocorr_g,\n",
    "        abcdoo_d5_nocorr_g,\n",
    "        abcdoo_d10_nocorr_g\n",
    "        ],\n",
    "    50,\n",
    "    [\n",
    "        \"DBLP\",\n",
    "        \"d=2 rho=0.76\",\n",
    "        \"d=5 rho=0.76\",\n",
    "        \"d=10 rho=0.76\",\n",
    "        \"d=2 rho=0\",\n",
    "        \"d=5 rho=0\",\n",
    "        \"d=10 rho=0\",\n",
    "        ]\n",
    ")"
   ]
  },
  {
   "cell_type": "code",
   "execution_count": null,
   "metadata": {},
   "outputs": [],
   "source": []
  }
 ],
 "metadata": {
  "kernelspec": {
   "display_name": "betastar",
   "language": "python",
   "name": "python3"
  },
  "language_info": {
   "codemirror_mode": {
    "name": "ipython",
    "version": 3
   },
   "file_extension": ".py",
   "mimetype": "text/x-python",
   "name": "python",
   "nbconvert_exporter": "python",
   "pygments_lexer": "ipython3",
   "version": "3.11.0"
  }
 },
 "nbformat": 4,
 "nbformat_minor": 2
}

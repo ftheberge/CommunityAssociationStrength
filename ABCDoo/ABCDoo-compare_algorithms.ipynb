{
 "cells": [
  {
   "cell_type": "code",
   "execution_count": 1,
   "id": "b41c323f",
   "metadata": {},
   "outputs": [],
   "source": [
    "import igraph as ig\n",
    "import pandas as pd\n",
    "import numpy as np\n",
    "from sklearn.metrics import adjusted_mutual_info_score as AMI\n",
    "import partition_igraph\n",
    "from matplotlib import pyplot as plt\n",
    "from collections import Counter\n",
    "import random\n",
    "import pickle\n",
    "import os\n",
    "import seaborn as sns\n",
    "from sklearn.metrics import roc_auc_score as AUC\n",
    "from sklearn.metrics import roc_curve\n",
    "from scipy.sparse import csr_matrix\n",
    "import scipy.sparse as sparse \n",
    "import time\n",
    "from statistics import mode\n",
    "from abcd_graph import ABCDGraph, ABCDParams\n",
    "import csv\n",
    "import subprocess\n",
    "import sys\n",
    "sys.path.append('../')\n",
    "from CAS import *\n"
   ]
  },
  {
   "cell_type": "code",
   "execution_count": 2,
   "id": "ae3fdf80",
   "metadata": {},
   "outputs": [],
   "source": [
    "## this assumes community 0 are outliers and 'gt' exists in graph G\n",
    "## M: membership matrix\n",
    "## S: score matrix (C or Beta)\n",
    "def outliers_AUC(G, M, S):\n",
    "    y = [int(x>0) for x in G.vs['gt']]\n",
    "    x = np.array(S.max(axis=1).todense()).flatten()\n",
    "    ctr = Counter(np.array(M.sum(axis=1)).flatten())\n",
    "    print('With matrix M:\\noutliers:',ctr[0])\n",
    "    print('correct outliers:',sum((np.array(M.sum(axis=1)).flatten() == 0) & (np.array(G.vs['gt']) == 0)))\n",
    "    print('\\nWith scores:\\noutlier AUC:',AUC(y,x)) \n",
    "        "
   ]
  },
  {
   "cell_type": "markdown",
   "id": "9d2d8af6",
   "metadata": {},
   "source": [
    "## ABCD-oo graphs\n",
    "\n",
    "Main 2 files:\n",
    "\n",
    "```\n",
    "networkfile<xi>_<eta>_<rep>.txt : the edges, 1-based node ids, tab separated\n",
    "communityfile<xi>_<eta>_<rep>.txt : node <tab> list of communities in [], for example:\n",
    "1       [24]\n",
    "2       [3, 28]\n",
    "3       [10]\n",
    "```\n",
    "\n",
    "All files for one case:\n",
    "\n",
    "```\n",
    "communityfile0.5_1.5_10.txt\n",
    "communitysizesfile0.5_1.5_10.txt\n",
    "degreefile0.5_1.5_10.txt\n",
    "networkfile0.5_1.5_10.txt\n",
    "```\n",
    "\n",
    "All graph have 250 outlier nodes, mapped to community 0 below\n"
   ]
  },
  {
   "cell_type": "code",
   "execution_count": 3,
   "id": "a4806df6",
   "metadata": {},
   "outputs": [],
   "source": [
    "#path = '/data/ABCDoo/'\n",
    "path = '../Datasets/ABCDoo/'\n",
    "def readGraph(xi=0.5, eta=1.5, rep=1):\n",
    "    ## read edges, build graph\n",
    "    fn = path+'networkfile'+str(xi)+'_'+str(eta)+'_'+str(rep)+'.txt'\n",
    "    Edges = pd.read_csv(fn, sep='\\t', header=None)-1 ## map to 0-based\n",
    "    G = ig.Graph.DataFrame(Edges, directed=False)\n",
    "    ## read communities\n",
    "    fn = path+'communityfile'+str(xi)+'_'+str(eta)+'_'+str(rep)+'.txt'\n",
    "    L = []\n",
    "    with open(fn, \"r\") as infile:\n",
    "        for line in infile:\n",
    "            x = line.split('\\t')\n",
    "            L.append([int(y)-1 for y in x[1].rstrip()[1:-1].split(',')]) ## map to 0-based\n",
    "    G.vs['comms'] = L\n",
    "    G.vs['n_comms'] = [len(x) for x in G.vs['comms']]\n",
    "    return G\n",
    "   "
   ]
  },
  {
   "cell_type": "code",
   "execution_count": 4,
   "id": "743141a7",
   "metadata": {},
   "outputs": [],
   "source": [
    "oNMI = '/Users/francois/Book/GraphMiningNotebooks/oNMI/onmi'          ## overlapping NMI executable\n",
    "#oNMI = '/work/home/fcthebe/Tools/oNMI/onmi'          ## overlapping NMI executable\n",
    "\n",
    "## input format: \n",
    "def compute_oNMI(First, Second):\n",
    "    fn1 = '__'+str(random.random())[2:]\n",
    "    with open(fn1,\"w\") as f:\n",
    "        wr = csv.writer(f, delimiter=\" \")\n",
    "        wr.writerows(First)\n",
    "    f.close()   \n",
    "\n",
    "    fn2 = '__'+str(random.random())[2:]\n",
    "    with open(fn2,\"w\") as f:\n",
    "        wr = csv.writer(f, delimiter=\" \")\n",
    "        wr.writerows(Second)\n",
    "    f.close()   \n",
    "    x = float(subprocess.check_output([oNMI,fn1,fn2]).decode(\"utf-8\").split()[1])\n",
    "    _ = os.system('rm '+fn1)\n",
    "    _ = os.system('rm '+fn2)\n",
    "    return x\n"
   ]
  },
  {
   "cell_type": "code",
   "execution_count": 5,
   "id": "a211b030",
   "metadata": {},
   "outputs": [],
   "source": [
    "def memberships2list(S):\n",
    "    L = []\n",
    "    for i in range(len(S.indptr)-1):\n",
    "        if S.indptr[i] == S.indptr[i+1]:\n",
    "            L.append([0]) ## no membership == outlier (community 0)\n",
    "        else:\n",
    "            L.append(list(S.indices[S.indptr[i]:S.indptr[i+1]]+1)) ## 1-based\n",
    "    return L\n",
    "\n",
    "## given list of node memberships, return list of communities\n",
    "def mems2comms(X):\n",
    "    nc = max(set([i for j in X for i in j]))+1  \n",
    "    n = len(X)\n",
    "    L = [[] for _ in range(nc)]\n",
    "    for i in range(n):\n",
    "        for j in X[i]:\n",
    "            L[j].append(i)\n",
    "    return L"
   ]
  },
  {
   "cell_type": "code",
   "execution_count": 6,
   "id": "147106c5",
   "metadata": {},
   "outputs": [],
   "source": [
    "from itertools import combinations\n",
    "def CPM(g, k=3):\n",
    "    cls = list(map(set, g.cliques(min=k,max=k)))\n",
    "    edgelist = []\n",
    "    for i in range(len(cls)):\n",
    "        edgelist.append((i,i))\n",
    "    for i,j in combinations(range(len(cls)),2):\n",
    "        if len(cls[i].intersection(cls[j])) >= (k-1):\n",
    "            edgelist.append((i,j))\n",
    "    cg = ig.Graph(edgelist, directed=False)\n",
    "    clusters = cg.connected_components()\n",
    "    L = []\n",
    "    for cluster in clusters:\n",
    "        members = set()\n",
    "        for i in cluster:\n",
    "            members.update(cls[i])\n",
    "        L.append(set(g.vs[members][\"name\"]))\n",
    "    return L\n"
   ]
  },
  {
   "cell_type": "code",
   "execution_count": 7,
   "id": "7b7d882f",
   "metadata": {},
   "outputs": [],
   "source": [
    "def EgoSplit(G, split='CC', algo='LP'):\n",
    "    g = G.copy()\n",
    "    ## implement ego-split approach with LP or ECG\n",
    "    g.vs['original'] = g.vs['name']\n",
    "    ## use the vertex names to avoid issues when vertices are re-mapped ...\n",
    "    names = g.vs['name']\n",
    "    ## step 1 - ego-net splits\n",
    "    #ctr = 1\n",
    "    for nm in names:\n",
    "#         if ctr%1000==0:\n",
    "#             print(ctr)\n",
    "#         ctr+=1\n",
    "        v = g.vs.find(nm).index\n",
    "        n = g.neighbors(v)\n",
    "        sg = g.subgraph(n)\n",
    "        if split == 'LP':\n",
    "            x = sg.community_label_propagation().membership\n",
    "        else:\n",
    "            x = sg.connected_components().membership\n",
    "        if np.min(x)==-1:\n",
    "            x = [i+1 for i in x]\n",
    "        for j in set(x):\n",
    "            g.add_vertex(name=nm+'.'+str(j),original=nm)\n",
    "\n",
    "        l = sg.vs['name']\n",
    "        for j in range(len(x)):\n",
    "            g.add_edge(nm+'.'+str(x[j]) , l[j])\n",
    "        g.delete_vertices(v)\n",
    "    ## step 2 -- cluster w.r.t. multiple personae\n",
    "    if algo=='LP':\n",
    "        cl = g.community_label_propagation()\n",
    "    else:\n",
    "        cl = g.community_ecg(ens_size=32)\n",
    "    C = [set(sg.vs['original']) for sg in cl.subgraphs()]\n",
    "    return C\n"
   ]
  },
  {
   "cell_type": "code",
   "execution_count": 20,
   "id": "b611ab0d",
   "metadata": {},
   "outputs": [],
   "source": [
    "def Jaccard(a,b):\n",
    "    x = len(set(a).intersection(set(b)))/len(set(a).union(set(b)))\n",
    "    return x\n",
    "\n",
    "def weightedLinegraph(g):\n",
    "    lg = g.linegraph()\n",
    "    w=[]\n",
    "    for e in lg.es:\n",
    "        A = set(g.es[e.tuple[0]].tuple)\n",
    "        B = set(g.es[e.tuple[1]].tuple)\n",
    "        x = list((A-B).union(B-A))\n",
    "        w.append(Jaccard(g.neighbors(x[0]),g.neighbors(x[1])))\n",
    "    lg.es['weight'] = w\n",
    "    return lg\n",
    "\n",
    "def edgeCluster(g, color=False):\n",
    "    q = -999\n",
    "    D = weightedLinegraph(g)\n",
    "    for th in sorted(set(D.es['weight'])):\n",
    "        ## filter edges w.r.t. similarity and find CC\n",
    "        dg = D.copy()\n",
    "        dg.delete_edges([e for e in dg.es if e['weight']<=th])\n",
    "        cc = dg.connected_components().membership\n",
    "        mod = D.modularity(cc)\n",
    "        if mod>q:\n",
    "            q = mod\n",
    "            g.es['lc'] = cc\n",
    "            if color:\n",
    "                pal = ig.ClusterColoringPalette(n=max(cc)+1)\n",
    "                for e in g.es:\n",
    "                    e['color'] = pal[e['lc']]\n",
    "    ## Now gather the nodes for each edge cluster\n",
    "    L = []\n",
    "    for i in range(max(g.es['lc'])+1):\n",
    "        sg = g.subgraph_edges([e for e in g.es if e['lc']==i])\n",
    "        L.append(sg.vs['name'])\n",
    "    return L"
   ]
  },
  {
   "cell_type": "markdown",
   "id": "bfb903e6",
   "metadata": {},
   "source": [
    "## Quick test"
   ]
  },
  {
   "cell_type": "code",
   "execution_count": 14,
   "id": "d51bf41f",
   "metadata": {},
   "outputs": [],
   "source": [
    "xi = 0.35\n",
    "eta = 1.0\n",
    "\n",
    "G = readGraph(xi=xi, eta=eta, rep=1)\n",
    "G.vs['name'] = [str(i) for i in np.arange(G.vcount())]\n",
    "GT = mems2comms(G.vs['comms'])[1:]  ## ignore \"outlier community\"\n",
    "GT = [[str(i) for i in x] for x in GT]"
   ]
  },
  {
   "cell_type": "code",
   "execution_count": 15,
   "id": "ebd1e600",
   "metadata": {},
   "outputs": [
    {
     "name": "stdout",
     "output_type": "stream",
     "text": [
      "CPU times: user 1min 30s, sys: 290 ms, total: 1min 30s\n",
      "Wall time: 1min 30s\n"
     ]
    }
   ],
   "source": [
    "%%time\n",
    "CP = CPM(G)\n"
   ]
  },
  {
   "cell_type": "code",
   "execution_count": 16,
   "id": "6809e729",
   "metadata": {},
   "outputs": [
    {
     "name": "stdout",
     "output_type": "stream",
     "text": [
      "CPU times: user 85.4 ms, sys: 3.25 ms, total: 88.7 ms\n",
      "Wall time: 87.5 ms\n"
     ]
    }
   ],
   "source": [
    "%%time\n",
    "G.vs['leiden'] = G.community_leiden(objective_function='modularity').membership\n",
    "LD = mems2comms([[x] for x in G.vs['leiden']])\n",
    "LD = [[str(i) for i in j] for j in LD]\n"
   ]
  },
  {
   "cell_type": "code",
   "execution_count": 17,
   "id": "87cfbdb5",
   "metadata": {},
   "outputs": [
    {
     "name": "stdout",
     "output_type": "stream",
     "text": [
      "CPU times: user 11min 25s, sys: 1.26 s, total: 11min 26s\n",
      "Wall time: 11min 26s\n"
     ]
    }
   ],
   "source": [
    "%%time\n",
    "comms_es = EgoSplit(G, split='CC', algo='ECG')\n",
    "ES = [list(x) for x in comms_es if len(x)>=10]\n"
   ]
  },
  {
   "cell_type": "code",
   "execution_count": 18,
   "id": "368f18ed",
   "metadata": {},
   "outputs": [
    {
     "name": "stdout",
     "output_type": "stream",
     "text": [
      "CPU times: user 2.45 s, sys: 17.7 ms, total: 2.47 s\n",
      "Wall time: 2.46 s\n"
     ]
    }
   ],
   "source": [
    "%%time\n",
    "C = sparse.csc_matrix((G.vcount(),len(ES)))\n",
    "C.indices = np.array([int(i) for j in ES for i in j])\n",
    "C.data = np.repeat(1,len(C.indices))\n",
    "ptr = [0]\n",
    "ctr = 0\n",
    "for x in ES:\n",
    "    ctr += len(x)\n",
    "    ptr.append(ctr)\n",
    "C.indptr = np.array(ptr)\n",
    "M = C.tocsr()\n",
    "## Beta\n",
    "IEF, Beta, C, Pv, DegPart = CAS(G.get_adjacency_sparse(), M)\n",
    "L = []\n",
    "th = 0.1\n",
    "for i in range(Beta.shape[1]):\n",
    "    x = np.where( (np.array(Beta[:,i].todense()).flatten() >= th))[0]\n",
    "    if len(x)>0:\n",
    "        L.append(list(x))        "
   ]
  },
  {
   "cell_type": "code",
   "execution_count": null,
   "id": "6ed18582",
   "metadata": {},
   "outputs": [],
   "source": [
    "%%time\n",
    "EC = edgeCluster(G)"
   ]
  },
  {
   "cell_type": "code",
   "execution_count": null,
   "id": "9160e1c9",
   "metadata": {},
   "outputs": [],
   "source": [
    "compute_oNMI(EC,GT)\n"
   ]
  },
  {
   "cell_type": "code",
   "execution_count": 19,
   "id": "348a8caf",
   "metadata": {},
   "outputs": [
    {
     "name": "stdout",
     "output_type": "stream",
     "text": [
      "[1.0, 0.130833, 0.954705, 0.686449, 0.762599, 0.35]\n"
     ]
    }
   ],
   "source": [
    "X = [eta, compute_oNMI( CP, GT ), compute_oNMI( LD, GT ), compute_oNMI( ES, GT ), compute_oNMI(GT, L), xi]\n",
    "print(X)\n"
   ]
  },
  {
   "cell_type": "markdown",
   "id": "9a7de35c",
   "metadata": {},
   "source": [
    "## Compare algorithms: CPM, Leiden, Ego-Split, ES+Beta\n"
   ]
  },
  {
   "cell_type": "raw",
   "id": "1278bc2b",
   "metadata": {},
   "source": [
    "Results = []\n",
    "for xi in [0.15, 0.25, 0.35, 0.45, 0.55, 0.65]:\n",
    "    for eta in [1.0,1.5,2.0,2.5,3.0]:\n",
    "        G = readGraph(xi=xi, eta=eta, rep=1)\n",
    "        G.vs['name'] = [str(i) for i in np.arange(G.vcount())]\n",
    "        GT = mems2comms(G.vs['comms'])[1:]  ## ignore \"outlier community\"\n",
    "        GT = [[str(i) for i in x] for x in GT]\n",
    "        CP = CPM(G)\n",
    "        G.vs['leiden'] = G.community_leiden(objective_function='modularity').membership\n",
    "        LD = mems2comms([[x] for x in G.vs['leiden']])\n",
    "        LD = [[str(i) for i in j] for j in LD]\n",
    "        comms_es = EgoSplit(G, split='CC', algo='ECG')\n",
    "        ES = [list(x) for x in comms_es if len(x)>=10]\n",
    "        C = sparse.csc_matrix((G.vcount(),len(ES)))\n",
    "        C.indices = np.array([int(i) for j in ES for i in j])\n",
    "        C.data = np.repeat(1,len(C.indices))\n",
    "        ptr = [0]\n",
    "        ctr = 0\n",
    "        for x in ES:\n",
    "            ctr += len(x)\n",
    "            ptr.append(ctr)\n",
    "        C.indptr = np.array(ptr)\n",
    "        M = C.tocsr()\n",
    "        ## Beta\n",
    "        IEF, Beta, C, Pv, DegPart = CAS(G.get_adjacency_sparse(), M)\n",
    "        L = []\n",
    "        th = 0.1\n",
    "        for i in range(Beta.shape[1]):\n",
    "            x = np.where( (np.array(Beta[:,i].todense()).flatten() >= th))[0]\n",
    "            if len(x)>0:\n",
    "                L.append(list(x))        \n",
    "        X = [eta, compute_oNMI( CP, GT ), compute_oNMI( LD, GT ), compute_oNMI( ES, GT ), compute_oNMI(GT, L), xi]\n",
    "        print(X)\n",
    "        Results.append(X)\n",
    "        \n",
    "df = pd.DataFrame(Results, columns=['xi','eta','cpm','leiden','ego','beta'])\n",
    "with open('algo_compare.pkl','wb') as fp:\n",
    "    pickle.dump(df,fp)    "
   ]
  },
  {
   "cell_type": "code",
   "execution_count": 8,
   "id": "f54f14ef",
   "metadata": {},
   "outputs": [],
   "source": [
    "with open('Results/algo_compare.pkl','rb') as fp:\n",
    "    df = pickle.load(fp)\n",
    "df.columns = ['eta', 'CPM', 'Leiden', 'EgoSplit', 'EgoSplit+CAS', 'xi']"
   ]
  },
  {
   "cell_type": "code",
   "execution_count": 10,
   "id": "e2aae401",
   "metadata": {
    "scrolled": false
   },
   "outputs": [
    {
     "data": {
      "text/html": [
       "<div>\n",
       "<style scoped>\n",
       "    .dataframe tbody tr th:only-of-type {\n",
       "        vertical-align: middle;\n",
       "    }\n",
       "\n",
       "    .dataframe tbody tr th {\n",
       "        vertical-align: top;\n",
       "    }\n",
       "\n",
       "    .dataframe thead th {\n",
       "        text-align: right;\n",
       "    }\n",
       "</style>\n",
       "<table border=\"1\" class=\"dataframe\">\n",
       "  <thead>\n",
       "    <tr style=\"text-align: right;\">\n",
       "      <th></th>\n",
       "      <th>eta</th>\n",
       "      <th>CPM</th>\n",
       "      <th>Leiden</th>\n",
       "      <th>EgoSplit</th>\n",
       "      <th>EgoSplit+CAS</th>\n",
       "      <th>xi</th>\n",
       "    </tr>\n",
       "  </thead>\n",
       "  <tbody>\n",
       "    <tr>\n",
       "      <th>0</th>\n",
       "      <td>1.0</td>\n",
       "      <td>1.308330e-01</td>\n",
       "      <td>9.537800e-01</td>\n",
       "      <td>6.857900e-01</td>\n",
       "      <td>0.758943</td>\n",
       "      <td>0.35</td>\n",
       "    </tr>\n",
       "    <tr>\n",
       "      <th>1</th>\n",
       "      <td>1.5</td>\n",
       "      <td>2.629090e-02</td>\n",
       "      <td>3.272060e-01</td>\n",
       "      <td>3.597530e-01</td>\n",
       "      <td>0.526670</td>\n",
       "      <td>0.35</td>\n",
       "    </tr>\n",
       "    <tr>\n",
       "      <th>2</th>\n",
       "      <td>2.0</td>\n",
       "      <td>2.508050e-02</td>\n",
       "      <td>1.590650e-01</td>\n",
       "      <td>2.974040e-01</td>\n",
       "      <td>0.367987</td>\n",
       "      <td>0.35</td>\n",
       "    </tr>\n",
       "    <tr>\n",
       "      <th>3</th>\n",
       "      <td>2.5</td>\n",
       "      <td>2.079860e-02</td>\n",
       "      <td>1.371140e-01</td>\n",
       "      <td>1.638950e-01</td>\n",
       "      <td>0.248890</td>\n",
       "      <td>0.35</td>\n",
       "    </tr>\n",
       "    <tr>\n",
       "      <th>4</th>\n",
       "      <td>3.0</td>\n",
       "      <td>9.458360e-03</td>\n",
       "      <td>1.166880e-01</td>\n",
       "      <td>4.650820e-02</td>\n",
       "      <td>0.155460</td>\n",
       "      <td>0.35</td>\n",
       "    </tr>\n",
       "    <tr>\n",
       "      <th>0</th>\n",
       "      <td>1.0</td>\n",
       "      <td>6.275120e-02</td>\n",
       "      <td>9.459430e-01</td>\n",
       "      <td>4.242190e-01</td>\n",
       "      <td>0.593306</td>\n",
       "      <td>0.50</td>\n",
       "    </tr>\n",
       "    <tr>\n",
       "      <th>1</th>\n",
       "      <td>1.5</td>\n",
       "      <td>3.406070e-02</td>\n",
       "      <td>3.058010e-01</td>\n",
       "      <td>2.277080e-01</td>\n",
       "      <td>0.378483</td>\n",
       "      <td>0.50</td>\n",
       "    </tr>\n",
       "    <tr>\n",
       "      <th>2</th>\n",
       "      <td>2.0</td>\n",
       "      <td>3.656980e-02</td>\n",
       "      <td>1.601090e-01</td>\n",
       "      <td>1.354960e-01</td>\n",
       "      <td>0.250527</td>\n",
       "      <td>0.50</td>\n",
       "    </tr>\n",
       "    <tr>\n",
       "      <th>3</th>\n",
       "      <td>2.5</td>\n",
       "      <td>8.255580e-03</td>\n",
       "      <td>1.350690e-01</td>\n",
       "      <td>2.260950e-02</td>\n",
       "      <td>0.080059</td>\n",
       "      <td>0.50</td>\n",
       "    </tr>\n",
       "    <tr>\n",
       "      <th>4</th>\n",
       "      <td>3.0</td>\n",
       "      <td>1.038600e-03</td>\n",
       "      <td>1.054470e-01</td>\n",
       "      <td>1.039050e-03</td>\n",
       "      <td>0.011654</td>\n",
       "      <td>0.50</td>\n",
       "    </tr>\n",
       "    <tr>\n",
       "      <th>0</th>\n",
       "      <td>1.0</td>\n",
       "      <td>1.487600e-02</td>\n",
       "      <td>4.373440e-01</td>\n",
       "      <td>1.292080e-01</td>\n",
       "      <td>0.309174</td>\n",
       "      <td>0.65</td>\n",
       "    </tr>\n",
       "    <tr>\n",
       "      <th>1</th>\n",
       "      <td>1.5</td>\n",
       "      <td>2.404770e-02</td>\n",
       "      <td>6.101720e-02</td>\n",
       "      <td>7.186910e-02</td>\n",
       "      <td>0.124893</td>\n",
       "      <td>0.65</td>\n",
       "    </tr>\n",
       "    <tr>\n",
       "      <th>2</th>\n",
       "      <td>2.0</td>\n",
       "      <td>1.046520e-02</td>\n",
       "      <td>-5.754170e-17</td>\n",
       "      <td>1.925350e-02</td>\n",
       "      <td>0.036430</td>\n",
       "      <td>0.65</td>\n",
       "    </tr>\n",
       "    <tr>\n",
       "      <th>3</th>\n",
       "      <td>2.5</td>\n",
       "      <td>1.522870e-03</td>\n",
       "      <td>-2.408980e-17</td>\n",
       "      <td>1.523350e-03</td>\n",
       "      <td>0.000000</td>\n",
       "      <td>0.65</td>\n",
       "    </tr>\n",
       "    <tr>\n",
       "      <th>4</th>\n",
       "      <td>3.0</td>\n",
       "      <td>4.254720e-17</td>\n",
       "      <td>2.119800e-17</td>\n",
       "      <td>1.065530e-17</td>\n",
       "      <td>0.000000</td>\n",
       "      <td>0.65</td>\n",
       "    </tr>\n",
       "  </tbody>\n",
       "</table>\n",
       "</div>"
      ],
      "text/plain": [
       "   eta           CPM        Leiden      EgoSplit  EgoSplit+CAS    xi\n",
       "0  1.0  1.308330e-01  9.537800e-01  6.857900e-01      0.758943  0.35\n",
       "1  1.5  2.629090e-02  3.272060e-01  3.597530e-01      0.526670  0.35\n",
       "2  2.0  2.508050e-02  1.590650e-01  2.974040e-01      0.367987  0.35\n",
       "3  2.5  2.079860e-02  1.371140e-01  1.638950e-01      0.248890  0.35\n",
       "4  3.0  9.458360e-03  1.166880e-01  4.650820e-02      0.155460  0.35\n",
       "0  1.0  6.275120e-02  9.459430e-01  4.242190e-01      0.593306  0.50\n",
       "1  1.5  3.406070e-02  3.058010e-01  2.277080e-01      0.378483  0.50\n",
       "2  2.0  3.656980e-02  1.601090e-01  1.354960e-01      0.250527  0.50\n",
       "3  2.5  8.255580e-03  1.350690e-01  2.260950e-02      0.080059  0.50\n",
       "4  3.0  1.038600e-03  1.054470e-01  1.039050e-03      0.011654  0.50\n",
       "0  1.0  1.487600e-02  4.373440e-01  1.292080e-01      0.309174  0.65\n",
       "1  1.5  2.404770e-02  6.101720e-02  7.186910e-02      0.124893  0.65\n",
       "2  2.0  1.046520e-02 -5.754170e-17  1.925350e-02      0.036430  0.65\n",
       "3  2.5  1.522870e-03 -2.408980e-17  1.523350e-03      0.000000  0.65\n",
       "4  3.0  4.254720e-17  2.119800e-17  1.065530e-17      0.000000  0.65"
      ]
     },
     "execution_count": 10,
     "metadata": {},
     "output_type": "execute_result"
    }
   ],
   "source": [
    "df"
   ]
  },
  {
   "cell_type": "markdown",
   "id": "e5540c2b",
   "metadata": {},
   "source": [
    "## Plots for WAW ABCD-oo paper"
   ]
  },
  {
   "cell_type": "code",
   "execution_count": 11,
   "id": "b656693f",
   "metadata": {
    "scrolled": false
   },
   "outputs": [
    {
     "data": {
      "image/png": "[encoded data removed]",
      "text/plain": [
       "<Figure size 800x600 with 1 Axes>"
      ]
     },
     "metadata": {},
     "output_type": "display_data"
    }
   ],
   "source": [
    "df[df.xi==.35].plot(x='eta',y=['CPM', 'Leiden', 'EgoSplit', 'EgoSplit+CAS'], kind='bar', figsize=(8,6));\n"
   ]
  },
  {
   "cell_type": "code",
   "execution_count": 12,
   "id": "972666cc",
   "metadata": {
    "scrolled": false
   },
   "outputs": [
    {
     "data": {
      "image/png": "[encoded data removed]",
      "text/plain": [
       "<Figure size 800x600 with 1 Axes>"
      ]
     },
     "metadata": {},
     "output_type": "display_data"
    }
   ],
   "source": [
    "df[df.eta==1.5].plot(x='xi',y=['CPM', 'Leiden', 'EgoSplit', 'EgoSplit+CAS'], kind='bar', figsize=(8,6));\n"
   ]
  },
  {
   "cell_type": "markdown",
   "id": "e1cdfbb3",
   "metadata": {},
   "source": [
    "## Testing ES+AOC and IKC+AOC\n"
   ]
  },
  {
   "cell_type": "raw",
   "id": "69e1aeb1",
   "metadata": {},
   "source": [
    "Format:\n",
    "\n",
    "python3 IKC.py -e [graph_edgelist_file] -k [k] -o [ikc_clustering_path]\n",
    "\n",
    "python3 aoc.py -g [graph_edgelist_file] -c [input_disjoint_clusters] --inclusion-criterion mcd\n",
    "python3 aoc.py -g [graph_edgelist_file] -c [input_disjoint_clusters] --inclusion-criterion k --min-k-core [k]\n",
    "\n",
    "\n",
    "graph_edgelist_file: one space-separated edge per line\n",
    "ikc_clustering_path format of output: node_id, cluster_id, k, modularity of cluster\n",
    "9811350,1,30,0.00159055795667994\n",
    "9811356,1,30,0.00159055795667994\n",
    "9910255,1,30,0.00159055795667994\n",
    "...\n",
    "\n",
    "input_disjoint_clusters: either cluster_id node_id pairs, or the output format of IKC.py\n",
    "\n",
    "\n",
    "IKC:\n",
    "\n",
    "python3 /Users/francois/Betastar/ERNIE_Plus/Illinois/clustering/eleanor/code/IKC.py -o _test -k 10 -e ~/Betastar/cit-HepPh.txt\n",
    "python3 /Users/francois/Betastar/ERNIE_Plus/Illinois/clustering/eleanor/code/IKC.py -o _test -k 10 -e ~/Betastar/CommunityAssociationStrength/Datasets/ABCDoo/networkfile0.35_1.5_1.txt \n",
    "\n",
    "AOC\n",
    "\n",
    "python3 aoc.py -g example_data/simple/graph.txt -c example_data/simple/clusters.txt --inclusion-criterion mcd > _out\n",
    "\n",
    "Runnning on ABCD-oo:\n",
    "\n",
    "python3 ../../aocv2_plus/v2_revisions/aoc.py -g _edges.txt -c _ego.txt --inclusion-criterion k --min-k-core 3 > _aoc_k.txt\n",
    "python3 ../../aocv2_plus/v2_revisions/aoc.py -g _edges.txt -c _ego.txt --inclusion-criterion mcd > _aoc.txt\n"
   ]
  },
  {
   "cell_type": "markdown",
   "id": "da9d9a1c",
   "metadata": {},
   "source": [
    "### read ABCDoo, run Leiden, ES and Beta"
   ]
  },
  {
   "cell_type": "code",
   "execution_count": null,
   "id": "555bb3eb",
   "metadata": {
    "scrolled": true
   },
   "outputs": [],
   "source": [
    "len([j for i in LEI for j in i])"
   ]
  },
  {
   "cell_type": "code",
   "execution_count": null,
   "id": "12dc6512",
   "metadata": {
    "scrolled": false
   },
   "outputs": [],
   "source": [
    "Results = []\n",
    "rep = 3\n",
    "xi = 0.35\n",
    "for eta in [1.0,1.5,2.0,2.5,3.0]:\n",
    "#for eta in [1.5]:\n",
    "\n",
    "    fn = '~/Betastar/CommunityAssociationStrength/Datasets/ABCDoo/networkfile'+str(xi)+'_'+str(eta)+'_'+str(rep)+'.txt'\n",
    "\n",
    "    ## read graph, compute Leiden\n",
    "    G = readGraph(xi=xi, eta=eta, rep=rep)\n",
    "    G.vs['name'] = [str(i) for i in np.arange(G.vcount())]\n",
    "    G.vs['leiden'] = G.community_leiden(objective_function='modularity').membership\n",
    "    GT = mems2comms(G.vs['comms'])[1:]  ## ignore \"outlier community\"\n",
    "    GT = [[str(i) for i in x] for x in GT]\n",
    "\n",
    "    ## ego-split\n",
    "    comms_es = EgoSplit(G, split='CC', algo='ECG')\n",
    "    ES = [list(x) for x in comms_es if len(x)>=10]\n",
    "    print('Ego:',compute_oNMI( ES, GT ))\n",
    "    LEI = mems2comms([[c] for c in G.vs['leiden']])\n",
    "    print('Leiden:',compute_oNMI(GT, LEI))\n",
    "\n",
    "    ## ego+beta\n",
    "    C = sparse.csc_matrix((G.vcount(),len(ES)))\n",
    "    C.indices = np.array([int(i) for j in ES for i in j])\n",
    "    C.data = np.repeat(1,len(C.indices))\n",
    "    ptr = [0]\n",
    "    ctr = 0\n",
    "    for x in ES:\n",
    "        ctr += len(x)\n",
    "        ptr.append(ctr)\n",
    "    C.indptr = np.array(ptr)\n",
    "    M = C.tocsr()\n",
    "    ## Beta\n",
    "    IEF, Beta, C, Pv, DegPart = CAS(G.get_adjacency_sparse(), M)\n",
    "    EB = []\n",
    "    th = 0.1\n",
    "    for i in range(Beta.shape[1]):\n",
    "        x = np.where( (np.array(Beta[:,i].todense()).flatten() >= th))[0]\n",
    "        if len(x)>0:\n",
    "            EB.append(list(x))        \n",
    "    print('Ego+beta:',compute_oNMI(GT, EB))\n",
    "\n",
    "    ## Leiden+beta\n",
    "    C = sparse.csc_matrix((G.vcount(),len(LEI)))\n",
    "    C.indices = np.array([int(i) for j in LEI for i in j])\n",
    "    C.data = np.repeat(1,len(C.indices))\n",
    "    ptr = [0]\n",
    "    ctr = 0\n",
    "    for x in LEI:\n",
    "        ctr += len(x)\n",
    "        ptr.append(ctr)\n",
    "    C.indptr = np.array(ptr)\n",
    "    M = C.tocsr()\n",
    "    ## Beta\n",
    "    IEF, Beta, C, Pv, DegPart = CAS(G.get_adjacency_sparse(), M)\n",
    "    LB = []\n",
    "    th = 0.1\n",
    "    for i in range(Beta.shape[1]):\n",
    "        x = np.where( (np.array(Beta[:,i].todense()).flatten() >= th))[0]\n",
    "        if len(x)>0:\n",
    "            LB.append(list(x))        \n",
    "    print('Leiden+beta:',compute_oNMI(GT, LB))\n",
    "    \n",
    "    ## store leiden clusters\n",
    "    L = []\n",
    "    for v in G.vs:\n",
    "        L.append( (v['leiden'],str(int(v['name'])+1)) ) ## 1-based in edge file\n",
    "    with open('_clusters.txt', 'w') as fp:\n",
    "        fp.write('\\n'.join('%s %s' % x for x in L))\n",
    "        fp.write('\\n')\n",
    "    \n",
    "    ## Leiden + AOC    \n",
    "    cmd = 'python3 ~/Betastar/aocv2_plus/v2_revisions/aoc.py -g '+fn+' -c _clusters.txt --inclusion-criterion mcd > _aoc.txt'\n",
    "    os.system('source activate complexnetworks && '+cmd)\n",
    "    LA = []\n",
    "    df = pd.read_csv('_aoc.txt', sep=' ', header=None, names=['comm','node'])\n",
    "    for i in range(max(df.comm)+1):\n",
    "        LA.append([str(v-1) for v in df[df.comm==i].node]) ## back to 0-based\n",
    "    print('Leiden+AOC:',compute_oNMI(LA,GT))\n",
    "    \n",
    "    ## store ES clusters\n",
    "    L = []\n",
    "    for i in range(len(ES)):\n",
    "        for j in ES[i]:\n",
    "            L.append( (str(i),str(int(j)+1)) )\n",
    "    with open('_clusters.txt', 'w') as fp:\n",
    "        fp.write('\\n'.join('%s %s' % x for x in L))\n",
    "        fp.write('\\n')\n",
    "        \n",
    "    ## ES + AOC    \n",
    "    cmd = 'python3 ~/Betastar/aocv2_plus/v2_revisions/aoc.py -g '+fn+' -c _clusters.txt --inclusion-criterion mcd > _aoc.txt'\n",
    "    os.system('source activate complexnetworks && '+cmd)\n",
    "    EA = []\n",
    "    df = pd.read_csv('_aoc.txt', sep=' ', header=None, names=['comm','node'])\n",
    "    for i in range(max(df.comm)+1):\n",
    "        EA.append([str(v-1) for v in df[df.comm==i].node]) ## back to 0-based\n",
    "    print('ES+AOC:',compute_oNMI(EA,GT))\n",
    "    \n",
    "    X = [eta,compute_oNMI( ES, GT ), compute_oNMI(GT, LEI), compute_oNMI(GT, EB), compute_oNMI(GT, LB),\n",
    "         compute_oNMI(LA,GT),compute_oNMI(EA,GT)]\n",
    "    Results.append(X)"
   ]
  },
  {
   "cell_type": "code",
   "execution_count": null,
   "id": "b0b61ec9",
   "metadata": {},
   "outputs": [],
   "source": [
    "_df = pd.DataFrame(Results, columns=['eta','Ego-Split','Leiden','Ego+Beta','Leiden+Beta','Leiden+AOC','Ego+AOC'])\n",
    "with open('algo_compare_aoc.pkl','wb') as fp:\n",
    "    pickle.dump(_df,fp)    "
   ]
  },
  {
   "cell_type": "code",
   "execution_count": null,
   "id": "32ea4a1e",
   "metadata": {},
   "outputs": [],
   "source": [
    "_df"
   ]
  },
  {
   "cell_type": "markdown",
   "id": "2007535a",
   "metadata": {},
   "source": [
    "### run IKC"
   ]
  },
  {
   "cell_type": "code",
   "execution_count": null,
   "id": "d4781a6d",
   "metadata": {},
   "outputs": [],
   "source": [
    "cmd = 'python3 /Users/francois/Betastar/ERNIE_Plus/Illinois/clustering/eleanor/code/IKC.py -o _ikc -k 10 -e '+fn\n",
    "os.system('source activate complexnetworks && '+cmd)\n",
    "## IKC fails - single community with 3103 nodes\n",
    "df = pd.read_csv('_ikc', header=None, names=['node','comm','k','q'])\n",
    "Counter(df[df.k>0].comm)\n"
   ]
  }
 ],
 "metadata": {
  "kernelspec": {
   "display_name": "complexnetworks",
   "language": "python",
   "name": "complexnetworks"
  },
  "language_info": {
   "codemirror_mode": {
    "name": "ipython",
    "version": 3
   },
   "file_extension": ".py",
   "mimetype": "text/x-python",
   "name": "python",
   "nbconvert_exporter": "python",
   "pygments_lexer": "ipython3",
   "version": "3.11.9"
  }
 },
 "nbformat": 4,
 "nbformat_minor": 5
}

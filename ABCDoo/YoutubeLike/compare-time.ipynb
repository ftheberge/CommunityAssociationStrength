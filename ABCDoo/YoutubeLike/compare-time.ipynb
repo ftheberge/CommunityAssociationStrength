{
 "cells": [
  {
   "cell_type": "code",
   "execution_count": 1,
   "id": "b41c323f",
   "metadata": {},
   "outputs": [],
   "source": [
    "import igraph as ig\n",
    "import pandas as pd\n",
    "import numpy as np\n",
    "from sklearn.metrics import adjusted_mutual_info_score as AMI\n",
    "import partition_igraph\n",
    "from matplotlib import pyplot as plt\n",
    "from collections import Counter\n",
    "import random\n",
    "import pickle\n",
    "import os\n",
    "import seaborn as sns\n",
    "from sklearn.metrics import roc_auc_score as AUC\n",
    "from sklearn.metrics import roc_curve\n",
    "from scipy.sparse import csr_matrix\n",
    "import scipy.sparse as sparse \n",
    "import time\n",
    "from statistics import mode\n",
    "from abcd_graph import ABCDGraph, ABCDParams\n",
    "import csv\n",
    "import subprocess\n",
    "import sys\n",
    "sys.path.append('../../')\n",
    "from CAS import *\n"
   ]
  },
  {
   "cell_type": "markdown",
   "id": "9d2d8af6",
   "metadata": {},
   "source": [
    "## ABCD-oo graphs\n",
    "\n",
    "Main 2 files:\n",
    "\n",
    "```\n",
    "networkfile<xi>_<eta>_<rep>.txt : the edges, 1-based node ids, tab separated\n",
    "communityfile<xi>_<eta>_<rep>.txt : node <tab> list of communities in [], for example:\n",
    "1       [24]\n",
    "2       [3, 28]\n",
    "3       [10]\n",
    "```\n"
   ]
  },
  {
   "cell_type": "code",
   "execution_count": 28,
   "id": "a4806df6",
   "metadata": {},
   "outputs": [],
   "source": [
    "path = './Datasets/abcdoo_yt_'\n",
    "def readGraph(xi=0.1, eta=1.25, n=1000):\n",
    "    ## read edges, build graph\n",
    "    fn = path+str(xi)+'_'+str(eta)+'_'+str(n)+'_edge.dat'\n",
    "    Edges = pd.read_csv(fn, sep='\\t', header=None)-1 ## map to 0-based\n",
    "    G = ig.Graph.DataFrame(Edges, directed=False)\n",
    "    ## read communities\n",
    "    fn = path+str(xi)+'_'+str(eta)+'_'+str(n)+'_com.dat'\n",
    "    L = []\n",
    "    with open(fn, \"r\") as infile:\n",
    "        for line in infile:\n",
    "            x = line.split('\\t')\n",
    "            L.append([int(y)-1 for y in x[1].rstrip()[1:-1].split(',')]) ## map to 0-based\n",
    "    G.vs['comms'] = L\n",
    "    G.vs['n_comms'] = [len(x) for x in G.vs['comms']]\n",
    "    return G\n",
    "   "
   ]
  },
  {
   "cell_type": "code",
   "execution_count": 3,
   "id": "743141a7",
   "metadata": {},
   "outputs": [],
   "source": [
    "oNMI = '/Users/francois/Book/GraphMiningNotebooks/oNMI/onmi'          ## overlapping NMI executable\n",
    "#oNMI = '/work/home/fcthebe/Tools/oNMI/onmi'          ## overlapping NMI executable\n",
    "\n",
    "## input format: \n",
    "def compute_oNMI(First, Second):\n",
    "    fn1 = '__'+str(random.random())[2:]\n",
    "    with open(fn1,\"w\") as f:\n",
    "        wr = csv.writer(f, delimiter=\" \")\n",
    "        wr.writerows(First)\n",
    "    f.close()   \n",
    "\n",
    "    fn2 = '__'+str(random.random())[2:]\n",
    "    with open(fn2,\"w\") as f:\n",
    "        wr = csv.writer(f, delimiter=\" \")\n",
    "        wr.writerows(Second)\n",
    "    f.close()   \n",
    "    x = float(subprocess.check_output([oNMI,fn1,fn2]).decode(\"utf-8\").split()[1])\n",
    "    _ = os.system('rm '+fn1)\n",
    "    _ = os.system('rm '+fn2)\n",
    "    return x\n"
   ]
  },
  {
   "cell_type": "code",
   "execution_count": 4,
   "id": "a211b030",
   "metadata": {},
   "outputs": [],
   "source": [
    "def memberships2list(S):\n",
    "    L = []\n",
    "    for i in range(len(S.indptr)-1):\n",
    "        if S.indptr[i] == S.indptr[i+1]:\n",
    "            L.append([0]) ## no membership == outlier (community 0)\n",
    "        else:\n",
    "            L.append(list(S.indices[S.indptr[i]:S.indptr[i+1]]+1)) ## 1-based\n",
    "    return L\n",
    "\n",
    "## given list of node memberships, return list of communities\n",
    "def mems2comms(X):\n",
    "    nc = max(set([i for j in X for i in j]))+1  \n",
    "    n = len(X)\n",
    "    L = [[] for _ in range(nc)]\n",
    "    for i in range(n):\n",
    "        for j in X[i]:\n",
    "            L[j].append(i)\n",
    "    return L"
   ]
  },
  {
   "cell_type": "code",
   "execution_count": 5,
   "id": "147106c5",
   "metadata": {},
   "outputs": [],
   "source": [
    "from itertools import combinations\n",
    "def CPM(g, k=3):\n",
    "    cls = list(map(set, g.cliques(min=k,max=k)))\n",
    "    edgelist = []\n",
    "    for i in range(len(cls)):\n",
    "        edgelist.append((i,i))\n",
    "    for i,j in combinations(range(len(cls)),2):\n",
    "        if len(cls[i].intersection(cls[j])) >= (k-1):\n",
    "            edgelist.append((i,j))\n",
    "    cg = ig.Graph(edgelist, directed=False)\n",
    "    clusters = cg.connected_components()\n",
    "    L = []\n",
    "    for cluster in clusters:\n",
    "        members = set()\n",
    "        for i in cluster:\n",
    "            members.update(cls[i])\n",
    "        L.append(set(g.vs[members][\"name\"]))\n",
    "    return L\n"
   ]
  },
  {
   "cell_type": "code",
   "execution_count": 6,
   "id": "7b7d882f",
   "metadata": {},
   "outputs": [],
   "source": [
    "def EgoSplit(G, split='CC', algo='LP'):\n",
    "    g = G.copy()\n",
    "    ## implement ego-split approach with LP or ECG\n",
    "    g.vs['original'] = g.vs['name']\n",
    "    ## use the vertex names to avoid issues when vertices are re-mapped ...\n",
    "    names = g.vs['name']\n",
    "    ## step 1 - ego-net splits\n",
    "    #ctr = 1\n",
    "    for nm in names:\n",
    "#         if ctr%1000==0:\n",
    "#             print(ctr)\n",
    "#         ctr+=1\n",
    "        v = g.vs.find(nm).index\n",
    "        n = g.neighbors(v)\n",
    "        sg = g.subgraph(n)\n",
    "        if split == 'LP':\n",
    "            x = sg.community_label_propagation().membership\n",
    "        else:\n",
    "            x = sg.connected_components().membership\n",
    "        if np.min(x)==-1:\n",
    "            x = [i+1 for i in x]\n",
    "        for j in set(x):\n",
    "            g.add_vertex(name=nm+'.'+str(j),original=nm)\n",
    "\n",
    "        l = sg.vs['name']\n",
    "        for j in range(len(x)):\n",
    "            g.add_edge(nm+'.'+str(x[j]) , l[j])\n",
    "        g.delete_vertices(v)\n",
    "    ## step 2 -- cluster w.r.t. multiple personae\n",
    "    if algo=='LP':\n",
    "        cl = g.community_label_propagation()\n",
    "    else:\n",
    "        cl = g.community_ecg(ens_size=32)\n",
    "    C = [set(sg.vs['original']) for sg in cl.subgraphs()]\n",
    "    return C\n"
   ]
  },
  {
   "cell_type": "code",
   "execution_count": 7,
   "id": "790ce856",
   "metadata": {},
   "outputs": [],
   "source": [
    "def Jaccard(a,b):\n",
    "    x = len(set(a).intersection(set(b)))/len(set(a).union(set(b)))\n",
    "    return x\n",
    "\n",
    "def weightedLinegraph(g):\n",
    "    lg = g.linegraph()\n",
    "    w=[]\n",
    "    for e in lg.es:\n",
    "        A = set(g.es[e.tuple[0]].tuple)\n",
    "        B = set(g.es[e.tuple[1]].tuple)\n",
    "        x = list((A-B).union(B-A))\n",
    "        w.append(Jaccard(g.neighbors(x[0]),g.neighbors(x[1])))\n",
    "    lg.es['weight'] = w\n",
    "    return lg\n",
    "\n",
    "def edgeCluster(g, color=False):\n",
    "    q = -999\n",
    "    D = weightedLinegraph(g)\n",
    "    for th in sorted(set(D.es['weight'])):\n",
    "        ## filter edges w.r.t. similarity and find CC\n",
    "        dg = D.copy()\n",
    "        dg.delete_edges([e for e in dg.es if e['weight']<=th])\n",
    "        cc = dg.connected_components().membership\n",
    "        mod = D.modularity(cc)\n",
    "        if mod>q:\n",
    "            q = mod\n",
    "            g.es['lc'] = cc\n",
    "            if color:\n",
    "                pal = ig.ClusterColoringPalette(n=max(cc)+1)\n",
    "                for e in g.es:\n",
    "                    e['color'] = pal[e['lc']]\n",
    "    ## Now gather the nodes for each edge cluster\n",
    "    L = []\n",
    "    for i in range(max(g.es['lc'])+1):\n",
    "        sg = g.subgraph_edges([e for e in g.es if e['lc']==i])\n",
    "        L.append(sg.vs['name'])\n",
    "    return L"
   ]
  },
  {
   "cell_type": "markdown",
   "id": "8b007585",
   "metadata": {},
   "source": [
    "## Quick test"
   ]
  },
  {
   "cell_type": "code",
   "execution_count": 8,
   "id": "4fdef63a",
   "metadata": {},
   "outputs": [],
   "source": [
    "xi = 0.1\n",
    "eta = 1.25\n",
    "n=1000\n",
    "\n",
    "G = readGraph(xi=xi,eta=eta)\n",
    "G.vs['name'] = [str(i) for i in np.arange(G.vcount())]\n",
    "GT = mems2comms(G.vs['comms'])[1:]  ## no \"outlier community\"\n",
    "GT = [[str(i) for i in x] for x in GT]"
   ]
  },
  {
   "cell_type": "code",
   "execution_count": 9,
   "id": "b44ef0fe",
   "metadata": {},
   "outputs": [
    {
     "name": "stdout",
     "output_type": "stream",
     "text": [
      "CPU times: user 2.21 s, sys: 21 ms, total: 2.23 s\n",
      "Wall time: 2.26 s\n"
     ]
    }
   ],
   "source": [
    "%%time\n",
    "CP = CPM(G)\n"
   ]
  },
  {
   "cell_type": "code",
   "execution_count": 10,
   "id": "d9a6f02b",
   "metadata": {},
   "outputs": [
    {
     "name": "stdout",
     "output_type": "stream",
     "text": [
      "CPU times: user 2.48 ms, sys: 204 μs, total: 2.68 ms\n",
      "Wall time: 2.69 ms\n"
     ]
    }
   ],
   "source": [
    "%%time\n",
    "G.vs['leiden'] = G.community_leiden(objective_function='modularity').membership\n",
    "LD = mems2comms([[x] for x in G.vs['leiden']])\n",
    "LD = [[str(i) for i in j] for j in LD]\n"
   ]
  },
  {
   "cell_type": "code",
   "execution_count": 11,
   "id": "35af3c1a",
   "metadata": {},
   "outputs": [
    {
     "name": "stdout",
     "output_type": "stream",
     "text": [
      "CPU times: user 2.14 s, sys: 48.9 ms, total: 2.19 s\n",
      "Wall time: 2.23 s\n"
     ]
    }
   ],
   "source": [
    "%%time\n",
    "comms_es = EgoSplit(G, split='CC', algo='ECG')\n",
    "ES = [list(x) for x in comms_es if len(x)>=10]\n"
   ]
  },
  {
   "cell_type": "code",
   "execution_count": 12,
   "id": "b4699ffe",
   "metadata": {},
   "outputs": [
    {
     "name": "stdout",
     "output_type": "stream",
     "text": [
      "CPU times: user 119 ms, sys: 3.31 ms, total: 123 ms\n",
      "Wall time: 123 ms\n"
     ]
    }
   ],
   "source": [
    "%%time\n",
    "C = sparse.csc_matrix((G.vcount(),len(ES)))\n",
    "C.indices = np.array([int(i) for j in ES for i in j])\n",
    "C.data = np.repeat(1,len(C.indices))\n",
    "ptr = [0]\n",
    "ctr = 0\n",
    "for x in ES:\n",
    "    ctr += len(x)\n",
    "    ptr.append(ctr)\n",
    "C.indptr = np.array(ptr)\n",
    "M = C.tocsr()\n",
    "## Beta\n",
    "IEF, Beta, C, Pv, DegPart = CAS(G.get_adjacency_sparse(), M)\n",
    "L = []\n",
    "th = 0.25\n",
    "for i in range(IEF.shape[1]):\n",
    "    x = np.where( (np.array(IEF[:,i].todense()).flatten() >= th))[0]\n",
    "    if len(x)>0:\n",
    "        L.append(list(x))        "
   ]
  },
  {
   "cell_type": "code",
   "execution_count": 13,
   "id": "63404b6c",
   "metadata": {},
   "outputs": [
    {
     "data": {
      "text/plain": [
       "0.672744"
      ]
     },
     "execution_count": 13,
     "metadata": {},
     "output_type": "execute_result"
    }
   ],
   "source": [
    "compute_oNMI(L,ES)"
   ]
  },
  {
   "cell_type": "code",
   "execution_count": 14,
   "id": "b11ea03b",
   "metadata": {},
   "outputs": [
    {
     "name": "stdout",
     "output_type": "stream",
     "text": [
      "[1.25, 0.00421149, 0.449301, 0.476964, 0.608151, 0.1]\n"
     ]
    }
   ],
   "source": [
    "X = [eta, compute_oNMI( CP, GT ), compute_oNMI( LD, GT ), compute_oNMI( ES, GT ), compute_oNMI(GT, L), xi]\n",
    "print(X)\n"
   ]
  },
  {
   "cell_type": "code",
   "execution_count": 15,
   "id": "3a2235d9",
   "metadata": {},
   "outputs": [
    {
     "name": "stdout",
     "output_type": "stream",
     "text": [
      "CPU times: user 30.7 s, sys: 750 ms, total: 31.5 s\n",
      "Wall time: 31.7 s\n"
     ]
    },
    {
     "data": {
      "text/plain": [
       "0.224832"
      ]
     },
     "execution_count": 15,
     "metadata": {},
     "output_type": "execute_result"
    }
   ],
   "source": [
    "%%time\n",
    "EC = edgeCluster(G)\n",
    "_EC = [x for x in EC if len(x) >= 10]\n",
    "compute_oNMI(_EC,GT)\n"
   ]
  },
  {
   "cell_type": "markdown",
   "id": "9a7de35c",
   "metadata": {},
   "source": [
    "## Compare algorithms: CPM, Leiden, Ego-Split, ES+Beta, Edge clustering\n"
   ]
  },
  {
   "cell_type": "code",
   "execution_count": 34,
   "id": "4b569e1f",
   "metadata": {},
   "outputs": [
    {
     "name": "stdout",
     "output_type": "stream",
     "text": [
      "[1000, 2.352368116378784, 0.0022721290588378906, 2.0530898571014404, 0.11318397521972656, 30.025329113006592]\n",
      "[2000, 5.37516188621521, 0.004635810852050781, 9.895690202713013, 0.24792695045471191, 79.31610012054443]\n",
      "[3000, 10.576880693435669, 0.006868839263916016, 23.754393100738525, 0.326829195022583, 133.20597290992737]\n",
      "[4000, 28.985494136810303, 0.009353876113891602, 42.622682094573975, 0.500892162322998, 229.8053228855133]\n",
      "[5000, 32.9655339717865, 0.011831998825073242, 69.24555492401123, 0.5348610877990723, 281.6566150188446]\n",
      "[6000, 53.43044996261597, 0.014050006866455078, 101.6859381198883, 0.6815080642700195, 389.59538316726685]\n",
      "[7000, 76.29930877685547, 0.015870094299316406, 131.32440209388733, 0.7144689559936523, 415.5156190395355]\n",
      "[8000, 94.3317801952362, 0.020092010498046875, 184.13203191757202, 0.8722250461578369, 495.51021003723145]\n",
      "[9000, 110.11271715164185, 0.02476787567138672, 239.9962911605835, 0.9650700092315674, 752.0306780338287]\n",
      "[10000, 167.9552981853485, 0.024083852767944336, 289.46899795532227, 1.128230094909668, 846.4069159030914]\n",
      "[11000, 170.5654649734497, 0.026066303253173828, 349.92441272735596, 1.1655158996582031, 949.0913002490997]\n",
      "[12000, 229.8886239528656, 0.028539180755615234, 412.1720678806305, 1.4117860794067383, 1131.4488129615784]\n",
      "[13000, 272.3612117767334, 0.030377864837646484, 469.31693816185, 1.358177900314331, 1263.216173171997]\n",
      "[14000, 299.4572730064392, 0.03306388854980469, 555.2997727394104, 1.4650001525878906, 1514.6371228694916]\n",
      "[15000, 347.31073093414307, 0.042629241943359375, 653.5089910030365, 1.611786127090454, 1566.8014979362488]\n"
     ]
    }
   ],
   "source": [
    "Results = []\n",
    "for n in [1000,2000,3000,4000,5000,6000,7000,8000,9000,10000,11000,12000,13000,14000,15000]:\n",
    "    X = [n]\n",
    "    \n",
    "    G = readGraph(n=n)\n",
    "    G.vs['name'] = [str(i) for i in np.arange(G.vcount())]\n",
    "    GT = mems2comms(G.vs['comms'])[1:]  ## ignore \"outlier community\"\n",
    "    GT = [[str(i) for i in x] for x in GT]\n",
    "    \n",
    "    ## CPM\n",
    "    a = time.time()\n",
    "    CP = CPM(G)\n",
    "    X.append(time.time()-a)\n",
    "    \n",
    "    ## Leiden\n",
    "    a = time.time()\n",
    "    G.vs['leiden'] = G.community_leiden(objective_function='modularity').membership\n",
    "    X.append(time.time()-a)\n",
    "\n",
    "    ## Ego\n",
    "    a = time.time()\n",
    "    comms_es = EgoSplit(G, split='CC', algo='ECG')\n",
    "    X.append(time.time()-a)\n",
    "\n",
    "    ES = [list(x) for x in comms_es if len(x)>=10]\n",
    "\n",
    "    C = sparse.csc_matrix((G.vcount(),len(ES)))\n",
    "    C.indices = np.array([int(i) for j in ES for i in j])\n",
    "    C.data = np.repeat(1,len(C.indices))\n",
    "    ptr = [0]\n",
    "    ctr = 0\n",
    "    for x in ES:\n",
    "        ctr += len(x)\n",
    "        ptr.append(ctr)\n",
    "    C.indptr = np.array(ptr)\n",
    "    M = C.tocsr()\n",
    "\n",
    "    ## Beta\n",
    "    a = time.time()\n",
    "    IEF, Beta, C, Pv, DegPart = CAS(G.get_adjacency_sparse(), M)\n",
    "    X.append(time.time()-a)\n",
    "\n",
    "    ## Edge clustering\n",
    "    a = time.time()\n",
    "    _EC = edgeCluster(G)\n",
    "    X.append(time.time()-a)\n",
    " \n",
    "    print(X)\n",
    "    Results.append(X)\n",
    "        \n",
    "df = pd.DataFrame(Results, columns=['n','cpm','leiden','ego','beta','edge'])\n",
    "with open('algo_compare_time.pkl','wb') as fp:\n",
    "    pickle.dump(df,fp)    "
   ]
  },
  {
   "cell_type": "code",
   "execution_count": 35,
   "id": "f54f14ef",
   "metadata": {},
   "outputs": [],
   "source": [
    "with open('./algo_compare_time.pkl','rb') as fp:\n",
    "    df = pickle.load(fp)\n",
    "df.columns = ['n', 'CPM', 'Leiden', 'EgoSplit', 'IEF', 'Edge']"
   ]
  },
  {
   "cell_type": "code",
   "execution_count": 36,
   "id": "e2aae401",
   "metadata": {
    "scrolled": false
   },
   "outputs": [],
   "source": [
    "df['IEF'] = df['EgoSplit']+df['IEF']"
   ]
  },
  {
   "cell_type": "markdown",
   "id": "74cbdade",
   "metadata": {},
   "source": [
    "## Plots for WAW ABCD-oo paper"
   ]
  },
  {
   "cell_type": "code",
   "execution_count": 37,
   "id": "0be443ef",
   "metadata": {},
   "outputs": [],
   "source": [
    "from matplotlib import colormaps\n",
    "import matplotlib.colors as colors\n",
    "cmap = colormaps.get_cmap('mako')\n",
    "def truncate_colormap(cmap, minval=0.0, maxval=1.0, n=100):\n",
    "    new_cmap = colors.LinearSegmentedColormap.from_list(\n",
    "        'trunc({n},{a:.2f},{b:.2f})'.format(n=cmap.name, a=minval, b=maxval),\n",
    "        cmap(np.linspace(minval, maxval, n)))\n",
    "    return new_cmap\n",
    "\n",
    "cmap = truncate_colormap(cmap,0,.85)\n"
   ]
  },
  {
   "cell_type": "code",
   "execution_count": 38,
   "id": "b6978d48",
   "metadata": {},
   "outputs": [
    {
     "data": {
      "image/png": "[encoded data removed]",
      "text/plain": [
       "<Figure size 800x600 with 1 Axes>"
      ]
     },
     "metadata": {},
     "output_type": "display_data"
    }
   ],
   "source": [
    "df.plot(x='n',y=['Leiden', 'CPM', 'Edge', 'EgoSplit', 'IEF'], \n",
    "                    kind='bar', figsize=(8,6), colormap=cmap, logy=True, width=.7)\n",
    "plt.grid(axis='y')\n",
    "plt.legend(['Leiden','Clique Percolation','Edge Clustering','Ego-Split','Ego-Split+IEF'])\n",
    "plt.xlabel(r'Number of nodes $n$', fontsize=14)\n",
    "plt.ylabel('time (sec)', fontsize=14)\n",
    "plt.xticks(rotation=45)\n",
    "plt.savefig('compare_algos_eta.png');\n"
   ]
  }
 ],
 "metadata": {
  "kernelspec": {
   "display_name": "complexnetworks",
   "language": "python",
   "name": "complexnetworks"
  },
  "language_info": {
   "codemirror_mode": {
    "name": "ipython",
    "version": 3
   },
   "file_extension": ".py",
   "mimetype": "text/x-python",
   "name": "python",
   "nbconvert_exporter": "python",
   "pygments_lexer": "ipython3",
   "version": "3.11.9"
  }
 },
 "nbformat": 4,
 "nbformat_minor": 5
}

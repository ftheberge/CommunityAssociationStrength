{
 "cells": [
  {
   "cell_type": "code",
   "execution_count": 1,
   "id": "b41c323f",
   "metadata": {},
   "outputs": [],
   "source": [
    "import igraph as ig\n",
    "import pandas as pd\n",
    "import numpy as np\n",
    "from sklearn.metrics import adjusted_mutual_info_score as AMI\n",
    "import partition_igraph\n",
    "from matplotlib import pyplot as plt\n",
    "from collections import Counter\n",
    "import random\n",
    "import pickle\n",
    "import os\n",
    "import seaborn as sns\n",
    "from sklearn.metrics import roc_auc_score as AUC\n",
    "from sklearn.metrics import roc_curve\n",
    "from scipy.sparse import csr_matrix\n",
    "import scipy.sparse as sparse \n",
    "import time\n",
    "from statistics import mode\n",
    "from abcd_graph import ABCDGraph, ABCDParams\n",
    "import csv\n",
    "import subprocess\n",
    "import sys\n",
    "sys.path.append('../')\n",
    "from CAS import *\n",
    "from itertools import combinations\n",
    "import powerlaw\n",
    "from itertools import combinations\n",
    "from collections import defaultdict\n"
   ]
  },
  {
   "cell_type": "code",
   "execution_count": 2,
   "id": "0c5aff1b",
   "metadata": {},
   "outputs": [],
   "source": [
    "## DEV\n",
    "path = '/data/ABCDoo/'\n",
    "oNMI = '/work/home/fcthebe/Tools/oNMI/onmi' \n",
    "\n",
    "## MAC\n",
    "#path = '../Datasets/ABCDoo/' \n",
    "#oNMI = '/Users/francois/Book/GraphMiningNotebooks/oNMI/onmi' \n",
    "#LFR = '/Users/francois/Tools/LFRo/binary_networks/benchmark'\n"
   ]
  },
  {
   "cell_type": "code",
   "execution_count": 3,
   "id": "ae3fdf80",
   "metadata": {},
   "outputs": [],
   "source": [
    "## this assumes community 0 are outliers and 'gt' exists in graph G\n",
    "## M: membership matrix\n",
    "## S: score matrix (C or Beta)\n",
    "def outliers_AUC(G, M, S):\n",
    "    y = [int(x>0) for x in G.vs['gt']]\n",
    "    x = np.array(S.max(axis=1).todense()).flatten()\n",
    "    ctr = Counter(np.array(M.sum(axis=1)).flatten())\n",
    "    print('With matrix M:\\noutliers:',ctr[0])\n",
    "    print('correct outliers:',sum((np.array(M.sum(axis=1)).flatten() == 0) & (np.array(G.vs['gt']) == 0)))\n",
    "    print('\\nWith scores:\\noutlier AUC:',AUC(y,x)) \n",
    "        \n",
    "## Read ABCD+oo graph\n",
    "def readGraph(xi=0.5, eta=1.5, rep=1, dim=0):\n",
    "    ## if dim>0\n",
    "    if dim>0:\n",
    "        fn = path+'networkfile'+str(xi)+'_'+str(eta)+'_'+str(rep)+'_'+str(dim)+'.txt'\n",
    "    ## read edges, build graph\n",
    "    else:\n",
    "        fn = path+'networkfile'+str(xi)+'_'+str(eta)+'_'+str(rep)+'.txt'\n",
    "    Edges = pd.read_csv(fn, sep='\\t', header=None)-1\n",
    "    G = ig.Graph.DataFrame(Edges, directed=False)\n",
    "    ## read communities\n",
    "    if dim>0:\n",
    "        fn = path+'communityfile'+str(xi)+'_'+str(eta)+'_'+str(rep)+'_'+str(dim)+'.txt'\n",
    "    else:\n",
    "        fn = path+'communityfile'+str(xi)+'_'+str(eta)+'_'+str(rep)+'.txt'\n",
    "    L = []\n",
    "    with open(fn, \"r\") as infile:\n",
    "        for line in infile:\n",
    "            x = line.split('\\t')\n",
    "            L.append([int(y)-1 for y in x[1].rstrip()[1:-1].split(',')]) ## map to 0-based\n",
    "    G.vs['comms'] = L\n",
    "    G.vs['n_comms'] = [len(x) for x in G.vs['comms']]\n",
    "    return G\n",
    "   \n",
    "## calls the oNMI executable, format of inputs: list of lists (communities)\n",
    "def compute_oNMI(First, Second):\n",
    "    fn1 = '__'+str(random.random())[2:]\n",
    "    with open(fn1,\"w\") as f:\n",
    "        wr = csv.writer(f, delimiter=\" \")\n",
    "        wr.writerows(First)\n",
    "    f.close()   \n",
    "\n",
    "    fn2 = '__'+str(random.random())[2:]\n",
    "    with open(fn2,\"w\") as f:\n",
    "        wr = csv.writer(f, delimiter=\" \")\n",
    "        wr.writerows(Second)\n",
    "    f.close()   \n",
    "    x = float(subprocess.check_output([oNMI,fn1,fn2]).decode(\"utf-8\").split()[1])\n",
    "    _ = os.system('rm '+fn1)\n",
    "    _ = os.system('rm '+fn2)\n",
    "    return x\n",
    "\n",
    "## ???\n",
    "def memberships2list(S):\n",
    "    L = []\n",
    "    for i in range(len(S.indptr)-1):\n",
    "        if S.indptr[i] == S.indptr[i+1]:\n",
    "            L.append([0]) ## no membership == outlier (community 0)\n",
    "        else:\n",
    "            L.append(list(S.indices[S.indptr[i]:S.indptr[i+1]]+1)) ## 1-based\n",
    "    return L\n",
    "\n",
    "## given a list of node memberships, return list of communities\n",
    "def mems2comms(X):\n",
    "    nc = max(set([i for j in X for i in j]))+1  \n",
    "    n = len(X)\n",
    "    L = [[] for _ in range(nc)]\n",
    "    for i in range(n):\n",
    "        for j in X[i]:\n",
    "            L[j].append(i)\n",
    "    return L\n",
    "\n",
    "def CPM(g, k=3):\n",
    "    cls = list(map(set, g.cliques(min=k,max=k)))\n",
    "    edgelist = []\n",
    "    for i in range(len(cls)):\n",
    "        edgelist.append((i,i))\n",
    "    for i,j in combinations(range(len(cls)),2):\n",
    "        if len(cls[i].intersection(cls[j])) >= (k-1):\n",
    "            edgelist.append((i,j))\n",
    "    cg = ig.Graph(edgelist, directed=False)\n",
    "    clusters = cg.connected_components()\n",
    "    L = []\n",
    "    for cluster in clusters:\n",
    "        members = set()\n",
    "        for i in cluster:\n",
    "            members.update(cls[i])\n",
    "        L.append(set(g.vs[members][\"name\"]))\n",
    "    return L\n",
    "\n",
    "\n",
    "def EgoSplit(G, split='CC', algo='LP'):\n",
    "    g = G.copy()\n",
    "    ## implement ego-split approach with LP+LP and LP+ECG\n",
    "    g.vs['original'] = g.vs['name']\n",
    "    ## use the vertex names to avoid issues when vertices are re-mapped ...\n",
    "    names = g.vs['name']\n",
    "    ## step 1 - ego-net splits\n",
    "    for nm in names:\n",
    "        v = g.vs.find(nm).index\n",
    "        n = g.neighbors(v)\n",
    "        sg = g.subgraph(n)\n",
    "        if split == 'LP':\n",
    "            x = sg.community_label_propagation().membership\n",
    "        else:\n",
    "            x = sg.connected_components().membership\n",
    "        if np.min(x)==-1:\n",
    "            x = [i+1 for i in x]\n",
    "        for j in set(x):\n",
    "            g.add_vertex(name=nm+'.'+str(j),original=nm)\n",
    "\n",
    "        l = sg.vs['name']\n",
    "        for j in range(len(x)):\n",
    "            g.add_edge(nm+'.'+str(x[j]) , l[j])\n",
    "        g.delete_vertices(v)\n",
    "    ## step 2 -- cluster w.r.t. multiple personae\n",
    "    if algo=='LP':\n",
    "        cl = g.community_label_propagation()\n",
    "    else:\n",
    "        cl = g.community_ecg(ens_size=32, final='leiden') ## Leiden\n",
    "    C = [set(sg.vs['original']) for sg in cl.subgraphs()]\n",
    "    return C\n"
   ]
  },
  {
   "cell_type": "markdown",
   "id": "9d2d8af6",
   "metadata": {},
   "source": [
    "## ABCD-oo graphs\n",
    "\n",
    "Main 2 files:\n",
    "\n",
    "```\n",
    "networkfile<xi>_<eta>_<rep>.txt : the edges, 1-based node ids, tab separated\n",
    "communityfile<xi>_<eta>_<rep>.txt : node <tab> list of communities in [], for example:\n",
    "1       [24]\n",
    "2       [3, 28]\n",
    "3       [10]\n",
    "```\n",
    "\n",
    "All files for one case:\n",
    "\n",
    "```\n",
    "communityfile0.5_1.5_10.txt\n",
    "communitysizesfile0.5_1.5_10.txt\n",
    "degreefile0.5_1.5_10.txt\n",
    "networkfile0.5_1.5_10.txt\n",
    "```\n",
    "\n",
    "All graph have 250 outlier nodes, mapped to community 0 below\n",
    "\n",
    "We also have graphs using different dimension (1 to 4) for xi=0.25, eta=1.5, rep=1.\n"
   ]
  },
  {
   "cell_type": "markdown",
   "id": "fc007055",
   "metadata": {},
   "source": [
    "# EDA - compare ABCD-oo and LFRo\n",
    "\n",
    "We compare the following for an ABCD-oo and \"similar\" LFRo graphs:\n",
    "* degree and community size distributions\n",
    "* degree distribution for outliers vs non-outliers (ABCD-oo only)\n",
    "* number of memberships per node\n",
    "* correlation between degree and number of memberships\n",
    "* size of overlaps between 2, 3 or 4 communities (number of nodes)\n",
    "* density of 'large' overlaps (2 communities, 25+ nodes)\n",
    "\n",
    "By \"similar\" LFRo, we mean:\n",
    "* same number of nodes\n",
    "* same mean and max degree\n",
    "* same power law exponents\n",
    "* same min and max community sizes\n",
    "* for mu, we use equation (2) from our first ABCD paper to set it given xi\n",
    "* for the overlap, we set om = 4 (by default), number of communities and set on (number of nodes) to match eta\n"
   ]
  },
  {
   "cell_type": "code",
   "execution_count": 4,
   "id": "5d88d7ca",
   "metadata": {},
   "outputs": [],
   "source": [
    "XI = 0.6\n",
    "ETA = 2.5\n",
    "LARGE = 25 ## for the overlap densities\n",
    "\n",
    "## read ABCD-oo graph\n",
    "G = readGraph(xi=XI, eta=ETA, rep=1)"
   ]
  },
  {
   "cell_type": "code",
   "execution_count": 5,
   "id": "7670251d",
   "metadata": {},
   "outputs": [
    {
     "name": "stdout",
     "output_type": "stream",
     "text": [
      "min degree 10 max degree 100\n",
      "Value of gamma: 2.847697469441714\n",
      "l': 10.0\n",
      "KS statistic: 0.04178787922819427\n"
     ]
    }
   ],
   "source": [
    "## degree distribution\n",
    "deg = G.degree()\n",
    "print('min degree',min(deg),'max degree',max(deg))\n",
    "X = powerlaw.Fit(deg, xmin = min(deg), verbose=False)\n",
    "print(\"Value of gamma:\", X.power_law.alpha)\n",
    "print(\"l':\", X.power_law.xmin)\n",
    "print(\"KS statistic:\", X.power_law.D)\n"
   ]
  },
  {
   "cell_type": "code",
   "execution_count": 6,
   "id": "f02a85de",
   "metadata": {},
   "outputs": [
    {
     "name": "stdout",
     "output_type": "stream",
     "text": [
      "min comm 50 max comm 1060\n",
      "Value of gamma: 1.770009958872631\n",
      "l': 50.0\n",
      "KS statistic: 0.15838296467676544\n"
     ]
    }
   ],
   "source": [
    "## community size distribution\n",
    "C = [len(y) for y in mems2comms([x for x in G.vs['comms']])]\n",
    "print('min comm',min(C),'max comm',max(C))\n",
    "X = powerlaw.Fit(C, xmin=min(C), verbose=False)\n",
    "print(\"Value of gamma:\", X.power_law.alpha)\n",
    "print(\"l':\", X.power_law.xmin)\n",
    "print(\"KS statistic:\", X.power_law.D)\n"
   ]
  },
  {
   "cell_type": "code",
   "execution_count": 7,
   "id": "0fb2a783",
   "metadata": {},
   "outputs": [
    {
     "data": {
      "text/plain": [
       "Counter({2: 3787, 3: 3109, 1: 1622, 4: 1309, 5: 169, 6: 4})"
      ]
     },
     "execution_count": 7,
     "metadata": {},
     "output_type": "execute_result"
    }
   ],
   "source": [
    "## number of memberships\n",
    "Counter(G.vs['n_comms'])"
   ]
  },
  {
   "cell_type": "code",
   "execution_count": 8,
   "id": "81e55589",
   "metadata": {},
   "outputs": [
    {
     "data": {
      "text/plain": [
       "0.014026088875486073"
      ]
     },
     "execution_count": 8,
     "metadata": {},
     "output_type": "execute_result"
    }
   ],
   "source": [
    "## degree vs number of communities - correlation\n",
    "np.corrcoef(G.degree(),G.vs['n_comms'])[0,1]"
   ]
  },
  {
   "cell_type": "code",
   "execution_count": 9,
   "id": "4234c6c4",
   "metadata": {},
   "outputs": [
    {
     "data": {
      "image/png": "[encoded data removed]",
      "text/plain": [
       "<Figure size 640x480 with 1 Axes>"
      ]
     },
     "metadata": {},
     "output_type": "display_data"
    }
   ],
   "source": [
    "## degree: outliers vs other nodes (no difference expected)\n",
    "deg_o = [G.degree(v) for v in G.vs if v['comms'][0]==0]\n",
    "deg_no = [G.degree(v) for v in G.vs if v['comms'][0]!=0]\n",
    "plt.boxplot([deg_o, deg_no], showfliers=False, labels=['outliers','non-outliers'])\n",
    "plt.ylabel('degree')\n",
    "plt.grid();\n"
   ]
  },
  {
   "cell_type": "code",
   "execution_count": 10,
   "id": "7cf96ea4",
   "metadata": {},
   "outputs": [
    {
     "data": {
      "image/png": "[encoded data removed]",
      "text/plain": [
       "<Figure size 1000x700 with 1 Axes>"
      ]
     },
     "metadata": {},
     "output_type": "display_data"
    }
   ],
   "source": [
    "## Overlap sizes\n",
    "C = [set(x) for x in G.vs['comms'] if x[0]!=0]\n",
    "two_overlaps = defaultdict(int)\n",
    "three_overlaps = defaultdict(int)\n",
    "four_overlaps = defaultdict(int)\n",
    "for com in C:\n",
    "    for k2 in combinations(com, 2):\n",
    "        two_overlaps[frozenset(k2)] += 1\n",
    "    for k3 in combinations(com, 3):\n",
    "        three_overlaps[frozenset(k3)] += 1\n",
    "    for k4 in combinations(com, 4):\n",
    "        four_overlaps[frozenset(k4)] += 1\n",
    "\n",
    "## bin the results\n",
    "_df = pd.DataFrame()\n",
    "bins = [1,2,4,8,16,32,64,128,256,9999]\n",
    "bin_labels = [str(bins[i]+1)+\"-\"+str(bins[i+1]) for i in range(len(bins)-1)]\n",
    "bin_labels[0] = \"1-2\"\n",
    "bin_labels[8] = '257+'\n",
    "_df['bin'] = np.tile(bin_labels, 3)\n",
    "_df['communities'] = np.repeat([2,3,4],9)\n",
    "_df['count'] = np.concatenate([np.histogram(list(two_overlaps.values()), bins=bins)[0],np.histogram(list(three_overlaps.values()), bins=bins)[0],np.histogram(list(four_overlaps.values()), bins=bins)[0]])\n",
    "\n",
    "plt.figure(figsize=(10,7))\n",
    "sns.barplot(x=\"bin\", y=\"count\", hue=\"communities\", data=_df, palette=sns.color_palette('mako', n_colors=3));\n",
    "plt.xlabel('Overlap size', fontsize=16);\n",
    "plt.ylabel('Frequency', fontsize=16)\n",
    "plt.grid()\n",
    "plt.legend(title='Number of overlapping communities', fontsize=13, title_fontsize=13)\n",
    "plt.title(r'Community overlap sizes in ABCD-$o^2$ with $\\eta$='+str(ETA), fontsize=18);\n"
   ]
  },
  {
   "cell_type": "code",
   "execution_count": 11,
   "id": "4d7dfa57",
   "metadata": {},
   "outputs": [
    {
     "data": {
      "image/png": "[encoded data removed]",
      "text/plain": [
       "<Figure size 640x480 with 1 Axes>"
      ]
     },
     "metadata": {},
     "output_type": "display_data"
    }
   ],
   "source": [
    "## density in large overlaps \n",
    "\n",
    "## ignore outliers\n",
    "C = [set(x) for x in G.vs['comms']]\n",
    "Communities = mems2comms(C)[1:]\n",
    "nc = len(Communities)\n",
    "\n",
    "L = []\n",
    "for i in range(nc-1):\n",
    "    for j in range(i+1,nc):\n",
    "        I = set(Communities[i]).intersection(set(Communities[j]))\n",
    "        if len(I)>=LARGE:\n",
    "            sg = G.subgraph(I)\n",
    "            idt = 2*sg.ecount()/(sg.vcount()*(sg.vcount()-1))\n",
    "            inter = sg.vcount()\n",
    "            sg = G.subgraph(set(Communities[i]).union(set(Communities[j])))\n",
    "            udt = 2*sg.ecount()/(sg.vcount()*(sg.vcount()-1))\n",
    "            sg = G.subgraph(np.random.choice(list(set(Communities[i]).union(set(Communities[j]))), size=inter))\n",
    "            sdt = 2*sg.ecount()/(sg.vcount()*(sg.vcount()-1))\n",
    "            L.append([len(I),idt,udt,sdt])\n",
    "_df = pd.DataFrame(L, columns=['intersection','inter_density','union_density','sample_density'])\n",
    "_df.boxplot(column=['inter_density','union_density','sample_density'], sym='.');\n"
   ]
  },
  {
   "cell_type": "markdown",
   "id": "06b7ad8a",
   "metadata": {},
   "source": [
    "## Generate a 'similar' LFRo graph\n",
    "\n",
    "https://sites.google.com/site/andrealancichinetti/benchmarks\n"
   ]
  },
  {
   "cell_type": "code",
   "execution_count": 12,
   "id": "65cda18a",
   "metadata": {},
   "outputs": [],
   "source": [
    "## we distribute the degree evenly for multi-memberships\n",
    "def xi2mu(G, xi):\n",
    "    Communities = mems2comms(G.vs['comms'])\n",
    "    weight = [1/x for x in G.vs['n_comms']]\n",
    "    W = np.zeros(len(Communities))\n",
    "    for i in range(len(W)):\n",
    "        W[i] = sum([weight[x] for x in Communities[i]])\n",
    "    W_G = sum(W)\n",
    "    W = (W / W_G)**2\n",
    "    mu = xi * (1-sum(W))\n",
    "    return mu\n"
   ]
  },
  {
   "cell_type": "code",
   "execution_count": 13,
   "id": "63c0a755",
   "metadata": {},
   "outputs": [
    {
     "ename": "NameError",
     "evalue": "name 'LFR' is not defined",
     "output_type": "error",
     "traceback": [
      "\u001b[0;31m---------------------------------------------------------------------------\u001b[0m",
      "\u001b[0;31mNameError\u001b[0m                                 Traceback (most recent call last)",
      "Cell \u001b[0;32mIn[13], line 17\u001b[0m\n\u001b[1;32m     14\u001b[0m on \u001b[38;5;241m=\u001b[39m \u001b[38;5;28mint\u001b[39m(n\u001b[38;5;241m*\u001b[39m(eta\u001b[38;5;241m-\u001b[39m\u001b[38;5;241m1\u001b[39m)\u001b[38;5;241m/\u001b[39m(om\u001b[38;5;241m-\u001b[39m\u001b[38;5;241m1\u001b[39m))\n\u001b[1;32m     16\u001b[0m \u001b[38;5;66;03m## run LFRo\u001b[39;00m\n\u001b[0;32m---> 17\u001b[0m cmd \u001b[38;5;241m=\u001b[39m LFR \u001b[38;5;241m+\u001b[39m \u001b[38;5;124m'\u001b[39m\u001b[38;5;124m -N 10000 -k \u001b[39m\u001b[38;5;124m'\u001b[39m \u001b[38;5;241m+\u001b[39m \u001b[38;5;28mstr\u001b[39m(k) \u001b[38;5;241m+\u001b[39m \u001b[38;5;124m'\u001b[39m\u001b[38;5;124m -maxk 100 \u001b[39m\u001b[38;5;124m'\u001b[39m \u001b[38;5;241m+\u001b[39m \u001b[38;5;124m'\u001b[39m\u001b[38;5;124m -mu \u001b[39m\u001b[38;5;124m'\u001b[39m \u001b[38;5;241m+\u001b[39m \u001b[38;5;28mstr\u001b[39m(mu) \n\u001b[1;32m     18\u001b[0m cmd \u001b[38;5;241m=\u001b[39m cmd \u001b[38;5;241m+\u001b[39m \u001b[38;5;124m'\u001b[39m\u001b[38;5;124m -t1 2.5 -t2 1.5 -minc 50 -maxc 1169 -on \u001b[39m\u001b[38;5;124m'\u001b[39m \u001b[38;5;241m+\u001b[39m \u001b[38;5;28mstr\u001b[39m(on) \u001b[38;5;241m+\u001b[39m \u001b[38;5;124m'\u001b[39m\u001b[38;5;124m -om \u001b[39m\u001b[38;5;124m'\u001b[39m \u001b[38;5;241m+\u001b[39m \u001b[38;5;28mstr\u001b[39m(om) \u001b[38;5;241m+\u001b[39m \u001b[38;5;124m'\u001b[39m\u001b[38;5;124m >_temp\u001b[39m\u001b[38;5;124m'\u001b[39m\n\u001b[1;32m     19\u001b[0m x \u001b[38;5;241m=\u001b[39m os\u001b[38;5;241m.\u001b[39msystem(cmd)\n",
      "\u001b[0;31mNameError\u001b[0m: name 'LFR' is not defined"
     ]
    }
   ],
   "source": [
    "## set the parameters\n",
    "mu = xi2mu(G, XI)\n",
    "n = G.vcount()\n",
    "k = np.mean(G.degree())\n",
    "maxk = 100\n",
    "t1 = 2.5\n",
    "t2 = 1.5\n",
    "minc = 50\n",
    "maxc = 1169\n",
    "eta = ETA\n",
    "\n",
    "## fix this, then set on to mimic eta\n",
    "om = 4 \n",
    "on = int(n*(eta-1)/(om-1))\n",
    "\n",
    "## run LFRo\n",
    "cmd = LFR + ' -N 10000 -k ' + str(k) + ' -maxk 100 ' + ' -mu ' + str(mu) \n",
    "cmd = cmd + ' -t1 2.5 -t2 1.5 -minc 50 -maxc 1169 -on ' + str(on) + ' -om ' + str(om) + ' >_temp'\n",
    "x = os.system(cmd)\n",
    "\n",
    "## build graph\n",
    "g = ig.Graph.Read_Ncol('./network.dat',directed=False)\n",
    "g = g.simplify()\n",
    "g_dct = {g.vs[i]['name']:i for i in range(g.vcount())}\n",
    "_df = pd.read_csv('./community.dat', sep='\\t', header=None)\n",
    "for (x,y) in list(_df.itertuples(index=False)):\n",
    "    g.vs[g_dct[str(x)]]['comms'] = [int(i) for i in y.split(' ') if len(i)>0]\n",
    "g.vs['n_comms'] = [len(x) for x in g.vs['comms']]    \n"
   ]
  },
  {
   "cell_type": "code",
   "execution_count": null,
   "id": "87c26642",
   "metadata": {},
   "outputs": [],
   "source": [
    "## degree distribution\n",
    "deg = g.degree()\n",
    "print('min degree',min(deg),'max degree',max(deg))\n",
    "X = powerlaw.Fit(deg, xmin = min(deg), verbose=False)\n",
    "print(\"Value of gamma:\", X.power_law.alpha)\n",
    "print(\"l':\", X.power_law.xmin)\n",
    "print(\"KS statistic:\", X.power_law.D)\n"
   ]
  },
  {
   "cell_type": "code",
   "execution_count": null,
   "id": "2ce1e17a",
   "metadata": {},
   "outputs": [],
   "source": [
    "## community size distribution\n",
    "C = [len(y) for y in mems2comms([x for x in g.vs['comms']])][1:]\n",
    "print('min comm',min(C),'max comm',max(C))\n",
    "X = powerlaw.Fit(C, xmin=min(C), verbose=False)\n",
    "print(\"Value of gamma:\", X.power_law.alpha)\n",
    "print(\"l':\", X.power_law.xmin)\n",
    "print(\"KS statistic:\", X.power_law.D)\n"
   ]
  },
  {
   "cell_type": "code",
   "execution_count": null,
   "id": "93c42c2f",
   "metadata": {},
   "outputs": [],
   "source": [
    "## number of memberships\n",
    "Counter(g.vs['n_comms'])"
   ]
  },
  {
   "cell_type": "code",
   "execution_count": null,
   "id": "16d50162",
   "metadata": {},
   "outputs": [],
   "source": [
    "## degree vs number of communities\n",
    "np.corrcoef(g.degree(),g.vs['n_comms'])[0,1]"
   ]
  },
  {
   "cell_type": "code",
   "execution_count": null,
   "id": "9880be76",
   "metadata": {},
   "outputs": [],
   "source": [
    "## Overlap sizes\n",
    "C = [set(x) for x in g.vs['comms'] if x[0]!=0]\n",
    "two_overlaps = defaultdict(int)\n",
    "three_overlaps = defaultdict(int)\n",
    "four_overlaps = defaultdict(int)\n",
    "for com in C:\n",
    "    for k2 in combinations(com, 2):\n",
    "        two_overlaps[frozenset(k2)] += 1\n",
    "    for k3 in combinations(com, 3):\n",
    "        three_overlaps[frozenset(k3)] += 1\n",
    "    for k4 in combinations(com, 4):\n",
    "        four_overlaps[frozenset(k4)] += 1\n",
    "\n",
    "## bin the results\n",
    "_df = pd.DataFrame()\n",
    "bins = [1,2,4,8,16,32,64,128,256,9999]\n",
    "bin_labels = [str(bins[i]+1)+\"-\"+str(bins[i+1]) for i in range(len(bins)-1)]\n",
    "bin_labels[0] = \"1-2\"\n",
    "bin_labels[8] = '257+'\n",
    "_df['bin'] = np.tile(bin_labels, 3)\n",
    "_df['communities'] = np.repeat([2,3,4],9)\n",
    "_df['count'] = np.concatenate([np.histogram(list(two_overlaps.values()), bins=bins)[0],np.histogram(list(three_overlaps.values()), bins=bins)[0],np.histogram(list(four_overlaps.values()), bins=bins)[0]])\n",
    "\n",
    "plt.figure(figsize=(10,7))\n",
    "sns.barplot(x=\"bin\", y=\"count\", hue=\"communities\", data=_df, palette=sns.color_palette('mako', n_colors=3));\n",
    "plt.xlabel('Overlap size', fontsize=16);\n",
    "plt.ylabel('Frequency', fontsize=16)\n",
    "plt.grid()\n",
    "plt.legend(title='Number of overlapping communities', fontsize=13, title_fontsize=13)\n",
    "plt.title(r'Community overlap sizes in LRFo with $\\eta$='+str(ETA), fontsize=18);\n"
   ]
  },
  {
   "cell_type": "code",
   "execution_count": null,
   "id": "e77fa5a0",
   "metadata": {},
   "outputs": [],
   "source": [
    "## density in large overlaps \n",
    "\n",
    "## ignore outliers\n",
    "C = [set(x) for x in g.vs['comms']]\n",
    "Communities = mems2comms(C)\n",
    "nc = len(Communities)\n",
    "\n",
    "L = []\n",
    "for i in range(nc-1):\n",
    "    for j in range(i+1,nc):\n",
    "        I = set(Communities[i]).intersection(set(Communities[j]))\n",
    "        if len(I)>=LARGE:\n",
    "            sg = g.subgraph(I)\n",
    "            idt = 2*sg.ecount()/(sg.vcount()*(sg.vcount()-1))\n",
    "            inter = sg.vcount()\n",
    "            sg = g.subgraph(set(Communities[i]).union(set(Communities[j])))\n",
    "            udt = 2*sg.ecount()/(sg.vcount()*(sg.vcount()-1))\n",
    "            sg = g.subgraph(np.random.choice(list(set(Communities[i]).union(set(Communities[j]))), size=inter))\n",
    "            sdt = 2*sg.ecount()/(sg.vcount()*(sg.vcount()-1))\n",
    "            L.append([len(I),idt,udt,sdt])\n",
    "_df = pd.DataFrame(L, columns=['intersection','inter_density','union_density','sample_density'])\n",
    "_df.boxplot(column=['inter_density','union_density','sample_density'], sym='.');\n"
   ]
  },
  {
   "cell_type": "markdown",
   "id": "8dd1811c",
   "metadata": {},
   "source": [
    "# WAW Paper Figure 4\n",
    "\n",
    "* takes under 6 min to run"
   ]
  },
  {
   "cell_type": "code",
   "execution_count": null,
   "id": "389f5c46",
   "metadata": {},
   "outputs": [],
   "source": [
    "%%time\n",
    "MAX = 7\n",
    "MINDEG = 1\n",
    "XI = 0.35\n",
    "ETA = 3.0\n",
    "\n",
    "NumIEF = np.zeros(MAX)\n",
    "NumBeta = np.zeros(MAX)\n",
    "NumPv = np.zeros(MAX)\n",
    "Den = np.zeros(MAX)\n",
    "\n",
    "for REP in [1,2,3,4,5,6,7,8,9,10]:\n",
    "    G = readGraph(xi=XI, eta=ETA, rep=REP)\n",
    "    G.vs['leiden'] = G.community_leiden(objective_function='modularity').membership\n",
    "    G.vs['gt'] = [x[0] for x in G.vs['comms']] ## pick the first; 0 == outlier\n",
    "    ## Add community degrees to G (deg_A(v)'s)\n",
    "    for v in G.vs:\n",
    "        ctr = Counter([i for x in v.neighbors() for i in x['comms']])\n",
    "        v['degrees'] = [ctr[i] if i in ctr.keys() else 0 for i in v['comms'] ]\n",
    "\n",
    "\n",
    "    ## GT community membership matrix\n",
    "    X = np.repeat(np.arange(G.vcount(), dtype=int), G.vs['n_comms'])\n",
    "    Y = np.array([i for j in G.vs['comms'] for i in j])\n",
    "    n = len(X)\n",
    "    M = sparse.csr_matrix( (np.repeat(1,n), (X,Y)), shape=(G.vcount(), max(Y)+1) )\n",
    "    A = G.get_adjacency_sparse()\n",
    "\n",
    "    ## Compute CAS measures\n",
    "    IEF, Beta, C, Pv, DegPart = CAS(A, M, alpha=1)\n",
    "\n",
    "\n",
    "    for K in (np.arange(MAX)+1):\n",
    "        V = np.array(G.vs['n_comms'])>=K\n",
    "        minDeg = np.array([min(v['degrees']) if v['n_comms']>0 else 0 for v in G.vs]) >= MINDEG\n",
    "        V = V & minDeg\n",
    "        Si = Sb = Sc = Sp = 0\n",
    "        for i in range(len(V)):\n",
    "            if V[i]:\n",
    "                x = np.argsort(IEF[i].toarray()[0])[-K]\n",
    "                Si += ((x) in G.vs[i]['comms'])\n",
    "                x = np.argsort(Beta[i].toarray()[0])[-K]\n",
    "                Sb += ((x) in G.vs[i]['comms'])\n",
    "                x = np.argsort(Pv[i].toarray()[0])[-K]\n",
    "                Sp += ((x) in G.vs[i]['comms'])\n",
    "\n",
    "        NumBeta[K-1] += Sb\n",
    "        NumIEF[K-1] += Si\n",
    "        NumPv[K-1] += Sp\n",
    "        Den[K-1] += sum(V)\n"
   ]
  },
  {
   "cell_type": "code",
   "execution_count": null,
   "id": "51e40864",
   "metadata": {},
   "outputs": [],
   "source": [
    "plt.plot(np.arange(MAX)+1, NumIEF/Den, '.-', label='IEF')\n",
    "plt.plot(np.arange(MAX)+1, NumBeta/Den, '.-', label='NIEF')\n",
    "#plt.plot(np.arange(MAX)+1, NumC/Den, '.-', label='C')\n",
    "plt.plot(np.arange(MAX)+1, NumPv/Den, '.-', label='P score')\n",
    "plt.xlabel('K (considering nodes with at least K ground-truth communities)',fontsize=12)\n",
    "plt.ylabel('P(Kth highest scoring is a true community)',fontsize=12)\n",
    "plt.legend(fontsize=14)\n",
    "plt.grid()\n",
    "plt.title(r'ABCD-$o^2$ with $\\eta$ = '+str(ETA)+r', $\\xi$ = '+str(XI), fontsize=16);\n",
    "fn = 'abcdoo_ranked_'+str(XI)+'_'+str(ETA)+'.png'\n",
    "plt.savefig(fn);\n"
   ]
  },
  {
   "cell_type": "markdown",
   "id": "5bf6ee51",
   "metadata": {},
   "source": [
    "# WAW Paper - ROC curves for Outliers"
   ]
  },
  {
   "cell_type": "code",
   "execution_count": null,
   "id": "79eb222a",
   "metadata": {},
   "outputs": [],
   "source": [
    "%%time\n",
    "### (2) Classify outliers - ROC curves\n",
    "num_out = 250\n",
    "ETA = 1.0\n",
    "XI = 0.55\n",
    "\n",
    "g = readGraph(xi=XI, eta=ETA, rep=1)\n",
    "g.vs['gt'] = [x[0] for x in g.vs['comms']] ## pick the first; 0 == outlier\n",
    "A = g.get_adjacency_sparse()\n",
    "\n",
    "## Leiden:\n",
    "g.vs['leiden'] = g.community_leiden(objective_function='modularity').membership\n",
    "IEF, Beta, C, Pv, DegPart = CAS(A, partition2sparse(g.vs['leiden']))\n",
    "\n",
    "y = [int(x>0) for x in g.vs['gt']]\n",
    "g.vs['IEF'] = IEF.max(axis=1).toarray().flatten()\n",
    "fpr, tpr, thresholds = roc_curve(y, g.vs['IEF'], pos_label=1)\n",
    "auc = AUC(y, g.vs['IEF'])\n",
    "plt.plot(fpr, tpr, label='IEF: '+str(round(auc,3)))\n",
    "\n",
    "g.vs['beta'] = Beta.max(axis=1).toarray().flatten()\n",
    "fpr, tpr, thresholds = roc_curve(y, g.vs['beta'], pos_label=1)\n",
    "auc = AUC(y, g.vs['beta'])\n",
    "plt.plot(fpr, tpr, label='NIEF: '+str(round(auc,3)))\n",
    "\n",
    "g.vs['Pv'] = Pv.max(axis=1).toarray().flatten()\n",
    "fpr, tpr, thresholds = roc_curve(y, g.vs['Pv'], pos_label=1)\n",
    "auc = AUC(y, g.vs['Pv'])\n",
    "plt.plot(fpr, tpr, label='P score: '+str(round(auc,3)))\n",
    "plt.grid()\n",
    "plt.xlabel('FPR', fontsize=14)\n",
    "plt.ylabel('TPR', fontsize=14)\n",
    "plt.legend(title='AUC', fontsize=12, title_fontsize=12)\n",
    "plt.title(r'ABCD-$o^2$ with $\\eta$ = '+str(ETA)+r', $\\xi$ = '+str(XI), fontsize=16);\n",
    "plt.savefig('abcdoo_ROC_scores_eta_'+str(ETA)+'_xi_'+str(XI)+'.png')\n"
   ]
  },
  {
   "cell_type": "markdown",
   "id": "fc839d6c",
   "metadata": {},
   "source": [
    "# WAW Paper Figures 8-10: EgoSplit + NIEF\n",
    "\n",
    "Also tried CPM, no use\n",
    "\n",
    "We use a variation of the ego-split clustering method proposed in [Epasto] and presented in [Book], where we use ensemble clustering after splitting node into multiple copies depending on their respective neighbourhoods.\n",
    "Since eg-splitting tends to produce many very small communities, we set a minimum size of 10 for the communities.\n",
    "We compare the resulting ES communities with the GT, followed by one round of applying the NIEF CAS score to update the communities w.r.t. a range of threshold values. \n",
    "\n",
    "In practical applications, since the GT is unknown, it is not always clear how to pick a good threshold when using CAS scores.\n",
    "We present some possible methods by computing respectively the average number of communities (for non-outlier nodes) and the number of outlier nodes for several choices of threshold values.\n",
    "\n",
    "\n",
    "NIEF: measures suggest at least .1, more for small eta ... ok?\n"
   ]
  },
  {
   "cell_type": "raw",
   "id": "5a3e6a49",
   "metadata": {
    "scrolled": false
   },
   "source": [
    "%%time\n",
    "Results = []\n",
    "min_size = 10\n",
    "THs = [.05,.075,.1,.125,.15,.175,.2,.225,.25]\n",
    "\n",
    "for eta in [1.0,1.5,2.0,2.5,3.0]:\n",
    "    G = readGraph(xi=0.35, eta=eta, rep=1)\n",
    "    G.vs['name'] = [str(i) for i in np.arange(G.vcount())]\n",
    "    #Counter([x for y in G.vs['comms'] for x in y]).most_common(5)\n",
    "    ## ground-truth communities without the outliers \n",
    "    GT = mems2comms(G.vs['comms'])[1:]  ## ignore \"outlier community\"\n",
    "    GT = [[str(i) for i in x] for x in GT]\n",
    "    #len(GT)\n",
    "    ## Ego-Split with 'CC' and 'ECG'\n",
    "    comms_es = EgoSplit(G, split='CC', algo='ECG')\n",
    "    ES = [list(x) for x in comms_es if len(x)>=min_size]    \n",
    "    ctr = Counter([i for j in ES for i in j])\n",
    "    Results.append([eta,'ego split',np.mean([x for x in ctr.values()]),len(ctr),compute_oNMI( ES, GT )])\n",
    "    C = sparse.csc_matrix((G.vcount(),len(ES)))\n",
    "    C.indices = np.array([int(i) for j in ES for i in j])\n",
    "    C.data = np.repeat(1,len(C.indices))\n",
    "    ptr = [0]\n",
    "    ctr = 0\n",
    "    for x in ES:\n",
    "        ctr += len(x)\n",
    "        ptr.append(ctr)\n",
    "    C.indptr = np.array(ptr)\n",
    "    M = C.tocsr()\n",
    "    ## Beta\n",
    "    IEF, Beta, C, Pv, DegPart = CAS(G.get_adjacency_sparse(), M)\n",
    "    for th in THs:\n",
    "        L = []\n",
    "        for i in range(Beta.shape[1]):\n",
    "            x = np.where( (np.array(Beta[:,i].todense()).flatten() >= th))[0]\n",
    "            if len(x)>0:\n",
    "                L.append(list(x))    \n",
    "        ctr = Counter([i for j in L for i in j])\n",
    "        Results.append([eta, 'beta '+str(th), np.mean([x for x in ctr.values()]),len(ctr),compute_oNMI(GT, L)])\n",
    "        #Results.append([rep, len(GT), len([i for j in GT for i in j])/G.vcount(), min_size, len(ES), th, compute_oNMI( ES, GT ), len([i for j in L for i in j])/G.vcount(), compute_oNMI(GT, L)])\n",
    "    print(eta)    \n",
    "df = pd.DataFrame(Results, columns=['eta','algorithm','avg_membership','outliers','onmi'])\n",
    "\n",
    "x = df.algorithm\n",
    "y = []\n",
    "for s in x:\n",
    "    if s != 'ego split':\n",
    "        v = s.split(' ')\n",
    "        y.append('NIEF ('+v[1]+')')\n",
    "    else:\n",
    "        y.append(s)\n",
    "df['algorithm'] = y\n",
    "df['outliers'] = 10000-df.outliers\n",
    "\n",
    "fn = 'Results/egosplit_nief.pkl'\n",
    "with open(fn,'wb') as fp:\n",
    "    pickle.dump(df,fp)"
   ]
  },
  {
   "cell_type": "code",
   "execution_count": null,
   "id": "7ff00ada",
   "metadata": {},
   "outputs": [],
   "source": [
    "fn = 'Results/egosplit_nief.pkl'\n",
    "with open(fn,'rb') as fp:\n",
    "    df = pickle.load(fp)"
   ]
  },
  {
   "cell_type": "code",
   "execution_count": null,
   "id": "d5c878d7",
   "metadata": {},
   "outputs": [],
   "source": [
    "plt.figure(figsize=(12,8))\n",
    "sns.barplot(x=\"eta\", y=\"onmi\", hue=\"algorithm\", data=df,palette=sns.color_palette('mako', n_colors=11))\n",
    "plt.xlabel(r'$\\eta$', fontsize=18);\n",
    "plt.ylabel('oNMI', fontsize=18)\n",
    "plt.grid()\n",
    "plt.tick_params(axis='both', labelsize=14)\n",
    "plt.legend(fontsize=14)\n",
    "plt.title(r'ABCD-$o^2$ graphs with varying $\\eta$', fontsize=20);\n",
    "plt.savefig('ego_1.png')"
   ]
  },
  {
   "cell_type": "code",
   "execution_count": null,
   "id": "1c8211a9",
   "metadata": {},
   "outputs": [],
   "source": [
    "plt.figure(figsize=(12,8))\n",
    "sns.barplot(x=\"eta\", y=\"outliers\", hue=\"algorithm\", data=df, palette=sns.color_palette('mako', n_colors=11));\n",
    "plt.xlabel(r'$\\eta$', fontsize=18);\n",
    "plt.ylabel('Outliers', fontsize=18)\n",
    "plt.hlines(250,-0.5,4.5, color='grey', linestyle='dashed')\n",
    "plt.grid()\n",
    "plt.tick_params(axis='both', labelsize=14)\n",
    "plt.legend(fontsize=14)\n",
    "plt.title(r'ABCD-$o^2$ graphs with varying $\\eta$', fontsize=20);\n",
    "plt.savefig('ego_2.png')\n"
   ]
  },
  {
   "cell_type": "code",
   "execution_count": null,
   "id": "43fa8346",
   "metadata": {},
   "outputs": [],
   "source": [
    "plt.figure(figsize=(12,8))\n",
    "sns.barplot(x=\"eta\", y=\"avg_membership\", hue=\"algorithm\", data=df, palette=sns.color_palette('mako', n_colors=11));\n",
    "plt.xlabel(r'$\\eta$', fontsize=14);\n",
    "plt.ylabel('Average membership', fontsize=14)\n",
    "plt.grid()\n",
    "plt.title('ABCD-oo graphs with varying $\\eta$', fontsize=16);\n",
    "#plt.savefig('ego_3.png')\n"
   ]
  },
  {
   "cell_type": "markdown",
   "id": "7dfac182",
   "metadata": {},
   "source": [
    "# WAW Paper - vary eta and look at fraction in 1-2-3... communities\n"
   ]
  },
  {
   "cell_type": "code",
   "execution_count": null,
   "id": "22eafdde",
   "metadata": {},
   "outputs": [],
   "source": [
    "ETA = [1.0,1.5,2.0,2.5,3.0]\n",
    "V = []\n",
    "for i in range(len(ETA)):\n",
    "    eta = ETA[i]\n",
    "    X = []\n",
    "    for rep in [1,2,3,4,5,6,7,8,9,10]:\n",
    "        G = readGraph(xi=0.35, eta=eta, rep=rep)\n",
    "        G.vs['name'] = [str(i) for i in np.arange(G.vcount())]\n",
    "        X.extend([len(x) for x in G.vs['comms'] if x[0]!=0])\n",
    "    V.append(X)\n",
    "m = max([i for j in V for i in j])\n",
    "s = len(V[4])\n"
   ]
  },
  {
   "cell_type": "code",
   "execution_count": null,
   "id": "bae87922",
   "metadata": {},
   "outputs": [],
   "source": [
    "M = 6\n",
    "A = np.zeros(shape=(5,M))\n",
    "for i in range(5):\n",
    "    C = Counter(V[i])\n",
    "    for j in range(m):\n",
    "        if j<M-1:\n",
    "            A[i,j] = C[j+1]\n",
    "        else:\n",
    "            A[i,M-1] += C[j+1] \n",
    "            \n",
    "df = pd.DataFrame()\n",
    "df['memberships'] = [str(x) if x<M else str(M)+'+' for x in np.tile(np.arange(M)+1,5)]\n",
    "df['eta'] = np.repeat(ETA, M)\n",
    "df['proportion'] = A.flatten()/s\n",
    "df.head()\n",
    "\n",
    "\n",
    "plt.figure(figsize=(12,8))\n",
    "sns.barplot(x=\"memberships\", y=\"proportion\", hue=\"eta\", data=df, palette=sns.color_palette('mako', n_colors=5));\n",
    "plt.xlabel('Number of communities', fontsize=18);\n",
    "plt.ylabel('Proportion', fontsize=18)\n",
    "plt.grid()\n",
    "legend=plt.legend(title=r'Value of $\\eta$', fontsize=16)\n",
    "\n",
    "#legend=plt.legend(list,loc=(1.05,0.05), title=r'$\\bf{Title}$') #Legend: list, location, Title (in bold)\n",
    "legend.get_title().set_fontsize('18') #legend 'Title' fontsize\n",
    "\n",
    "plt.title(r'ABCD-$o^2$ graphs with varying $\\eta$', fontsize=20);\n",
    "#plt.savefig('abcdoo_eta.png')\n"
   ]
  },
  {
   "cell_type": "raw",
   "id": "84ac2ef0",
   "metadata": {},
   "source": [
    "## Add DBLP to the above\n",
    " \tmemberships \tproportion\n",
    "0 \t1 \t0.575453\n",
    "1 \t2 \t0.165821\n",
    "2 \t3 \t0.077253\n",
    "3 \t4 \t0.045096\n",
    "4 \t5 \t0.030303\n",
    "5 \t6+ \t0.106074\n"
   ]
  },
  {
   "cell_type": "code",
   "execution_count": null,
   "id": "a3a3c52e",
   "metadata": {},
   "outputs": [],
   "source": [
    "_df = pd.DataFrame()\n",
    "_df['memberships'] = ['1','2','3','4','5','6+']\n",
    "_df['eta'] = np.repeat('DBLP',6)\n",
    "_df['proportion'] = [0.575, .166, .077, .045, .030, .011]\n",
    "__df = pd.concat([df,_df])"
   ]
  },
  {
   "cell_type": "code",
   "execution_count": null,
   "id": "269dbce0",
   "metadata": {},
   "outputs": [],
   "source": [
    "\n",
    "plt.figure(figsize=(12,8))\n",
    "sns.barplot(x=\"memberships\", y=\"proportion\", hue=\"eta\", data=__df, palette=sns.color_palette('mako', n_colors=6));\n",
    "plt.xlabel('Number of communities', fontsize=16);\n",
    "plt.ylabel('Proportion', fontsize=16)\n",
    "plt.grid()\n",
    "plt.legend(title=r'Value of $\\eta$', fontsize=13, title_fontsize=13)\n",
    "plt.title(r'ABCD-$o^2$ graphs with varying $\\eta$, and DBLP', fontsize=18);\n",
    "#plt.savefig('abcdoo_dblp_eta.png')\n"
   ]
  },
  {
   "cell_type": "markdown",
   "id": "30719a08",
   "metadata": {},
   "source": [
    "# Ryan's experiment - ABCD-oo graph as above "
   ]
  },
  {
   "cell_type": "code",
   "execution_count": null,
   "id": "bc2e7ce4",
   "metadata": {},
   "outputs": [],
   "source": [
    "from itertools import combinations\n",
    "from collections import defaultdict\n",
    "\n",
    "ETA = 3.0\n",
    "\n",
    "## Overlap sizes\n",
    "G = readGraph(xi=0.25, eta=ETA, rep=1)\n",
    "C = [set(x) for x in G.vs['comms'] if x[0]!=0]\n",
    "two_overlaps = defaultdict(int)\n",
    "three_overlaps = defaultdict(int)\n",
    "four_overlaps = defaultdict(int)\n",
    "for com in C:\n",
    "    for k2 in combinations(com, 2):\n",
    "        two_overlaps[frozenset(k2)] += 1\n",
    "    for k3 in combinations(com, 3):\n",
    "        three_overlaps[frozenset(k3)] += 1\n",
    "    for k4 in combinations(com, 4):\n",
    "        four_overlaps[frozenset(k4)] += 1\n",
    "\n",
    "## bin the results\n",
    "_df = pd.DataFrame()\n",
    "bins = [1,2,4,8,16,32,64,128,256,9999]\n",
    "bin_labels = [str(bins[i]+1)+\"-\"+str(bins[i+1]) for i in range(len(bins)-1)]\n",
    "bin_labels[0] = \"1-2\"\n",
    "bin_labels[8] = '257+'\n",
    "_df['bin'] = np.tile(bin_labels, 3)\n",
    "_df['communities'] = np.repeat([2,3,4],9)\n",
    "_df['count'] = np.concatenate([np.histogram(list(two_overlaps.values()), bins=bins)[0],np.histogram(list(three_overlaps.values()), bins=bins)[0],np.histogram(list(four_overlaps.values()), bins=bins)[0]])\n",
    "_df.head()"
   ]
  },
  {
   "cell_type": "code",
   "execution_count": null,
   "id": "c5ca1b15",
   "metadata": {},
   "outputs": [],
   "source": [
    "\n",
    "plt.figure(figsize=(12,8))\n",
    "sns.barplot(x=\"bin\", y=\"count\", hue=\"communities\", data=_df, palette=sns.color_palette('mako', n_colors=3));\n",
    "plt.xlabel('Overlap size', fontsize=18);\n",
    "plt.ylabel('Frequency', fontsize=18)\n",
    "plt.grid()\n",
    "plt.legend(title='Number of overlapping communities', fontsize=16, title_fontsize=16)\n",
    "plt.title(r'Community overlap sizes in ABCD-$o^2$ with $\\eta$='+str(ETA), fontsize=20);\n",
    "plt.savefig('abcdoo_overlap.png')\n"
   ]
  },
  {
   "cell_type": "markdown",
   "id": "caa7284c-3166-41ac-b6bb-78f639e5e3f5",
   "metadata": {},
   "source": [
    "## ABCD-oo varying the latent dimension\n"
   ]
  },
  {
   "cell_type": "code",
   "execution_count": null,
   "id": "10d7b78a-bfc8-413c-b45d-2eb2395c97f4",
   "metadata": {},
   "outputs": [],
   "source": [
    "from itertools import combinations\n",
    "from collections import defaultdict\n",
    "\n",
    "DIM = 1\n",
    "ETA = 1.5\n",
    "\n",
    "## Overlap sizes\n",
    "G = readGraph(xi=0.25, eta=ETA, rep=1, dim=DIM)\n",
    "C = [set(x) for x in G.vs['comms'] if x[0]!=0]\n",
    "two_overlaps = defaultdict(int)\n",
    "three_overlaps = defaultdict(int)\n",
    "four_overlaps = defaultdict(int)\n",
    "for com in C:\n",
    "    for k2 in combinations(com, 2):\n",
    "        two_overlaps[frozenset(k2)] += 1\n",
    "    for k3 in combinations(com, 3):\n",
    "        three_overlaps[frozenset(k3)] += 1\n",
    "    for k4 in combinations(com, 4):\n",
    "        four_overlaps[frozenset(k4)] += 1\n",
    "\n",
    "## bin the results\n",
    "_df = pd.DataFrame()\n",
    "bins = [1,2,4,8,16,32,64,128,256,9999]\n",
    "bin_labels = [str(bins[i]+1)+\"-\"+str(bins[i+1]) for i in range(len(bins)-1)]\n",
    "bin_labels[0] = \"1-2\"\n",
    "bin_labels[8] = '257+'\n",
    "_df['bin'] = np.tile(bin_labels, 3)\n",
    "_df['communities'] = np.repeat([2,3,4],9)\n",
    "_df['count'] = np.concatenate([np.histogram(list(two_overlaps.values()), bins=bins)[0],np.histogram(list(three_overlaps.values()), bins=bins)[0],np.histogram(list(four_overlaps.values()), bins=bins)[0]])\n",
    "_df.head()\n"
   ]
  },
  {
   "cell_type": "code",
   "execution_count": null,
   "id": "7550f811-4629-45a3-a562-86b129d09bde",
   "metadata": {},
   "outputs": [],
   "source": [
    "print(np.mean([len(x) for x in C]))\n",
    "Counter([len(x) for x in C])\n"
   ]
  },
  {
   "cell_type": "raw",
   "id": "c76e2a46-1de9-4cfc-ab44-1084c2c3e4f4",
   "metadata": {},
   "source": [
    "dim = 1: Counter({1: 5812, 2: 3002, 3: 936})\n",
    "dim = 2: Counter({1: 5445, 2: 3777, 3: 487, 4: 41})\n",
    "dim = 3: Counter({1: 5541, 2: 3563, 3: 628, 4: 17, 5: 1})\n",
    "dim = 4: Counter({1: 5847, 2: 3001, 3: 834, 4: 67, 5: 1})\n"
   ]
  },
  {
   "cell_type": "code",
   "execution_count": null,
   "id": "432a0cbf-88f7-45b6-a430-c49d53792d64",
   "metadata": {},
   "outputs": [],
   "source": [
    "\n",
    "plt.figure(figsize=(12,8))\n",
    "sns.barplot(x=\"bin\", y=\"count\", hue=\"communities\", data=_df, palette=sns.color_palette('mako', n_colors=3));\n",
    "plt.xlabel('Overlap size', fontsize=16);\n",
    "plt.ylabel('Frequency', fontsize=16)\n",
    "plt.grid()\n",
    "plt.legend(title='Number of overlapping communities', fontsize=13, title_fontsize=13)\n",
    "plt.title(r'Community overlap sizes in ABCD-$o^2$ with dim='+str(DIM)+' and $\\eta$='+str(ETA), fontsize=18);\n",
    "fn = 'abcdoo_overlap_dim_'+str(DIM)+'.png'\n",
    "plt.savefig(fn)\n"
   ]
  },
  {
   "cell_type": "markdown",
   "id": "2d77dd6f",
   "metadata": {},
   "source": [
    "# Density in large overlaps vs small/large communities"
   ]
  },
  {
   "cell_type": "code",
   "execution_count": 72,
   "id": "7c78c17f-b203-43fa-8fcf-84ad22632165",
   "metadata": {},
   "outputs": [],
   "source": [
    "## Read ABCD+oo graph\n",
    "def readOverlapGraph(xi=0.5, eta=1.5, rho=0.0, d=2):\n",
    "    fn = path+'overlap/networkfile_'+str(xi)+'_'+str(eta)+'_'+str(rho)+'_'+str(d)+'.txt'\n",
    "    Edges = pd.read_csv(fn, sep='\\t', header=None)-1\n",
    "    G = ig.Graph.DataFrame(Edges, directed=False)\n",
    "    ## read communities\n",
    "    fn = path+'overlap/communityfile_'+str(xi)+'_'+str(eta)+'_'+str(rho)+'_'+str(d)+'.txt'\n",
    "    L = []\n",
    "    with open(fn, \"r\") as infile:\n",
    "        for line in infile:\n",
    "            x = line.split('\\t')\n",
    "            L.append([int(y)-1 for y in x[1].rstrip()[1:-1].split(',')]) ## map to 0-based\n",
    "    G.vs['comms'] = L\n",
    "    G.vs['n_comms'] = [len(x) for x in G.vs['comms']]\n",
    "    return G\n"
   ]
  },
  {
   "cell_type": "code",
   "execution_count": 93,
   "id": "46988e44-016a-4ed9-beb0-c4bbf775efdf",
   "metadata": {},
   "outputs": [
    {
     "data": {
      "image/png": "[encoded data removed]",
      "text/plain": [
       "<Figure size 1200x800 with 4 Axes>"
      ]
     },
     "metadata": {},
     "output_type": "display_data"
    }
   ],
   "source": [
    "Rho = [0.0,0.2,0.4,0.6]\n",
    "plt.figure(figsize=(12,8))\n",
    "\n",
    "for ctr in range(len(Rho)):\n",
    "    \n",
    "    rho = Rho[ctr]\n",
    "    G = readOverlapGraph(xi=0.15, eta=1.5, rho=rho, d=2)\n",
    "    ## ignore outliers\n",
    "    C = [set(x) for x in G.vs['comms']]\n",
    "    Communities = mems2comms(C)[1:]\n",
    "    nc = len(Communities)\n",
    "    L = []\n",
    "    for i in range(nc-1):\n",
    "        for j in range(i+1,nc):\n",
    "            I = set(Communities[i]).intersection(set(Communities[j]))\n",
    "            if len(I)>=30:\n",
    "                sg = G.subgraph(I)\n",
    "                idt = 2*sg.ecount()/(sg.vcount()*(sg.vcount()-1))\n",
    "                inter = sg.vcount()\n",
    "                if len(Communities[i]) > len(Communities[j]):\n",
    "                    large = i\n",
    "                    small = j\n",
    "                else:\n",
    "                    large=j\n",
    "                    small=i\n",
    "                sg = G.subgraph(Communities[large])\n",
    "                ldt = 2*sg.ecount()/(sg.vcount()*(sg.vcount()-1))\n",
    "                sg = G.subgraph(Communities[small])\n",
    "                sdt = 2*sg.ecount()/(sg.vcount()*(sg.vcount()-1))\n",
    "                L.append([len(I),len(Communities[large]),len(Communities[small]),idt,ldt,sdt])\n",
    "    plt.subplot(2,2,ctr+1)\n",
    "    _df = pd.DataFrame(L, columns=['intersection','large','small','inter','larger_comm','smaller_comm'])\n",
    "    _df.boxplot(column=['inter','larger_comm','smaller_comm'], showfliers=False)\n",
    "    if ctr>1:\n",
    "        plt.xlabel('')\n",
    "    plt.title('d=2, rho ='+str(rho))\n",
    "plt.savefig('abcdoo_rho_d2.png')"
   ]
  },
  {
   "cell_type": "code",
   "execution_count": 94,
   "id": "4989aa74-6be6-422b-91be-cb5a7f94476b",
   "metadata": {},
   "outputs": [
    {
     "data": {
      "image/png": "[encoded data removed]",
      "text/plain": [
       "<Figure size 640x480 with 1 Axes>"
      ]
     },
     "metadata": {},
     "output_type": "display_data"
    }
   ],
   "source": [
    "_df.boxplot(column=['intersection','large','small'],showfliers=False)\n",
    "plt.yscale('log')\n",
    "plt.savefig('abcdoo_rho_d2_sizes.png')"
   ]
  },
  {
   "cell_type": "markdown",
   "id": "78eb7349-84a0-4a84-aa8b-ca302d6b9d59",
   "metadata": {},
   "source": [
    "## Only two communities - overlap\n"
   ]
  },
  {
   "cell_type": "code",
   "execution_count": 99,
   "id": "4b791da7-2f73-4a4f-a6a5-5f4608914e1a",
   "metadata": {},
   "outputs": [],
   "source": [
    "## Read ABCD+oo graph\n",
    "def readOverlapGraph2(xi=0.5, eta=1.5, rho=0.0, d=2):\n",
    "    fn = path+'twocomms/networkfile_'+str(xi)+'_'+str(eta)+'_'+str(rho)+'_'+str(d)+'.txt'\n",
    "    Edges = pd.read_csv(fn, sep='\\t', header=None)-1\n",
    "    G = ig.Graph.DataFrame(Edges, directed=False)\n",
    "    ## read communities\n",
    "    fn = path+'twocomms/communityfile_'+str(xi)+'_'+str(eta)+'_'+str(rho)+'_'+str(d)+'.txt'\n",
    "    L = []\n",
    "    with open(fn, \"r\") as infile:\n",
    "        for line in infile:\n",
    "            x = line.split('\\t')\n",
    "            L.append([int(y)-1 for y in x[1].rstrip()[1:-1].split(',')]) ## map to 0-based\n",
    "    G.vs['comms'] = L\n",
    "    G.vs['n_comms'] = [len(x) for x in G.vs['comms']]\n",
    "    return G\n"
   ]
  },
  {
   "cell_type": "code",
   "execution_count": 143,
   "id": "0e0eab19-9836-406c-baf8-eccbc6075431",
   "metadata": {},
   "outputs": [],
   "source": [
    "L=[]\n",
    "for d in [2,5,10]:\n",
    "    for rho in [0.0,0.2,0.4,0.6]:\n",
    "        G = readOverlapGraph2(xi=0.15, eta=1.2, rho=rho, d=d)\n",
    "        C = [set(x) for x in G.vs['comms']]\n",
    "        Communities = mems2comms(C)[1:]\n",
    "        I = set(Communities[0]).intersection(set(Communities[1]))\n",
    "        sg = G.subgraph(I)\n",
    "        idt = 2*sg.ecount()/(sg.vcount()*(sg.vcount()-1))\n",
    "        sg = G.subgraph(Communities[0])\n",
    "        ldt = 2*sg.ecount()/(sg.vcount()*(sg.vcount()-1))\n",
    "        sg = G.subgraph(Communities[1])\n",
    "        sdt = 2*sg.ecount()/(sg.vcount()*(sg.vcount()-1))\n",
    "        L.append([d,rho,idt,ldt,sdt])\n",
    "df = pd.DataFrame(L,columns=['d','rho','inter','C1','C2'])\n",
    "Gd = 2*G.ecount()/(G.vcount()*(G.vcount()-1))"
   ]
  },
  {
   "cell_type": "code",
   "execution_count": 146,
   "id": "efa4e652-7583-4c32-be63-86310ee5fe0b",
   "metadata": {},
   "outputs": [
    {
     "data": {
      "image/png": "[encoded data removed]",
      "text/plain": [
       "<Figure size 900x700 with 1 Axes>"
      ]
     },
     "metadata": {},
     "output_type": "display_data"
    }
   ],
   "source": [
    "cls = ['red','blue','orange']\n",
    "sty = ['-','--',':']\n",
    "D = [2,5,10]\n",
    "plt.figure(figsize=(9,7))\n",
    "for ctr in range(len(D)):\n",
    "    d = D[ctr]\n",
    "    _df = df[df.d==d]\n",
    "    plt.plot(_df.rho,_df.inter,label='intersection d='+str(d),color=cls[0],linestyle=sty[ctr])\n",
    "    plt.plot(_df.rho,_df.C1,label='C1 d='+str(d),color=cls[1],linestyle=sty[ctr])\n",
    "    plt.plot(_df.rho,_df.C2,label='C2 d='+str(d),color=cls[2],linestyle=sty[ctr])\n",
    "    plt.legend();\n",
    "plt.hlines(Gd,0,.6,color='grey')\n",
    "plt.ylabel('Density')\n",
    "plt.xlabel('Rho');\n"
   ]
  },
  {
   "cell_type": "code",
   "execution_count": null,
   "id": "87c9cfaa-934e-4a85-898c-d2e2595588f5",
   "metadata": {},
   "outputs": [],
   "source": []
  },
  {
   "cell_type": "code",
   "execution_count": null,
   "id": "cf81a23f-fc22-43d6-8b39-d9874bb5edf4",
   "metadata": {},
   "outputs": [],
   "source": []
  },
  {
   "cell_type": "code",
   "execution_count": null,
   "id": "d9033112",
   "metadata": {},
   "outputs": [],
   "source": [
    "def Jac(a,b):\n",
    "    return len(set(a).intersection(set(b))) / len(set(a).union(set(b)))\n",
    "## community intersections?\n",
    "n = G.vcount()\n",
    "d = np.array(G.degree())/sum(G.degree())\n",
    "L = []\n",
    "for i in range(nc-1):\n",
    "    for j in range(i+1,nc):\n",
    "        l1 = len(Communities[i])\n",
    "        l2 = len(Communities[j])\n",
    "        v1 = np.random.choice(n, l1, replace=False, p=d)\n",
    "        v2 = np.random.choice(n, l2, replace=False, p=d)\n",
    "        L.append([Jac(Communities[i],Communities[j]) , Jac(v1,v2)])\n",
    "df  = pd.DataFrame(L, columns=['abcdoo','random'])\n",
    "sns.violinplot([df.random[df.random>0],df.abcdoo[df.abcdoo>0]], log_scale=True)\n",
    "plt.title('Jaccard');        "
   ]
  },
  {
   "cell_type": "code",
   "execution_count": null,
   "id": "bc4f260b",
   "metadata": {},
   "outputs": [],
   "source": [
    "epsilon=.0001\n",
    "sns.violinplot([ df.random[df.abcdoo>0]+epsilon, df.abcdoo[df.abcdoo>0]+epsilon ], log_scale=True )\n",
    "plt.title('Jaccard');     \n"
   ]
  },
  {
   "cell_type": "code",
   "execution_count": null,
   "id": "3da6ddad-1864-4ecc-9e93-e7627f84c06b",
   "metadata": {},
   "outputs": [],
   "source": [
    "asfd"
   ]
  },
  {
   "cell_type": "markdown",
   "id": "a6795341",
   "metadata": {},
   "source": [
    "# WAW Figure - Values of NIEF for nodes in k communities\n",
    "\n",
    "To compare with DBLP\n"
   ]
  },
  {
   "cell_type": "code",
   "execution_count": null,
   "id": "3241775e",
   "metadata": {},
   "outputs": [],
   "source": [
    "G = readGraph(xi=0.15, eta=2.5, rep=1)\n",
    "G.vs['name'] = [str(i) for i in np.arange(G.vcount())]\n",
    "## GT community membership matrix\n",
    "X = np.repeat(np.arange(G.vcount(), dtype=int), G.vs['n_comms'])\n",
    "Y = np.array([i for j in G.vs['comms'] for i in j])\n",
    "n = len(X)\n",
    "M = sparse.csr_matrix( (np.repeat(1,n), (X,Y)), shape=(G.vcount(), max(Y)+1) )\n",
    "A = G.get_adjacency_sparse()\n",
    "## Compute CAS measures\n",
    "IEF, NIEF, C, Pv, DegPart = CAS(A, M, alpha=1)\n"
   ]
  },
  {
   "cell_type": "code",
   "execution_count": null,
   "id": "4e2c0875",
   "metadata": {},
   "outputs": [],
   "source": [
    "L = []\n",
    "for i in range(G.vcount()):\n",
    "    if G.vs[i]['n_comms'] == 3:\n",
    "        L.append(np.sort(np.array(NIEF[i].todense())[0])[-5:])\n",
    "df = pd.DataFrame(L, columns=[5,4,3,2,1])\n",
    "df.boxplot(column=[1,2,3,4,5], showfliers=False);"
   ]
  },
  {
   "cell_type": "code",
   "execution_count": null,
   "id": "bdb5689d",
   "metadata": {},
   "outputs": [],
   "source": [
    "for x in [1,2,3,4]:\n",
    "    L = []\n",
    "    for i in range(G.vcount()):\n",
    "        if G.vs[i]['n_comms'] == x:\n",
    "            L.append(np.sort(np.array(NIEF[i].todense())[0])[-5:][::-1])\n",
    "    df = pd.DataFrame(L, columns=['1','2','3','4','5'])\n",
    "    plt.plot(df.mean(),'o-',label=str(x))\n",
    "plt.grid()\n",
    "plt.legend(title='Number of communities')\n",
    "plt.xlabel('Rank', fontsize=13)\n",
    "plt.ylabel('Mean NIEF', fontsize=13)\n",
    "plt.title('ABCD-oo Graph', fontsize=14)\n",
    "#plt.show()\n",
    "#plt.savefig('abcdoo_rank.png')\n"
   ]
  },
  {
   "cell_type": "markdown",
   "id": "69f05078",
   "metadata": {},
   "source": [
    "## Power-law fit, community sizes"
   ]
  },
  {
   "cell_type": "code",
   "execution_count": null,
   "id": "bd2a413c",
   "metadata": {},
   "outputs": [],
   "source": [
    "import powerlaw\n",
    "S = []\n",
    "for eta in [1.0,1.5,2.0,2.5,3.0]:\n",
    "    for rep in [1,2,3,4,5,6,7,8,9,10]:\n",
    "        G = readGraph(xi=0.15, eta=eta, rep=rep)\n",
    "        S.extend([x[1] for x in Counter([i for j in G.vs['comms'] for i in j]).items()])\n"
   ]
  },
  {
   "cell_type": "code",
   "execution_count": null,
   "id": "90a9d54a",
   "metadata": {},
   "outputs": [],
   "source": [
    "## estimates for l' (xmin) and gamma (alpha)\n",
    "print(min(S),max(S))\n",
    "X = powerlaw.Fit(S)\n",
    "print(\"\\ngamma:\", X.power_law.alpha)\n",
    "print(\"l':\", X.power_law.xmin)\n",
    "print(\"KS statistic:\", X.power_law.D)\n"
   ]
  },
  {
   "cell_type": "code",
   "execution_count": null,
   "id": "5b419533",
   "metadata": {},
   "outputs": [],
   "source": [
    "## Starting from l'\n",
    "fig1 = X.power_law.plot_ccdf(color=\"black\", linestyle=\"-\")\n",
    "fig1 = X.plot_ccdf(ax=fig1, linewidth=2, color=\"gray\", original_data=False, linestyle=\":\")\n",
    "fig1.set_xlabel(\"size\", fontsize=13)\n",
    "fig1.set_ylabel(\"inverse cdf\", fontsize=13);"
   ]
  },
  {
   "cell_type": "markdown",
   "id": "a0d9cbc7",
   "metadata": {},
   "source": [
    "## (1) AMI vs dropped nodes, ABCD-oo with eta == 1\n",
    "\n",
    "* (1a) use different scores to rank the nodes (w.r.t. outlyingness), but final score w.r.t. Leiden partition\n",
    "* (1b) actually use the scores for ranking AND scoring\n"
   ]
  },
  {
   "cell_type": "raw",
   "id": "96adc6ca",
   "metadata": {
    "scrolled": false
   },
   "source": [
    "%%time\n",
    "## Scores - only dropping 'outliers'\n",
    "XIs = [.35,.4,.45,.5,.55,.575,.6,.625,.65]\n",
    "REP = 1\n",
    "L = []\n",
    "for i in range(len(XIs)):\n",
    "    xi = XIs[i]\n",
    "    print(xi)\n",
    "    for rep in range(REP):\n",
    "        g = readGraph(xi=xi, eta=1.0, rep=rep+1)\n",
    "        num_nodes = g.vcount()\n",
    "        A = g.get_adjacency_sparse()\n",
    "        g.vs['leiden'] = g.community_leiden(objective_function='modularity').membership\n",
    "        g.vs['gt'] = [x[0] for x in g.vs['comms']]\n",
    "        ## Compute Beta, C; M is the community membership matrix w.r.t. C and c_star \n",
    "        IEF, Beta, C, P, DegPart = CAS(A, partition2sparse(g.vs['leiden']))\n",
    "        g.vs['IEF'] = IEF.max(axis=1).toarray().flatten()\n",
    "        g.vs['beta'] = Beta.max(axis=1).toarray().flatten()\n",
    "        g.vs['C'] = C.max(axis=1).toarray().flatten()\n",
    "        g.vs['P'] = P.max(axis=1).toarray().flatten()\n",
    "\n",
    "        ## rank w.r.t. top score, AMI w.r.t. original partition\n",
    "        r = np.argsort(g.vs['IEF'])\n",
    "        for k in range(num_nodes//4):\n",
    "            L.append([xi, 'IEF', k, AMI( np.array(g.vs['leiden'])[r[k:]] , np.array(g.vs['gt'])[r[k:]] )])        \n",
    "        r = np.argsort(g.vs['beta'])\n",
    "        for k in range(num_nodes//4):\n",
    "            L.append([xi, 'beta', k, AMI( np.array(g.vs['leiden'])[r[k:]] , np.array(g.vs['gt'])[r[k:]] )])        \n",
    "        r = np.argsort(g.vs['C'])\n",
    "        for k in range(num_nodes//4):\n",
    "            L.append([xi, 'C', k, AMI( np.array(g.vs['leiden'])[r[k:]] , np.array(g.vs['gt'])[r[k:]] )])        \n",
    "        r = np.argsort(g.vs['P'])\n",
    "        for k in range(num_nodes//4):\n",
    "            L.append([xi, 'P', k, AMI( np.array(g.vs['leiden'])[r[k:]] , np.array(g.vs['gt'])[r[k:]] )])        \n",
    "\n",
    "df = pd.DataFrame(L, columns=['xi','algo','dropped','ami']) \n",
    "with open('Results/leiden_ranked.pkl','wb') as fp:\n",
    "    pickle.dump(df,fp)\n"
   ]
  },
  {
   "cell_type": "code",
   "execution_count": null,
   "id": "54653c0d",
   "metadata": {},
   "outputs": [],
   "source": [
    "with open('Results/leiden_ranked.pkl','rb') as fp:\n",
    "    df = pickle.load(fp)\n"
   ]
  },
  {
   "cell_type": "code",
   "execution_count": null,
   "id": "ea353c13",
   "metadata": {},
   "outputs": [],
   "source": [
    "XIs = [.35,.4,.45,.5,.55,.575,.6,.625,.65]\n",
    "plt.figure(figsize=(12,10))\n",
    "for i in range(len(XIs)):\n",
    "    xi = XIs[i]\n",
    "    plt.subplot(3,3,i+1)\n",
    "    D = df[df.xi==XIs[i]]\n",
    "    D = D.groupby(by=['dropped','algo'])['ami'].mean()\n",
    "    plt.plot(D.loc[:,'IEF'].index, D.loc[:,'IEF'], label='IEF')\n",
    "    plt.plot(D.loc[:,'beta'].index, D.loc[:,'beta'], label='Beta')\n",
    "    plt.plot(D.loc[:,'C'].index, D.loc[:,'C'], label='C')\n",
    "    plt.plot(D.loc[:,'P'].index, D.loc[:,'P'], label='p-value')\n",
    "    if i==0:\n",
    "        plt.legend()\n",
    "    if i>5:\n",
    "        plt.xlabel('Dropped nodes')\n",
    "    if i%3==0:\n",
    "        plt.ylabel('AMI');\n",
    "    plt.title(r'$\\xi$ ='+str(xi))\n",
    "#plt.savefig('AMI_leiden.png');\n"
   ]
  },
  {
   "cell_type": "raw",
   "id": "fc3b1fa1",
   "metadata": {
    "scrolled": false
   },
   "source": [
    "## Scores - using those\n",
    "L = []\n",
    "for i in range(len(XIs)):\n",
    "    xi = XIs[i]\n",
    "    print(xi)\n",
    "    for rep in range(REP):\n",
    "        g = readGraph(xi=xi, eta=1.0, rep=rep+1)\n",
    "        num_nodes = g.vcount()\n",
    "        A = g.get_adjacency_sparse()\n",
    "        g.vs['leiden'] = g.community_leiden(objective_function='modularity').membership\n",
    "        g.vs['gt'] = [x[0] for x in g.vs['comms']]\n",
    "        ## Compute Beta, C; M is the community membership matrix w.r.t. C and c_star \n",
    "        IEF, Beta, C, P, DegPart = CAS(A, partition2sparse(g.vs['leiden']))\n",
    "        g.vs['IEF'] = IEF.max(axis=1).toarray().flatten()\n",
    "        g.vs['IEF_top'] = np.array(IEF.argmax(axis=1)).flatten()\n",
    "        g.vs['beta'] = Beta.max(axis=1).toarray().flatten()\n",
    "        g.vs['beta_top'] = np.array(IEF.argmax(axis=1)).flatten()\n",
    "        g.vs['C'] = C.max(axis=1).toarray().flatten()\n",
    "        g.vs['C_top'] = np.array(IEF.argmax(axis=1)).flatten()\n",
    "        g.vs['P'] = P.max(axis=1).toarray().flatten()\n",
    "        g.vs['P_top'] = np.array(IEF.argmax(axis=1)).flatten()\n",
    "\n",
    "        ## rank w.r.t. top score, AMI w.r.t. original partition\n",
    "        r = np.argsort(g.vs['IEF'])\n",
    "        for k in range(num_nodes//4):\n",
    "            L.append([xi, 'IEF', k, AMI( np.array(g.vs['IEF_top'])[r[k:]] , np.array(g.vs['gt'])[r[k:]] )])        \n",
    "        r = np.argsort(g.vs['beta'])\n",
    "        for k in range(num_nodes//4):\n",
    "            L.append([xi, 'beta', k, AMI( np.array(g.vs['beta_top'])[r[k:]] , np.array(g.vs['gt'])[r[k:]] )])        \n",
    "        r = np.argsort(g.vs['C'])\n",
    "        for k in range(num_nodes//4):\n",
    "            L.append([xi, 'C', k, AMI( np.array(g.vs['C_top'])[r[k:]] , np.array(g.vs['gt'])[r[k:]] )])        \n",
    "        r = np.argsort(g.vs['P'])\n",
    "        for k in range(num_nodes//4):\n",
    "            L.append([xi, 'P', k, AMI( np.array(g.vs['P_top'])[r[k:]] , np.array(g.vs['gt'])[r[k:]] )])        \n",
    "df = pd.DataFrame(L, columns=['xi','algo','dropped','ami']) \n",
    "\n",
    "with open('Results/cas_ranked.pkl','wb') as fp:\n",
    "    pickle.dump(df,fp)\n"
   ]
  },
  {
   "cell_type": "code",
   "execution_count": null,
   "id": "accda869",
   "metadata": {},
   "outputs": [],
   "source": [
    "with open('Results/cas_ranked.pkl','rb') as fp:\n",
    "    df = pickle.load(fp)\n"
   ]
  },
  {
   "cell_type": "code",
   "execution_count": null,
   "id": "ad784203",
   "metadata": {},
   "outputs": [],
   "source": [
    "plt.figure(figsize=(12,10))\n",
    "for i in range(len(XIs)):\n",
    "    xi = XIs[i]\n",
    "    plt.subplot(3,3,i+1)\n",
    "    D = df[df.xi==XIs[i]]\n",
    "    D = D.groupby(by=['dropped','algo'])['ami'].mean()\n",
    "    plt.plot(D.loc[:,'IEF'].index, D.loc[:,'IEF'], label='IEF')\n",
    "    plt.plot(D.loc[:,'beta'].index, D.loc[:,'beta'], label='Beta')\n",
    "    plt.plot(D.loc[:,'C'].index, D.loc[:,'C'], label='C')\n",
    "    plt.plot(D.loc[:,'P'].index, D.loc[:,'P'], label='p-value')\n",
    "    if i==0:\n",
    "        plt.legend()\n",
    "    if i>5:\n",
    "        plt.xlabel('Dropped nodes')\n",
    "    if i%3==0:\n",
    "        plt.ylabel('AMI');\n",
    "    plt.title(r'$\\xi$ ='+str(xi))\n",
    "#plt.savefig('AMI_scores.png');\n"
   ]
  },
  {
   "cell_type": "markdown",
   "id": "7179ac47",
   "metadata": {},
   "source": [
    "## (2) TP vs FP, varying threshold"
   ]
  },
  {
   "cell_type": "code",
   "execution_count": null,
   "id": "f946c982",
   "metadata": {},
   "outputs": [],
   "source": [
    "%%time\n",
    "ETA = 1.0\n",
    "range_IEF = np.arange(.05,.501,.025)\n",
    "range_beta = np.arange(.05,.501,.025)\n",
    "range_C = np.arange(1,8.001,.25)\n",
    "range_P = np.arange(.90,1,.0025)\n",
    "XIs = [.35,.65]\n",
    "REP = 1\n",
    "L = []\n",
    "\n",
    "for xi in XIs:\n",
    "    g = readGraph(xi=xi, eta=ETA, rep=1)\n",
    "    g.vs['leiden'] = g.community_leiden(objective_function='modularity').membership\n",
    "    g.vs['gt'] = [x[0] for x in g.vs['comms']] ## pick the first; 0 == outlier\n",
    "    A = g.get_adjacency_sparse()\n",
    "    IEF, Beta, C, P, DegPart = CAS(A, partition2sparse(g.vs['leiden']))\n",
    "#     for th in range_IEF:\n",
    "#         M = score_to_memberships(IEF, DegPart, th)\n",
    "#         L.append(['IEF', xi, th, Counter(np.array(M.sum(axis=1)).flatten())[0], sum((np.array(M.sum(axis=1)).flatten() == 0) & (np.array(g.vs['gt']) == 0))])\n",
    "    for th in range_beta:\n",
    "        M = score_to_memberships(Beta, DegPart, th)\n",
    "        L.append(['Beta', xi, th, Counter(np.array(M.sum(axis=1)).flatten())[0], sum((np.array(M.sum(axis=1)).flatten() == 0) & (np.array(g.vs['gt']) == 0))])\n",
    "#     for th in range_C:\n",
    "#         M = score_to_memberships(C, DegPart, th)\n",
    "#         L.append(['C', xi, th, Counter(np.array(M.sum(axis=1)).flatten())[0], sum((np.array(M.sum(axis=1)).flatten() == 0) & (np.array(g.vs['gt']) == 0))])\n",
    "#     for th in range_P:\n",
    "#         M = score_to_memberships(P, DegPart, th)\n",
    "#         L.append(['P', xi, th, Counter(np.array(M.sum(axis=1)).flatten())[0], sum((np.array(M.sum(axis=1)).flatten() == 0) & (np.array(g.vs['gt']) == 0))])\n",
    "\n",
    "df = pd.DataFrame(L, columns=['score','xi','threshold','outliers','TP'])\n",
    "df['FP'] = df['outliers'] - df['TP']\n"
   ]
  },
  {
   "cell_type": "code",
   "execution_count": null,
   "id": "a42af92c",
   "metadata": {},
   "outputs": [],
   "source": [
    "_df = df[df.score == 'Beta']\n",
    "\n",
    "plt.figure(figsize=(12,10))\n",
    "\n",
    "for i in range(len(XIs)):\n",
    "    xi = XIs[i]\n",
    "    D = _df[_df.xi == xi]\n",
    "    plt.subplot(3,3,i+1)\n",
    "    plt.plot(D.threshold, D.TP, label='True Positives')\n",
    "    plt.plot(D.threshold, D.FP, label='False Positives')\n",
    "    plt.hlines(y=num_out, xmin=min(D.threshold), xmax=max(D.threshold), linestyles='dotted', color='grey')\n",
    "    plt.ylim((-10,1000))\n",
    "    if i==0:\n",
    "        plt.legend()\n",
    "    if i>5:\n",
    "        plt.xlabel('threshold')\n",
    "    if i%3==0:\n",
    "        plt.ylabel('Count');\n",
    "    plt.title(r'Outliers with $\\xi$ ='+str(xi)) \n",
    "#plt.savefig('abcdoo_TP_FP_Beta_eta_3_0.png');    \n"
   ]
  },
  {
   "cell_type": "markdown",
   "id": "1d583199",
   "metadata": {},
   "source": [
    "## More tests - as with DBLP\n"
   ]
  },
  {
   "cell_type": "code",
   "execution_count": null,
   "id": "b8f081f0",
   "metadata": {},
   "outputs": [],
   "source": [
    "XI = 0.35\n",
    "ETA = 1.5\n",
    "REP = 1\n",
    "\n",
    "G = readGraph(xi=XI, eta=ETA, rep=REP)\n",
    "G.vs['leiden'] = G.community_leiden(objective_function='modularity').membership\n",
    "G.vs['gt'] = [x[0] for x in G.vs['comms']] ## pick the first; 0 == outlier\n",
    "## Add community degrees to G (deg_A(v)'s)\n",
    "for v in G.vs:\n",
    "    ctr = Counter([i for x in v.neighbors() for i in x['comms']])\n",
    "    v['degrees'] = [ctr[i] if i in ctr.keys() else 0 for i in v['comms'] ]\n",
    "\n",
    "A = G.get_adjacency_sparse()\n",
    "IEF, Beta, C, Pv, DegPart = CAS(A, partition2sparse(G.vs['leiden']), alpha=1)"
   ]
  },
  {
   "cell_type": "code",
   "execution_count": null,
   "id": "1765a7e7",
   "metadata": {},
   "outputs": [],
   "source": [
    "## Thresholds below are somewhat arbitrary\n",
    "\n",
    "M = score_to_memberships(IEF, DegPart, threshold=.2)\n",
    "outliers = np.where(np.array(M.sum(axis=1).flatten().tolist()[0])==0)[0]\n",
    "print('IEF:')\n",
    "print('outliers found:',len(outliers))\n",
    "print('ground-truth outliers found:',sum([G.vs[i]['gt']==0 for i in outliers]))\n",
    "\n",
    "M = score_to_memberships(Beta, DegPart, threshold=.2)\n",
    "outliers = np.where(np.array(M.sum(axis=1).flatten().tolist()[0])==0)[0]\n",
    "print('\\nBeta score:')\n",
    "print('outliers found:',len(outliers))\n",
    "print('ground-truth outliers found:',sum([G.vs[i]['gt']==0 for i in outliers]))\n",
    "\n",
    "M = score_to_memberships(C, DegPart, threshold=3)\n",
    "outliers = np.where(np.array(M.sum(axis=1).flatten().tolist()[0])==0)[0]\n",
    "print('\\nC score:')\n",
    "print('outliers found:',len(outliers))\n",
    "print('ground-truth outliers found:',sum([G.vs[i]['gt']==0 for i in outliers]))\n",
    "\n",
    "M = score_to_memberships(Pv, DegPart, threshold=.95)\n",
    "outliers = np.where(np.array(M.sum(axis=1).flatten().tolist()[0])==0)[0]\n",
    "print('\\np-value score:')\n",
    "print('outliers found:',len(outliers))\n",
    "print('ground-truth outliers found:',sum([G.vs[i]['gt']==0 for i in outliers]))\n"
   ]
  },
  {
   "cell_type": "markdown",
   "id": "5b23de6d",
   "metadata": {},
   "source": [
    "## (3) Distributions - true communities vs all non-zeros\n",
    "\n",
    "Nodes in 3 communities\n",
    "\n",
    "* Input: membership (sparse) matrix M and (Sparse) adjacency A\n"
   ]
  },
  {
   "cell_type": "code",
   "execution_count": null,
   "id": "f125e7d7",
   "metadata": {},
   "outputs": [],
   "source": [
    "%%time\n",
    "plt.style.use('default')\n",
    "K = 3\n",
    "for xi in [0.5]:\n",
    "    for eta in [3.0]:\n",
    "        G = readGraph(xi=xi, eta=eta, rep=1)\n",
    "        G.vs['leiden'] = G.community_leiden(objective_function='modularity').membership\n",
    "        G.vs['gt'] = [x[0] for x in G.vs['comms']] ## pick the first; 0 == outlier\n",
    "\n",
    "        ## Add community degrees to G (deg_A(v)'s)\n",
    "        for v in G.vs:\n",
    "            ctr = Counter([i for x in v.neighbors() for i in x['comms']])\n",
    "            v['degrees'] = [ctr[i] if i in ctr.keys() else 0 for i in v['comms'] ]\n",
    "\n",
    "        ## GT community membership matrix\n",
    "        X = np.repeat(np.arange(G.vcount(), dtype=int), G.vs['n_comms'])\n",
    "        Y = np.array([i for j in G.vs['comms'] for i in j])\n",
    "        n = len(X)\n",
    "        M = sparse.csr_matrix( (np.repeat(1,n), (X,Y)), shape=(G.vcount(), max(Y)+1) )\n",
    "        A = G.get_adjacency_sparse()\n",
    "\n",
    "        ## Compute CAS measures\n",
    "        IEF, Beta, C, Pv, DegPart = CAS(A, M, alpha=1)\n",
    "        \n",
    "        ## compute average \n",
    "        V = np.array(G.vs['n_comms']) == K\n",
    "        GT = np.array([G.vs[v]['comms'] for v in np.where(V)])[0] \n",
    "        Degs = np.array([G.vs[v]['degrees'] for v in np.where(V)])[0]        \n",
    "\n",
    "        plt.figure(figsize=(12,10))\n",
    "        ## IEF\n",
    "        X = IEF[V]\n",
    "        L = []\n",
    "        for i in range(GT.shape[0]):\n",
    "            x = np.argsort(X[i].toarray()[0])[::-1]\n",
    "            L.append([np.where(x==GT[i][j])[0][0] for j in range(K) ])\n",
    "        df = pd.DataFrame(np.array(L)+1)\n",
    "        my_dict = {}\n",
    "        for j in [1,2,3,4,5,6,7,8]:\n",
    "            _df = df[np.min(Degs, axis=1) >= j]\n",
    "            x = _df.mean(axis=1)\n",
    "            my_dict[str(j)] = list(x)\n",
    "        plt.subplot(221)\n",
    "        plt.hlines((K+1)/2,0,7,linestyles='dotted')\n",
    "        ax = sns.boxplot([x for x in my_dict.values()], showfliers=False, );\n",
    "        ax.set_xticks(np.arange(8))\n",
    "        ax.grid(linestyle=':')\n",
    "        ax.set_xticklabels(my_dict.keys())\n",
    "        plt.ylabel('average rank for '+str(K)+' communities', fontsize=12);\n",
    "        plt.title('IEF', fontsize=14);\n",
    "\n",
    "        ## Beta\n",
    "        X = Beta[V]\n",
    "        L = []\n",
    "        for i in range(GT.shape[0]):\n",
    "            x = np.argsort(X[i].toarray()[0])[::-1]\n",
    "            L.append([np.where(x==GT[i][j])[0][0] for j in range(K) ])\n",
    "        df = pd.DataFrame(np.array(L)+1)\n",
    "        my_dict = {}\n",
    "        for j in [1,2,3,4,5,6,7,8]:\n",
    "            _df = df[np.min(Degs, axis=1) >= j]\n",
    "            x = _df.mean(axis=1)\n",
    "            my_dict[str(j)] = list(x)\n",
    "        plt.subplot(222)\n",
    "        plt.hlines((K+1)/2,0,7,linestyles='dotted')\n",
    "        ax = sns.boxplot([x for x in my_dict.values()], showfliers=False, );\n",
    "        ax.set_xticks(np.arange(8))\n",
    "        ax.grid(linestyle=':')\n",
    "        ax.set_xticklabels(my_dict.keys())\n",
    "        #plt.xlabel('min community degree at least');\n",
    "        #plt.ylabel('average rank for '+str(K)+' communities');\n",
    "        plt.title('Beta', fontsize=14);\n",
    "\n",
    "        ## C\n",
    "        X = C[V]\n",
    "        L = []\n",
    "        for i in range(GT.shape[0]):\n",
    "            x = np.argsort(X[i].toarray()[0])[::-1]\n",
    "            L.append([np.where(x==GT[i][j])[0][0] for j in range(K) ])\n",
    "        df = pd.DataFrame(np.array(L)+1)\n",
    "        my_dict = {}\n",
    "        for j in [1,2,3,4,5,6,7,8]:\n",
    "            _df = df[np.min(Degs, axis=1) >= j]\n",
    "            x = _df.mean(axis=1)\n",
    "            my_dict[str(j)] = list(x)\n",
    "        plt.subplot(223)\n",
    "        plt.hlines((K+1)/2,0,7,linestyles='dotted')\n",
    "        ax = sns.boxplot([x for x in my_dict.values()], showfliers=False, );\n",
    "        ax.set_xticks(np.arange(8))\n",
    "        ax.grid(linestyle=':')\n",
    "        ax.set_xticklabels(my_dict.keys())\n",
    "        plt.xlabel('Minimum in-community degree', fontsize=12);\n",
    "        plt.ylabel('average rank for '+str(K)+' communities', fontsize=12);\n",
    "        plt.title('C', fontsize=14);\n",
    "\n",
    "        ## Pv\n",
    "        X = Pv[V]\n",
    "        L = []\n",
    "        for i in range(GT.shape[0]):\n",
    "            x = np.argsort(X[i].toarray()[0])[::-1]\n",
    "            L.append([np.where(x==GT[i][j])[0][0] for j in range(K) ])\n",
    "        df = pd.DataFrame(np.array(L)+1)\n",
    "        my_dict = {}\n",
    "        for j in [1,2,3,4,5,6,7,8]:\n",
    "            _df = df[np.min(Degs, axis=1) >= j]\n",
    "            x = _df.mean(axis=1)\n",
    "            my_dict[str(j)] = list(x)\n",
    "        plt.subplot(224)\n",
    "        plt.hlines((K+1)/2,0,7,linestyles='dotted')\n",
    "        ax = sns.boxplot([x for x in my_dict.values()], showfliers=False, );\n",
    "        ax.set_xticks(np.arange(8))\n",
    "        ax.grid(linestyle=':')\n",
    "        ax.set_xticklabels(my_dict.keys())\n",
    "        plt.xlabel('Minimum in-community degree', fontsize=12);\n",
    "        #plt.ylabel('average rank for '+str(K)+' communities');\n",
    "        plt.title('p-values', fontsize=14);\n",
    "\n",
    "        ## save PNG\n",
    "        fn = 'abcdoo_'+str(xi)+'_'+str(eta)+'_'+str(K)+'.png'\n",
    "        #plt.savefig(fn)\n"
   ]
  },
  {
   "cell_type": "code",
   "execution_count": null,
   "id": "1e9d29b0",
   "metadata": {},
   "outputs": [],
   "source": [
    "score = []\n",
    "gt = []\n",
    "nc = []\n",
    "for ctr in np.arange(1,MAX+1):\n",
    "    V = np.array(G.vs['n_comms']) == ctr\n",
    "    for i in range(len(V)):\n",
    "        if V[i]:\n",
    "            x = IEF[i].toarray()[0]\n",
    "            y = np.array(G.vs[i]['comms'])\n",
    "            score.extend([x[i] for i in y])\n",
    "            gt.extend(np.repeat(True,len(y)))\n",
    "            score.extend(x[x>0])\n",
    "            gt.extend(np.repeat(False,sum(x>0)))\n",
    "            nc.extend(np.repeat(ctr,len(y)+sum(x>0)))\n",
    "D = pd.DataFrame( np.array([score,gt,nc]).transpose(), columns=['IEF','gt','number of communities'])\n",
    "D['number of communities'] = [int(x) for x in D['number of communities']]\n",
    "g = sns.boxplot(x='number of communities', y='IEF', hue='gt', data=D, \n",
    "                showfliers=False, legend='full')\n",
    "leg = g.axes.get_legend()\n",
    "leg.set_title('IEF scores')\n",
    "new_labels = ['all non-zero','ground-truth only']\n",
    "for t, l in zip(leg.texts, new_labels):\n",
    "    t.set_text(l)\n",
    "# fn = 'abcdoo_ied_0.5_3.0.png'\n",
    "# plt.savefig(fn);\n"
   ]
  },
  {
   "cell_type": "code",
   "execution_count": null,
   "id": "6d41697e",
   "metadata": {},
   "outputs": [],
   "source": [
    "score = []\n",
    "gt = []\n",
    "nc = []\n",
    "for ctr in np.arange(1,MAX+1):\n",
    "    V = np.array(G.vs['n_comms']) == ctr\n",
    "    for i in range(len(V)):\n",
    "        if V[i]:\n",
    "            x = Beta[i].toarray()[0]\n",
    "            y = np.array(G.vs[i]['comms'])\n",
    "            score.extend([x[i] for i in y])\n",
    "            gt.extend(np.repeat(True,len(y)))\n",
    "            score.extend(x[x>0])\n",
    "            gt.extend(np.repeat(False,sum(x>0)))\n",
    "            nc.extend(np.repeat(ctr,len(y)+sum(x>0)))\n",
    "D = pd.DataFrame( np.array([score,gt,nc]).transpose(), columns=['Beta','gt','number of communities'])\n",
    "D['number of communities'] = [int(x) for x in D['number of communities']]\n",
    "g = sns.boxplot(x='number of communities', y='Beta', hue='gt', data=D, \n",
    "                showfliers=False, legend='full')\n",
    "leg = g.axes.get_legend()\n",
    "leg.set_title('Beta scores')\n",
    "new_labels = ['all non-zero','ground-truth only']\n",
    "for t, l in zip(leg.texts, new_labels):\n",
    "    t.set_text(l)\n",
    "# fn = 'abcdoo_beta_0.5_3.0.png'\n",
    "# plt.savefig(fn);\n"
   ]
  },
  {
   "cell_type": "code",
   "execution_count": null,
   "id": "ebe1ec46",
   "metadata": {},
   "outputs": [],
   "source": [
    "score = []\n",
    "gt = []\n",
    "nc = []\n",
    "for ctr in np.arange(1,MAX+1):\n",
    "    V = np.array(G.vs['n_comms']) == ctr\n",
    "    for i in range(len(V)):\n",
    "        if V[i]:\n",
    "            x = C[i].toarray()[0]\n",
    "            y = np.array(G.vs[i]['comms'])\n",
    "            score.extend([x[i] for i in y])\n",
    "            gt.extend(np.repeat(True,len(y)))\n",
    "            score.extend(x[x>0])\n",
    "            gt.extend(np.repeat(False,sum(x>0)))\n",
    "            nc.extend(np.repeat(ctr,len(y)+sum(x>0)))\n",
    "D = pd.DataFrame( np.array([score,gt,nc]).transpose(), columns=['C','gt','number of communities'])\n",
    "D['number of communities'] = [int(x) for x in D['number of communities']]\n",
    "g = sns.boxplot(x='number of communities', y='C', hue='gt', data=D, \n",
    "                showfliers=False, legend='full')\n",
    "leg = g.axes.get_legend()\n",
    "leg.set_title('C scores')\n",
    "new_labels = ['all non-zero','ground-truth only']\n",
    "for t, l in zip(leg.texts, new_labels):\n",
    "    t.set_text(l)\n",
    "# fn = 'abcdoo_c_0.5_3.0.png'\n",
    "# plt.savefig(fn);\n"
   ]
  },
  {
   "cell_type": "code",
   "execution_count": null,
   "id": "176e28a2",
   "metadata": {},
   "outputs": [],
   "source": [
    "score = []\n",
    "gt = []\n",
    "nc = []\n",
    "for ctr in np.arange(1,MAX+1):\n",
    "    V = np.array(G.vs['n_comms']) == ctr\n",
    "    for i in range(len(V)):\n",
    "        if V[i]:\n",
    "            x = Pv[i].toarray()[0]\n",
    "            y = np.array(G.vs[i]['comms'])\n",
    "            score.extend([x[i] for i in y])\n",
    "            gt.extend(np.repeat(True,len(y)))\n",
    "            score.extend(x[x>0])\n",
    "            gt.extend(np.repeat(False,sum(x>0)))\n",
    "            nc.extend(np.repeat(ctr,len(y)+sum(x>0)))\n",
    "D = pd.DataFrame( np.array([score,gt,nc]).transpose(), columns=['P','gt','number of communities'])\n",
    "D['number of communities'] = [int(x) for x in D['number of communities']]\n",
    "g = sns.boxplot(x='number of communities', y='P', hue='gt', data=D, \n",
    "                showfliers=False, legend='full')\n",
    "leg = g.axes.get_legend()\n",
    "leg.set_title('P scores')\n",
    "new_labels = ['all non-zero','ground-truth only']\n",
    "for t, l in zip(leg.texts, new_labels):\n",
    "    t.set_text(l)\n",
    "plt.ylim(.5,1);\n",
    "# fn = 'abcdoo_p_0.5_3.0.png'\n",
    "# plt.savefig(fn);\n"
   ]
  },
  {
   "cell_type": "raw",
   "id": "61503fd5",
   "metadata": {},
   "source": [
    "stop()"
   ]
  },
  {
   "cell_type": "markdown",
   "id": "1af323cd",
   "metadata": {},
   "source": [
    "# Extras"
   ]
  },
  {
   "cell_type": "markdown",
   "id": "8ca0e8a4",
   "metadata": {},
   "source": [
    "## Testing Rising Tide Stuff"
   ]
  },
  {
   "cell_type": "code",
   "execution_count": null,
   "id": "36ae1d67",
   "metadata": {},
   "outputs": [],
   "source": [
    "G = readGraph(xi=0.4, eta=1.5, rep=1)\n",
    "A = G.get_adjacency_sparse()\n",
    "M = partition2sparse(G.community_leiden(objective_function='modularity').membership)\n",
    "IEF, Beta, C, Pv, DegPart = CAS(A,M)\n",
    "Counter(np.array(M.sum(axis=1)).flatten())\n"
   ]
  },
  {
   "cell_type": "code",
   "execution_count": null,
   "id": "48ae506a",
   "metadata": {},
   "outputs": [],
   "source": [
    "B = score_to_memberships(Beta, DegPart, threshold=.2, min_deg_in=2)\n",
    "Counter(np.array(B.sum(axis=1)).flatten())\n"
   ]
  },
  {
   "cell_type": "code",
   "execution_count": null,
   "id": "4680c42d",
   "metadata": {},
   "outputs": [],
   "source": [
    "Counter(G.vs['n_comms'] == np.array(B.sum(axis=1)).flatten())"
   ]
  },
  {
   "cell_type": "code",
   "execution_count": null,
   "id": "4f255d80",
   "metadata": {},
   "outputs": [],
   "source": [
    "RT = rising_tide(A, Beta, min_deg_in=2)\n",
    "Counter(np.array(RT.sum(axis=1)).flatten())\n"
   ]
  },
  {
   "cell_type": "code",
   "execution_count": null,
   "id": "eb110e2e",
   "metadata": {},
   "outputs": [],
   "source": [
    "Counter(G.vs['n_comms'] == np.array(RT.sum(axis=1)).flatten())"
   ]
  },
  {
   "cell_type": "code",
   "execution_count": null,
   "id": "3987cdcc",
   "metadata": {
    "scrolled": true
   },
   "outputs": [],
   "source": [
    "Counter(np.array(RT.sum(axis=1)).flatten())\n"
   ]
  },
  {
   "cell_type": "code",
   "execution_count": null,
   "id": "9c179bd1",
   "metadata": {},
   "outputs": [],
   "source": [
    "G.vs['gt'] = [x[0] for x in G.vs['comms']]"
   ]
  },
  {
   "cell_type": "code",
   "execution_count": null,
   "id": "6dbe4539",
   "metadata": {},
   "outputs": [],
   "source": [
    "AMI(G.vs['gt'], G.community_leiden(objective_function='modularity').membership)"
   ]
  },
  {
   "cell_type": "code",
   "execution_count": null,
   "id": "25dbd3b5",
   "metadata": {},
   "outputs": [],
   "source": [
    "AMI(G.vs['gt'], np.array(Beta.argmax(axis=1)).flatten())"
   ]
  },
  {
   "cell_type": "code",
   "execution_count": null,
   "id": "daa3fa72",
   "metadata": {},
   "outputs": [],
   "source": [
    "AMI(G.vs['gt'], np.array(RT.argmax(axis=1)).flatten())"
   ]
  },
  {
   "cell_type": "markdown",
   "id": "9c3f6cba",
   "metadata": {},
   "source": [
    "## Testing edges"
   ]
  },
  {
   "cell_type": "code",
   "execution_count": null,
   "id": "6904892a",
   "metadata": {},
   "outputs": [],
   "source": [
    "G = readGraph(xi=0.4, eta=1.5, rep=1)\n",
    "## GT community membership matrix\n",
    "X = np.repeat(np.arange(G.vcount(), dtype=int), G.vs['n_comms'])\n",
    "Y = np.array([i for j in G.vs['comms'] for i in j])\n",
    "n = len(X)\n",
    "M = sparse.csr_matrix( (np.repeat(1,n), (X,Y)), shape=(G.vcount(), max(Y)+1) )\n",
    "A = G.get_adjacency_sparse()\n",
    "\n",
    "## Compute CAS measures\n",
    "IEF, Beta, C, Pv, DegPart = CAS(A, M, alpha=1)\n"
   ]
  },
  {
   "cell_type": "code",
   "execution_count": null,
   "id": "f151c542",
   "metadata": {},
   "outputs": [],
   "source": [
    "## Add community degrees to G (deg_A(v)'s)\n",
    "for v in G.vs:\n",
    "    ctr = Counter([i for x in v.neighbors() for i in x['comms']])\n",
    "    v['degrees'] = [ctr[i] if i in ctr.keys() else 0 for i in v['comms'] ]\n",
    "## set outliers to 0\n",
    "b = np.where(np.array([x[0]==0 for x in G.vs['comms']]))[0]\n",
    "for i in b:\n",
    "    G.vs[i]['n_comms'] = 0\n",
    "    "
   ]
  },
  {
   "cell_type": "code",
   "execution_count": null,
   "id": "d4fd2859",
   "metadata": {},
   "outputs": [],
   "source": [
    "Score = []\n",
    "Inter = []\n",
    "for e in G.es:\n",
    "    Score.append(np.max(np.minimum(np.array(Beta[e.source].todense())[0], np.array(Beta[e.target].todense())[0])))\n",
    "    Inter.append(len(set(G.vs[e.source]['comms']).intersection(set(G.vs[e.target]['comms']))))\n"
   ]
  },
  {
   "cell_type": "code",
   "execution_count": null,
   "id": "0cc5ab24",
   "metadata": {},
   "outputs": [],
   "source": [
    "df = pd.DataFrame()\n",
    "df['Score'] = Score\n",
    "df['Intersection'] = Inter\n",
    "sns.boxplot(y='Score', x='Intersection', data=df)\n",
    "plt.grid();\n"
   ]
  },
  {
   "cell_type": "code",
   "execution_count": null,
   "id": "b87c8c45",
   "metadata": {},
   "outputs": [],
   "source": [
    "## Leiden\n",
    "M = partition2sparse(G.community_leiden(objective_function='modularity').membership)\n",
    "IEF, Beta, C, Pv, DegPart = CAS(A,M)\n"
   ]
  },
  {
   "cell_type": "code",
   "execution_count": null,
   "id": "ad9f2f22",
   "metadata": {},
   "outputs": [],
   "source": [
    "Score = []\n",
    "Inter = []\n",
    "for e in G.es:\n",
    "    Score.append(np.max(np.minimum(np.array(Beta[e.source].todense())[0], np.array(Beta[e.target].todense())[0])))\n",
    "    Inter.append(len(set(G.vs[e.source]['comms']).intersection(set(G.vs[e.target]['comms']))))\n"
   ]
  },
  {
   "cell_type": "code",
   "execution_count": null,
   "id": "788dea6b",
   "metadata": {},
   "outputs": [],
   "source": [
    "df = pd.DataFrame()\n",
    "df['Score'] = Score\n",
    "df['Intersection'] = Inter\n",
    "sns.boxplot(y='Score', x='Intersection', data=df)\n",
    "plt.grid();\n"
   ]
  },
  {
   "cell_type": "code",
   "execution_count": null,
   "id": "676fab65",
   "metadata": {},
   "outputs": [],
   "source": [
    "## drop edges\n",
    "E = np.where(np.array(Score)<.1)[0]\n",
    "G.delete_edges(E)"
   ]
  },
  {
   "cell_type": "code",
   "execution_count": null,
   "id": "f5d25bec",
   "metadata": {},
   "outputs": [],
   "source": [
    "G.vs['gt'] = [x[0] for x in G.vs['comms']]"
   ]
  },
  {
   "cell_type": "code",
   "execution_count": null,
   "id": "91895526",
   "metadata": {
    "scrolled": true
   },
   "outputs": [],
   "source": [
    "AMI(G.vs['gt'], G.community_leiden(objective_function='modularity').membership)"
   ]
  },
  {
   "cell_type": "code",
   "execution_count": null,
   "id": "1c5dc9b4",
   "metadata": {},
   "outputs": [],
   "source": [
    "Counter(G.vs['n_comms'])"
   ]
  },
  {
   "cell_type": "code",
   "execution_count": null,
   "id": "968b1dd3",
   "metadata": {},
   "outputs": [],
   "source": [
    "Counter(Inter)"
   ]
  },
  {
   "cell_type": "code",
   "execution_count": null,
   "id": "103dbb06",
   "metadata": {},
   "outputs": [],
   "source": []
  },
  {
   "cell_type": "markdown",
   "id": "898025ce",
   "metadata": {},
   "source": [
    "## Computing oNMI over a range of threshold values\n",
    "* This is starting from Leiden, drop it\n"
   ]
  },
  {
   "cell_type": "raw",
   "id": "a33d220a",
   "metadata": {
    "scrolled": false
   },
   "source": [
    "\n",
    "fn = 'Results/dfs_onmi.pkl'\n",
    "with open(fn,'rb') as fp:    \n",
    "    D, Leiden = pickle.load(fp)\n",
    "    \n",
    "TH = np.arange(10,331,10)/1000\n",
    "Lst = []\n",
    "rep = 1\n",
    "Ldn = []\n",
    "\n",
    "for eta in [1.0,1.5,2.0,2.5,3.0]:\n",
    "    for xi in [.35,.5,.65]:\n",
    "        for rep in [1,2,3,4,5,6,7,8,9,10]:\n",
    "            G = readGraph(xi, eta, rep) \n",
    "            GT = mem2comms(G.vs['comms'])[1:]  ## ignore \"outlier community\"\n",
    "            G.vs['leiden'] = G.community_leiden(objective_function='modularity').membership\n",
    "            Leiden = mem2comms([[j] for j in G.vs['leiden']])\n",
    "            ldn = compute_oNMI(GT, Leiden)\n",
    "            print(eta, xi, rep, 'Leiden:', ldn)\n",
    "            Ldn.append([eta,xi,ldn])\n",
    "            IEF, Beta, C, Pv, DegPart = CAS(G.get_adjacency_sparse(), partition2sparse(G.vs['leiden']))\n",
    "            for th1 in TH:\n",
    "                non_outliers = np.array((Beta >= th1).sum(axis=1)>0).flatten()\n",
    "                for th2 in TH:\n",
    "                    if th2 <= th1:\n",
    "                        L = []\n",
    "                        for i in range(Beta.shape[1]):\n",
    "                            x = np.where( (np.array(Beta[:,i].todense()).flatten() >= th2) & non_outliers)[0]\n",
    "                            if len(x)>0:\n",
    "                                L.append(list(x))\n",
    "                        Lst.append([eta, xi, th1, th2, G.vcount() - sum(non_outliers), compute_oNMI(GT,L), sum([len(x) for x in L]) / sum(non_outliers)])\n",
    "D = pd.DataFrame(Lst, columns=['eta', 'xi', 'th1', 'th2', 'outliers', 'oNMI','avg_membership'])\n",
    "Leiden = pd.DataFrame(Ldn, columns=['eta','xi','oNMI'])\n",
    "fn = 'dfs_onmi.pkl'\n",
    "with open(fn,'wb') as fp:\n",
    "    pickle.dump((D,Leiden),fp)\n",
    "D.head()\n",
    "\n",
    "D['clustered'] = (10000 - D.outliers)/10000\n",
    "D['harmonic'] = 2/(1/D['oNMI'] + 1/D['clustered'])\n",
    "\n",
    "\n",
    "\n",
    "for xi in [.35,.5,.65]:\n",
    "    for eta in [1.0,1.5,2.0,2.5,3.0]:\n",
    "\n",
    "        df = D[ (D.xi==xi) & (D.eta==eta) ]\n",
    "        Dm = df.groupby(by=['eta','xi','th1','th2'], as_index=False).mean()\n",
    "\n",
    "\n",
    "        fig, ax = plt.subplots(1, 3, figsize=(20, 8), gridspec_kw={'width_ratios': [.45, .1, .45]})\n",
    "\n",
    "        plt.subplot(1,3,1)\n",
    "        X = Dm.pivot_table(\n",
    "            index='th1',\n",
    "            columns='th2',\n",
    "            values='oNMI'\n",
    "        )\n",
    "        sns.heatmap(X, cmap='viridis')\n",
    "        plt.ylim(0,33)\n",
    "        plt.suptitle(r'$\\eta$ = '+str(eta)+r'  $\\xi$ ='+str(xi)+'  Leiden oNMI: '+str(Leiden[(Leiden.eta==eta) & (Leiden.xi==xi)].oNMI.iloc[0])[:6], fontsize=20)\n",
    "        plt.title('oNMI\\n'+'TOP:'+str(Dm.iloc[np.argmax(Dm.oNMI)]['oNMI'])[:6]+' outliers:'+str(int(np.round(Dm.iloc[np.argmax(Dm.oNMI)]['outliers']))), fontsize=14)\n",
    "        plt.ylabel('Outlier threshold', fontsize=14)\n",
    "        plt.xlabel('Community threshold', fontsize=14);\n",
    "\n",
    "        plt.subplot(1,3,2)\n",
    "        X = Dm.pivot_table(\n",
    "            index='th1',\n",
    "            columns='th2',\n",
    "            values='clustered'\n",
    "        )\n",
    "        sns.set(rc = {'figure.figsize':(8, 1)})\n",
    "        sns.heatmap(X, cmap='viridis', )\n",
    "        plt.ylim(0,33)\n",
    "        plt.xlim(.01,.02)\n",
    "        plt.title('Prop. clustered', fontsize=16)\n",
    "        plt.xlabel('')\n",
    "        plt.ylabel('')\n",
    "        plt.yticks([])\n",
    "\n",
    "        plt.subplot(1,3,3)\n",
    "        X = Dm.pivot_table(\n",
    "            index='th1',\n",
    "            columns='th2',\n",
    "            values='harmonic'\n",
    "        )\n",
    "        sns.heatmap(X, cmap='viridis')\n",
    "        plt.ylim(0,33)\n",
    "        plt.title('Harmonic mean\\n'+'TOP:'+str(Dm.iloc[np.argmax(Dm.harmonic)]['oNMI'])[:6]+' outliers:'+str(int(np.round(Dm.iloc[np.argmax(Dm.harmonic)]['outliers']))), fontsize=14)\n",
    "        plt.yticks([])\n",
    "        plt.xlabel('Community threshold', fontsize=14);\n",
    "        plt.ylabel('');\n",
    "\n",
    "        fn = 'abcdoo_thresholds_'+str(xi)+'_'+str(eta)+'.png'\n",
    "        plt.savefig(fn)\n",
    "\n"
   ]
  }
 ],
 "metadata": {
  "kernelspec": {
   "display_name": "complexnetworks",
   "language": "python",
   "name": "complexnetworks"
  },
  "language_info": {
   "codemirror_mode": {
    "name": "ipython",
    "version": 3
   },
   "file_extension": ".py",
   "mimetype": "text/x-python",
   "name": "python",
   "nbconvert_exporter": "python",
   "pygments_lexer": "ipython3",
   "version": "3.11.9"
  }
 },
 "nbformat": 4,
 "nbformat_minor": 5
}

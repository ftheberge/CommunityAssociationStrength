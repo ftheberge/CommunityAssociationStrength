{
 "cells": [
  {
   "cell_type": "markdown",
   "id": "34ac00db",
   "metadata": {},
   "source": [
    "# Goal\n",
    "\n",
    "Doing Francois-style experiments for simple combinations of features (so, not GBDT at all this time).\n",
    "\n",
    "Based on his notebook \"ABCDoo.ipynb\", and continuing from V2 of the notebooks with the same name."
   ]
  },
  {
   "cell_type": "code",
   "execution_count": 1,
   "id": "4a67825b",
   "metadata": {},
   "outputs": [],
   "source": [
    "import pickle\n",
    "import pandas as pd\n",
    "import igraph as ig\n",
    "from collections import Counter\n",
    "from matplotlib import pyplot as plt\n",
    "import numpy as np\n",
    "from CAS import *\n",
    "import copy\n",
    "from pathlib import Path\n",
    "import glob\n",
    "import utils\n",
    "import importlib\n",
    "importlib.reload(utils)\n",
    "from sklearn.ensemble import GradientBoostingClassifier\n",
    "from sklearn.model_selection import train_test_split\n",
    "import random\n",
    "import csv\n",
    "import subprocess\n",
    "import sys\n",
    "sys.path.append('../')\n",
    "from CAS import *\n",
    "from itertools import combinations\n",
    "import os"
   ]
  },
  {
   "cell_type": "markdown",
   "id": "fb919faa-c233-4714-aebc-6e702abf4dc6",
   "metadata": {},
   "source": [
    "# Helper functions"
   ]
  },
  {
   "cell_type": "code",
   "execution_count": 2,
   "id": "3449081f-937b-461d-bf67-01ff4a8433d4",
   "metadata": {},
   "outputs": [],
   "source": [
    "# Build a simple row classifier.\n",
    "\n",
    "def simple_classifier(x,thresh,weights = [1.0,0.1,0.1],high_deg = -1.0):\n",
    "    if x[12] > high_deg:\n",
    "        return 1.0*((weights[0]*x[3] + weights[1]*x[4] - weights[2]*x[5])>thresh)\n",
    "    else:\n",
    "        return 1.0*((weights[0]*x[0] + weights[1]*x[1] - weights[2]*x[2])>thresh)\n",
    "\n"
   ]
  },
  {
   "cell_type": "code",
   "execution_count": 3,
   "id": "50f24d17-e40e-4196-8a60-c88ac73e97ec",
   "metadata": {},
   "outputs": [],
   "source": [
    "#oNMI = '/Users/francois/Book/GraphMiningNotebooks/oNMI/onmi'          ## overlapping NMI executable\n",
    "oNMI = '/work/home/fcthebe/Tools/oNMI/onmi'          ## overlapping NMI executable\n",
    "\n",
    "## input format: \n",
    "def compute_oNMI(First, Second):\n",
    "    fn1 = '__'+str(random.random())[2:]\n",
    "    with open(fn1,\"w\") as f:\n",
    "        wr = csv.writer(f, delimiter=\" \")\n",
    "        wr.writerows(First)\n",
    "    f.close()   \n",
    "\n",
    "    fn2 = '__'+str(random.random())[2:]\n",
    "    with open(fn2,\"w\") as f:\n",
    "        wr = csv.writer(f, delimiter=\" \")\n",
    "        wr.writerows(Second)\n",
    "    f.close()   \n",
    "    x = float(subprocess.check_output([oNMI,fn1,fn2]).decode(\"utf-8\").split()[1])\n",
    "    _ = os.system('rm '+fn1)\n",
    "    _ = os.system('rm '+fn2)\n",
    "    return x"
   ]
  },
  {
   "cell_type": "markdown",
   "id": "21c99716-5586-4537-881d-22d6662845e1",
   "metadata": {},
   "source": [
    "# Standardize for feeding into algorithm\n",
    "\n",
    "For now: just running once. \n",
    "\n",
    "Soon: make a \"do_experiment\" function that loops"
   ]
  },
  {
   "cell_type": "code",
   "execution_count": 4,
   "id": "2a118f69-2391-4195-adb5-410dff69f902",
   "metadata": {},
   "outputs": [],
   "source": [
    "# Wrapper\n",
    "def run_expts(xis = [0.5], etas=[1.0,1.5], reps=[x for x in range(1,9)], path = '/data/ABCDoo/', weights = [[1.0,0.0,0.0],[1.0,0.1,0.1],[1.0,0.2,0.1]], threshes=[0.05,0.1,0.15,0.2,0.25], mean = True):\n",
    "    res = dict()\n",
    "    for xi in xis:\n",
    "        for eta in etas:\n",
    "            for i in range(len(weights)):\n",
    "                weight = weights[i]\n",
    "                for thresh in threshes:\n",
    "                    name = \"xi_\" + str(xi) + \"_eta_\" + str(eta) + \"_weightInd_\" + str(i) + \"_thresh_\" + str(thresh)\n",
    "                    temp = []\n",
    "                    for rep in reps:\n",
    "                        temp.append(run_expt(xi=xi, eta=eta,rep=rep,path=path,weight=weight,thresh=thresh))\n",
    "                    if mean:\n",
    "                        res[name] = np.mean(temp)\n",
    "                    else:\n",
    "                        res[name] = temp\n",
    "    return res\n",
    "\n"
   ]
  },
  {
   "cell_type": "code",
   "execution_count": 5,
   "id": "4922eb06-d47b-4d31-8092-bf2bfb6318e1",
   "metadata": {},
   "outputs": [],
   "source": [
    "def run_expt(xi,eta,rep,path,weight,thresh):\n",
    "    # Load data, create features\n",
    "\n",
    "    # Load graph, create ground-truth M matrix.\n",
    "    g = utils.readGraph(xi=xi, eta=eta, rep=rep, path = path)\n",
    "    GT = utils.mems2comms(g.vs['comms'])[1:]  ## ignore \"outlier community\"\n",
    "    GT = [[str(i) for i in x] for x in GT]\n",
    "    # Initial guess\n",
    "    L = g.community_leiden(objective_function='modularity').membership\n",
    "    M = partition2sparse(L)\n",
    "    A = g.get_adjacency_sparse()\n",
    "    ### Compute Beta and C scores; also get degrees w.r.t. initial partition\n",
    "    IEF, Beta, C, Pv, DegPart = CAS(A, M, alpha=1)\n",
    "    \n",
    "    # Features.\n",
    "    # Recall shape: (A) Loop through Scores, including (i) raw score, (ii) biggest other score, (iii) rank in that order. (B) Loop through global features (in this case, just degree).\n",
    "    features = utils.build_basic_features(A, [Beta,IEF,C,Pv], [DegPart])\n",
    "\n",
    "    # Get new community and process it\n",
    "    MHat_vec = np.apply_along_axis(simple_classifier, 1, features,**{\"thresh\":thresh, \"weights\":weight})\n",
    "    MHat = utils.contract_labels(MHat_vec,M.shape[0])\n",
    "    Labels_Hat = utils.mems2comms(utils.m2mems(MHat))\n",
    "    return compute_oNMI(GT,Labels_Hat)\n",
    "\n",
    "    "
   ]
  },
  {
   "cell_type": "code",
   "execution_count": 6,
   "id": "52b00134-a171-47a4-a788-a88afc9607ae",
   "metadata": {},
   "outputs": [
    {
     "name": "stdout",
     "output_type": "stream",
     "text": [
      "CPU times: user 28min 8s, sys: 7.37 s, total: 28min 16s\n",
      "Wall time: 28min 21s\n"
     ]
    }
   ],
   "source": [
    "%%time\n",
    "res = run_expts()"
   ]
  },
  {
   "cell_type": "code",
   "execution_count": 7,
   "id": "eec06939-a94c-4e70-bebd-7001fc645d1e",
   "metadata": {},
   "outputs": [
    {
     "data": {
      "text/plain": [
       "{'xi_0.5_eta_1.0_weightInd_0_thresh_0.05': 0.0525145625,\n",
       " 'xi_0.5_eta_1.0_weightInd_0_thresh_0.1': 0.5153425,\n",
       " 'xi_0.5_eta_1.0_weightInd_0_thresh_0.15': 0.671961375,\n",
       " 'xi_0.5_eta_1.0_weightInd_0_thresh_0.2': 0.9151613749999999,\n",
       " 'xi_0.5_eta_1.0_weightInd_0_thresh_0.25': 0.916790125,\n",
       " 'xi_0.5_eta_1.0_weightInd_1_thresh_0.05': 0.36774450000000003,\n",
       " 'xi_0.5_eta_1.0_weightInd_1_thresh_0.1': 0.671719875,\n",
       " 'xi_0.5_eta_1.0_weightInd_1_thresh_0.15': 0.85221625,\n",
       " 'xi_0.5_eta_1.0_weightInd_1_thresh_0.2': 0.9190851250000001,\n",
       " 'xi_0.5_eta_1.0_weightInd_1_thresh_0.25': 0.942109375,\n",
       " 'xi_0.5_eta_1.0_weightInd_2_thresh_0.05': 0.13507787500000001,\n",
       " 'xi_0.5_eta_1.0_weightInd_2_thresh_0.1': 0.44278874999999995,\n",
       " 'xi_0.5_eta_1.0_weightInd_2_thresh_0.15': 0.669571125,\n",
       " 'xi_0.5_eta_1.0_weightInd_2_thresh_0.2': 0.81602825,\n",
       " 'xi_0.5_eta_1.0_weightInd_2_thresh_0.25': 0.927467,\n",
       " 'xi_0.5_eta_1.5_weightInd_0_thresh_0.05': 0.05140375,\n",
       " 'xi_0.5_eta_1.5_weightInd_0_thresh_0.1': 0.25920325,\n",
       " 'xi_0.5_eta_1.5_weightInd_0_thresh_0.15': 0.281175875,\n",
       " 'xi_0.5_eta_1.5_weightInd_0_thresh_0.2': 0.3187755,\n",
       " 'xi_0.5_eta_1.5_weightInd_0_thresh_0.25': 0.299484875,\n",
       " 'xi_0.5_eta_1.5_weightInd_1_thresh_0.05': 0.212517375,\n",
       " 'xi_0.5_eta_1.5_weightInd_1_thresh_0.1': 0.280196375,\n",
       " 'xi_0.5_eta_1.5_weightInd_1_thresh_0.15': 0.31818325,\n",
       " 'xi_0.5_eta_1.5_weightInd_1_thresh_0.2': 0.305208125,\n",
       " 'xi_0.5_eta_1.5_weightInd_1_thresh_0.25': 0.31633675,\n",
       " 'xi_0.5_eta_1.5_weightInd_2_thresh_0.05': 0.11664246249999999,\n",
       " 'xi_0.5_eta_1.5_weightInd_2_thresh_0.1': 0.23481925,\n",
       " 'xi_0.5_eta_1.5_weightInd_2_thresh_0.15': 0.26603075,\n",
       " 'xi_0.5_eta_1.5_weightInd_2_thresh_0.2': 0.30899,\n",
       " 'xi_0.5_eta_1.5_weightInd_2_thresh_0.25': 0.30065850000000005}"
      ]
     },
     "execution_count": 7,
     "metadata": {},
     "output_type": "execute_result"
    }
   ],
   "source": [
    "res"
   ]
  },
  {
   "cell_type": "code",
   "execution_count": null,
   "id": "3e8bd11c-1d80-4ac6-8b56-90d008532061",
   "metadata": {},
   "outputs": [],
   "source": []
  }
 ],
 "metadata": {
  "kernelspec": {
   "display_name": "Python [conda env:.conda-frnacois]",
   "language": "python",
   "name": "conda-env-.conda-frnacois-py"
  },
  "language_info": {
   "codemirror_mode": {
    "name": "ipython",
    "version": 3
   },
   "file_extension": ".py",
   "mimetype": "text/x-python",
   "name": "python",
   "nbconvert_exporter": "python",
   "pygments_lexer": "ipython3",
   "version": "3.11.9"
  }
 },
 "nbformat": 4,
 "nbformat_minor": 5
}

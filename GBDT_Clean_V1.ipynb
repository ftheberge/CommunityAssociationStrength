{
 "cells": [
  {
   "cell_type": "markdown",
   "id": "34ac00db",
   "metadata": {},
   "source": [
    "# Goal\n",
    "\n",
    "I'm copy-pasting the notebook *GBDT_V1.ipynb* as it existed on 5 December 2024, and applying it to some multi-community graphs.\n",
    "\n",
    "See that notebook (or followups) for lists of ideas for improving this basic workflow."
   ]
  },
  {
   "cell_type": "code",
   "execution_count": 1,
   "id": "4a67825b",
   "metadata": {},
   "outputs": [],
   "source": [
    "import pickle\n",
    "import pandas as pd\n",
    "import igraph as ig\n",
    "from collections import Counter\n",
    "from matplotlib import pyplot as plt\n",
    "import numpy as np\n",
    "from CAS import *\n",
    "import copy\n",
    "from pathlib import Path\n",
    "import glob\n",
    "import utils\n",
    "import importlib\n",
    "importlib.reload(utils)\n",
    "from sklearn.ensemble import GradientBoostingClassifier\n",
    "from sklearn.model_selection import train_test_split"
   ]
  },
  {
   "cell_type": "markdown",
   "id": "fbcfe44f-f8f3-40b2-a823-3b341c39fd95",
   "metadata": {},
   "source": [
    "# Basic loading"
   ]
  },
  {
   "cell_type": "markdown",
   "id": "21c99716-5586-4537-881d-22d6662845e1",
   "metadata": {},
   "source": [
    "# Standardize for feeding into algorithm\n"
   ]
  },
  {
   "cell_type": "code",
   "execution_count": null,
   "id": "ba5ef966-7a67-4902-8b04-f959ee00e6fe",
   "metadata": {},
   "outputs": [
    {
     "name": "stdout",
     "output_type": "stream",
     "text": [
      "0.010048933393930828\n"
     ]
    },
    {
     "name": "stderr",
     "output_type": "stream",
     "text": [
      "/work/home/amsmith/.conda/envs/frnacois/lib/python3.11/site-packages/sklearn/preprocessing/_label.py:114: DataConversionWarning: A column-vector y was passed when a 1d array was expected. Please change the shape of y to (n_samples, ), for example using ravel().\n",
      "  y = column_or_1d(y, warn=True)\n"
     ]
    },
    {
     "data": {
      "text/plain": [
       "0.8969681884469698"
      ]
     },
     "metadata": {},
     "output_type": "display_data"
    },
    {
     "name": "stdout",
     "output_type": "stream",
     "text": [
      "0.02285278647290741\n"
     ]
    },
    {
     "name": "stderr",
     "output_type": "stream",
     "text": [
      "/work/home/amsmith/.conda/envs/frnacois/lib/python3.11/site-packages/sklearn/preprocessing/_label.py:114: DataConversionWarning: A column-vector y was passed when a 1d array was expected. Please change the shape of y to (n_samples, ), for example using ravel().\n",
      "  y = column_or_1d(y, warn=True)\n"
     ]
    },
    {
     "data": {
      "text/plain": [
       "0.8976357696007695"
      ]
     },
     "metadata": {},
     "output_type": "display_data"
    },
    {
     "name": "stdout",
     "output_type": "stream",
     "text": [
      "0.03237833768262587\n"
     ]
    },
    {
     "name": "stderr",
     "output_type": "stream",
     "text": [
      "/work/home/amsmith/.conda/envs/frnacois/lib/python3.11/site-packages/sklearn/preprocessing/_label.py:114: DataConversionWarning: A column-vector y was passed when a 1d array was expected. Please change the shape of y to (n_samples, ), for example using ravel().\n",
      "  y = column_or_1d(y, warn=True)\n"
     ]
    },
    {
     "data": {
      "text/plain": [
       "0.942370620436962"
      ]
     },
     "metadata": {},
     "output_type": "display_data"
    },
    {
     "name": "stdout",
     "output_type": "stream",
     "text": [
      "0.04708105336790288\n"
     ]
    },
    {
     "name": "stderr",
     "output_type": "stream",
     "text": [
      "/work/home/amsmith/.conda/envs/frnacois/lib/python3.11/site-packages/sklearn/preprocessing/_label.py:114: DataConversionWarning: A column-vector y was passed when a 1d array was expected. Please change the shape of y to (n_samples, ), for example using ravel().\n",
      "  y = column_or_1d(y, warn=True)\n"
     ]
    }
   ],
   "source": [
    "%%time\n",
    "for i in range(10):\n",
    "    clf = utils.fit_naive_threshold(fudge = 1.0*(i+1)/5)\n",
    "    display(np.mean(utils.test_naive_threshold(clf)))"
   ]
  }
 ],
 "metadata": {
  "kernelspec": {
   "display_name": "Python [conda env:.conda-frnacois]",
   "language": "python",
   "name": "conda-env-.conda-frnacois-py"
  },
  "language_info": {
   "codemirror_mode": {
    "name": "ipython",
    "version": 3
   },
   "file_extension": ".py",
   "mimetype": "text/x-python",
   "name": "python",
   "nbconvert_exporter": "python",
   "pygments_lexer": "ipython3",
   "version": "3.11.9"
  }
 },
 "nbformat": 4,
 "nbformat_minor": 5
}

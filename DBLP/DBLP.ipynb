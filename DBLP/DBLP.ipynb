{
 "cells": [
  {
   "cell_type": "code",
   "execution_count": 1,
   "id": "b41c323f",
   "metadata": {},
   "outputs": [],
   "source": [
    "import igraph as ig\n",
    "import pandas as pd\n",
    "import numpy as np\n",
    "from sklearn.metrics import adjusted_mutual_info_score as AMI\n",
    "import partition_igraph\n",
    "from matplotlib import pyplot as plt\n",
    "from collections import Counter\n",
    "import random\n",
    "import pickle\n",
    "import os\n",
    "from sklearn.metrics import roc_auc_score as AUC\n",
    "from sklearn.metrics import roc_curve\n",
    "from scipy.sparse import csr_matrix\n",
    "import scipy.sparse as sparse \n",
    "import time\n",
    "from statistics import mode\n",
    "import seaborn as sns\n",
    "import omega_index\n",
    "\n",
    "import sys\n",
    "sys.path.append('../')\n",
    "from CAS import *"
   ]
  },
  {
   "cell_type": "markdown",
   "id": "f1da2c46",
   "metadata": {},
   "source": [
    "# DBLP graph\n",
    "\n",
    "* We load this dataset built from SNAP from a local pickle file with two components:\n",
    "  * List of edges\n",
    "  * List of communities\n",
    "\n",
    "* Build igraph object 'G'"
   ]
  },
  {
   "cell_type": "code",
   "execution_count": 2,
   "id": "feda9594",
   "metadata": {},
   "outputs": [
    {
     "name": "stdout",
     "output_type": "stream",
     "text": [
      "number of GT communities: 13477\n",
      "most common community sizes:\n",
      "[(6, 3680), (7, 2195), (8, 1461), (9, 1005), (10, 747), (11, 564), (12, 391), (13, 310), (14, 244), (16, 204)]\n",
      "\n",
      "number of edges: 1049866\n",
      "number of nodes: 317080 \n",
      "\n",
      "Number of memberships (most frequent):\n",
      "[(1, 150192), (0, 56082), (2, 43279), (3, 20163), (4, 11770), (5, 7909), (6, 5513), (7, 3915), (8, 3011), (9, 2332)] \n",
      "\n"
     ]
    }
   ],
   "source": [
    "## read data\n",
    "with open('../Datasets/DBLPFull.pkl', 'rb') as handle:\n",
    "    b = pickle.load(handle)\n",
    "Communities = b[\"Community lists\"][:-1]\n",
    "Edges = b['edges'][:-1]\n",
    "\n",
    "# number of comms\n",
    "print('number of GT communities:',len(Communities))\n",
    "\n",
    "# community sizes\n",
    "print('most common community sizes:')\n",
    "print(Counter([len(x) for x in Communities]).most_common(10))\n",
    "\n",
    "# number of edges\n",
    "print('\\nnumber of edges:',len(Edges))\n",
    "G = ig.Graph.TupleList([tuple(e) for e in Edges])\n",
    "\n",
    "# Dictionary: node name to node id\n",
    "v_dct = {j:i for i,j in enumerate(G.vs['name'])}\n",
    "print('number of nodes:',G.vcount(),'\\n')\n",
    "\n",
    "# store all communities for each node\n",
    "for v in G.vs:\n",
    "    v['comms'] = []\n",
    "## append communities in 1-based format (we keep 0 for the outliers - no communities)\n",
    "for i in range(len(Communities)):\n",
    "    for v in Communities[i]:\n",
    "        G.vs[v_dct[v]]['comms'].append(i+1)\n",
    "G.vs['n_comms'] = [len(x) for x in G.vs['comms']]\n",
    "print('Number of memberships (most frequent):')\n",
    "print(Counter(G.vs['n_comms']).most_common(10), '\\n')\n",
    "\n",
    "## Add community degrees to G (deg_A(v)'s)\n",
    "for v in G.vs:\n",
    "    ctr = Counter([i for x in v.neighbors() for i in x['comms']])\n",
    "    v['degrees'] = [ctr[i] if i in ctr.keys() else 0 for i in v['comms'] ]\n",
    "\n",
    "## Add pseudo single community ground truth: pick community with highest dev_A(v) for each v\n",
    "G.vs['gt'] = [v['comms'][np.argmax(v['degrees'])] if len(v['degrees'])>0 else 0 for v in G.vs]\n"
   ]
  },
  {
   "cell_type": "code",
   "execution_count": 3,
   "id": "1ab24cdf",
   "metadata": {},
   "outputs": [
    {
     "data": {
      "text/plain": [
       "2.7579521682158483"
      ]
     },
     "execution_count": 3,
     "metadata": {},
     "output_type": "execute_result"
    }
   ],
   "source": [
    "## eta\n",
    "np.mean([x for x in G.vs['n_comms'] if x>0])"
   ]
  },
  {
   "cell_type": "code",
   "execution_count": 4,
   "id": "9db7686c",
   "metadata": {},
   "outputs": [
    {
     "data": {
      "image/svg+xml": [
       "<?xml version=\"1.0\" encoding=\"UTF-8\"?>\n",
       "<svg xmlns=\"http://www.w3.org/2000/svg\" xmlns:xlink=\"http://www.w3.org/1999/xlink\" width=\"200pt\" height=\"200pt\" viewBox=\"0 0 200 200\" version=\"1.1\">\n",
       "<g id=\"surface2\">\n",
       "<rect x=\"0\" y=\"0\" width=\"200\" height=\"200\" style=\"fill:rgb(100%,100%,100%);fill-opacity:1;stroke:none;\"/>\n",
       "<path style=\"fill:none;stroke-width:1;stroke-linecap:butt;stroke-linejoin:miter;stroke:rgb(26.666667%,26.666667%,26.666667%);stroke-opacity:1;stroke-miterlimit:10;\" d=\"M 100.542969 151.394531 L 35.320312 180 \"/>\n",
       "<path style=\"fill:none;stroke-width:1;stroke-linecap:butt;stroke-linejoin:miter;stroke:rgb(26.666667%,26.666667%,26.666667%);stroke-opacity:1;stroke-miterlimit:10;\" d=\"M 100.542969 151.394531 L 20 96.640625 \"/>\n",
       "<path style=\"fill:none;stroke-width:1;stroke-linecap:butt;stroke-linejoin:miter;stroke:rgb(26.666667%,26.666667%,26.666667%);stroke-opacity:1;stroke-miterlimit:10;\" d=\"M 35.320312 180 L 20 96.640625 \"/>\n",
       "<path style=\"fill:none;stroke-width:1;stroke-linecap:butt;stroke-linejoin:miter;stroke:rgb(26.666667%,26.666667%,26.666667%);stroke-opacity:1;stroke-miterlimit:10;\" d=\"M 180 20 L 122.574219 97.539062 \"/>\n",
       "<path style=\"fill:none;stroke-width:1;stroke-linecap:butt;stroke-linejoin:miter;stroke:rgb(26.666667%,26.666667%,26.666667%);stroke-opacity:1;stroke-miterlimit:10;\" d=\"M 100.542969 151.394531 L 122.574219 97.539062 \"/>\n",
       "<path style=\"fill:none;stroke-width:1;stroke-linecap:butt;stroke-linejoin:miter;stroke:rgb(26.666667%,26.666667%,26.666667%);stroke-opacity:1;stroke-miterlimit:10;\" d=\"M 35.320312 180 L 122.574219 97.539062 \"/>\n",
       "<path style=\"fill:none;stroke-width:1;stroke-linecap:butt;stroke-linejoin:miter;stroke:rgb(26.666667%,26.666667%,26.666667%);stroke-opacity:1;stroke-miterlimit:10;\" d=\"M 20 96.640625 L 122.574219 97.539062 \"/>\n",
       "<path style=\"fill:none;stroke-width:1;stroke-linecap:butt;stroke-linejoin:miter;stroke:rgb(26.666667%,26.666667%,26.666667%);stroke-opacity:1;stroke-miterlimit:10;\" d=\"M 180 20 L 84.09375 34.730469 \"/>\n",
       "<path style=\"fill:none;stroke-width:1;stroke-linecap:butt;stroke-linejoin:miter;stroke:rgb(26.666667%,26.666667%,26.666667%);stroke-opacity:1;stroke-miterlimit:10;\" d=\"M 100.542969 151.394531 L 84.09375 34.730469 \"/>\n",
       "<path style=\"fill:none;stroke-width:1;stroke-linecap:butt;stroke-linejoin:miter;stroke:rgb(26.666667%,26.666667%,26.666667%);stroke-opacity:1;stroke-miterlimit:10;\" d=\"M 20 96.640625 L 84.09375 34.730469 \"/>\n",
       "<path style=\"fill:none;stroke-width:1;stroke-linecap:butt;stroke-linejoin:miter;stroke:rgb(26.666667%,26.666667%,26.666667%);stroke-opacity:1;stroke-miterlimit:10;\" d=\"M 122.574219 97.539062 L 84.09375 34.730469 \"/>\n",
       "<path style=\"fill-rule:nonzero;fill:rgb(100%,0%,0%);fill-opacity:1;stroke-width:1;stroke-linecap:butt;stroke-linejoin:miter;stroke:rgb(0%,0%,0%);stroke-opacity:1;stroke-miterlimit:10;\" d=\"M 190 20 C 190 25.523438 185.523438 30 180 30 C 174.476562 30 170 25.523438 170 20 C 170 14.476562 174.476562 10 180 10 C 185.523438 10 190 14.476562 190 20 \"/>\n",
       "<path style=\"fill-rule:nonzero;fill:rgb(100%,0%,0%);fill-opacity:1;stroke-width:1;stroke-linecap:butt;stroke-linejoin:miter;stroke:rgb(0%,0%,0%);stroke-opacity:1;stroke-miterlimit:10;\" d=\"M 110.542969 151.394531 C 110.542969 156.917969 106.066406 161.394531 100.542969 161.394531 C 95.023438 161.394531 90.542969 156.917969 90.542969 151.394531 C 90.542969 145.871094 95.023438 141.394531 100.542969 141.394531 C 106.066406 141.394531 110.542969 145.871094 110.542969 151.394531 \"/>\n",
       "<path style=\"fill-rule:nonzero;fill:rgb(100%,0%,0%);fill-opacity:1;stroke-width:1;stroke-linecap:butt;stroke-linejoin:miter;stroke:rgb(0%,0%,0%);stroke-opacity:1;stroke-miterlimit:10;\" d=\"M 45.320312 180 C 45.320312 185.523438 40.84375 190 35.320312 190 C 29.800781 190 25.320312 185.523438 25.320312 180 C 25.320312 174.476562 29.800781 170 35.320312 170 C 40.84375 170 45.320312 174.476562 45.320312 180 \"/>\n",
       "<path style=\"fill-rule:nonzero;fill:rgb(100%,0%,0%);fill-opacity:1;stroke-width:1;stroke-linecap:butt;stroke-linejoin:miter;stroke:rgb(0%,0%,0%);stroke-opacity:1;stroke-miterlimit:10;\" d=\"M 30 96.640625 C 30 102.164062 25.523438 106.640625 20 106.640625 C 14.476562 106.640625 10 102.164062 10 96.640625 C 10 91.117188 14.476562 86.640625 20 86.640625 C 25.523438 86.640625 30 91.117188 30 96.640625 \"/>\n",
       "<path style=\"fill-rule:nonzero;fill:rgb(100%,0%,0%);fill-opacity:1;stroke-width:1;stroke-linecap:butt;stroke-linejoin:miter;stroke:rgb(0%,0%,0%);stroke-opacity:1;stroke-miterlimit:10;\" d=\"M 132.574219 97.539062 C 132.574219 103.0625 128.097656 107.539062 122.574219 107.539062 C 117.050781 107.539062 112.574219 103.0625 112.574219 97.539062 C 112.574219 92.015625 117.050781 87.539062 122.574219 87.539062 C 128.097656 87.539062 132.574219 92.015625 132.574219 97.539062 \"/>\n",
       "<path style=\"fill-rule:nonzero;fill:rgb(100%,0%,0%);fill-opacity:1;stroke-width:1;stroke-linecap:butt;stroke-linejoin:miter;stroke:rgb(0%,0%,0%);stroke-opacity:1;stroke-miterlimit:10;\" d=\"M 94.09375 34.730469 C 94.09375 40.253906 89.617188 44.730469 84.09375 44.730469 C 78.570312 44.730469 74.09375 40.253906 74.09375 34.730469 C 74.09375 29.207031 78.570312 24.730469 84.09375 24.730469 C 89.617188 24.730469 94.09375 29.207031 94.09375 34.730469 \"/>\n",
       "</g>\n",
       "</svg>\n"
      ],
      "text/plain": [
       "<igraph.drawing.cairo.plot.CairoPlot at 0x7f6b40029ad0>"
      ]
     },
     "execution_count": 4,
     "metadata": {
      "image/svg+xml": {
       "isolated": true
      }
     },
     "output_type": "execute_result"
    }
   ],
   "source": [
    "## Example of a community\n",
    "V = [v_dct[x] for x in Communities[7]]\n",
    "SG = G.subgraph(V)\n",
    "ig.plot(SG, bbox=(200,200))\n"
   ]
  },
  {
   "cell_type": "code",
   "execution_count": 5,
   "id": "abfec1e0",
   "metadata": {
    "scrolled": false
   },
   "outputs": [
    {
     "name": "stdout",
     "output_type": "stream",
     "text": [
      "xi_hat = 0.1088738943827117\n"
     ]
    }
   ],
   "source": [
    "## Compute the external edge fraction given communities for each node\n",
    "C = Counter([len(set(G.vs[e.source]['comms']).intersection(set(G.vs[e.target]['comms'])))>0 for e in G.es])\n",
    "print('xi_hat =',C[0]/(C[0]+C[1]))\n"
   ]
  },
  {
   "cell_type": "code",
   "execution_count": 6,
   "id": "43b073d2",
   "metadata": {},
   "outputs": [
    {
     "data": {
      "image/png": "[encoded data removed]",
      "text/plain": [
       "<Figure size 1200x800 with 1 Axes>"
      ]
     },
     "metadata": {},
     "output_type": "display_data"
    }
   ],
   "source": [
    "## community memberships\n",
    "C = Counter(G.vs['n_comms'])\n",
    "M = 6\n",
    "m = max(C)\n",
    "A = np.zeros(M)\n",
    "for j in range(m):\n",
    "    if j<M-1:\n",
    "        A[j] = C[j+1]\n",
    "    else:\n",
    "        A[M-1] += C[j+1] \n",
    "            \n",
    "df = pd.DataFrame()\n",
    "df['memberships'] = [str(x) if x<M else str(M)+'+' for x in (np.arange(M)+1)]\n",
    "#df['eta'] = np.repeat(ETA, M)\n",
    "df['proportion'] = A/sum(A)\n",
    "df.head()\n",
    "\n",
    "\n",
    "plt.figure(figsize=(12,8))\n",
    "sns.barplot(x=\"memberships\", y=\"proportion\", data=df);\n",
    "plt.xlabel('Number of communities', fontsize=14);\n",
    "plt.ylabel('Proportion', fontsize=14)\n",
    "plt.grid()\n",
    "#plt.legend(title=r'Value of $\\eta$')\n",
    "plt.title('DBLP graph', fontsize=16);\n",
    "plt.savefig('dblp_eta.png')\n"
   ]
  },
  {
   "cell_type": "code",
   "execution_count": null,
   "id": "120a8a02",
   "metadata": {},
   "outputs": [],
   "source": [
    "max([len(x) for x in Communities])"
   ]
  },
  {
   "cell_type": "code",
   "execution_count": null,
   "id": "20267325",
   "metadata": {
    "scrolled": false
   },
   "outputs": [],
   "source": [
    "## community size\n",
    "C = Counter([len(x) for x in Communities])\n",
    "plt.loglog(C.keys(),C.values(), '.');\n"
   ]
  },
  {
   "cell_type": "code",
   "execution_count": null,
   "id": "60dfd20f",
   "metadata": {},
   "outputs": [],
   "source": [
    " len([len(x) for x in Communities if len(x)<=10]) / len(Communities)"
   ]
  },
  {
   "cell_type": "code",
   "execution_count": null,
   "id": "2ff32b0f",
   "metadata": {
    "scrolled": false
   },
   "outputs": [],
   "source": [
    "## community size\n",
    "C = Counter([len(x) for x in Communities if len(x)<=500])\n",
    "plt.loglog(C.keys(),C.values(), '.');\n"
   ]
  },
  {
   "cell_type": "code",
   "execution_count": null,
   "id": "1150f435",
   "metadata": {},
   "outputs": [],
   "source": [
    "import powerlaw\n",
    "## estimates for l' (xmin) and gamma (alpha)\n",
    "deg = [len(x) for x in Communities if len(x)<=500000]\n",
    "X = powerlaw.Fit(deg)\n",
    "print(\"\\ngamma:\", X.power_law.alpha)\n",
    "print(\"l':\", X.power_law.xmin)\n",
    "print(\"KS statistic:\", X.power_law.D)\n"
   ]
  },
  {
   "cell_type": "code",
   "execution_count": null,
   "id": "7f14fef6",
   "metadata": {},
   "outputs": [],
   "source": [
    "## Starting from l'\n",
    "fig1 = X.power_law.plot_ccdf(color=\"black\", linestyle=\"-\")\n",
    "fig1 = X.plot_ccdf(ax=fig1, linewidth=2, color=\"gray\", original_data=False, linestyle=\":\")\n",
    "fig1.set_xlabel(\"size\", fontsize=13)\n",
    "fig1.set_ylabel(\"inverse cdf\", fontsize=13);"
   ]
  },
  {
   "cell_type": "code",
   "execution_count": null,
   "id": "f92246c4",
   "metadata": {
    "scrolled": false
   },
   "outputs": [],
   "source": [
    "## community intersections?\n",
    "\n",
    "## (1) sample at random from all communities\n",
    "l = len(Communities)\n",
    "L = []\n",
    "n = G.vcount()\n",
    "d = np.array(G.degree())/sum(G.degree())\n",
    "for i in range(100000):\n",
    "    r = np.random.choice(l, 2, replace=False)\n",
    "    l1 = len(Communities[r[0]])\n",
    "    l2 = len(Communities[r[1]])\n",
    "    v1 = set(np.random.choice(n, l1, replace=False, p=d))\n",
    "    v2 = set(np.random.choice(n, l2, replace=False, p=d))\n",
    "    L.append([l1, l2, len(set(Communities[r[0]]).intersection(set(Communities[r[1]]))), len(v1.intersection(v2))])\n"
   ]
  },
  {
   "cell_type": "code",
   "execution_count": null,
   "id": "2e4c00ac",
   "metadata": {
    "scrolled": false
   },
   "outputs": [],
   "source": [
    "df  = pd.DataFrame(L, columns=['s1','s2','dblp','random'])\n",
    "print(sum(df.dblp > df.random) , sum(df.dblp < df.random))\n"
   ]
  },
  {
   "cell_type": "code",
   "execution_count": null,
   "id": "463ee669",
   "metadata": {},
   "outputs": [],
   "source": [
    "X = df.dblp - df.random\n",
    "sum([x for x in X if x!=0])"
   ]
  },
  {
   "cell_type": "code",
   "execution_count": null,
   "id": "6a4331ce",
   "metadata": {
    "scrolled": true
   },
   "outputs": [],
   "source": [
    "df.sum()"
   ]
  },
  {
   "cell_type": "code",
   "execution_count": null,
   "id": "2ebb8f51",
   "metadata": {},
   "outputs": [],
   "source": [
    "sns.violinplot([df.random[df.random>0],df.dblp[df.dblp>0]], log_scale=True)\n"
   ]
  },
  {
   "cell_type": "raw",
   "id": "c3ffb237",
   "metadata": {},
   "source": [
    "DBLP\n",
    "\n",
    "eta = 2.7579521682158483\n",
    "xi_hat = 0.1088738943827117\n",
    "\n",
    "number of GT communities: 13477\n",
    "most common community sizes:\n",
    "[(6, 3680), (7, 2195), (8, 1461), (9, 1005), (10, 747), (11, 564), (12, 391), (13, 310), (14, 244), (16, 204)]\n",
    "\n",
    "number of edges: 1049866\n",
    "number of nodes: 317080 \n",
    "\n",
    "Number of memberships (most frequent):\n",
    "[(1, 150192), (0, 56082), (2, 43279), (3, 20163), (4, 11770), (5, 7909), (6, 5513), (7, 3915), (8, 3011), (9, 2332)] \n"
   ]
  },
  {
   "cell_type": "markdown",
   "id": "7465634f",
   "metadata": {},
   "source": [
    "### Clustering\n",
    "\n",
    "* Leiden and compare with (single-community) GT\n"
   ]
  },
  {
   "cell_type": "code",
   "execution_count": null,
   "id": "bebab84a",
   "metadata": {
    "scrolled": true
   },
   "outputs": [],
   "source": [
    "%%time\n",
    "G.vs['leiden'] = G.community_leiden(objective_function='modularity').membership\n",
    "print('number of communities found:',max(G.vs['leiden']))\n",
    "print('AMI:',AMI(G.vs['gt'], G.vs['leiden']))\n"
   ]
  },
  {
   "cell_type": "markdown",
   "id": "c0b1ab9c",
   "metadata": {},
   "source": [
    "### Post-processing\n",
    "\n",
    "Compute the following measures and compare outliers found (no community ) with GT outliers:\n",
    "\n",
    "* internal edge fraction (IEF)\n",
    "* Beta score\n",
    "* C score\n",
    "* Pv (p-values) score\n"
   ]
  },
  {
   "cell_type": "code",
   "execution_count": null,
   "id": "35d940ce",
   "metadata": {
    "scrolled": false
   },
   "outputs": [],
   "source": [
    "%%time\n",
    "A = G.get_adjacency_sparse()\n",
    "IEF, Beta, C, Pv, DegPart = CAS(A, partition2sparse(G.vs['leiden']), alpha=1)\n"
   ]
  },
  {
   "cell_type": "code",
   "execution_count": null,
   "id": "822f46e0",
   "metadata": {},
   "outputs": [],
   "source": [
    "## Thresholds below are somewhat arbitrary\n",
    "\n",
    "M = score_to_memberships(IEF, DegPart, threshold=.25)\n",
    "outliers = np.where(np.array(M.sum(axis=1).flatten().tolist()[0])==0)[0]\n",
    "print('IEF:')\n",
    "print('outliers found:',len(outliers))\n",
    "print('ground-truth outliers found:',sum([G.vs[i]['gt']==0 for i in outliers]))\n",
    "\n",
    "M = score_to_memberships(Beta, DegPart, threshold=.25)\n",
    "outliers = np.where(np.array(M.sum(axis=1).flatten().tolist()[0])==0)[0]\n",
    "print('\\nBeta score:')\n",
    "print('outliers found:',len(outliers))\n",
    "print('ground-truth outliers found:',sum([G.vs[i]['gt']==0 for i in outliers]))\n",
    "\n",
    "M = score_to_memberships(C, DegPart, threshold=3)\n",
    "outliers = np.where(np.array(M.sum(axis=1).flatten().tolist()[0])==0)[0]\n",
    "print('\\nC score:')\n",
    "print('outliers found:',len(outliers))\n",
    "print('ground-truth outliers found:',sum([G.vs[i]['gt']==0 for i in outliers]))\n",
    "\n",
    "M = score_to_memberships(Pv, DegPart, threshold=.95)\n",
    "outliers = np.where(np.array(M.sum(axis=1).flatten().tolist()[0])==0)[0]\n",
    "print('\\np-value score:')\n",
    "print('outliers found:',len(outliers))\n",
    "print('ground-truth outliers found:',sum([G.vs[i]['gt']==0 for i in outliers]))\n"
   ]
  },
  {
   "cell_type": "code",
   "execution_count": null,
   "id": "a4e35cdc",
   "metadata": {
    "scrolled": true
   },
   "outputs": [],
   "source": [
    "## AMI with (single-community) GT\n",
    "G.vs['IEF'] = IEF.argmax(axis=1).flatten().tolist()[0]\n",
    "print('IEF:',AMI(G.vs['gt'], G.vs['IEF']))\n",
    "\n",
    "G.vs['beta'] = Beta.argmax(axis=1).flatten().tolist()[0]\n",
    "print('Beta:',AMI(G.vs['gt'], G.vs['beta']))\n",
    "\n",
    "G.vs['C'] = C.argmax(axis=1).flatten().tolist()[0]\n",
    "print('C score:',AMI(G.vs['gt'], G.vs['C']))\n",
    "\n",
    "G.vs['Pv'] = Pv.argmax(axis=1).flatten().tolist()[0]\n",
    "print('p-values:',AMI(G.vs['gt'], G.vs['Pv']))\n"
   ]
  },
  {
   "cell_type": "markdown",
   "id": "3d300916",
   "metadata": {},
   "source": [
    "# Figure in ABCD-oo WAW Paper"
   ]
  },
  {
   "cell_type": "code",
   "execution_count": null,
   "id": "99e12517",
   "metadata": {},
   "outputs": [],
   "source": [
    "## GT community membership matrix\n",
    "X = np.repeat(np.arange(G.vcount(), dtype=int), G.vs['n_comms'])\n",
    "Y = np.array([i-1 for j in G.vs['comms'] for i in j])\n",
    "n = len(X)\n",
    "M = sparse.csr_matrix( (np.repeat(1,n), (X,Y)), shape=(G.vcount(), max(Y)+1) )\n",
    "A = G.get_adjacency_sparse()\n",
    "\n",
    "## Compute CAS measures\n",
    "IEF, NIEF, C, Pv, DegPart = CAS(A, M, alpha=1)\n"
   ]
  },
  {
   "cell_type": "code",
   "execution_count": null,
   "id": "d9a9678f",
   "metadata": {},
   "outputs": [],
   "source": [
    "for x in [1,2,3,4]:\n",
    "    L = []\n",
    "    for i in range(G.vcount()):\n",
    "        if G.vs[i]['n_comms'] == x:\n",
    "            L.append(np.sort(np.array(NIEF[i].todense())[0])[-5:][::-1])\n",
    "    df = pd.DataFrame(L, columns=['1','2','3','4','5'])\n",
    "    plt.plot(df.mean(),'o-',label=str(x))\n",
    "plt.grid()\n",
    "plt.legend(title='Number of communities')\n",
    "plt.xlabel('Rank', fontsize=13)\n",
    "plt.ylabel('Mean NIEF', fontsize=13)\n",
    "plt.title('DBLP Graph', fontsize=14)\n",
    "plt.show()\n"
   ]
  },
  {
   "cell_type": "markdown",
   "id": "bdc314ba",
   "metadata": {},
   "source": [
    "# Figure 2a for CAS WAW paper\n",
    "\n",
    "## Look at kth ranked communities\n",
    "\n",
    "* proportion of k-th ranked community that is GT\n",
    "* restrict to nodes with k+ communities and with 2+ community edges\n"
   ]
  },
  {
   "cell_type": "code",
   "execution_count": null,
   "id": "abb942d6",
   "metadata": {},
   "outputs": [],
   "source": [
    "## GT community membership matrix\n",
    "X = np.repeat(np.arange(G.vcount(), dtype=int), G.vs['n_comms'])\n",
    "Y = np.array([i-1 for j in G.vs['comms'] for i in j])\n",
    "n = len(X)\n",
    "M = sparse.csr_matrix( (np.repeat(1,n), (X,Y)), shape=(G.vcount(), max(Y)+1) )\n",
    "A = G.get_adjacency_sparse()\n",
    "\n",
    "## Compute CAS measures\n",
    "IEF, Beta, C, Pv, DegPart = CAS(A, M, alpha=1)\n"
   ]
  },
  {
   "cell_type": "code",
   "execution_count": null,
   "id": "8198262e",
   "metadata": {},
   "outputs": [],
   "source": [
    "MAX = 25\n",
    "MINDEG = 2\n",
    "\n",
    "NumIEF = np.zeros(MAX)\n",
    "NumBeta = np.zeros(MAX)\n",
    "NumC = np.zeros(MAX)\n",
    "NumPv = np.zeros(MAX)\n",
    "Den = np.zeros(MAX)\n",
    "\n",
    "for K in (np.arange(MAX)+1):\n",
    "    V = np.array(G.vs['n_comms'])>=K\n",
    "    minDeg = np.array([min(v['degrees']) if v['n_comms']>0 else 0 for v in G.vs]) >= MINDEG\n",
    "    V = V & minDeg\n",
    "    Si = Sb = Sc = Sp = 0\n",
    "    for i in range(len(V)):\n",
    "        if V[i]:\n",
    "            x = np.argsort(IEF[i].toarray()[0])[-K]\n",
    "            Si += ((x+1) in G.vs[i]['comms'])\n",
    "            x = np.argsort(Beta[i].toarray()[0])[-K]\n",
    "            Sb += ((x+1) in G.vs[i]['comms'])\n",
    "            x = np.argsort(C[i].toarray()[0])[-K]\n",
    "            Sc += ((x+1) in G.vs[i]['comms'])\n",
    "            x = np.argsort(Pv[i].toarray()[0])[-K]\n",
    "            Sp += ((x+1) in G.vs[i]['comms'])\n",
    "            \n",
    "    NumBeta[K-1] = Sb\n",
    "    NumC[K-1] = Sc\n",
    "    NumIEF[K-1] = Si\n",
    "    NumPv[K-1] = Sp\n",
    "    Den[K-1] = sum(V)\n",
    "\n",
    "    print(K, Si, Sb, Sc, Sp, sum(V))\n",
    "\n",
    "plt.plot(np.arange(MAX)+1, NumIEF/Den, '.-', label='IEF')\n",
    "plt.plot(np.arange(MAX)+1, NumBeta/Den, '.-', label='NIEF')\n",
    "#plt.plot(np.arange(MAX)+1, NumC/Den, '.-', label='C')\n",
    "plt.plot(np.arange(MAX)+1, NumPv/Den, '.-', label='P score')\n",
    "plt.xlabel('K (considering nodes with at least K ground-truth communities)')\n",
    "plt.ylabel('P(Kth highest scoring is a true community)')\n",
    "plt.legend()\n",
    "plt.grid()\n",
    "plt.title('DBLP graph',fontsize=14)\n",
    "fn = 'dblp_ranked.png'\n",
    "#plt.savefig(fn);\n"
   ]
  },
  {
   "cell_type": "markdown",
   "id": "29d2b0c6",
   "metadata": {},
   "source": [
    "# Outlier detection\n",
    "\n",
    "starting from Leiden - try starting with ego??"
   ]
  },
  {
   "cell_type": "code",
   "execution_count": null,
   "id": "f9c4f72d",
   "metadata": {},
   "outputs": [],
   "source": [
    "A = G.get_adjacency_sparse()\n",
    "## Leiden:\n",
    "G.vs['leiden'] = G.community_leiden(objective_function='modularity', resolution=10).membership\n",
    "IEF, Beta, C, P, DegPart = CAS(A, partition2sparse(G.vs['leiden']))\n",
    "max(G.vs['leiden'])"
   ]
  },
  {
   "cell_type": "code",
   "execution_count": null,
   "id": "5bd899c9",
   "metadata": {},
   "outputs": [],
   "source": [
    "# outliers\n",
    "y = [int(x==0) for x in G.vs['gt']]\n",
    "Counter(y)"
   ]
  },
  {
   "cell_type": "code",
   "execution_count": null,
   "id": "15abff2c",
   "metadata": {
    "scrolled": true
   },
   "outputs": [],
   "source": [
    "## Max CAS for outliers and other nodes\n",
    "_df = pd.DataFrame()\n",
    "_df['NIEF'] = Beta.max(axis=1).toarray().flatten()\n",
    "_df['IEF'] = IEF.max(axis=1).toarray().flatten()\n",
    "_df['P'] = P.max(axis=1).toarray().flatten()\n",
    "_df['C'] = C.max(axis=1).toarray().flatten()\n",
    "\n",
    "_df['Outlier'] = y\n",
    "_df['deg'] = G.degree()\n",
    "\n",
    "_df.groupby(by='Outlier').mean()\n"
   ]
  },
  {
   "cell_type": "code",
   "execution_count": null,
   "id": "8e6c6426",
   "metadata": {
    "scrolled": true
   },
   "outputs": [],
   "source": [
    "### example - ego-net of outlier node\n",
    "v = 302866\n",
    "print(G.vs[v]['n_comms'], G.degree(v))\n"
   ]
  },
  {
   "cell_type": "code",
   "execution_count": null,
   "id": "e76e7265",
   "metadata": {},
   "outputs": [],
   "source": [
    "[G.vs[v]['gt'] for v in G.neighborhood(v)]"
   ]
  },
  {
   "cell_type": "code",
   "execution_count": null,
   "id": "1a204725",
   "metadata": {},
   "outputs": [],
   "source": [
    "[G.vs[v]['leiden'] for v in G.neighborhood(v)]"
   ]
  },
  {
   "cell_type": "code",
   "execution_count": null,
   "id": "c76b9232",
   "metadata": {},
   "outputs": [],
   "source": [
    "SG = G.subgraph(G.neighborhood(302866))\n",
    "ig.plot(SG, bbox=(300,300))"
   ]
  },
  {
   "cell_type": "markdown",
   "id": "d11a4bcf",
   "metadata": {},
   "source": [
    "## Running EgoSplit"
   ]
  },
  {
   "cell_type": "code",
   "execution_count": null,
   "id": "6202b597",
   "metadata": {},
   "outputs": [],
   "source": [
    "def EgoSplit(G, split='CC', algo='LP'):\n",
    "    g = G.copy()\n",
    "    ## implement ego-split approach with LP+LP and LP+ECG\n",
    "    g.vs['original'] = g.vs['name']\n",
    "    ## use the vertex names to avoid issues when vertices are re-mapped ...\n",
    "    names = g.vs['name']\n",
    "    ## step 1 - ego-net splits\n",
    "    for nm in names:\n",
    "        v = g.vs.find(nm).index\n",
    "        n = g.neighbors(v)\n",
    "        sg = g.subgraph(n)\n",
    "        if split == 'LP':\n",
    "            x = sg.community_label_propagation().membership\n",
    "        else:\n",
    "            x = sg.connected_components().membership\n",
    "        if np.min(x)==-1:\n",
    "            x = [i+1 for i in x]\n",
    "        for j in set(x):\n",
    "            g.add_vertex(name=nm+'.'+str(j),original=nm)\n",
    "\n",
    "        l = sg.vs['name']\n",
    "        for j in range(len(x)):\n",
    "        g.add_edge(nm+'.'+str(x[j]) , l[j])\n",
    "        g.delete_vertices(v)\n",
    "    ## step 2 -- cluster w.r.t. multiple personae\n",
    "    if algo=='LP':\n",
    "        cl = g.community_label_propagation()\n",
    "    else:\n",
    "        cl = g.community_ecg(ens_size=32, final='leiden') ## Leiden\n",
    "    C = [set(sg.vs['original']) for sg in cl.subgraphs()]\n",
    "    return C\n"
   ]
  },
  {
   "cell_type": "code",
   "execution_count": null,
   "id": "494e202f",
   "metadata": {},
   "outputs": [],
   "source": [
    "G.vs['core'] = G.coreness()\n",
    "V = np.where(np.array(G.vs['core']) > 2)[0]\n",
    "SG = G.subgraph(V)\n",
    "SG.vcount()"
   ]
  },
  {
   "cell_type": "code",
   "execution_count": null,
   "id": "e7711180",
   "metadata": {
    "scrolled": false
   },
   "outputs": [],
   "source": [
    "%%time\n",
    "Names = SG.vs['name']\n",
    "SG.vs['name'] = [str(i) for i in np.arange(SG.vcount())]\n",
    "comms_es = EgoSplit(SG, split='CC', algo='ECG')\n",
    "ES = [list(x) for x in comms_es if len(x)>=10]    \n"
   ]
  },
  {
   "cell_type": "code",
   "execution_count": null,
   "id": "e8c72817",
   "metadata": {},
   "outputs": [],
   "source": [
    "## given list of node memberships, return list of communities\n",
    "def mems2comms(X):\n",
    "    nc = max(set([i for j in X for i in j]))+1  \n",
    "    n = len(X)\n",
    "    L = [[] for _ in range(nc)]\n",
    "    for i in range(n):\n",
    "        for j in X[i]:\n",
    "            L[j].append(i)\n",
    "    return L\n"
   ]
  },
  {
   "cell_type": "code",
   "execution_count": null,
   "id": "bc862a81",
   "metadata": {},
   "outputs": [],
   "source": [
    "GT = mems2comms(SG.vs['comms'])[1:]  ## ignore \"outlier community\"\n",
    "_GT = [[str(i) for i in x] for x in GT]\n",
    "GT = [x for x in _GT if len(x)>1]"
   ]
  },
  {
   "cell_type": "code",
   "execution_count": null,
   "id": "f8e50354",
   "metadata": {},
   "outputs": [],
   "source": [
    "## input format: \n",
    "import csv\n",
    "import subprocess\n",
    "oNMI = '/Users/francois/Book/GraphMiningNotebooks/oNMI/onmi'          ## MAC - overlapping NMI executable\n",
    "def compute_oNMI(First, Second):\n",
    "    fn1 = '__'+str(random.random())[2:]\n",
    "    with open(fn1,\"w\") as f:\n",
    "        wr = csv.writer(f, delimiter=\" \")\n",
    "        wr.writerows(First)\n",
    "    f.close()   \n",
    "\n",
    "    fn2 = '__'+str(random.random())[2:]\n",
    "    with open(fn2,\"w\") as f:\n",
    "        wr = csv.writer(f, delimiter=\" \")\n",
    "        wr.writerows(Second)\n",
    "    f.close()   \n",
    "    x = float(subprocess.check_output([oNMI,fn1,fn2]).decode(\"utf-8\").split()[1])\n",
    "    _ = os.system('rm '+fn1)\n",
    "    _ = os.system('rm '+fn2)\n",
    "    return x\n"
   ]
  },
  {
   "cell_type": "code",
   "execution_count": null,
   "id": "a1233b9c",
   "metadata": {
    "scrolled": true
   },
   "outputs": [],
   "source": [
    "compute_oNMI(GT,ES)"
   ]
  },
  {
   "cell_type": "markdown",
   "id": "6e4326f6",
   "metadata": {},
   "source": [
    "## Filter - min coreness and min comm size"
   ]
  },
  {
   "cell_type": "code",
   "execution_count": null,
   "id": "6b6279f0",
   "metadata": {},
   "outputs": [],
   "source": [
    "print(min(G.coreness()))\n",
    "V = np.where(np.array(G.coreness())<5)[0]\n",
    "G.delete_vertices(V)\n"
   ]
  },
  {
   "cell_type": "code",
   "execution_count": null,
   "id": "4431c639",
   "metadata": {},
   "outputs": [],
   "source": [
    "## GT community membership matrix\n",
    "X = np.repeat(np.arange(G.vcount(), dtype=int), G.vs['n_comms'])\n",
    "Y = np.array([i-1 for j in G.vs['comms'] for i in j])\n",
    "n = len(X)\n",
    "M = sparse.csr_matrix( (np.repeat(1,n), (X,Y)), shape=(G.vcount(), max(Y)+1) )\n"
   ]
  },
  {
   "cell_type": "code",
   "execution_count": null,
   "id": "623a3259",
   "metadata": {
    "scrolled": false
   },
   "outputs": [],
   "source": [
    "keep_col = np.where(np.array(M.sum(axis=0))[0] >= 10)[0]\n",
    "len(keep_col)"
   ]
  },
  {
   "cell_type": "code",
   "execution_count": null,
   "id": "f87917f8",
   "metadata": {},
   "outputs": [],
   "source": [
    "M = M[:,keep_col]"
   ]
  },
  {
   "cell_type": "code",
   "execution_count": null,
   "id": "570a4e45",
   "metadata": {},
   "outputs": [],
   "source": [
    "G.vcount()"
   ]
  },
  {
   "cell_type": "code",
   "execution_count": null,
   "id": "795a55d6",
   "metadata": {},
   "outputs": [],
   "source": [
    "for i in range(len(M.indptr)-1):\n",
    "    G.vs[i]['comms'] = M.indices[M.indptr[i]:M.indptr[i+1]]"
   ]
  },
  {
   "cell_type": "code",
   "execution_count": null,
   "id": "07eaf214",
   "metadata": {},
   "outputs": [],
   "source": [
    "G.vs[0]"
   ]
  },
  {
   "cell_type": "code",
   "execution_count": null,
   "id": "4410b7e4",
   "metadata": {},
   "outputs": [],
   "source": [
    "G.vs['n_comms'] = [len(x) for x in G.vs['comms']]"
   ]
  },
  {
   "cell_type": "code",
   "execution_count": null,
   "id": "a1d121b0",
   "metadata": {},
   "outputs": [],
   "source": [
    "A = G.get_adjacency_sparse()\n",
    "## Leiden:\n",
    "G.vs['leiden'] = G.community_leiden(objective_function='modularity').membership\n",
    "IEF, Beta, C, P, DegPart = CAS(A, partition2sparse(G.vs['leiden']))\n"
   ]
  },
  {
   "cell_type": "code",
   "execution_count": null,
   "id": "0a87e4c0",
   "metadata": {},
   "outputs": [],
   "source": [
    "y = [int(x>0) for x in G.vs['gt']]\n",
    "Counter(y)"
   ]
  },
  {
   "cell_type": "code",
   "execution_count": null,
   "id": "032e3b83",
   "metadata": {},
   "outputs": [],
   "source": [
    "G.vs['Beta'] = Beta.max(axis=1).toarray().flatten()\n",
    "fpr, tpr, thresholds = roc_curve(y, G.vs['Beta'], pos_label=1)\n",
    "auc = AUC(y, G.vs['Beta'])\n",
    "plt.plot(fpr, tpr, label='Beta: '+str(round(auc,3)))\n",
    "\n",
    "G.vs['P'] = P.max(axis=1).toarray().flatten()\n",
    "fpr, tpr, thresholds = roc_curve(y, G.vs['P'], pos_label=1)\n",
    "auc = AUC(y, G.vs['P'])\n",
    "plt.plot(fpr, tpr, label='P: '+str(round(auc,3)))\n",
    "\n",
    "plt.legend();\n"
   ]
  },
  {
   "cell_type": "markdown",
   "id": "5a6822e8",
   "metadata": {},
   "source": [
    "## oNMI"
   ]
  },
  {
   "cell_type": "code",
   "execution_count": null,
   "id": "41b0f692",
   "metadata": {},
   "outputs": [],
   "source": [
    "## GT community membership matrix\n",
    "X = np.repeat(np.arange(G.vcount(), dtype=int), G.vs['n_comms'])\n",
    "Y = np.array([i-1 for j in G.vs['comms'] for i in j])\n",
    "n = len(X)\n",
    "GT = sparse.csr_matrix( (np.repeat(1,n), (X,Y)), shape=(G.vcount(), max(Y)+1) )\n"
   ]
  },
  {
   "cell_type": "code",
   "execution_count": null,
   "id": "c4099bc3",
   "metadata": {},
   "outputs": [],
   "source": [
    "def memberships2list(S):\n",
    "    L = []\n",
    "    for i in range(len(S.indptr)-1):\n",
    "        if S.indptr[i] == S.indptr[i+1]:\n",
    "            L.append([0]) ## no membership == outlier (community 0)\n",
    "        else:\n",
    "            L.append(list(S.indices[S.indptr[i]:S.indptr[i+1]]+1)) ## 1-based\n",
    "    return L\n",
    "def mem2comms(X):\n",
    "    nc = max(set([i for j in X for i in j]))+1  \n",
    "    n = len(X)\n",
    "    L = [[] for _ in range(nc)]\n",
    "    for i in range(n):\n",
    "        for j in X[i]:\n",
    "            L[j].append(i)\n",
    "    return L"
   ]
  },
  {
   "cell_type": "code",
   "execution_count": null,
   "id": "84fd9ddf",
   "metadata": {},
   "outputs": [],
   "source": [
    "import csv\n",
    "import subprocess\n",
    "oNMI = '/Users/francois/Book/GraphMiningNotebooks/oNMI/onmi'          ## overlapping NMI executable\n",
    "#oNMI = '/work/home/fcthebe/Tools/oNMI/onmi'          ## overlapping NMI executable\n",
    "def compute_oNMI(First, Second):\n",
    "    fn1 = '__'+str(random.random())[2:]\n",
    "    with open(fn1,\"w\") as f:\n",
    "        wr = csv.writer(f, delimiter=\" \")\n",
    "        wr.writerows(First)\n",
    "    f.close()   \n",
    "\n",
    "    fn2 = '__'+str(random.random())[2:]\n",
    "    with open(fn2,\"w\") as f:\n",
    "        wr = csv.writer(f, delimiter=\" \")\n",
    "        wr.writerows(Second)\n",
    "    f.close()   \n",
    "    x = float(subprocess.check_output([oNMI,fn1,fn2]).decode(\"utf-8\").split()[1])\n",
    "    _ = os.system('rm '+fn1)\n",
    "    _ = os.system('rm '+fn2)\n",
    "    return x\n"
   ]
  },
  {
   "cell_type": "code",
   "execution_count": null,
   "id": "c0056b2c",
   "metadata": {},
   "outputs": [],
   "source": [
    "%%time\n",
    "X = memberships2list(GT)\n"
   ]
  },
  {
   "cell_type": "code",
   "execution_count": null,
   "id": "8f05265e",
   "metadata": {},
   "outputs": [],
   "source": [
    "G.vs['leiden'] = G.community_leiden(objective_function='modularity', resolution=1).membership\n",
    "print('number of communities found:',max(G.vs['leiden']))\n",
    "Leiden = mem2comms([[j] for j in G.vs['leiden']])\n",
    "GT = mem2comms(G.vs['comms'])[1:]\n",
    "ldn = compute_oNMI(GT, Leiden)\n",
    "ldn"
   ]
  },
  {
   "cell_type": "code",
   "execution_count": null,
   "id": "80ccfbb9",
   "metadata": {
    "scrolled": true
   },
   "outputs": [],
   "source": [
    "IEF, Beta, C, Pv, DegPart = CAS(G.get_adjacency_sparse(), partition2sparse(G.vs['leiden']))\n"
   ]
  },
  {
   "cell_type": "code",
   "execution_count": null,
   "id": "81d9151d",
   "metadata": {
    "scrolled": true
   },
   "outputs": [],
   "source": [
    "TH = [.02,.04,.06,.08,.1]\n",
    "for th1 in [.5,.55,.6,.65]:\n",
    "    non_outliers = np.array((Beta >= th1).sum(axis=1)>0).flatten()\n",
    "    for th2 in TH:\n",
    "        if th2 <= th1:\n",
    "            L = []\n",
    "            for i in range(Beta.shape[1]):\n",
    "                x = np.where( (np.array(Beta[:,i].todense()).flatten() >= th2) & non_outliers)[0]\n",
    "                if len(x)>0:\n",
    "                    L.append(list(x))\n",
    "            print([th1, th2, G.vcount() - sum(non_outliers), compute_oNMI(GT,L), sum([len(x) for x in L]) / sum(non_outliers)])\n"
   ]
  },
  {
   "cell_type": "markdown",
   "id": "2380510c",
   "metadata": {},
   "source": [
    "# Experiment with overlapping ground-truth (gt) communities\n",
    "\n",
    "* Input: membership (sparse) matrix M and (Sparse) adjacency A\n"
   ]
  },
  {
   "cell_type": "code",
   "execution_count": null,
   "id": "4b05cfdf",
   "metadata": {
    "scrolled": false
   },
   "outputs": [],
   "source": [
    "## GT community membership matrix\n",
    "X = np.repeat(np.arange(G.vcount(), dtype=int), G.vs['n_comms'])\n",
    "Y = np.array([i-1 for j in G.vs['comms'] for i in j])\n",
    "n = len(X)\n",
    "M = sparse.csr_matrix( (np.repeat(1,n), (X,Y)), shape=(G.vcount(), max(Y)+1) )\n",
    "A = G.get_adjacency_sparse()\n",
    "\n",
    "## Compute CAS measures\n",
    "IEF, Beta, C, Pv, DegPart = CAS(A, M, alpha=1)\n"
   ]
  },
  {
   "cell_type": "raw",
   "id": "8d016938",
   "metadata": {},
   "source": [
    "with open('CAS_1.pkl','wb') as fp:\n",
    "    pickle.dump((IEF,Beta,C,Pv,DegPart),fp)"
   ]
  },
  {
   "cell_type": "code",
   "execution_count": null,
   "id": "1bd7ccb7",
   "metadata": {},
   "outputs": [],
   "source": [
    "with open('Results/CAS_1.pkl','rb') as fp:\n",
    "    IEF,Beta,C,Pv,DegPart = pickle.load(fp)"
   ]
  },
  {
   "cell_type": "markdown",
   "id": "71bc0c07",
   "metadata": {},
   "source": [
    "## k-communities\n",
    "\n",
    "Look at nodes that are part of $k$ communities, with at least $l$ edges into each one of those, and compute average rank from each statistic\n"
   ]
  },
  {
   "cell_type": "code",
   "execution_count": null,
   "id": "0da34e26",
   "metadata": {},
   "outputs": [],
   "source": [
    "plt.style.use('default')\n",
    "K = 3\n",
    "\n",
    "V = np.array(G.vs['n_comms'])==K\n",
    "GT = np.array([G.vs[v]['comms'] for v in np.where(V)])[0] -1 ## map 1-based to 0-based\n",
    "Degs = np.array([G.vs[v]['degrees'] for v in np.where(V)])[0]\n",
    "plt.figure(figsize=(12,10))\n",
    "\n",
    "## IEF\n",
    "X = IEF[V]\n",
    "L = []\n",
    "for i in range(GT.shape[0]):\n",
    "    x = np.argsort(X[i].toarray()[0])[::-1]\n",
    "    L.append([np.where(x==GT[i][j])[0][0] for j in range(K) ])\n",
    "df = pd.DataFrame(np.array(L)+1)\n",
    "my_dict = {}\n",
    "for j in [1,2,3,4,5,6,7,8]:\n",
    "    _df = df[np.min(Degs, axis=1) >= j]\n",
    "    x = _df.mean(axis=1)\n",
    "    my_dict[str(j)] = list(x)\n",
    "plt.subplot(221)\n",
    "plt.hlines((K+1)/2,1,8,linestyles='dotted')\n",
    "ax = sns.boxplot([x for x in my_dict.values()], showfliers=False, );\n",
    "ax.set_xticks(np.arange(8))\n",
    "ax.grid(linestyle=':')\n",
    "ax.set_xticklabels(my_dict.keys())\n",
    "plt.ylabel('average rank for '+str(K)+' communities', fontsize=12);\n",
    "plt.title('IEF', fontsize=14);\n",
    "\n",
    "## Beta\n",
    "X = Beta[V]\n",
    "L = []\n",
    "for i in range(GT.shape[0]):\n",
    "    x = np.argsort(X[i].toarray()[0])[::-1]\n",
    "    L.append([np.where(x==GT[i][j])[0][0] for j in range(K) ])\n",
    "df = pd.DataFrame(np.array(L)+1)\n",
    "my_dict = {}\n",
    "for j in [1,2,3,4,5,6,7,8]:\n",
    "    _df = df[np.min(Degs, axis=1) >= j]\n",
    "    x = _df.mean(axis=1)\n",
    "    my_dict[str(j)] = list(x)\n",
    "plt.subplot(222)\n",
    "plt.hlines((K+1)/2,1,8,linestyles='dotted')\n",
    "ax = sns.boxplot([x for x in my_dict.values()], showfliers=False, );\n",
    "ax.set_xticks(np.arange(8))\n",
    "ax.grid(linestyle=':')\n",
    "ax.set_xticklabels(my_dict.keys())\n",
    "#plt.xlabel('min community degree at least');\n",
    "#plt.ylabel('average rank for '+str(K)+' communities');\n",
    "plt.title('Beta', fontsize=14);\n",
    "\n",
    "## C\n",
    "X = C[V]\n",
    "L = []\n",
    "for i in range(GT.shape[0]):\n",
    "    x = np.argsort(X[i].toarray()[0])[::-1]\n",
    "    L.append([np.where(x==GT[i][j])[0][0] for j in range(K) ])\n",
    "df = pd.DataFrame(np.array(L)+1)\n",
    "my_dict = {}\n",
    "for j in [1,2,3,4,5,6,7,8]:\n",
    "    _df = df[np.min(Degs, axis=1) >= j]\n",
    "    x = _df.mean(axis=1)\n",
    "    my_dict[str(j)] = list(x)\n",
    "plt.subplot(223)\n",
    "plt.hlines((K+1)/2,1,8,linestyles='dotted')\n",
    "ax = sns.boxplot([x for x in my_dict.values()], showfliers=False, );\n",
    "ax.set_xticks(np.arange(8))\n",
    "ax.grid(linestyle=':')\n",
    "ax.set_xticklabels(my_dict.keys())\n",
    "plt.xlabel('Minimum in-community degree', fontsize=12);\n",
    "plt.ylabel('average rank for '+str(K)+' communities', fontsize=12);\n",
    "plt.title('C', fontsize=14);\n",
    "\n",
    "## Pv\n",
    "X = Pv[V]\n",
    "L = []\n",
    "for i in range(GT.shape[0]):\n",
    "    x = np.argsort(X[i].toarray()[0])[::-1]\n",
    "    L.append([np.where(x==GT[i][j])[0][0] for j in range(K) ])\n",
    "df = pd.DataFrame(np.array(L)+1)\n",
    "my_dict = {}\n",
    "for j in [1,2,3,4,5,6,7,8]:\n",
    "    _df = df[np.min(Degs, axis=1) >= j]\n",
    "    x = _df.mean(axis=1)\n",
    "    my_dict[str(j)] = list(x)\n",
    "plt.subplot(224)\n",
    "plt.hlines((K+1)/2,1,8,linestyles='dotted')\n",
    "ax = sns.boxplot([x for x in my_dict.values()], showfliers=False, );\n",
    "ax.set_xticks(np.arange(8))\n",
    "ax.grid(linestyle=':')\n",
    "ax.set_xticklabels(my_dict.keys())\n",
    "plt.xlabel('Minimum in-community degree', fontsize=12);\n",
    "#plt.ylabel('average rank for '+str(K)+' communities');\n",
    "plt.title('p-values', fontsize=14);\n",
    "\n",
    "## save PNG\n",
    "fn = 'dblp_2hops_'+str(K)+'.png'\n",
    "plt.savefig(fn)\n"
   ]
  },
  {
   "cell_type": "markdown",
   "id": "1d7917cf",
   "metadata": {},
   "source": [
    "## Score distribution as function of community size"
   ]
  },
  {
   "cell_type": "code",
   "execution_count": null,
   "id": "49ddae11",
   "metadata": {
    "scrolled": false
   },
   "outputs": [],
   "source": [
    "score = []\n",
    "gt = []\n",
    "nc = []\n",
    "for ctr in np.arange(1,16):\n",
    "    V = np.array(G.vs['n_comms']) == ctr\n",
    "    for i in range(len(V)):\n",
    "        if V[i]:\n",
    "            x = IEF[i].toarray()[0]\n",
    "            y = np.array(G.vs[i]['comms'])-1\n",
    "            score.extend([x[i] for i in y])\n",
    "            gt.extend(np.repeat(True,len(y)))\n",
    "            score.extend(x[x>0])\n",
    "            gt.extend(np.repeat(False,sum(x>0)))\n",
    "            nc.extend(np.repeat(ctr,len(y)+sum(x>0)))\n",
    "D = pd.DataFrame( np.array([score,gt,nc]).transpose(), columns=['IEF','gt','number of communities'])\n"
   ]
  },
  {
   "cell_type": "code",
   "execution_count": null,
   "id": "4fa37116",
   "metadata": {},
   "outputs": [],
   "source": [
    "D['number of communities'] = [int(x) for x in D['number of communities']]\n",
    "g = sns.boxplot(x='number of communities', y='IEF', hue='gt', data=D, \n",
    "                showfliers=False, legend='full')\n",
    "leg = g.axes.get_legend()\n",
    "leg.set_title('IEF scores')\n",
    "new_labels = ['all non-zero','ground-truth only']\n",
    "for t, l in zip(leg.texts, new_labels):\n",
    "    t.set_text(l)\n",
    "fn = 'dblp_scores_IEF.png'\n",
    "plt.savefig(fn);\n"
   ]
  },
  {
   "cell_type": "code",
   "execution_count": null,
   "id": "1661a23d",
   "metadata": {
    "scrolled": false
   },
   "outputs": [],
   "source": [
    "score = []\n",
    "gt = []\n",
    "nc = []\n",
    "for ctr in np.arange(1,16):\n",
    "    V = np.array(G.vs['n_comms']) == ctr\n",
    "    for i in range(len(V)):\n",
    "        if V[i]:\n",
    "            x = Beta[i].toarray()[0]\n",
    "            y = np.array(G.vs[i]['comms'])-1\n",
    "            score.extend([x[i] for i in y])\n",
    "            gt.extend(np.repeat(True,len(y)))\n",
    "            score.extend(x[x>0])\n",
    "            gt.extend(np.repeat(False,sum(x>0)))\n",
    "            nc.extend(np.repeat(ctr,len(y)+sum(x>0)))\n",
    "D = pd.DataFrame( np.array([score,gt,nc]).transpose(), columns=['Beta','gt','number of communities'])\n"
   ]
  },
  {
   "cell_type": "code",
   "execution_count": null,
   "id": "bc701111",
   "metadata": {},
   "outputs": [],
   "source": [
    "D['number of communities'] = [int(x) for x in D['number of communities']]\n",
    "g = sns.boxplot(x='number of communities', y='Beta', hue='gt', data=D, \n",
    "                showfliers=False, legend='full')\n",
    "leg = g.axes.get_legend()\n",
    "leg.set_title('Beta scores')\n",
    "new_labels = ['all non-zero','ground-truth only']\n",
    "for t, l in zip(leg.texts, new_labels):\n",
    "    t.set_text(l)\n",
    "fn = 'dblp_scores_Beta.png'\n",
    "plt.savefig(fn);"
   ]
  },
  {
   "cell_type": "code",
   "execution_count": null,
   "id": "5560aeac",
   "metadata": {},
   "outputs": [],
   "source": [
    "score = []\n",
    "gt = []\n",
    "nc = []\n",
    "for ctr in np.arange(1,16):\n",
    "    V = np.array(G.vs['n_comms']) == ctr\n",
    "    for i in range(len(V)):\n",
    "        if V[i]:\n",
    "            x = C[i].toarray()[0]\n",
    "            y = np.array(G.vs[i]['comms'])-1\n",
    "            score.extend([x[i] for i in y])\n",
    "            gt.extend(np.repeat(True,len(y)))\n",
    "            score.extend(x[x>0])\n",
    "            gt.extend(np.repeat(False,sum(x>0)))\n",
    "            nc.extend(np.repeat(ctr,len(y)+sum(x>0)))\n",
    "D = pd.DataFrame( np.array([score,gt,nc]).transpose(), columns=['C','gt','number of communities'])\n"
   ]
  },
  {
   "cell_type": "code",
   "execution_count": null,
   "id": "3d56aa81",
   "metadata": {},
   "outputs": [],
   "source": [
    "D['number of communities'] = [int(x) for x in D['number of communities']]\n",
    "g = sns.boxplot(x='number of communities', y='C', hue='gt', data=D, \n",
    "                showfliers=False, legend='full')\n",
    "leg = g.axes.get_legend()\n",
    "leg.set_title('C scores')\n",
    "new_labels = ['all non-zero','ground-truth only']\n",
    "for t, l in zip(leg.texts, new_labels):\n",
    "    t.set_text(l)\n",
    "fn = 'dblp_scores_C.png'\n",
    "plt.savefig(fn);\n"
   ]
  },
  {
   "cell_type": "code",
   "execution_count": null,
   "id": "c500100c",
   "metadata": {},
   "outputs": [],
   "source": [
    "D['number of communities'] = [int(x) for x in D['number of communities']]\n",
    "g = sns.boxplot(x='number of communities', y='C', hue='gt', data=D, \n",
    "                showfliers=False, legend='full')\n",
    "plt.ylim((0,30));\n",
    "leg = g.axes.get_legend()\n",
    "leg.set_title('C scores')\n",
    "new_labels = ['all non-zero','ground-truth only']\n",
    "for t, l in zip(leg.texts, new_labels):\n",
    "    t.set_text(l)\n",
    "fn = 'dblp_scores_C_zoom.png'\n",
    "plt.savefig(fn);\n"
   ]
  },
  {
   "cell_type": "code",
   "execution_count": null,
   "id": "d021ebf6",
   "metadata": {},
   "outputs": [],
   "source": [
    "score = []\n",
    "gt = []\n",
    "nc = []\n",
    "for ctr in np.arange(1,16):\n",
    "    V = np.array(G.vs['n_comms']) == ctr\n",
    "    for i in range(len(V)):\n",
    "        if V[i]:\n",
    "            x = Pv[i].toarray()[0]\n",
    "            y = np.array(G.vs[i]['comms'])-1\n",
    "            score.extend([x[i] for i in y])\n",
    "            gt.extend(np.repeat(True,len(y)))\n",
    "            score.extend(x[x>0])\n",
    "            gt.extend(np.repeat(False,sum(x>0)))\n",
    "            nc.extend(np.repeat(ctr,len(y)+sum(x>0)))\n",
    "D = pd.DataFrame( np.array([score,gt,nc]).transpose(), columns=['Pv','gt','number of communities'])\n"
   ]
  },
  {
   "cell_type": "code",
   "execution_count": null,
   "id": "2466bf91",
   "metadata": {},
   "outputs": [],
   "source": [
    "D['number of communities'] = [int(x) for x in D['number of communities']]\n",
    "g = sns.boxplot(x='number of communities', y='Pv', hue='gt', data=D, \n",
    "                showfliers=False, legend='full')\n",
    "plt.ylabel('P-score')\n",
    "leg = g.axes.get_legend()\n",
    "leg.set_title('P scores')\n",
    "new_labels = ['all non-zero','ground-truth only']\n",
    "for t, l in zip(leg.texts, new_labels):\n",
    "    t.set_text(l)\n",
    "fn = 'dblp_scores_P.png'\n",
    "plt.savefig(fn);\n"
   ]
  },
  {
   "cell_type": "code",
   "execution_count": null,
   "id": "f9d22b65",
   "metadata": {},
   "outputs": [],
   "source": [
    "D['number of communities'] = [int(x) for x in D['number of communities']]\n",
    "g = sns.boxplot(x='number of communities', y='Pv', hue='gt', data=D, \n",
    "                showfliers=False, legend='full')\n",
    "plt.ylabel('P-score')\n",
    "plt.ylim((.99,1));\n",
    "leg = g.axes.get_legend()\n",
    "leg.set_title('P scores')\n",
    "new_labels = ['all non-zero','ground-truth only']\n",
    "for t, l in zip(leg.texts, new_labels):\n",
    "    t.set_text(l)\n",
    "fn = 'dblp_scores_P_zoom.png'\n",
    "plt.savefig(fn);\n"
   ]
  },
  {
   "cell_type": "markdown",
   "id": "ce420c9a",
   "metadata": {},
   "source": [
    "## Absolute and Relative\n",
    "\n",
    "Consider a node $i$ as part of a community $j$ if one of the folowing is true:\n",
    "\n",
    "* $\\beta_{i,j} \\ge \\beta^{*}$, for example $\\beta^{*} = 0.75$\n",
    "* $\\beta_{i,j}$ is above $Q^{th}$ quantile of all values $\\{\\beta_{i,*} > 0\\}$\n",
    "* also min number of edges\n",
    "\n"
   ]
  },
  {
   "cell_type": "code",
   "execution_count": null,
   "id": "6cf8fcc1",
   "metadata": {
    "scrolled": false
   },
   "outputs": [],
   "source": [
    "## IQR\n",
    "Q = betastar = .75\n",
    "MINDEG = 2\n",
    "\n",
    "gt = []\n",
    "nc = []\n",
    "total = []\n",
    "minDeg = np.array([min(v['degrees']) if v['n_comms']>0 else 0 for v in G.vs]) >= MINDEG\n",
    "\n",
    "for ctr in np.arange(1,16):\n",
    "    V = np.array(G.vs['n_comms']) == ctr\n",
    "    V = V & minDeg\n",
    "    for i in range(len(V)):\n",
    "        if V[i]:\n",
    "            x = Beta[i].toarray()[0]\n",
    "            th = min(np.quantile(x[x>0], Q), betastar)\n",
    "            l = len(set(np.where(x>th)[0]).intersection(set(np.array(G.vs[i]['comms'])-1)))\n",
    "            gt.append(l)\n",
    "            total.append(sum(x>th))\n",
    "            nc.append(ctr)\n",
    "D = pd.DataFrame( np.array([total,gt,nc]).transpose(), columns=['total', 'gt', 'number of communities'])\n"
   ]
  },
  {
   "cell_type": "code",
   "execution_count": null,
   "id": "0b202bca",
   "metadata": {},
   "outputs": [],
   "source": [
    "sns.boxplot(x = [int(i) for i in D['number of communities']], \n",
    "            y = D['gt'], \n",
    "            showfliers=False );\n",
    "plt.grid()\n",
    "plt.xlabel('number of GT communities')\n",
    "plt.ylabel('number of GT Beta above Q('+str(Q)+') or 0.75')\n",
    "plt.plot([0,14],[1,15], color='red');\n",
    "fn = 'dblp_beta_75_a.png'\n",
    "plt.savefig(fn);"
   ]
  },
  {
   "cell_type": "code",
   "execution_count": null,
   "id": "885e6bdc",
   "metadata": {},
   "outputs": [],
   "source": [
    "sns.boxplot(x = [int(i) for i in D['number of communities']], \n",
    "            y = D['total'], \n",
    "            showfliers=False );\n",
    "plt.grid()\n",
    "plt.xlabel('number of GT communities')\n",
    "plt.ylabel('number of Beta above Q('+str(Q)+') or 0.75')\n",
    "plt.plot([0,14],[1,15], color='red');\n",
    "fn = 'dblp_beta_75_b.png'\n",
    "plt.savefig(fn);\n"
   ]
  },
  {
   "cell_type": "code",
   "execution_count": null,
   "id": "b4e86b28",
   "metadata": {},
   "outputs": [],
   "source": [
    "D['prop'] = D['gt'] / D['total']\n",
    "sns.boxplot(x = [int(i) for i in D['number of communities']], \n",
    "            y = D['prop'], \n",
    "            showfliers=False );\n",
    "plt.grid()\n",
    "plt.xlabel('number of GT communities')\n",
    "plt.ylabel('P(GT) if above Q('+str(Q)+') or 0.75');\n",
    "fn = 'dblp_beta_75_c.png'\n",
    "plt.savefig(fn);\n"
   ]
  },
  {
   "cell_type": "markdown",
   "id": "04b17434",
   "metadata": {},
   "source": [
    "# Edge classification\n",
    "\n",
    "* first we do EDA - size of intersections of incident nodes\n"
   ]
  },
  {
   "cell_type": "code",
   "execution_count": null,
   "id": "bb5aafa8",
   "metadata": {},
   "outputs": [],
   "source": [
    "## read data\n",
    "with open('../Datasets/DBLPFull.pkl', 'rb') as handle:\n",
    "    b = pickle.load(handle)\n",
    "Communities = b[\"Community lists\"][:-1]\n",
    "Edges = b['edges'][:-1]\n",
    "G = ig.Graph.TupleList([tuple(e) for e in Edges])\n",
    "\n",
    "# Dictionary: node name to node id\n",
    "v_dct = {j:i for i,j in enumerate(G.vs['name'])}\n",
    "\n",
    "# store all communities for each node\n",
    "for v in G.vs:\n",
    "    v['comms'] = []\n",
    "## append communities in 1-based format (we keep 0 for the outliers - no communities)\n",
    "for i in range(len(Communities)):\n",
    "    for v in Communities[i]:\n",
    "        G.vs[v_dct[v]]['comms'].append(i+1)\n",
    "G.vs['n_comms'] = [len(x) for x in G.vs['comms']]\n",
    "\n",
    "## Add community degrees to G (deg_A(v)'s)\n",
    "for v in G.vs:\n",
    "    ctr = Counter([i for x in v.neighbors() for i in x['comms']])\n",
    "    v['degrees'] = [ctr[i] if i in ctr.keys() else 0 for i in v['comms'] ]\n"
   ]
  },
  {
   "cell_type": "code",
   "execution_count": null,
   "id": "5745c836",
   "metadata": {},
   "outputs": [],
   "source": [
    "## EDA on the edges\n",
    "G.es['gt'] = [len(set(G.vs[e.source]['comms']).intersection(set(G.vs[e.target]['comms']))) for e in G.es]\n",
    "Counter(G.es['gt'])"
   ]
  },
  {
   "cell_type": "code",
   "execution_count": null,
   "id": "e534586a",
   "metadata": {},
   "outputs": [],
   "source": [
    "ECG = G.community_ecg(ens_size=32,final='leiden', refuse_score=True)\n"
   ]
  },
  {
   "cell_type": "code",
   "execution_count": null,
   "id": "3424302b",
   "metadata": {},
   "outputs": [],
   "source": [
    "np.corrcoef(np.array(ECG.W), np.array(G.es['gt']))"
   ]
  },
  {
   "cell_type": "code",
   "execution_count": null,
   "id": "51e570e6",
   "metadata": {},
   "outputs": [],
   "source": [
    "plt.plot(np.array(ECG.W), np.array(G.es['gt']),'.');"
   ]
  }
 ],
 "metadata": {
  "kernelspec": {
   "display_name": "complexnetworks",
   "language": "python",
   "name": "complexnetworks"
  },
  "language_info": {
   "codemirror_mode": {
    "name": "ipython",
    "version": 3
   },
   "file_extension": ".py",
   "mimetype": "text/x-python",
   "name": "python",
   "nbconvert_exporter": "python",
   "pygments_lexer": "ipython3",
   "version": "3.11.9"
  }
 },
 "nbformat": 4,
 "nbformat_minor": 5
}

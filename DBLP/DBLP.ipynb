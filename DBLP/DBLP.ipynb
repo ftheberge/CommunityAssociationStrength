{
 "cells": [
  {
   "cell_type": "code",
   "execution_count": 18,
   "id": "b41c323f",
   "metadata": {},
   "outputs": [],
   "source": [
    "import igraph as ig\n",
    "import pandas as pd\n",
    "import numpy as np\n",
    "from sklearn.metrics import adjusted_mutual_info_score as AMI\n",
    "import partition_igraph\n",
    "from matplotlib import pyplot as plt\n",
    "from collections import Counter\n",
    "import random\n",
    "import pickle\n",
    "import os\n",
    "from sklearn.metrics import roc_auc_score as AUC\n",
    "from sklearn.metrics import roc_curve\n",
    "from scipy.sparse import csr_matrix\n",
    "import scipy.sparse as sparse \n",
    "import time\n",
    "from statistics import mode\n",
    "import seaborn as sns\n",
    "import omega_index\n",
    "import powerlaw\n",
    "\n",
    "import sys\n",
    "sys.path.append('../')\n",
    "from CAS import *"
   ]
  },
  {
   "cell_type": "markdown",
   "id": "f1da2c46",
   "metadata": {},
   "source": [
    "# DBLP graph\n",
    "\n",
    "* We load this dataset built from SNAP from a local pickle file with two components:\n",
    "  * List of edges\n",
    "  * List of communities\n",
    "\n",
    "* Build igraph object 'G'"
   ]
  },
  {
   "cell_type": "code",
   "execution_count": 2,
   "id": "feda9594",
   "metadata": {},
   "outputs": [
    {
     "name": "stdout",
     "output_type": "stream",
     "text": [
      "number of GT communities: 13477\n",
      "most common community sizes:\n",
      "[(6, 3680), (7, 2195), (8, 1461), (9, 1005), (10, 747), (11, 564), (12, 391), (13, 310), (14, 244), (16, 204)]\n",
      "\n",
      "number of edges: 1049866\n",
      "number of nodes: 317080 \n",
      "\n",
      "Number of memberships (most frequent):\n",
      "[(1, 150192), (0, 56082), (2, 43279), (3, 20163), (4, 11770), (5, 7909), (6, 5513), (7, 3915), (8, 3011), (9, 2332)] \n",
      "\n"
     ]
    }
   ],
   "source": [
    "## read data\n",
    "with open('../Datasets/DBLPFull.pkl', 'rb') as handle:\n",
    "    b = pickle.load(handle)\n",
    "Communities = b[\"Community lists\"][:-1]\n",
    "Edges = b['edges'][:-1]\n",
    "\n",
    "# number of comms\n",
    "print('number of GT communities:',len(Communities))\n",
    "\n",
    "# community sizes\n",
    "print('most common community sizes:')\n",
    "print(Counter([len(x) for x in Communities]).most_common(10))\n",
    "\n",
    "# number of edges\n",
    "print('\\nnumber of edges:',len(Edges))\n",
    "G = ig.Graph.TupleList([tuple(e) for e in Edges])\n",
    "\n",
    "# Dictionary: node name to node id\n",
    "v_dct = {j:i for i,j in enumerate(G.vs['name'])}\n",
    "print('number of nodes:',G.vcount(),'\\n')\n",
    "\n",
    "# store all communities for each node\n",
    "for v in G.vs:\n",
    "    v['comms'] = []\n",
    "## append communities in 1-based format (we keep 0 for the outliers - no communities)\n",
    "for i in range(len(Communities)):\n",
    "    for v in Communities[i]:\n",
    "        G.vs[v_dct[v]]['comms'].append(i+1)\n",
    "G.vs['n_comms'] = [len(x) for x in G.vs['comms']]\n",
    "print('Number of memberships (most frequent):')\n",
    "print(Counter(G.vs['n_comms']).most_common(10), '\\n')\n",
    "\n",
    "## Add community degrees to G (deg_A(v)'s)\n",
    "for v in G.vs:\n",
    "    ctr = Counter([i for x in v.neighbors() for i in x['comms']])\n",
    "    v['degrees'] = [ctr[i] if i in ctr.keys() else 0 for i in v['comms'] ]\n",
    "\n",
    "## Add pseudo single community ground truth: pick community with highest dev_A(v) for each v\n",
    "G.vs['gt'] = [v['comms'][np.argmax(v['degrees'])] if len(v['degrees'])>0 else 0 for v in G.vs]\n"
   ]
  },
  {
   "cell_type": "code",
   "execution_count": 51,
   "id": "f3b4e110",
   "metadata": {},
   "outputs": [
    {
     "data": {
      "text/plain": [
       "425956"
      ]
     },
     "execution_count": 51,
     "metadata": {},
     "output_type": "execute_result"
    }
   ],
   "source": [
    "np.max([x for c in Communities for x in c])"
   ]
  },
  {
   "cell_type": "code",
   "execution_count": 55,
   "id": "c236d8e5",
   "metadata": {},
   "outputs": [
    {
     "data": {
      "text/plain": [
       "425956"
      ]
     },
     "execution_count": 55,
     "metadata": {},
     "output_type": "execute_result"
    }
   ],
   "source": [
    "max(G.vs['name'])"
   ]
  },
  {
   "cell_type": "code",
   "execution_count": 3,
   "id": "1ab24cdf",
   "metadata": {},
   "outputs": [
    {
     "data": {
      "text/plain": [
       "2.7579521682158483"
      ]
     },
     "execution_count": 3,
     "metadata": {},
     "output_type": "execute_result"
    }
   ],
   "source": [
    "## eta\n",
    "np.mean([x for x in G.vs['n_comms'] if x>0])"
   ]
  },
  {
   "cell_type": "code",
   "execution_count": 4,
   "id": "9db7686c",
   "metadata": {},
   "outputs": [
    {
     "data": {
      "image/svg+xml": [
       "<?xml version=\"1.0\" encoding=\"UTF-8\"?>\n",
       "<svg xmlns=\"http://www.w3.org/2000/svg\" xmlns:xlink=\"http://www.w3.org/1999/xlink\" width=\"200pt\" height=\"200pt\" viewBox=\"0 0 200 200\" version=\"1.1\">\n",
       "<g id=\"surface2\">\n",
       "<rect x=\"0\" y=\"0\" width=\"200\" height=\"200\" style=\"fill:rgb(100%,100%,100%);fill-opacity:1;stroke:none;\"/>\n",
       "<path style=\"fill:none;stroke-width:1;stroke-linecap:butt;stroke-linejoin:miter;stroke:rgb(26.666667%,26.666667%,26.666667%);stroke-opacity:1;stroke-miterlimit:10;\" d=\"M 100.542969 151.394531 L 35.320312 180 \"/>\n",
       "<path style=\"fill:none;stroke-width:1;stroke-linecap:butt;stroke-linejoin:miter;stroke:rgb(26.666667%,26.666667%,26.666667%);stroke-opacity:1;stroke-miterlimit:10;\" d=\"M 100.542969 151.394531 L 20 96.640625 \"/>\n",
       "<path style=\"fill:none;stroke-width:1;stroke-linecap:butt;stroke-linejoin:miter;stroke:rgb(26.666667%,26.666667%,26.666667%);stroke-opacity:1;stroke-miterlimit:10;\" d=\"M 35.320312 180 L 20 96.640625 \"/>\n",
       "<path style=\"fill:none;stroke-width:1;stroke-linecap:butt;stroke-linejoin:miter;stroke:rgb(26.666667%,26.666667%,26.666667%);stroke-opacity:1;stroke-miterlimit:10;\" d=\"M 180 20 L 122.574219 97.539062 \"/>\n",
       "<path style=\"fill:none;stroke-width:1;stroke-linecap:butt;stroke-linejoin:miter;stroke:rgb(26.666667%,26.666667%,26.666667%);stroke-opacity:1;stroke-miterlimit:10;\" d=\"M 100.542969 151.394531 L 122.574219 97.539062 \"/>\n",
       "<path style=\"fill:none;stroke-width:1;stroke-linecap:butt;stroke-linejoin:miter;stroke:rgb(26.666667%,26.666667%,26.666667%);stroke-opacity:1;stroke-miterlimit:10;\" d=\"M 35.320312 180 L 122.574219 97.539062 \"/>\n",
       "<path style=\"fill:none;stroke-width:1;stroke-linecap:butt;stroke-linejoin:miter;stroke:rgb(26.666667%,26.666667%,26.666667%);stroke-opacity:1;stroke-miterlimit:10;\" d=\"M 20 96.640625 L 122.574219 97.539062 \"/>\n",
       "<path style=\"fill:none;stroke-width:1;stroke-linecap:butt;stroke-linejoin:miter;stroke:rgb(26.666667%,26.666667%,26.666667%);stroke-opacity:1;stroke-miterlimit:10;\" d=\"M 180 20 L 84.09375 34.730469 \"/>\n",
       "<path style=\"fill:none;stroke-width:1;stroke-linecap:butt;stroke-linejoin:miter;stroke:rgb(26.666667%,26.666667%,26.666667%);stroke-opacity:1;stroke-miterlimit:10;\" d=\"M 100.542969 151.394531 L 84.09375 34.730469 \"/>\n",
       "<path style=\"fill:none;stroke-width:1;stroke-linecap:butt;stroke-linejoin:miter;stroke:rgb(26.666667%,26.666667%,26.666667%);stroke-opacity:1;stroke-miterlimit:10;\" d=\"M 20 96.640625 L 84.09375 34.730469 \"/>\n",
       "<path style=\"fill:none;stroke-width:1;stroke-linecap:butt;stroke-linejoin:miter;stroke:rgb(26.666667%,26.666667%,26.666667%);stroke-opacity:1;stroke-miterlimit:10;\" d=\"M 122.574219 97.539062 L 84.09375 34.730469 \"/>\n",
       "<path style=\"fill-rule:nonzero;fill:rgb(100%,0%,0%);fill-opacity:1;stroke-width:1;stroke-linecap:butt;stroke-linejoin:miter;stroke:rgb(0%,0%,0%);stroke-opacity:1;stroke-miterlimit:10;\" d=\"M 190 20 C 190 25.523438 185.523438 30 180 30 C 174.476562 30 170 25.523438 170 20 C 170 14.476562 174.476562 10 180 10 C 185.523438 10 190 14.476562 190 20 \"/>\n",
       "<path style=\"fill-rule:nonzero;fill:rgb(100%,0%,0%);fill-opacity:1;stroke-width:1;stroke-linecap:butt;stroke-linejoin:miter;stroke:rgb(0%,0%,0%);stroke-opacity:1;stroke-miterlimit:10;\" d=\"M 110.542969 151.394531 C 110.542969 156.917969 106.066406 161.394531 100.542969 161.394531 C 95.023438 161.394531 90.542969 156.917969 90.542969 151.394531 C 90.542969 145.871094 95.023438 141.394531 100.542969 141.394531 C 106.066406 141.394531 110.542969 145.871094 110.542969 151.394531 \"/>\n",
       "<path style=\"fill-rule:nonzero;fill:rgb(100%,0%,0%);fill-opacity:1;stroke-width:1;stroke-linecap:butt;stroke-linejoin:miter;stroke:rgb(0%,0%,0%);stroke-opacity:1;stroke-miterlimit:10;\" d=\"M 45.320312 180 C 45.320312 185.523438 40.84375 190 35.320312 190 C 29.800781 190 25.320312 185.523438 25.320312 180 C 25.320312 174.476562 29.800781 170 35.320312 170 C 40.84375 170 45.320312 174.476562 45.320312 180 \"/>\n",
       "<path style=\"fill-rule:nonzero;fill:rgb(100%,0%,0%);fill-opacity:1;stroke-width:1;stroke-linecap:butt;stroke-linejoin:miter;stroke:rgb(0%,0%,0%);stroke-opacity:1;stroke-miterlimit:10;\" d=\"M 30 96.640625 C 30 102.164062 25.523438 106.640625 20 106.640625 C 14.476562 106.640625 10 102.164062 10 96.640625 C 10 91.117188 14.476562 86.640625 20 86.640625 C 25.523438 86.640625 30 91.117188 30 96.640625 \"/>\n",
       "<path style=\"fill-rule:nonzero;fill:rgb(100%,0%,0%);fill-opacity:1;stroke-width:1;stroke-linecap:butt;stroke-linejoin:miter;stroke:rgb(0%,0%,0%);stroke-opacity:1;stroke-miterlimit:10;\" d=\"M 132.574219 97.539062 C 132.574219 103.0625 128.097656 107.539062 122.574219 107.539062 C 117.050781 107.539062 112.574219 103.0625 112.574219 97.539062 C 112.574219 92.015625 117.050781 87.539062 122.574219 87.539062 C 128.097656 87.539062 132.574219 92.015625 132.574219 97.539062 \"/>\n",
       "<path style=\"fill-rule:nonzero;fill:rgb(100%,0%,0%);fill-opacity:1;stroke-width:1;stroke-linecap:butt;stroke-linejoin:miter;stroke:rgb(0%,0%,0%);stroke-opacity:1;stroke-miterlimit:10;\" d=\"M 94.09375 34.730469 C 94.09375 40.253906 89.617188 44.730469 84.09375 44.730469 C 78.570312 44.730469 74.09375 40.253906 74.09375 34.730469 C 74.09375 29.207031 78.570312 24.730469 84.09375 24.730469 C 89.617188 24.730469 94.09375 29.207031 94.09375 34.730469 \"/>\n",
       "</g>\n",
       "</svg>\n"
      ],
      "text/plain": [
       "<igraph.drawing.cairo.plot.CairoPlot at 0x1660b13d0>"
      ]
     },
     "execution_count": 4,
     "metadata": {
      "image/svg+xml": {
       "isolated": true
      }
     },
     "output_type": "execute_result"
    }
   ],
   "source": [
    "## Example of a community\n",
    "V = [v_dct[x] for x in Communities[7]]\n",
    "SG = G.subgraph(V)\n",
    "ig.plot(SG, bbox=(200,200))\n"
   ]
  },
  {
   "cell_type": "code",
   "execution_count": 5,
   "id": "abfec1e0",
   "metadata": {
    "scrolled": false
   },
   "outputs": [
    {
     "name": "stdout",
     "output_type": "stream",
     "text": [
      "xi_hat = 0.1088738943827117\n"
     ]
    }
   ],
   "source": [
    "## Compute the external edge fraction given communities for each node\n",
    "C = Counter([len(set(G.vs[e.source]['comms']).intersection(set(G.vs[e.target]['comms'])))>0 for e in G.es])\n",
    "print('xi_hat =',C[0]/(C[0]+C[1]))\n"
   ]
  },
  {
   "cell_type": "markdown",
   "id": "96d83d37",
   "metadata": {},
   "source": [
    "## community memberships\n"
   ]
  },
  {
   "cell_type": "code",
   "execution_count": 6,
   "id": "43b073d2",
   "metadata": {},
   "outputs": [
    {
     "data": {
      "image/png": "[encoded data removed]",
      "text/plain": [
       "<Figure size 1200x800 with 1 Axes>"
      ]
     },
     "metadata": {},
     "output_type": "display_data"
    }
   ],
   "source": [
    "C = Counter(G.vs['n_comms'])\n",
    "M = 6\n",
    "m = max(C)\n",
    "A = np.zeros(M)\n",
    "for j in range(m):\n",
    "    if j<M-1:\n",
    "        A[j] = C[j+1]\n",
    "    else:\n",
    "        A[M-1] += C[j+1] \n",
    "            \n",
    "df = pd.DataFrame()\n",
    "df['memberships'] = [str(x) if x<M else str(M)+'+' for x in (np.arange(M)+1)]\n",
    "#df['eta'] = np.repeat(ETA, M)\n",
    "df['proportion'] = A/sum(A)\n",
    "df.head()\n",
    "\n",
    "\n",
    "plt.figure(figsize=(12,8))\n",
    "sns.barplot(x=\"memberships\", y=\"proportion\", data=df);\n",
    "plt.xlabel('Number of communities', fontsize=14);\n",
    "plt.ylabel('Proportion', fontsize=14)\n",
    "plt.grid()\n",
    "#plt.legend(title=r'Value of $\\eta$')\n",
    "plt.title('DBLP graph', fontsize=16);\n",
    "plt.savefig('dblp_eta.png')\n"
   ]
  },
  {
   "cell_type": "markdown",
   "id": "c18d017c",
   "metadata": {},
   "source": [
    "## Ryan's experiment - overlap sizes\n",
    " "
   ]
  },
  {
   "cell_type": "code",
   "execution_count": 7,
   "id": "545dac20",
   "metadata": {},
   "outputs": [
    {
     "name": "stderr",
     "output_type": "stream",
     "text": [
      "100%|████████████████████████████████████████████████████████████████████████████████████████| 260998/260998 [14:24<00:00, 301.89it/s]\n"
     ]
    }
   ],
   "source": [
    "from itertools import combinations\n",
    "from collections import defaultdict\n",
    "from tqdm import trange, tqdm\n",
    "\n",
    "C = [set(x) for x in G.vs['comms'] if len(x)>0]\n",
    "two_overlaps = defaultdict(int)\n",
    "three_overlaps = defaultdict(int)\n",
    "four_overlaps = defaultdict(int)\n",
    "for com in tqdm(C):\n",
    "    for k2 in combinations(com, 2):\n",
    "        two_overlaps[frozenset(k2)] += 1\n",
    "    for k3 in combinations(com, 3):\n",
    "        three_overlaps[frozenset(k3)] += 1\n",
    "    for k4 in combinations(com, 4):\n",
    "        four_overlaps[frozenset(k4)] += 1\n",
    "\n"
   ]
  },
  {
   "cell_type": "code",
   "execution_count": 8,
   "id": "70b174b1",
   "metadata": {},
   "outputs": [
    {
     "name": "stderr",
     "output_type": "stream",
     "text": [
      "/var/folders/g5/lz340qv523z3y54wc0s6wrj40000gn/T/ipykernel_63066/1173758768.py:11: RuntimeWarning: divide by zero encountered in log\n",
      "  _df['log'] = [np.log(x) for x in _df['count']]\n"
     ]
    }
   ],
   "source": [
    "## bin the results\n",
    "_df = pd.DataFrame()\n",
    "bins = [1,2,4,8,16,32,64,128,256,512,1024,99999]\n",
    "bin_labels = [str(bins[i]+1)+\"-\"+str(bins[i+1]) for i in range(len(bins)-1)]\n",
    "bin_labels[0] = \"1-2\"\n",
    "bin_labels[10] = '1025+'\n",
    "_df['bin'] = np.tile(bin_labels, 3)\n",
    "_df['communities'] = np.repeat([2,3,4],11)\n",
    "_df['count'] = np.concatenate([np.histogram(list(two_overlaps.values()), bins=bins)[0],np.histogram(list(three_overlaps.values()), bins=bins)[0],np.histogram(list(four_overlaps.values()), bins=bins)[0]])\n",
    "_df.head()\n",
    "_df['log'] = [np.log(x) for x in _df['count']]"
   ]
  },
  {
   "cell_type": "code",
   "execution_count": 9,
   "id": "9d69a29c",
   "metadata": {},
   "outputs": [
    {
     "data": {
      "text/plain": [
       "Text(0.5, 1.0, 'Community overlap sizes in DBLP')"
      ]
     },
     "execution_count": 9,
     "metadata": {},
     "output_type": "execute_result"
    },
    {
     "data": {
      "image/png": "[encoded data removed]",
      "text/plain": [
       "<Figure size 1200x800 with 1 Axes>"
      ]
     },
     "metadata": {},
     "output_type": "display_data"
    }
   ],
   "source": [
    "\n",
    "plt.figure(figsize=(12,8))\n",
    "sns.barplot(x=\"bin\", y=\"log\", hue=\"communities\", data=_df, palette=sns.color_palette('mako', n_colors=3));\n",
    "plt.xlabel('Overlap size', fontsize=16);\n",
    "plt.ylabel('Log(frequency)', fontsize=16)\n",
    "plt.grid()\n",
    "plt.legend(title='Number of overlapping communities', fontsize=13, title_fontsize=13)\n",
    "plt.title(r'Community overlap sizes in DBLP', fontsize=18)\n",
    "#plt.savefig('dblp_overlap.png')\n"
   ]
  },
  {
   "cell_type": "markdown",
   "id": "979c6090",
   "metadata": {},
   "source": [
    "## Power law degrees?"
   ]
  },
  {
   "cell_type": "code",
   "execution_count": 19,
   "id": "256e9de3",
   "metadata": {},
   "outputs": [
    {
     "data": {
      "image/png": "[encoded data removed]",
      "text/plain": [
       "<Figure size 640x480 with 1 Axes>"
      ]
     },
     "metadata": {},
     "output_type": "display_data"
    }
   ],
   "source": [
    "deg = G.degree()\n",
    "C = Counter(deg)\n",
    "plt.loglog(C.keys(),C.values(), '.');\n"
   ]
  },
  {
   "cell_type": "code",
   "execution_count": 21,
   "id": "7c185e41",
   "metadata": {},
   "outputs": [
    {
     "name": "stdout",
     "output_type": "stream",
     "text": [
      "\n",
      "gamma: 1.7200142410816865\n",
      "l': 1.0\n",
      "KS statistic: 0.2567252529417844\n"
     ]
    }
   ],
   "source": [
    "## bad fit over all values\n",
    "X = powerlaw.Fit(deg, xmin=min(deg))\n",
    "print(\"\\ngamma:\", X.power_law.alpha)\n",
    "print(\"l':\", X.power_law.xmin)\n",
    "print(\"KS statistic:\", X.power_law.D)\n"
   ]
  },
  {
   "cell_type": "code",
   "execution_count": 22,
   "id": "97468021",
   "metadata": {},
   "outputs": [
    {
     "name": "stdout",
     "output_type": "stream",
     "text": [
      "Calculating best minimal value for power law fit\n",
      "xmin progress: 00%\r",
      "xmin progress: 00%\r",
      "xmin progress: 01%\r",
      "xmin progress: 01%\r",
      "xmin progress: 02%\r",
      "xmin progress: 02%\r",
      "xmin progress: 03%\r",
      "xmin progress: 03%\r",
      "xmin progress: 04%\r",
      "xmin progress: 04%\r",
      "xmin progress: 05%\r",
      "xmin progress: 05%\r",
      "xmin progress: 06%\r",
      "xmin progress: 06%\r",
      "xmin progress: 07%\r",
      "xmin progress: 07%\r",
      "xmin progress: 08%\r",
      "xmin progress: 08%\r",
      "xmin progress: 09%\r",
      "xmin progress: 09%\r",
      "xmin progress: 10%\r",
      "xmin progress: 10%\r",
      "xmin progress: 11%\r",
      "xmin progress: 11%\r",
      "xmin progress: 12%\r",
      "xmin progress: 12%\r",
      "xmin progress: 13%\r",
      "xmin progress: 13%\r",
      "xmin progress: 14%\r",
      "xmin progress: 14%\r",
      "xmin progress: 15%\r",
      "xmin progress: 15%\r",
      "xmin progress: 16%\r",
      "xmin progress: 16%\r",
      "xmin progress: 17%\r",
      "xmin progress: 17%\r",
      "xmin progress: 18%\r",
      "xmin progress: 18%\r",
      "xmin progress: 19%\r",
      "xmin progress: 19%\r",
      "xmin progress: 20%\r",
      "xmin progress: 20%\r",
      "xmin progress: 21%\r",
      "xmin progress: 21%\r",
      "xmin progress: 22%\r",
      "xmin progress: 22%\r",
      "xmin progress: 23%\r",
      "xmin progress: 23%\r",
      "xmin progress: 24%\r",
      "xmin progress: 24%\r",
      "xmin progress: 25%\r",
      "xmin progress: 25%\r",
      "xmin progress: 26%\r",
      "xmin progress: 26%\r",
      "xmin progress: 27%\r",
      "xmin progress: 27%\r",
      "xmin progress: 28%\r",
      "xmin progress: 28%\r",
      "xmin progress: 29%\r",
      "xmin progress: 29%\r",
      "xmin progress: 30%\r",
      "xmin progress: 30%\r",
      "xmin progress: 31%\r",
      "xmin progress: 31%\r",
      "xmin progress: 32%\r",
      "xmin progress: 32%\r",
      "xmin progress: 33%\r",
      "xmin progress: 33%\r",
      "xmin progress: 34%\r",
      "xmin progress: 34%\r",
      "xmin progress: 35%\r",
      "xmin progress: 35%\r",
      "xmin progress: 36%\r",
      "xmin progress: 36%\r",
      "xmin progress: 37%\r",
      "xmin progress: 37%\r",
      "xmin progress: 38%\r",
      "xmin progress: 38%\r",
      "xmin progress: 39%\r",
      "xmin progress: 39%\r",
      "xmin progress: 40%\r",
      "xmin progress: 40%\r",
      "xmin progress: 41%\r",
      "xmin progress: 41%\r",
      "xmin progress: 42%\r",
      "xmin progress: 42%\r",
      "xmin progress: 43%\r",
      "xmin progress: 43%\r",
      "xmin progress: 44%\r",
      "xmin progress: 44%\r",
      "xmin progress: 45%\r",
      "xmin progress: 45%\r",
      "xmin progress: 46%\r",
      "xmin progress: 46%\r",
      "xmin progress: 47%\r",
      "xmin progress: 47%\r",
      "xmin progress: 48%\r",
      "xmin progress: 48%\r",
      "xmin progress: 49%\r",
      "xmin progress: 50%\r",
      "xmin progress: 50%\r",
      "xmin progress: 51%\r",
      "xmin progress: 51%\r",
      "xmin progress: 52%\r",
      "xmin progress: 52%\r",
      "xmin progress: 53%\r",
      "xmin progress: 53%\r",
      "xmin progress: 54%\r",
      "xmin progress: 54%\r",
      "xmin progress: 55%\r",
      "xmin progress: 55%\r",
      "xmin progress: 56%\r",
      "xmin progress: 56%\r",
      "xmin progress: 57%\r",
      "xmin progress: 57%\r",
      "xmin progress: 58%\r",
      "xmin progress: 58%\r",
      "xmin progress: 59%\r",
      "xmin progress: 59%\r",
      "xmin progress: 60%\r",
      "xmin progress: 60%\r",
      "xmin progress: 61%\r",
      "xmin progress: 61%\r",
      "xmin progress: 62%\r",
      "xmin progress: 62%\r",
      "xmin progress: 63%\r",
      "xmin progress: 63%\r",
      "xmin progress: 64%\r",
      "xmin progress: 64%\r",
      "xmin progress: 65%\r",
      "xmin progress: 65%\r",
      "xmin progress: 66%\r",
      "xmin progress: 66%\r",
      "xmin progress: 67%\r",
      "xmin progress: 67%\r",
      "xmin progress: 68%\r",
      "xmin progress: 68%\r",
      "xmin progress: 69%\r",
      "xmin progress: 69%\r",
      "xmin progress: 70%\r",
      "xmin progress: 70%\r",
      "xmin progress: 71%\r",
      "xmin progress: 71%\r",
      "xmin progress: 72%\r",
      "xmin progress: 72%\r",
      "xmin progress: 73%\r",
      "xmin progress: 73%\r",
      "xmin progress: 74%\r",
      "xmin progress: 74%\r",
      "xmin progress: 75%\r",
      "xmin progress: 75%\r",
      "xmin progress: 76%\r",
      "xmin progress: 76%\r",
      "xmin progress: 77%\r",
      "xmin progress: 77%\r",
      "xmin progress: 78%\r",
      "xmin progress: 78%\r",
      "xmin progress: 79%\r",
      "xmin progress: 79%\r",
      "xmin progress: 80%\r",
      "xmin progress: 80%\r",
      "xmin progress: 81%\r",
      "xmin progress: 81%\r",
      "xmin progress: 82%\r",
      "xmin progress: 82%\r",
      "xmin progress: 83%\r",
      "xmin progress: 83%\r",
      "xmin progress: 84%\r",
      "xmin progress: 84%\r",
      "xmin progress: 85%\r",
      "xmin progress: 85%\r",
      "xmin progress: 86%\r",
      "xmin progress: 86%\r",
      "xmin progress: 87%\r",
      "xmin progress: 87%\r",
      "xmin progress: 88%\r",
      "xmin progress: 88%\r",
      "xmin progress: 89%\r",
      "xmin progress: 89%\r",
      "xmin progress: 90%\r",
      "xmin progress: 90%\r",
      "xmin progress: 91%\r",
      "xmin progress: 91%\r",
      "xmin progress: 92%\r",
      "xmin progress: 92%\r",
      "xmin progress: 93%\r",
      "xmin progress: 93%\r",
      "xmin progress: 94%\r",
      "xmin progress: 94%\r",
      "xmin progress: 95%\r",
      "xmin progress: 95%\r",
      "xmin progress: 96%\r",
      "xmin progress: 96%\r",
      "xmin progress: 97%\r",
      "xmin progress: 97%\r",
      "xmin progress: 98%\r",
      "xmin progress: 98%\r",
      "xmin progress: 99%\r\n",
      "gamma: 6.6798283250547295\n",
      "l': 143.0\n",
      "KS statistic: 0.03768165084255981\n"
     ]
    }
   ],
   "source": [
    "## best fit cover very small range (tail)\n",
    "X = powerlaw.Fit(deg)\n",
    "print(\"\\ngamma:\", X.power_law.alpha)\n",
    "print(\"l':\", X.power_law.xmin)\n",
    "print(\"KS statistic:\", X.power_law.D)\n"
   ]
  },
  {
   "cell_type": "code",
   "execution_count": 23,
   "id": "eb8732dd",
   "metadata": {},
   "outputs": [
    {
     "name": "stdout",
     "output_type": "stream",
     "text": [
      "\n",
      "gamma: 2.885537441163166\n",
      "l': 15.0\n",
      "KS statistic: 0.0533751551864437\n"
     ]
    }
   ],
   "source": [
    "## not so bad from degree 15 onward\n",
    "X = powerlaw.Fit(deg, xmin=15)\n",
    "print(\"\\ngamma:\", X.power_law.alpha)\n",
    "print(\"l':\", X.power_law.xmin)\n",
    "print(\"KS statistic:\", X.power_law.D)\n"
   ]
  },
  {
   "cell_type": "markdown",
   "id": "4148470b",
   "metadata": {},
   "source": [
    "## Power Law community sizes ?"
   ]
  },
  {
   "cell_type": "code",
   "execution_count": 11,
   "id": "20267325",
   "metadata": {
    "scrolled": false
   },
   "outputs": [
    {
     "data": {
      "image/png": "[encoded data removed]",
      "text/plain": [
       "<Figure size 640x480 with 1 Axes>"
      ]
     },
     "metadata": {},
     "output_type": "display_data"
    }
   ],
   "source": [
    "## community size\n",
    "C = Counter([len(x) for x in Communities])\n",
    "plt.loglog(C.keys(),C.values(), '.');\n"
   ]
  },
  {
   "cell_type": "code",
   "execution_count": 30,
   "id": "cd53c5f2",
   "metadata": {},
   "outputs": [
    {
     "name": "stdout",
     "output_type": "stream",
     "text": [
      "Calculating best minimal value for power law fit\n",
      "xmin progress: 00%\r",
      "xmin progress: 00%\r",
      "xmin progress: 00%\r",
      "xmin progress: 00%\r",
      "xmin progress: 00%\r",
      "xmin progress: 00%\r",
      "xmin progress: 00%\r",
      "xmin progress: 01%\r",
      "xmin progress: 01%\r",
      "xmin progress: 01%\r",
      "xmin progress: 01%\r",
      "xmin progress: 01%\r",
      "xmin progress: 01%\r",
      "xmin progress: 01%\r",
      "xmin progress: 02%\r",
      "xmin progress: 02%\r",
      "xmin progress: 02%\r",
      "xmin progress: 02%\r",
      "xmin progress: 02%\r",
      "xmin progress: 02%\r",
      "xmin progress: 02%\r",
      "xmin progress: 03%\r",
      "xmin progress: 03%\r",
      "xmin progress: 03%\r",
      "xmin progress: 03%\r",
      "xmin progress: 03%\r",
      "xmin progress: 03%\r",
      "xmin progress: 04%\r",
      "xmin progress: 04%\r",
      "xmin progress: 04%\r",
      "xmin progress: 04%\r",
      "xmin progress: 04%\r",
      "xmin progress: 04%\r",
      "xmin progress: 04%\r",
      "xmin progress: 05%\r",
      "xmin progress: 05%\r",
      "xmin progress: 05%\r",
      "xmin progress: 05%\r",
      "xmin progress: 05%\r",
      "xmin progress: 05%\r",
      "xmin progress: 05%\r",
      "xmin progress: 06%\r",
      "xmin progress: 06%\r",
      "xmin progress: 06%\r",
      "xmin progress: 06%\r",
      "xmin progress: 06%\r",
      "xmin progress: 06%\r",
      "xmin progress: 06%\r",
      "xmin progress: 07%\r",
      "xmin progress: 07%\r",
      "xmin progress: 07%\r",
      "xmin progress: 07%\r",
      "xmin progress: 07%\r",
      "xmin progress: 07%\r",
      "xmin progress: 08%\r",
      "xmin progress: 08%\r",
      "xmin progress: 08%\r",
      "xmin progress: 08%\r",
      "xmin progress: 08%\r",
      "xmin progress: 08%\r",
      "xmin progress: 08%\r",
      "xmin progress: 09%\r",
      "xmin progress: 09%\r",
      "xmin progress: 09%\r",
      "xmin progress: 09%\r",
      "xmin progress: 09%\r",
      "xmin progress: 09%\r",
      "xmin progress: 09%\r",
      "xmin progress: 10%\r",
      "xmin progress: 10%\r",
      "xmin progress: 10%\r",
      "xmin progress: 10%\r",
      "xmin progress: 10%\r",
      "xmin progress: 10%\r",
      "xmin progress: 11%\r",
      "xmin progress: 11%\r",
      "xmin progress: 11%\r",
      "xmin progress: 11%\r",
      "xmin progress: 11%\r",
      "xmin progress: 11%\r",
      "xmin progress: 11%\r",
      "xmin progress: 12%\r",
      "xmin progress: 12%\r",
      "xmin progress: 12%\r",
      "xmin progress: 12%\r",
      "xmin progress: 12%\r",
      "xmin progress: 12%\r",
      "xmin progress: 12%\r",
      "xmin progress: 13%\r",
      "xmin progress: 13%\r",
      "xmin progress: 13%\r",
      "xmin progress: 13%\r",
      "xmin progress: 13%\r",
      "xmin progress: 13%\r",
      "xmin progress: 13%\r",
      "xmin progress: 14%\r",
      "xmin progress: 14%\r",
      "xmin progress: 14%\r",
      "xmin progress: 14%\r",
      "xmin progress: 14%\r",
      "xmin progress: 14%\r",
      "xmin progress: 15%\r",
      "xmin progress: 15%\r",
      "xmin progress: 15%\r",
      "xmin progress: 15%\r",
      "xmin progress: 15%\r",
      "xmin progress: 15%\r",
      "xmin progress: 15%\r",
      "xmin progress: 16%\r",
      "xmin progress: 16%\r",
      "xmin progress: 16%\r",
      "xmin progress: 16%\r",
      "xmin progress: 16%\r",
      "xmin progress: 16%\r",
      "xmin progress: 16%\r",
      "xmin progress: 17%\r",
      "xmin progress: 17%\r",
      "xmin progress: 17%\r",
      "xmin progress: 17%\r",
      "xmin progress: 17%\r",
      "xmin progress: 17%\r",
      "xmin progress: 18%\r",
      "xmin progress: 18%\r",
      "xmin progress: 18%\r",
      "xmin progress: 18%\r",
      "xmin progress: 18%\r",
      "xmin progress: 18%\r",
      "xmin progress: 18%\r",
      "xmin progress: 19%\r",
      "xmin progress: 19%\r",
      "xmin progress: 19%\r",
      "xmin progress: 19%\r",
      "xmin progress: 19%\r",
      "xmin progress: 19%\r",
      "xmin progress: 19%\r",
      "xmin progress: 20%\r",
      "xmin progress: 20%\r",
      "xmin progress: 20%\r",
      "xmin progress: 20%\r",
      "xmin progress: 20%\r",
      "xmin progress: 20%\r",
      "xmin progress: 20%\r",
      "xmin progress: 21%\r",
      "xmin progress: 21%\r",
      "xmin progress: 21%\r",
      "xmin progress: 21%\r",
      "xmin progress: 21%\r",
      "xmin progress: 21%\r",
      "xmin progress: 22%\r",
      "xmin progress: 22%\r",
      "xmin progress: 22%\r",
      "xmin progress: 22%\r",
      "xmin progress: 22%\r",
      "xmin progress: 22%\r",
      "xmin progress: 22%\r",
      "xmin progress: 23%\r",
      "xmin progress: 23%\r",
      "xmin progress: 23%\r",
      "xmin progress: 23%\r",
      "xmin progress: 23%\r",
      "xmin progress: 23%\r",
      "xmin progress: 23%\r",
      "xmin progress: 24%\r",
      "xmin progress: 24%\r",
      "xmin progress: 24%\r",
      "xmin progress: 24%\r",
      "xmin progress: 24%\r",
      "xmin progress: 24%\r",
      "xmin progress: 25%\r",
      "xmin progress: 25%\r",
      "xmin progress: 25%\r",
      "xmin progress: 25%\r",
      "xmin progress: 25%\r",
      "xmin progress: 25%\r",
      "xmin progress: 25%\r",
      "xmin progress: 26%\r",
      "xmin progress: 26%\r",
      "xmin progress: 26%\r",
      "xmin progress: 26%\r",
      "xmin progress: 26%\r",
      "xmin progress: 26%\r",
      "xmin progress: 26%\r",
      "xmin progress: 27%\r",
      "xmin progress: 27%\r",
      "xmin progress: 27%\r",
      "xmin progress: 27%\r",
      "xmin progress: 27%\r",
      "xmin progress: 27%\r",
      "xmin progress: 27%\r",
      "xmin progress: 28%\r",
      "xmin progress: 28%\r",
      "xmin progress: 28%\r",
      "xmin progress: 28%\r",
      "xmin progress: 28%\r",
      "xmin progress: 28%\r",
      "xmin progress: 29%\r",
      "xmin progress: 29%\r",
      "xmin progress: 29%\r",
      "xmin progress: 29%\r",
      "xmin progress: 29%\r",
      "xmin progress: 29%\r",
      "xmin progress: 29%\r",
      "xmin progress: 30%\r",
      "xmin progress: 30%\r",
      "xmin progress: 30%\r",
      "xmin progress: 30%\r",
      "xmin progress: 30%\r",
      "xmin progress: 30%\r",
      "xmin progress: 30%\r",
      "xmin progress: 31%\r",
      "xmin progress: 31%\r",
      "xmin progress: 31%\r",
      "xmin progress: 31%\r",
      "xmin progress: 31%\r",
      "xmin progress: 31%\r",
      "xmin progress: 31%\r",
      "xmin progress: 32%\r",
      "xmin progress: 32%\r",
      "xmin progress: 32%\r",
      "xmin progress: 32%\r",
      "xmin progress: 32%\r",
      "xmin progress: 32%\r",
      "xmin progress: 33%\r",
      "xmin progress: 33%\r",
      "xmin progress: 33%\r",
      "xmin progress: 33%\r",
      "xmin progress: 33%\r",
      "xmin progress: 33%\r",
      "xmin progress: 33%\r",
      "xmin progress: 34%\r",
      "xmin progress: 34%\r",
      "xmin progress: 34%\r",
      "xmin progress: 34%\r",
      "xmin progress: 34%\r",
      "xmin progress: 34%\r",
      "xmin progress: 34%\r",
      "xmin progress: 35%\r",
      "xmin progress: 35%\r",
      "xmin progress: 35%\r",
      "xmin progress: 35%\r",
      "xmin progress: 35%\r",
      "xmin progress: 35%\r",
      "xmin progress: 36%\r",
      "xmin progress: 36%\r",
      "xmin progress: 36%\r",
      "xmin progress: 36%\r",
      "xmin progress: 36%\r",
      "xmin progress: 36%\r",
      "xmin progress: 36%\r",
      "xmin progress: 37%\r",
      "xmin progress: 37%\r",
      "xmin progress: 37%\r",
      "xmin progress: 37%\r",
      "xmin progress: 37%\r",
      "xmin progress: 37%\r",
      "xmin progress: 37%\r",
      "xmin progress: 38%\r",
      "xmin progress: 38%\r",
      "xmin progress: 38%\r",
      "xmin progress: 38%\r",
      "xmin progress: 38%\r",
      "xmin progress: 38%\r",
      "xmin progress: 38%\r",
      "xmin progress: 39%\r",
      "xmin progress: 39%\r",
      "xmin progress: 39%\r",
      "xmin progress: 39%\r",
      "xmin progress: 39%\r",
      "xmin progress: 39%\r",
      "xmin progress: 40%\r",
      "xmin progress: 40%\r",
      "xmin progress: 40%\r",
      "xmin progress: 40%\r",
      "xmin progress: 40%\r",
      "xmin progress: 40%\r",
      "xmin progress: 40%\r",
      "xmin progress: 41%\r",
      "xmin progress: 41%\r",
      "xmin progress: 41%\r",
      "xmin progress: 41%\r",
      "xmin progress: 41%\r",
      "xmin progress: 41%\r",
      "xmin progress: 41%\r",
      "xmin progress: 42%\r",
      "xmin progress: 42%\r",
      "xmin progress: 42%\r",
      "xmin progress: 42%\r",
      "xmin progress: 42%\r",
      "xmin progress: 42%\r",
      "xmin progress: 43%\r",
      "xmin progress: 43%\r",
      "xmin progress: 43%\r",
      "xmin progress: 43%\r",
      "xmin progress: 43%\r",
      "xmin progress: 43%\r",
      "xmin progress: 43%\r",
      "xmin progress: 44%\r",
      "xmin progress: 44%\r",
      "xmin progress: 44%\r",
      "xmin progress: 44%\r",
      "xmin progress: 44%\r",
      "xmin progress: 44%\r",
      "xmin progress: 44%\r",
      "xmin progress: 45%\r",
      "xmin progress: 45%\r",
      "xmin progress: 45%\r",
      "xmin progress: 45%\r",
      "xmin progress: 45%\r",
      "xmin progress: 45%\r",
      "xmin progress: 45%\r",
      "xmin progress: 46%\r",
      "xmin progress: 46%\r",
      "xmin progress: 46%\r",
      "xmin progress: 46%\r",
      "xmin progress: 46%\r",
      "xmin progress: 46%\r",
      "xmin progress: 47%\r",
      "xmin progress: 47%\r",
      "xmin progress: 47%\r",
      "xmin progress: 47%\r",
      "xmin progress: 47%\r",
      "xmin progress: 47%\r",
      "xmin progress: 47%\r",
      "xmin progress: 48%\r",
      "xmin progress: 48%\r",
      "xmin progress: 48%\r",
      "xmin progress: 48%\r",
      "xmin progress: 48%\r",
      "xmin progress: 48%\r",
      "xmin progress: 48%\r",
      "xmin progress: 49%\r",
      "xmin progress: 49%\r",
      "xmin progress: 49%\r",
      "xmin progress: 49%\r",
      "xmin progress: 49%\r",
      "xmin progress: 49%\r",
      "xmin progress: 50%\r",
      "xmin progress: 50%\r",
      "xmin progress: 50%\r",
      "xmin progress: 50%\r",
      "xmin progress: 50%\r",
      "xmin progress: 50%\r",
      "xmin progress: 50%\r",
      "xmin progress: 51%\r",
      "xmin progress: 51%\r",
      "xmin progress: 51%\r",
      "xmin progress: 51%\r",
      "xmin progress: 51%\r",
      "xmin progress: 51%\r",
      "xmin progress: 51%\r",
      "xmin progress: 52%\r",
      "xmin progress: 52%\r",
      "xmin progress: 52%\r",
      "xmin progress: 52%\r",
      "xmin progress: 52%\r",
      "xmin progress: 52%\r",
      "xmin progress: 52%\r",
      "xmin progress: 53%\r",
      "xmin progress: 53%\r",
      "xmin progress: 53%\r",
      "xmin progress: 53%\r",
      "xmin progress: 53%\r",
      "xmin progress: 53%\r",
      "xmin progress: 54%\r",
      "xmin progress: 54%\r",
      "xmin progress: 54%\r",
      "xmin progress: 54%\r",
      "xmin progress: 54%\r",
      "xmin progress: 54%\r",
      "xmin progress: 54%\r",
      "xmin progress: 55%\r",
      "xmin progress: 55%\r",
      "xmin progress: 55%\r",
      "xmin progress: 55%\r",
      "xmin progress: 55%\r",
      "xmin progress: 55%\r",
      "xmin progress: 55%\r",
      "xmin progress: 56%\r",
      "xmin progress: 56%\r",
      "xmin progress: 56%\r",
      "xmin progress: 56%\r",
      "xmin progress: 56%\r",
      "xmin progress: 56%\r",
      "xmin progress: 56%\r",
      "xmin progress: 57%\r",
      "xmin progress: 57%\r",
      "xmin progress: 57%\r",
      "xmin progress: 57%\r",
      "xmin progress: 57%\r",
      "xmin progress: 57%\r",
      "xmin progress: 58%\r",
      "xmin progress: 58%\r",
      "xmin progress: 58%\r",
      "xmin progress: 58%\r",
      "xmin progress: 58%\r",
      "xmin progress: 58%\r",
      "xmin progress: 58%\r",
      "xmin progress: 59%\r",
      "xmin progress: 59%\r",
      "xmin progress: 59%\r",
      "xmin progress: 59%\r",
      "xmin progress: 59%\r",
      "xmin progress: 59%\r",
      "xmin progress: 59%\r",
      "xmin progress: 60%\r",
      "xmin progress: 60%\r",
      "xmin progress: 60%\r",
      "xmin progress: 60%\r",
      "xmin progress: 60%\r",
      "xmin progress: 60%\r",
      "xmin progress: 61%\r",
      "xmin progress: 61%\r",
      "xmin progress: 61%\r",
      "xmin progress: 61%\r",
      "xmin progress: 61%\r",
      "xmin progress: 61%\r",
      "xmin progress: 61%\r",
      "xmin progress: 62%\r",
      "xmin progress: 62%\r",
      "xmin progress: 62%\r",
      "xmin progress: 62%\r",
      "xmin progress: 62%\r",
      "xmin progress: 62%\r",
      "xmin progress: 62%\r",
      "xmin progress: 63%\r",
      "xmin progress: 63%\r",
      "xmin progress: 63%\r",
      "xmin progress: 63%\r",
      "xmin progress: 63%\r",
      "xmin progress: 63%\r",
      "xmin progress: 63%\r",
      "xmin progress: 64%\r",
      "xmin progress: 64%\r",
      "xmin progress: 64%\r",
      "xmin progress: 64%\r",
      "xmin progress: 64%\r",
      "xmin progress: 64%\r",
      "xmin progress: 65%\r",
      "xmin progress: 65%\r",
      "xmin progress: 65%\r",
      "xmin progress: 65%\r",
      "xmin progress: 65%\r",
      "xmin progress: 65%\r",
      "xmin progress: 65%\r",
      "xmin progress: 66%\r",
      "xmin progress: 66%\r",
      "xmin progress: 66%\r",
      "xmin progress: 66%\r",
      "xmin progress: 66%\r",
      "xmin progress: 66%\r",
      "xmin progress: 66%\r",
      "xmin progress: 67%\r",
      "xmin progress: 67%\r",
      "xmin progress: 67%\r",
      "xmin progress: 67%\r",
      "xmin progress: 67%\r",
      "xmin progress: 67%\r",
      "xmin progress: 68%\r",
      "xmin progress: 68%\r",
      "xmin progress: 68%\r",
      "xmin progress: 68%\r",
      "xmin progress: 68%\r",
      "xmin progress: 68%\r",
      "xmin progress: 68%\r",
      "xmin progress: 69%\r",
      "xmin progress: 69%\r",
      "xmin progress: 69%\r",
      "xmin progress: 69%\r",
      "xmin progress: 69%\r",
      "xmin progress: 69%\r",
      "xmin progress: 69%\r",
      "xmin progress: 70%\r",
      "xmin progress: 70%\r",
      "xmin progress: 70%\r",
      "xmin progress: 70%\r",
      "xmin progress: 70%\r",
      "xmin progress: 70%\r",
      "xmin progress: 70%\r",
      "xmin progress: 71%\r",
      "xmin progress: 71%\r",
      "xmin progress: 71%\r",
      "xmin progress: 71%\r",
      "xmin progress: 71%\r",
      "xmin progress: 71%\r",
      "xmin progress: 72%\r",
      "xmin progress: 72%\r",
      "xmin progress: 72%\r",
      "xmin progress: 72%\r",
      "xmin progress: 72%\r",
      "xmin progress: 72%\r",
      "xmin progress: 72%\r",
      "xmin progress: 73%\r",
      "xmin progress: 73%\r",
      "xmin progress: 73%\r",
      "xmin progress: 73%\r",
      "xmin progress: 73%\r",
      "xmin progress: 73%\r",
      "xmin progress: 73%\r",
      "xmin progress: 74%\r",
      "xmin progress: 74%\r",
      "xmin progress: 74%\r",
      "xmin progress: 74%\r",
      "xmin progress: 74%\r",
      "xmin progress: 74%\r",
      "xmin progress: 75%\r",
      "xmin progress: 75%\r",
      "xmin progress: 75%\r",
      "xmin progress: 75%\r",
      "xmin progress: 75%\r",
      "xmin progress: 75%\r",
      "xmin progress: 75%\r",
      "xmin progress: 76%\r",
      "xmin progress: 76%\r",
      "xmin progress: 76%\r",
      "xmin progress: 76%\r",
      "xmin progress: 76%\r",
      "xmin progress: 76%\r",
      "xmin progress: 76%\r",
      "xmin progress: 77%\r",
      "xmin progress: 77%\r",
      "xmin progress: 77%\r",
      "xmin progress: 77%\r",
      "xmin progress: 77%\r",
      "xmin progress: 77%\r",
      "xmin progress: 77%\r",
      "xmin progress: 78%\r",
      "xmin progress: 78%\r",
      "xmin progress: 78%\r",
      "xmin progress: 78%\r",
      "xmin progress: 78%\r",
      "xmin progress: 78%\r",
      "xmin progress: 79%\r",
      "xmin progress: 79%\r",
      "xmin progress: 79%\r",
      "xmin progress: 79%\r",
      "xmin progress: 79%\r",
      "xmin progress: 79%\r",
      "xmin progress: 79%\r",
      "xmin progress: 80%\r",
      "xmin progress: 80%\r",
      "xmin progress: 80%\r",
      "xmin progress: 80%\r",
      "xmin progress: 80%\r",
      "xmin progress: 80%\r",
      "xmin progress: 80%\r",
      "xmin progress: 81%\r",
      "xmin progress: 81%\r",
      "xmin progress: 81%\r",
      "xmin progress: 81%\r",
      "xmin progress: 81%\r",
      "xmin progress: 81%\r",
      "xmin progress: 81%\r",
      "xmin progress: 82%\r",
      "xmin progress: 82%\r",
      "xmin progress: 82%\r",
      "xmin progress: 82%\r",
      "xmin progress: 82%\r",
      "xmin progress: 82%\r",
      "xmin progress: 83%\r",
      "xmin progress: 83%\r",
      "xmin progress: 83%\r",
      "xmin progress: 83%\r",
      "xmin progress: 83%\r",
      "xmin progress: 83%\r",
      "xmin progress: 83%\r",
      "xmin progress: 84%\r",
      "xmin progress: 84%\r",
      "xmin progress: 84%\r",
      "xmin progress: 84%\r",
      "xmin progress: 84%\r",
      "xmin progress: 84%\r",
      "xmin progress: 84%\r",
      "xmin progress: 85%\r",
      "xmin progress: 85%\r",
      "xmin progress: 85%\r",
      "xmin progress: 85%\r",
      "xmin progress: 85%\r",
      "xmin progress: 85%\r",
      "xmin progress: 86%\r",
      "xmin progress: 86%\r",
      "xmin progress: 86%\r",
      "xmin progress: 86%\r",
      "xmin progress: 86%\r",
      "xmin progress: 86%\r",
      "xmin progress: 86%\r",
      "xmin progress: 87%\r",
      "xmin progress: 87%\r",
      "xmin progress: 87%\r",
      "xmin progress: 87%\r",
      "xmin progress: 87%\r",
      "xmin progress: 87%\r",
      "xmin progress: 87%\r",
      "xmin progress: 88%\r",
      "xmin progress: 88%\r",
      "xmin progress: 88%\r",
      "xmin progress: 88%\r",
      "xmin progress: 88%\r",
      "xmin progress: 88%\r",
      "xmin progress: 88%\r",
      "xmin progress: 89%\r",
      "xmin progress: 89%\r",
      "xmin progress: 89%\r",
      "xmin progress: 89%\r",
      "xmin progress: 89%\r",
      "xmin progress: 89%\r",
      "xmin progress: 90%\r",
      "xmin progress: 90%\r",
      "xmin progress: 90%\r",
      "xmin progress: 90%\r",
      "xmin progress: 90%\r",
      "xmin progress: 90%\r",
      "xmin progress: 90%\r",
      "xmin progress: 91%\r",
      "xmin progress: 91%\r",
      "xmin progress: 91%\r",
      "xmin progress: 91%\r",
      "xmin progress: 91%\r",
      "xmin progress: 91%\r",
      "xmin progress: 91%\r",
      "xmin progress: 92%\r",
      "xmin progress: 92%\r",
      "xmin progress: 92%\r",
      "xmin progress: 92%\r",
      "xmin progress: 92%\r",
      "xmin progress: 92%\r",
      "xmin progress: 93%\r",
      "xmin progress: 93%\r",
      "xmin progress: 93%\r",
      "xmin progress: 93%\r",
      "xmin progress: 93%\r",
      "xmin progress: 93%\r",
      "xmin progress: 93%\r",
      "xmin progress: 94%\r",
      "xmin progress: 94%\r",
      "xmin progress: 94%\r",
      "xmin progress: 94%\r",
      "xmin progress: 94%\r",
      "xmin progress: 94%\r",
      "xmin progress: 94%\r",
      "xmin progress: 95%\r",
      "xmin progress: 95%\r",
      "xmin progress: 95%\r",
      "xmin progress: 95%\r",
      "xmin progress: 95%\r",
      "xmin progress: 95%\r",
      "xmin progress: 95%\r",
      "xmin progress: 96%\r",
      "xmin progress: 96%\r",
      "xmin progress: 96%\r",
      "xmin progress: 96%\r",
      "xmin progress: 96%\r",
      "xmin progress: 96%\r",
      "xmin progress: 97%\r",
      "xmin progress: 97%\r",
      "xmin progress: 97%\r",
      "xmin progress: 97%\r",
      "xmin progress: 97%\r",
      "xmin progress: 97%\r",
      "xmin progress: 97%\r",
      "xmin progress: 98%\r",
      "xmin progress: 98%\r",
      "xmin progress: 98%\r",
      "xmin progress: 98%\r",
      "xmin progress: 98%\r",
      "xmin progress: 98%\r",
      "xmin progress: 98%\r",
      "xmin progress: 99%\r",
      "xmin progress: 99%\r",
      "xmin progress: 99%\r",
      "xmin progress: 99%\r",
      "xmin progress: 99%\r",
      "xmin progress: 99%\r\n",
      "gamma: 3.0600876779938555\n",
      "l': 1346.0\n",
      "KS statistic: 0.06008881346685707\n"
     ]
    }
   ],
   "source": [
    "## estimates for l' quite large ...\n",
    "C = [len(x) for x in Communities]\n",
    "X = powerlaw.Fit(C)\n",
    "print(\"\\ngamma:\", X.power_law.alpha)\n",
    "print(\"l':\", X.power_law.xmin)\n",
    "print(\"KS statistic:\", X.power_law.D)\n"
   ]
  },
  {
   "cell_type": "code",
   "execution_count": 31,
   "id": "13671417",
   "metadata": {},
   "outputs": [
    {
     "data": {
      "image/png": "[encoded data removed]",
      "text/plain": [
       "<Figure size 640x480 with 1 Axes>"
      ]
     },
     "metadata": {},
     "output_type": "display_data"
    }
   ],
   "source": [
    "## Starting from l'\n",
    "fig1 = X.power_law.plot_ccdf(color=\"black\", linestyle=\"-\")\n",
    "fig1 = X.plot_ccdf(ax=fig1, linewidth=2, color=\"gray\", original_data=False, linestyle=\":\")\n",
    "fig1.set_xlabel(\"size\", fontsize=13)\n",
    "fig1.set_ylabel(\"inverse cdf\", fontsize=13);\n"
   ]
  },
  {
   "cell_type": "code",
   "execution_count": 27,
   "id": "0b7e20b9",
   "metadata": {},
   "outputs": [
    {
     "data": {
      "text/plain": [
       "0.883318051735156"
      ]
     },
     "execution_count": 27,
     "metadata": {},
     "output_type": "execute_result"
    }
   ],
   "source": [
    "## weight of communities of size 15+ \n",
    "sum([len(x) for x in Communities if len(x)>=15]) / sum([len(x) for x in Communities])"
   ]
  },
  {
   "cell_type": "code",
   "execution_count": 35,
   "id": "099d5a26",
   "metadata": {},
   "outputs": [
    {
     "name": "stdout",
     "output_type": "stream",
     "text": [
      "\n",
      "gamma: 1.6977365255717456\n",
      "l': 15.0\n",
      "KS statistic: 0.09401829094455161\n"
     ]
    }
   ],
   "source": [
    "## starting from size 15 ... \n",
    "C = [len(x) for x in Communities]\n",
    "X = powerlaw.Fit(C, xmin=15)\n",
    "print(\"\\ngamma:\", X.power_law.alpha)\n",
    "print(\"l':\", X.power_law.xmin)\n",
    "print(\"KS statistic:\", X.power_law.D)\n"
   ]
  },
  {
   "cell_type": "code",
   "execution_count": 36,
   "id": "7f14fef6",
   "metadata": {},
   "outputs": [
    {
     "data": {
      "image/png": "[encoded data removed]",
      "text/plain": [
       "<Figure size 640x480 with 1 Axes>"
      ]
     },
     "metadata": {},
     "output_type": "display_data"
    }
   ],
   "source": [
    "## Starting from l'\n",
    "fig1 = X.power_law.plot_ccdf(color=\"black\", linestyle=\"-\")\n",
    "fig1 = X.plot_ccdf(ax=fig1, linewidth=2, color=\"gray\", original_data=False, linestyle=\":\")\n",
    "fig1.set_xlabel(\"size\", fontsize=13)\n",
    "fig1.set_ylabel(\"inverse cdf\", fontsize=13);\n"
   ]
  },
  {
   "cell_type": "markdown",
   "id": "f764266e",
   "metadata": {},
   "source": [
    "## density in large overlaps vs communities\n"
   ]
  },
  {
   "cell_type": "code",
   "execution_count": 65,
   "id": "a9a62b71",
   "metadata": {
    "scrolled": false
   },
   "outputs": [
    {
     "name": "stdout",
     "output_type": "stream",
     "text": [
      "CPU times: user 37.5 s, sys: 1.98 s, total: 39.4 s\n",
      "Wall time: 39.5 s\n"
     ]
    }
   ],
   "source": [
    "%%time\n",
    "S = [set(x) for x in Communities]\n",
    "L = []\n",
    "l = len(S)\n",
    "for i in range(l-1):\n",
    "    for j in range(i+1,l):\n",
    "        I = S[i].intersection(S[j])\n",
    "        if len(I)>=100:\n",
    "            sg = G.subgraph([v_dct[k] for k in I])\n",
    "            idt = 2*sg.ecount()/(sg.vcount()*(sg.vcount()-1))\n",
    "            inter = sg.vcount()\n",
    "            sg = G.subgraph([v_dct[k] for k in set(Communities[i]).union(set(Communities[j]))])\n",
    "            udt = 2*sg.ecount()/(sg.vcount()*(sg.vcount()-1))\n",
    "            sg = G.subgraph([v_dct[k] for k in np.random.choice(list(set(Communities[i]).union(set(Communities[j]))), size=inter)])\n",
    "            sdt = 2*sg.ecount()/(sg.vcount()*(sg.vcount()-1))\n",
    "            L.append([len(I),idt,udt,sdt])\n",
    "_df = pd.DataFrame(L, columns=['intersection','inter_density','union_density','sample_density'])\n"
   ]
  },
  {
   "cell_type": "code",
   "execution_count": 67,
   "id": "348df89d",
   "metadata": {},
   "outputs": [
    {
     "data": {
      "image/png": "[encoded data removed]",
      "text/plain": [
       "<Figure size 640x480 with 1 Axes>"
      ]
     },
     "metadata": {},
     "output_type": "display_data"
    }
   ],
   "source": [
    "_df.boxplot(column=['inter_density','union_density','sample_density'], showfliers=False);\n"
   ]
  },
  {
   "cell_type": "markdown",
   "id": "cad44cdc",
   "metadata": {},
   "source": [
    "## community intersections?\n"
   ]
  },
  {
   "cell_type": "code",
   "execution_count": 88,
   "id": "f92246c4",
   "metadata": {
    "scrolled": true
   },
   "outputs": [],
   "source": [
    "def Jac(a,b):\n",
    "    return len(set(a).intersection(set(b))) / len(set(a).union(set(b)))\n",
    "## sample at random from all community pairs\n",
    "l = len(Communities)\n",
    "L = []\n",
    "n = G.vcount()\n",
    "d = np.array(G.degree())/sum(G.degree())\n",
    "for i in range(10000):\n",
    "    r = np.random.choice(l, 2, replace=False)\n",
    "    j = Jac(Communities[r[1]],Communities[r[0]])\n",
    "    v1 = set(np.random.choice(n, l1, replace=False, p=d))\n",
    "    v2 = set(np.random.choice(n, l2, replace=False, p=d))\n",
    "    L.append([j , Jac(v1,v2)])\n",
    "df  = pd.DataFrame(L, columns=['dblp','random'])\n"
   ]
  },
  {
   "cell_type": "code",
   "execution_count": 98,
   "id": "223303b3",
   "metadata": {},
   "outputs": [
    {
     "name": "stdout",
     "output_type": "stream",
     "text": [
      "54 9\n"
     ]
    }
   ],
   "source": [
    "print(sum(df.dblp>df.random) , sum(df.dblp<df.random))"
   ]
  },
  {
   "cell_type": "code",
   "execution_count": 102,
   "id": "4ae52990",
   "metadata": {
    "scrolled": false
   },
   "outputs": [
    {
     "data": {
      "image/png": "[encoded data removed]",
      "text/plain": [
       "<Figure size 640x480 with 1 Axes>"
      ]
     },
     "metadata": {},
     "output_type": "display_data"
    }
   ],
   "source": [
    "epsilon=.0001\n",
    "sns.violinplot([ df.random[df.dblp>0]+epsilon, df.dblp[df.dblp>0]+epsilon ], log_scale=True )\n",
    "plt.title('Jaccard');        \n"
   ]
  },
  {
   "cell_type": "raw",
   "id": "c3ffb237",
   "metadata": {},
   "source": [
    "DBLP\n",
    "\n",
    "eta = 2.7579521682158483\n",
    "xi_hat = 0.1088738943827117\n",
    "\n",
    "number of GT communities: 13477\n",
    "most common community sizes:\n",
    "[(6, 3680), (7, 2195), (8, 1461), (9, 1005), (10, 747), (11, 564), (12, 391), (13, 310), (14, 244), (16, 204)]\n",
    "\n",
    "number of edges: 1049866\n",
    "number of nodes: 317080 \n",
    "\n",
    "Number of memberships (most frequent):\n",
    "[(1, 150192), (0, 56082), (2, 43279), (3, 20163), (4, 11770), (5, 7909), (6, 5513), (7, 3915), (8, 3011), (9, 2332)] \n"
   ]
  },
  {
   "cell_type": "markdown",
   "id": "7465634f",
   "metadata": {},
   "source": [
    "### Clustering\n",
    "\n",
    "* Leiden and compare with (single-community) GT\n"
   ]
  },
  {
   "cell_type": "code",
   "execution_count": 103,
   "id": "bebab84a",
   "metadata": {
    "scrolled": true
   },
   "outputs": [
    {
     "name": "stdout",
     "output_type": "stream",
     "text": [
      "number of communities found: 270\n",
      "AMI: 0.2822096491429429\n",
      "CPU times: user 2.53 s, sys: 88.2 ms, total: 2.61 s\n",
      "Wall time: 2.63 s\n"
     ]
    }
   ],
   "source": [
    "%%time\n",
    "G.vs['leiden'] = G.community_leiden(objective_function='modularity').membership\n",
    "print('number of communities found:',max(G.vs['leiden']))\n",
    "print('AMI:',AMI(G.vs['gt'], G.vs['leiden']))\n"
   ]
  },
  {
   "cell_type": "markdown",
   "id": "c0b1ab9c",
   "metadata": {},
   "source": [
    "### Post-processing\n",
    "\n",
    "Compute the following measures and compare outliers found (no community ) with GT outliers:\n",
    "\n",
    "* internal edge fraction (IEF)\n",
    "* Beta score\n",
    "* C score\n",
    "* Pv (p-values) score\n"
   ]
  },
  {
   "cell_type": "code",
   "execution_count": 104,
   "id": "35d940ce",
   "metadata": {
    "scrolled": false
   },
   "outputs": [
    {
     "name": "stdout",
     "output_type": "stream",
     "text": [
      "CPU times: user 15.9 s, sys: 394 ms, total: 16.3 s\n",
      "Wall time: 16.3 s\n"
     ]
    }
   ],
   "source": [
    "%%time\n",
    "A = G.get_adjacency_sparse()\n",
    "IEF, Beta, C, Pv, DegPart = CAS(A, partition2sparse(G.vs['leiden']), alpha=1)\n"
   ]
  },
  {
   "cell_type": "code",
   "execution_count": 105,
   "id": "822f46e0",
   "metadata": {},
   "outputs": [
    {
     "name": "stdout",
     "output_type": "stream",
     "text": [
      "IEF:\n",
      "outliers found: 52233\n",
      "ground-truth outliers found: 17513\n",
      "\n",
      "Beta score:\n",
      "outliers found: 52373\n",
      "ground-truth outliers found: 17513\n",
      "\n",
      "C score:\n",
      "outliers found: 52367\n",
      "ground-truth outliers found: 17517\n",
      "\n",
      "p-value score:\n",
      "outliers found: 52218\n",
      "ground-truth outliers found: 17513\n"
     ]
    }
   ],
   "source": [
    "## Thresholds below are somewhat arbitrary\n",
    "\n",
    "M = score_to_memberships(IEF, DegPart, threshold=.25)\n",
    "outliers = np.where(np.array(M.sum(axis=1).flatten().tolist()[0])==0)[0]\n",
    "print('IEF:')\n",
    "print('outliers found:',len(outliers))\n",
    "print('ground-truth outliers found:',sum([G.vs[i]['gt']==0 for i in outliers]))\n",
    "\n",
    "M = score_to_memberships(Beta, DegPart, threshold=.25)\n",
    "outliers = np.where(np.array(M.sum(axis=1).flatten().tolist()[0])==0)[0]\n",
    "print('\\nBeta score:')\n",
    "print('outliers found:',len(outliers))\n",
    "print('ground-truth outliers found:',sum([G.vs[i]['gt']==0 for i in outliers]))\n",
    "\n",
    "M = score_to_memberships(C, DegPart, threshold=3)\n",
    "outliers = np.where(np.array(M.sum(axis=1).flatten().tolist()[0])==0)[0]\n",
    "print('\\nC score:')\n",
    "print('outliers found:',len(outliers))\n",
    "print('ground-truth outliers found:',sum([G.vs[i]['gt']==0 for i in outliers]))\n",
    "\n",
    "M = score_to_memberships(Pv, DegPart, threshold=.95)\n",
    "outliers = np.where(np.array(M.sum(axis=1).flatten().tolist()[0])==0)[0]\n",
    "print('\\np-value score:')\n",
    "print('outliers found:',len(outliers))\n",
    "print('ground-truth outliers found:',sum([G.vs[i]['gt']==0 for i in outliers]))\n"
   ]
  },
  {
   "cell_type": "code",
   "execution_count": 106,
   "id": "a4e35cdc",
   "metadata": {
    "scrolled": true
   },
   "outputs": [
    {
     "name": "stdout",
     "output_type": "stream",
     "text": [
      "IEF: 0.2831271945910979\n",
      "Beta: 0.2825923854850576\n",
      "C score: 0.2791589249171204\n",
      "p-values: 0.2819476794232974\n"
     ]
    }
   ],
   "source": [
    "## AMI with (single-community) GT\n",
    "G.vs['IEF'] = IEF.argmax(axis=1).flatten().tolist()[0]\n",
    "print('IEF:',AMI(G.vs['gt'], G.vs['IEF']))\n",
    "\n",
    "G.vs['beta'] = Beta.argmax(axis=1).flatten().tolist()[0]\n",
    "print('Beta:',AMI(G.vs['gt'], G.vs['beta']))\n",
    "\n",
    "G.vs['C'] = C.argmax(axis=1).flatten().tolist()[0]\n",
    "print('C score:',AMI(G.vs['gt'], G.vs['C']))\n",
    "\n",
    "G.vs['Pv'] = Pv.argmax(axis=1).flatten().tolist()[0]\n",
    "print('p-values:',AMI(G.vs['gt'], G.vs['Pv']))\n"
   ]
  },
  {
   "cell_type": "markdown",
   "id": "3d300916",
   "metadata": {},
   "source": [
    "# Figure in ABCD-oo WAW Paper"
   ]
  },
  {
   "cell_type": "code",
   "execution_count": 107,
   "id": "99e12517",
   "metadata": {},
   "outputs": [],
   "source": [
    "## GT community membership matrix\n",
    "X = np.repeat(np.arange(G.vcount(), dtype=int), G.vs['n_comms'])\n",
    "Y = np.array([i-1 for j in G.vs['comms'] for i in j])\n",
    "n = len(X)\n",
    "M = sparse.csr_matrix( (np.repeat(1,n), (X,Y)), shape=(G.vcount(), max(Y)+1) )\n",
    "A = G.get_adjacency_sparse()\n",
    "\n",
    "## Compute CAS measures\n",
    "IEF, NIEF, C, Pv, DegPart = CAS(A, M, alpha=1)\n"
   ]
  },
  {
   "cell_type": "code",
   "execution_count": 108,
   "id": "d9a9678f",
   "metadata": {},
   "outputs": [
    {
     "data": {
      "image/png": "[encoded data removed]",
      "text/plain": [
       "<Figure size 640x480 with 1 Axes>"
      ]
     },
     "metadata": {},
     "output_type": "display_data"
    }
   ],
   "source": [
    "for x in [1,2,3,4]:\n",
    "    L = []\n",
    "    for i in range(G.vcount()):\n",
    "        if G.vs[i]['n_comms'] == x:\n",
    "            L.append(np.sort(np.array(NIEF[i].todense())[0])[-5:][::-1])\n",
    "    df = pd.DataFrame(L, columns=['1','2','3','4','5'])\n",
    "    plt.plot(df.mean(),'o-',label=str(x))\n",
    "plt.grid()\n",
    "plt.legend(title='Number of communities')\n",
    "plt.xlabel('Rank', fontsize=13)\n",
    "plt.ylabel('Mean NIEF', fontsize=13)\n",
    "plt.title('DBLP Graph', fontsize=14)\n",
    "plt.show()\n"
   ]
  },
  {
   "cell_type": "markdown",
   "id": "bdc314ba",
   "metadata": {},
   "source": [
    "# Figure 2a for CAS WAW paper\n",
    "\n",
    "## Look at kth ranked communities\n",
    "\n",
    "* proportion of k-th ranked community that is GT\n",
    "* restrict to nodes with k+ communities and with 2+ community edges\n"
   ]
  },
  {
   "cell_type": "code",
   "execution_count": 109,
   "id": "abb942d6",
   "metadata": {},
   "outputs": [],
   "source": [
    "## GT community membership matrix\n",
    "X = np.repeat(np.arange(G.vcount(), dtype=int), G.vs['n_comms'])\n",
    "Y = np.array([i-1 for j in G.vs['comms'] for i in j])\n",
    "n = len(X)\n",
    "M = sparse.csr_matrix( (np.repeat(1,n), (X,Y)), shape=(G.vcount(), max(Y)+1) )\n",
    "A = G.get_adjacency_sparse()\n",
    "\n",
    "## Compute CAS measures\n",
    "IEF, Beta, C, Pv, DegPart = CAS(A, M, alpha=1)\n"
   ]
  },
  {
   "cell_type": "code",
   "execution_count": 110,
   "id": "8198262e",
   "metadata": {},
   "outputs": [
    {
     "name": "stdout",
     "output_type": "stream",
     "text": [
      "1 180382 181791 100628 167092 204562\n",
      "2 61443 62237 29267 56044 80147\n",
      "3 32815 33231 15952 30113 46353\n",
      "4 21103 21427 10593 19500 31308\n",
      "5 14857 15163 7724 13770 22871\n",
      "6 11152 11380 6094 10401 17358\n",
      "7 8527 8719 4794 8092 13650\n",
      "8 6856 6885 3956 6425 11057\n",
      "9 5559 5711 3260 5143 9099\n",
      "10 4559 4718 2751 4309 7646\n",
      "11 3912 4017 2339 3676 6556\n",
      "12 3341 3393 2050 3126 5607\n",
      "13 2906 2886 1792 2696 4861\n",
      "14 2447 2463 1567 2373 4254\n",
      "15 2136 2159 1361 2051 3723\n",
      "16 1911 1936 1248 1740 3311\n",
      "17 1661 1724 1084 1588 2951\n",
      "18 1421 1474 958 1371 2621\n",
      "19 1223 1288 904 1235 2317\n",
      "20 1107 1138 768 1030 2049\n",
      "21 985 1014 664 903 1836\n",
      "22 884 866 561 853 1639\n",
      "23 759 764 561 783 1481\n",
      "24 671 706 492 701 1345\n",
      "25 595 615 446 608 1224\n"
     ]
    },
    {
     "data": {
      "image/png": "[encoded data removed]",
      "text/plain": [
       "<Figure size 640x480 with 1 Axes>"
      ]
     },
     "metadata": {},
     "output_type": "display_data"
    }
   ],
   "source": [
    "MAX = 25\n",
    "MINDEG = 2\n",
    "\n",
    "NumIEF = np.zeros(MAX)\n",
    "NumBeta = np.zeros(MAX)\n",
    "NumC = np.zeros(MAX)\n",
    "NumPv = np.zeros(MAX)\n",
    "Den = np.zeros(MAX)\n",
    "\n",
    "for K in (np.arange(MAX)+1):\n",
    "    V = np.array(G.vs['n_comms'])>=K\n",
    "    minDeg = np.array([min(v['degrees']) if v['n_comms']>0 else 0 for v in G.vs]) >= MINDEG\n",
    "    V = V & minDeg\n",
    "    Si = Sb = Sc = Sp = 0\n",
    "    for i in range(len(V)):\n",
    "        if V[i]:\n",
    "            x = np.argsort(IEF[i].toarray()[0])[-K]\n",
    "            Si += ((x+1) in G.vs[i]['comms'])\n",
    "            x = np.argsort(Beta[i].toarray()[0])[-K]\n",
    "            Sb += ((x+1) in G.vs[i]['comms'])\n",
    "            x = np.argsort(C[i].toarray()[0])[-K]\n",
    "            Sc += ((x+1) in G.vs[i]['comms'])\n",
    "            x = np.argsort(Pv[i].toarray()[0])[-K]\n",
    "            Sp += ((x+1) in G.vs[i]['comms'])\n",
    "            \n",
    "    NumBeta[K-1] = Sb\n",
    "    NumC[K-1] = Sc\n",
    "    NumIEF[K-1] = Si\n",
    "    NumPv[K-1] = Sp\n",
    "    Den[K-1] = sum(V)\n",
    "\n",
    "    print(K, Si, Sb, Sc, Sp, sum(V))\n",
    "\n",
    "plt.plot(np.arange(MAX)+1, NumIEF/Den, '.-', label='IEF')\n",
    "plt.plot(np.arange(MAX)+1, NumBeta/Den, '.-', label='NIEF')\n",
    "#plt.plot(np.arange(MAX)+1, NumC/Den, '.-', label='C')\n",
    "plt.plot(np.arange(MAX)+1, NumPv/Den, '.-', label='P score')\n",
    "plt.xlabel('K (considering nodes with at least K ground-truth communities)')\n",
    "plt.ylabel('P(Kth highest scoring is a true community)')\n",
    "plt.legend()\n",
    "plt.grid()\n",
    "plt.title('DBLP graph',fontsize=14)\n",
    "fn = 'dblp_ranked.png'\n",
    "#plt.savefig(fn);\n"
   ]
  },
  {
   "cell_type": "markdown",
   "id": "29d2b0c6",
   "metadata": {},
   "source": [
    "# Outlier detection\n",
    "\n",
    "starting from Leiden - try starting with ego??"
   ]
  },
  {
   "cell_type": "code",
   "execution_count": 111,
   "id": "f9c4f72d",
   "metadata": {},
   "outputs": [
    {
     "data": {
      "text/plain": [
       "931"
      ]
     },
     "execution_count": 111,
     "metadata": {},
     "output_type": "execute_result"
    }
   ],
   "source": [
    "A = G.get_adjacency_sparse()\n",
    "## Leiden:\n",
    "G.vs['leiden'] = G.community_leiden(objective_function='modularity', resolution=10).membership\n",
    "IEF, Beta, C, P, DegPart = CAS(A, partition2sparse(G.vs['leiden']))\n",
    "max(G.vs['leiden'])"
   ]
  },
  {
   "cell_type": "code",
   "execution_count": 112,
   "id": "5bd899c9",
   "metadata": {},
   "outputs": [
    {
     "data": {
      "text/plain": [
       "Counter({0: 260998, 1: 56082})"
      ]
     },
     "execution_count": 112,
     "metadata": {},
     "output_type": "execute_result"
    }
   ],
   "source": [
    "# outliers\n",
    "y = [int(x==0) for x in G.vs['gt']]\n",
    "Counter(y)"
   ]
  },
  {
   "cell_type": "code",
   "execution_count": 113,
   "id": "15abff2c",
   "metadata": {
    "scrolled": true
   },
   "outputs": [
    {
     "data": {
      "text/html": [
       "<div>\n",
       "<style scoped>\n",
       "    .dataframe tbody tr th:only-of-type {\n",
       "        vertical-align: middle;\n",
       "    }\n",
       "\n",
       "    .dataframe tbody tr th {\n",
       "        vertical-align: top;\n",
       "    }\n",
       "\n",
       "    .dataframe thead th {\n",
       "        text-align: right;\n",
       "    }\n",
       "</style>\n",
       "<table border=\"1\" class=\"dataframe\">\n",
       "  <thead>\n",
       "    <tr style=\"text-align: right;\">\n",
       "      <th></th>\n",
       "      <th>NIEF</th>\n",
       "      <th>IEF</th>\n",
       "      <th>P</th>\n",
       "      <th>C</th>\n",
       "      <th>deg</th>\n",
       "    </tr>\n",
       "    <tr>\n",
       "      <th>Outlier</th>\n",
       "      <th></th>\n",
       "      <th></th>\n",
       "      <th></th>\n",
       "      <th></th>\n",
       "      <th></th>\n",
       "    </tr>\n",
       "  </thead>\n",
       "  <tbody>\n",
       "    <tr>\n",
       "      <th>0</th>\n",
       "      <td>0.873317</td>\n",
       "      <td>0.874930</td>\n",
       "      <td>0.999726</td>\n",
       "      <td>59.623474</td>\n",
       "      <td>7.544180</td>\n",
       "    </tr>\n",
       "    <tr>\n",
       "      <th>1</th>\n",
       "      <td>0.969820</td>\n",
       "      <td>0.971164</td>\n",
       "      <td>0.999529</td>\n",
       "      <td>45.263681</td>\n",
       "      <td>2.330801</td>\n",
       "    </tr>\n",
       "  </tbody>\n",
       "</table>\n",
       "</div>"
      ],
      "text/plain": [
       "             NIEF       IEF         P          C       deg\n",
       "Outlier                                                   \n",
       "0        0.873317  0.874930  0.999726  59.623474  7.544180\n",
       "1        0.969820  0.971164  0.999529  45.263681  2.330801"
      ]
     },
     "execution_count": 113,
     "metadata": {},
     "output_type": "execute_result"
    }
   ],
   "source": [
    "## Max CAS for outliers and other nodes\n",
    "_df = pd.DataFrame()\n",
    "_df['NIEF'] = Beta.max(axis=1).toarray().flatten()\n",
    "_df['IEF'] = IEF.max(axis=1).toarray().flatten()\n",
    "_df['P'] = P.max(axis=1).toarray().flatten()\n",
    "_df['C'] = C.max(axis=1).toarray().flatten()\n",
    "\n",
    "_df['Outlier'] = y\n",
    "_df['deg'] = G.degree()\n",
    "\n",
    "_df.groupby(by='Outlier').mean()\n"
   ]
  },
  {
   "cell_type": "code",
   "execution_count": 114,
   "id": "8e6c6426",
   "metadata": {
    "scrolled": true
   },
   "outputs": [
    {
     "name": "stdout",
     "output_type": "stream",
     "text": [
      "0 14\n"
     ]
    }
   ],
   "source": [
    "### example - ego-net of outlier node\n",
    "v = 302866\n",
    "print(G.vs[v]['n_comms'], G.degree(v))\n"
   ]
  },
  {
   "cell_type": "code",
   "execution_count": 115,
   "id": "e76e7265",
   "metadata": {},
   "outputs": [
    {
     "data": {
      "text/plain": [
       "[0, 0, 0, 0, 0, 0, 0, 0, 0, 0, 0, 0, 0, 0, 0]"
      ]
     },
     "execution_count": 115,
     "metadata": {},
     "output_type": "execute_result"
    }
   ],
   "source": [
    "[G.vs[v]['gt'] for v in G.neighborhood(v)]"
   ]
  },
  {
   "cell_type": "code",
   "execution_count": 116,
   "id": "1a204725",
   "metadata": {},
   "outputs": [
    {
     "data": {
      "text/plain": [
       "[529, 529, 529, 529, 529, 529, 529, 529, 529, 529, 529, 529, 529, 529, 529]"
      ]
     },
     "execution_count": 116,
     "metadata": {},
     "output_type": "execute_result"
    }
   ],
   "source": [
    "[G.vs[v]['leiden'] for v in G.neighborhood(v)]"
   ]
  },
  {
   "cell_type": "code",
   "execution_count": 117,
   "id": "c76b9232",
   "metadata": {},
   "outputs": [
    {
     "data": {
      "image/svg+xml": [
       "<?xml version=\"1.0\" encoding=\"UTF-8\"?>\n",
       "<svg xmlns=\"http://www.w3.org/2000/svg\" xmlns:xlink=\"http://www.w3.org/1999/xlink\" width=\"300pt\" height=\"300pt\" viewBox=\"0 0 300 300\" version=\"1.1\">\n",
       "<g id=\"surface8\">\n",
       "<rect x=\"0\" y=\"0\" width=\"300\" height=\"300\" style=\"fill:rgb(100%,100%,100%);fill-opacity:1;stroke:none;\"/>\n",
       "<path style=\"fill:none;stroke-width:1;stroke-linecap:butt;stroke-linejoin:miter;stroke:rgb(26.666667%,26.666667%,26.666667%);stroke-opacity:1;stroke-miterlimit:10;\" d=\"M 20 104.777344 L 147.015625 147.082031 \"/>\n",
       "<path style=\"fill:none;stroke-width:1;stroke-linecap:butt;stroke-linejoin:miter;stroke:rgb(26.666667%,26.666667%,26.666667%);stroke-opacity:1;stroke-miterlimit:10;\" d=\"M 147.015625 147.082031 L 139.976562 280 \"/>\n",
       "<path style=\"fill:none;stroke-width:1;stroke-linecap:butt;stroke-linejoin:miter;stroke:rgb(26.666667%,26.666667%,26.666667%);stroke-opacity:1;stroke-miterlimit:10;\" d=\"M 147.015625 147.082031 L 68.25 206.359375 \"/>\n",
       "<path style=\"fill:none;stroke-width:1;stroke-linecap:butt;stroke-linejoin:miter;stroke:rgb(26.666667%,26.666667%,26.666667%);stroke-opacity:1;stroke-miterlimit:10;\" d=\"M 147.015625 147.082031 L 183.550781 203.140625 \"/>\n",
       "<path style=\"fill:none;stroke-width:1;stroke-linecap:butt;stroke-linejoin:miter;stroke:rgb(26.666667%,26.666667%,26.666667%);stroke-opacity:1;stroke-miterlimit:10;\" d=\"M 68.25 206.359375 L 183.550781 203.140625 \"/>\n",
       "<path style=\"fill:none;stroke-width:1;stroke-linecap:butt;stroke-linejoin:miter;stroke:rgb(26.666667%,26.666667%,26.666667%);stroke-opacity:1;stroke-miterlimit:10;\" d=\"M 147.015625 147.082031 L 96.34375 253.414062 \"/>\n",
       "<path style=\"fill:none;stroke-width:1;stroke-linecap:butt;stroke-linejoin:miter;stroke:rgb(26.666667%,26.666667%,26.666667%);stroke-opacity:1;stroke-miterlimit:10;\" d=\"M 68.25 206.359375 L 96.34375 253.414062 \"/>\n",
       "<path style=\"fill:none;stroke-width:1;stroke-linecap:butt;stroke-linejoin:miter;stroke:rgb(26.666667%,26.666667%,26.666667%);stroke-opacity:1;stroke-miterlimit:10;\" d=\"M 183.550781 203.140625 L 96.34375 253.414062 \"/>\n",
       "<path style=\"fill:none;stroke-width:1;stroke-linecap:butt;stroke-linejoin:miter;stroke:rgb(26.666667%,26.666667%,26.666667%);stroke-opacity:1;stroke-miterlimit:10;\" d=\"M 147.015625 147.082031 L 125.363281 42.125 \"/>\n",
       "<path style=\"fill:none;stroke-width:1;stroke-linecap:butt;stroke-linejoin:miter;stroke:rgb(26.666667%,26.666667%,26.666667%);stroke-opacity:1;stroke-miterlimit:10;\" d=\"M 147.015625 147.082031 L 175.960938 20 \"/>\n",
       "<path style=\"fill:none;stroke-width:1;stroke-linecap:butt;stroke-linejoin:miter;stroke:rgb(26.666667%,26.666667%,26.666667%);stroke-opacity:1;stroke-miterlimit:10;\" d=\"M 125.363281 42.125 L 175.960938 20 \"/>\n",
       "<path style=\"fill:none;stroke-width:1;stroke-linecap:butt;stroke-linejoin:miter;stroke:rgb(26.666667%,26.666667%,26.666667%);stroke-opacity:1;stroke-miterlimit:10;\" d=\"M 147.015625 147.082031 L 221.375 54.382812 \"/>\n",
       "<path style=\"fill:none;stroke-width:1;stroke-linecap:butt;stroke-linejoin:miter;stroke:rgb(26.666667%,26.666667%,26.666667%);stroke-opacity:1;stroke-miterlimit:10;\" d=\"M 125.363281 42.125 L 221.375 54.382812 \"/>\n",
       "<path style=\"fill:none;stroke-width:1;stroke-linecap:butt;stroke-linejoin:miter;stroke:rgb(26.666667%,26.666667%,26.666667%);stroke-opacity:1;stroke-miterlimit:10;\" d=\"M 175.960938 20 L 221.375 54.382812 \"/>\n",
       "<path style=\"fill:none;stroke-width:1;stroke-linecap:butt;stroke-linejoin:miter;stroke:rgb(26.666667%,26.666667%,26.666667%);stroke-opacity:1;stroke-miterlimit:10;\" d=\"M 147.015625 147.082031 L 235.886719 121.304688 \"/>\n",
       "<path style=\"fill:none;stroke-width:1;stroke-linecap:butt;stroke-linejoin:miter;stroke:rgb(26.666667%,26.666667%,26.666667%);stroke-opacity:1;stroke-miterlimit:10;\" d=\"M 183.550781 203.140625 L 235.886719 121.304688 \"/>\n",
       "<path style=\"fill:none;stroke-width:1;stroke-linecap:butt;stroke-linejoin:miter;stroke:rgb(26.666667%,26.666667%,26.666667%);stroke-opacity:1;stroke-miterlimit:10;\" d=\"M 147.015625 147.082031 L 260.558594 201.6875 \"/>\n",
       "<path style=\"fill:none;stroke-width:1;stroke-linecap:butt;stroke-linejoin:miter;stroke:rgb(26.666667%,26.666667%,26.666667%);stroke-opacity:1;stroke-miterlimit:10;\" d=\"M 183.550781 203.140625 L 260.558594 201.6875 \"/>\n",
       "<path style=\"fill:none;stroke-width:1;stroke-linecap:butt;stroke-linejoin:miter;stroke:rgb(26.666667%,26.666667%,26.666667%);stroke-opacity:1;stroke-miterlimit:10;\" d=\"M 235.886719 121.304688 L 260.558594 201.6875 \"/>\n",
       "<path style=\"fill:none;stroke-width:1;stroke-linecap:butt;stroke-linejoin:miter;stroke:rgb(26.666667%,26.666667%,26.666667%);stroke-opacity:1;stroke-miterlimit:10;\" d=\"M 147.015625 147.082031 L 280 148.902344 \"/>\n",
       "<path style=\"fill:none;stroke-width:1;stroke-linecap:butt;stroke-linejoin:miter;stroke:rgb(26.666667%,26.666667%,26.666667%);stroke-opacity:1;stroke-miterlimit:10;\" d=\"M 183.550781 203.140625 L 280 148.902344 \"/>\n",
       "<path style=\"fill:none;stroke-width:1;stroke-linecap:butt;stroke-linejoin:miter;stroke:rgb(26.666667%,26.666667%,26.666667%);stroke-opacity:1;stroke-miterlimit:10;\" d=\"M 235.886719 121.304688 L 280 148.902344 \"/>\n",
       "<path style=\"fill:none;stroke-width:1;stroke-linecap:butt;stroke-linejoin:miter;stroke:rgb(26.666667%,26.666667%,26.666667%);stroke-opacity:1;stroke-miterlimit:10;\" d=\"M 260.558594 201.6875 L 280 148.902344 \"/>\n",
       "<path style=\"fill:none;stroke-width:1;stroke-linecap:butt;stroke-linejoin:miter;stroke:rgb(26.666667%,26.666667%,26.666667%);stroke-opacity:1;stroke-miterlimit:10;\" d=\"M 20 104.777344 L 27.332031 159.84375 \"/>\n",
       "<path style=\"fill:none;stroke-width:1;stroke-linecap:butt;stroke-linejoin:miter;stroke:rgb(26.666667%,26.666667%,26.666667%);stroke-opacity:1;stroke-miterlimit:10;\" d=\"M 147.015625 147.082031 L 27.332031 159.84375 \"/>\n",
       "<path style=\"fill:none;stroke-width:1;stroke-linecap:butt;stroke-linejoin:miter;stroke:rgb(26.666667%,26.666667%,26.666667%);stroke-opacity:1;stroke-miterlimit:10;\" d=\"M 20 104.777344 L 65.902344 74.671875 \"/>\n",
       "<path style=\"fill:none;stroke-width:1;stroke-linecap:butt;stroke-linejoin:miter;stroke:rgb(26.666667%,26.666667%,26.666667%);stroke-opacity:1;stroke-miterlimit:10;\" d=\"M 147.015625 147.082031 L 65.902344 74.671875 \"/>\n",
       "<path style=\"fill:none;stroke-width:1;stroke-linecap:butt;stroke-linejoin:miter;stroke:rgb(26.666667%,26.666667%,26.666667%);stroke-opacity:1;stroke-miterlimit:10;\" d=\"M 27.332031 159.84375 L 65.902344 74.671875 \"/>\n",
       "<path style=\"fill:none;stroke-width:1;stroke-linecap:butt;stroke-linejoin:miter;stroke:rgb(26.666667%,26.666667%,26.666667%);stroke-opacity:1;stroke-miterlimit:10;\" d=\"M 147.015625 147.082031 L 217.851562 262.03125 \"/>\n",
       "<path style=\"fill:none;stroke-width:1;stroke-linecap:butt;stroke-linejoin:miter;stroke:rgb(26.666667%,26.666667%,26.666667%);stroke-opacity:1;stroke-miterlimit:10;\" d=\"M 183.550781 203.140625 L 217.851562 262.03125 \"/>\n",
       "<path style=\"fill-rule:nonzero;fill:rgb(100%,0%,0%);fill-opacity:1;stroke-width:1;stroke-linecap:butt;stroke-linejoin:miter;stroke:rgb(0%,0%,0%);stroke-opacity:1;stroke-miterlimit:10;\" d=\"M 30 104.777344 C 30 110.296875 25.523438 114.777344 20 114.777344 C 14.476562 114.777344 10 110.296875 10 104.777344 C 10 99.253906 14.476562 94.777344 20 94.777344 C 25.523438 94.777344 30 99.253906 30 104.777344 \"/>\n",
       "<path style=\"fill-rule:nonzero;fill:rgb(100%,0%,0%);fill-opacity:1;stroke-width:1;stroke-linecap:butt;stroke-linejoin:miter;stroke:rgb(0%,0%,0%);stroke-opacity:1;stroke-miterlimit:10;\" d=\"M 157.015625 147.082031 C 157.015625 152.605469 152.535156 157.082031 147.015625 157.082031 C 141.492188 157.082031 137.015625 152.605469 137.015625 147.082031 C 137.015625 141.558594 141.492188 137.082031 147.015625 137.082031 C 152.535156 137.082031 157.015625 141.558594 157.015625 147.082031 \"/>\n",
       "<path style=\"fill-rule:nonzero;fill:rgb(100%,0%,0%);fill-opacity:1;stroke-width:1;stroke-linecap:butt;stroke-linejoin:miter;stroke:rgb(0%,0%,0%);stroke-opacity:1;stroke-miterlimit:10;\" d=\"M 149.976562 280 C 149.976562 285.523438 145.5 290 139.976562 290 C 134.453125 290 129.976562 285.523438 129.976562 280 C 129.976562 274.476562 134.453125 270 139.976562 270 C 145.5 270 149.976562 274.476562 149.976562 280 \"/>\n",
       "<path style=\"fill-rule:nonzero;fill:rgb(100%,0%,0%);fill-opacity:1;stroke-width:1;stroke-linecap:butt;stroke-linejoin:miter;stroke:rgb(0%,0%,0%);stroke-opacity:1;stroke-miterlimit:10;\" d=\"M 78.25 206.359375 C 78.25 211.882812 73.769531 216.359375 68.25 216.359375 C 62.726562 216.359375 58.25 211.882812 58.25 206.359375 C 58.25 200.835938 62.726562 196.359375 68.25 196.359375 C 73.769531 196.359375 78.25 200.835938 78.25 206.359375 \"/>\n",
       "<path style=\"fill-rule:nonzero;fill:rgb(100%,0%,0%);fill-opacity:1;stroke-width:1;stroke-linecap:butt;stroke-linejoin:miter;stroke:rgb(0%,0%,0%);stroke-opacity:1;stroke-miterlimit:10;\" d=\"M 193.550781 203.140625 C 193.550781 208.664062 189.074219 213.140625 183.550781 213.140625 C 178.03125 213.140625 173.550781 208.664062 173.550781 203.140625 C 173.550781 197.617188 178.03125 193.140625 183.550781 193.140625 C 189.074219 193.140625 193.550781 197.617188 193.550781 203.140625 \"/>\n",
       "<path style=\"fill-rule:nonzero;fill:rgb(100%,0%,0%);fill-opacity:1;stroke-width:1;stroke-linecap:butt;stroke-linejoin:miter;stroke:rgb(0%,0%,0%);stroke-opacity:1;stroke-miterlimit:10;\" d=\"M 106.34375 253.414062 C 106.34375 258.9375 101.863281 263.414062 96.34375 263.414062 C 90.820312 263.414062 86.34375 258.9375 86.34375 253.414062 C 86.34375 247.894531 90.820312 243.414062 96.34375 243.414062 C 101.863281 243.414062 106.34375 247.894531 106.34375 253.414062 \"/>\n",
       "<path style=\"fill-rule:nonzero;fill:rgb(100%,0%,0%);fill-opacity:1;stroke-width:1;stroke-linecap:butt;stroke-linejoin:miter;stroke:rgb(0%,0%,0%);stroke-opacity:1;stroke-miterlimit:10;\" d=\"M 135.363281 42.125 C 135.363281 47.648438 130.886719 52.125 125.363281 52.125 C 119.839844 52.125 115.363281 47.648438 115.363281 42.125 C 115.363281 36.601562 119.839844 32.125 125.363281 32.125 C 130.886719 32.125 135.363281 36.601562 135.363281 42.125 \"/>\n",
       "<path style=\"fill-rule:nonzero;fill:rgb(100%,0%,0%);fill-opacity:1;stroke-width:1;stroke-linecap:butt;stroke-linejoin:miter;stroke:rgb(0%,0%,0%);stroke-opacity:1;stroke-miterlimit:10;\" d=\"M 185.960938 20 C 185.960938 25.523438 181.484375 30 175.960938 30 C 170.4375 30 165.960938 25.523438 165.960938 20 C 165.960938 14.476562 170.4375 10 175.960938 10 C 181.484375 10 185.960938 14.476562 185.960938 20 \"/>\n",
       "<path style=\"fill-rule:nonzero;fill:rgb(100%,0%,0%);fill-opacity:1;stroke-width:1;stroke-linecap:butt;stroke-linejoin:miter;stroke:rgb(0%,0%,0%);stroke-opacity:1;stroke-miterlimit:10;\" d=\"M 231.375 54.382812 C 231.375 59.90625 226.898438 64.382812 221.375 64.382812 C 215.855469 64.382812 211.375 59.90625 211.375 54.382812 C 211.375 48.859375 215.855469 44.382812 221.375 44.382812 C 226.898438 44.382812 231.375 48.859375 231.375 54.382812 \"/>\n",
       "<path style=\"fill-rule:nonzero;fill:rgb(100%,0%,0%);fill-opacity:1;stroke-width:1;stroke-linecap:butt;stroke-linejoin:miter;stroke:rgb(0%,0%,0%);stroke-opacity:1;stroke-miterlimit:10;\" d=\"M 245.886719 121.304688 C 245.886719 126.824219 241.410156 131.304688 235.886719 131.304688 C 230.363281 131.304688 225.886719 126.824219 225.886719 121.304688 C 225.886719 115.78125 230.363281 111.304688 235.886719 111.304688 C 241.410156 111.304688 245.886719 115.78125 245.886719 121.304688 \"/>\n",
       "<path style=\"fill-rule:nonzero;fill:rgb(100%,0%,0%);fill-opacity:1;stroke-width:1;stroke-linecap:butt;stroke-linejoin:miter;stroke:rgb(0%,0%,0%);stroke-opacity:1;stroke-miterlimit:10;\" d=\"M 270.558594 201.6875 C 270.558594 207.207031 266.082031 211.6875 260.558594 211.6875 C 255.035156 211.6875 250.558594 207.207031 250.558594 201.6875 C 250.558594 196.164062 255.035156 191.6875 260.558594 191.6875 C 266.082031 191.6875 270.558594 196.164062 270.558594 201.6875 \"/>\n",
       "<path style=\"fill-rule:nonzero;fill:rgb(100%,0%,0%);fill-opacity:1;stroke-width:1;stroke-linecap:butt;stroke-linejoin:miter;stroke:rgb(0%,0%,0%);stroke-opacity:1;stroke-miterlimit:10;\" d=\"M 290 148.902344 C 290 154.425781 285.523438 158.902344 280 158.902344 C 274.476562 158.902344 270 154.425781 270 148.902344 C 270 143.378906 274.476562 138.902344 280 138.902344 C 285.523438 138.902344 290 143.378906 290 148.902344 \"/>\n",
       "<path style=\"fill-rule:nonzero;fill:rgb(100%,0%,0%);fill-opacity:1;stroke-width:1;stroke-linecap:butt;stroke-linejoin:miter;stroke:rgb(0%,0%,0%);stroke-opacity:1;stroke-miterlimit:10;\" d=\"M 37.332031 159.84375 C 37.332031 165.367188 32.851562 169.84375 27.332031 169.84375 C 21.808594 169.84375 17.332031 165.367188 17.332031 159.84375 C 17.332031 154.320312 21.808594 149.84375 27.332031 149.84375 C 32.851562 149.84375 37.332031 154.320312 37.332031 159.84375 \"/>\n",
       "<path style=\"fill-rule:nonzero;fill:rgb(100%,0%,0%);fill-opacity:1;stroke-width:1;stroke-linecap:butt;stroke-linejoin:miter;stroke:rgb(0%,0%,0%);stroke-opacity:1;stroke-miterlimit:10;\" d=\"M 75.902344 74.671875 C 75.902344 80.195312 71.425781 84.671875 65.902344 84.671875 C 60.382812 84.671875 55.902344 80.195312 55.902344 74.671875 C 55.902344 69.152344 60.382812 64.671875 65.902344 64.671875 C 71.425781 64.671875 75.902344 69.152344 75.902344 74.671875 \"/>\n",
       "<path style=\"fill-rule:nonzero;fill:rgb(100%,0%,0%);fill-opacity:1;stroke-width:1;stroke-linecap:butt;stroke-linejoin:miter;stroke:rgb(0%,0%,0%);stroke-opacity:1;stroke-miterlimit:10;\" d=\"M 227.851562 262.03125 C 227.851562 267.554688 223.371094 272.03125 217.851562 272.03125 C 212.328125 272.03125 207.851562 267.554688 207.851562 262.03125 C 207.851562 256.507812 212.328125 252.03125 217.851562 252.03125 C 223.371094 252.03125 227.851562 256.507812 227.851562 262.03125 \"/>\n",
       "</g>\n",
       "</svg>\n"
      ],
      "text/plain": [
       "<igraph.drawing.cairo.plot.CairoPlot at 0x33ed52fd0>"
      ]
     },
     "execution_count": 117,
     "metadata": {
      "image/svg+xml": {
       "isolated": true
      }
     },
     "output_type": "execute_result"
    }
   ],
   "source": [
    "SG = G.subgraph(G.neighborhood(302866))\n",
    "ig.plot(SG, bbox=(300,300))"
   ]
  },
  {
   "cell_type": "markdown",
   "id": "d11a4bcf",
   "metadata": {},
   "source": [
    "## Running EgoSplit"
   ]
  },
  {
   "cell_type": "code",
   "execution_count": 119,
   "id": "6202b597",
   "metadata": {},
   "outputs": [],
   "source": [
    "def EgoSplit(G, split='CC', algo='LP'):\n",
    "    g = G.copy()\n",
    "    ## implement ego-split approach with LP+LP and LP+ECG\n",
    "    g.vs['original'] = g.vs['name']\n",
    "    ## use the vertex names to avoid issues when vertices are re-mapped ...\n",
    "    names = g.vs['name']\n",
    "    ## step 1 - ego-net splits\n",
    "    for nm in names:\n",
    "        v = g.vs.find(nm).index\n",
    "        n = g.neighbors(v)\n",
    "        sg = g.subgraph(n)\n",
    "        if split == 'LP':\n",
    "            x = sg.community_label_propagation().membership\n",
    "        else:\n",
    "            x = sg.connected_components().membership\n",
    "        if np.min(x)==-1:\n",
    "            x = [i+1 for i in x]\n",
    "        for j in set(x):\n",
    "            g.add_vertex(name=nm+'.'+str(j),original=nm)\n",
    "\n",
    "        l = sg.vs['name']\n",
    "        for j in range(len(x)):\n",
    "            g.add_edge(nm+'.'+str(x[j]) , l[j])\n",
    "        g.delete_vertices(v)\n",
    "    ## step 2 -- cluster w.r.t. multiple personae\n",
    "    if algo=='LP':\n",
    "        cl = g.community_label_propagation()\n",
    "    else:\n",
    "        cl = g.community_ecg(ens_size=32, final='leiden') ## Leiden\n",
    "    C = [set(sg.vs['original']) for sg in cl.subgraphs()]\n",
    "    return C\n"
   ]
  },
  {
   "cell_type": "code",
   "execution_count": 120,
   "id": "494e202f",
   "metadata": {},
   "outputs": [
    {
     "data": {
      "text/plain": [
       "204031"
      ]
     },
     "execution_count": 120,
     "metadata": {},
     "output_type": "execute_result"
    }
   ],
   "source": [
    "G.vs['core'] = G.coreness()\n",
    "V = np.where(np.array(G.vs['core']) > 2)[0]\n",
    "SG = G.subgraph(V)\n",
    "SG.vcount()"
   ]
  },
  {
   "cell_type": "code",
   "execution_count": 121,
   "id": "e7711180",
   "metadata": {
    "scrolled": false
   },
   "outputs": [
    {
     "name": "stdout",
     "output_type": "stream",
     "text": [
      "CPU times: user 22h 27min 46s, sys: 1h 51min 2s, total: 1d 18min 49s\n",
      "Wall time: 1d 29min 51s\n"
     ]
    }
   ],
   "source": [
    "%%time\n",
    "Names = SG.vs['name']\n",
    "SG.vs['name'] = [str(i) for i in np.arange(SG.vcount())]\n",
    "comms_es = EgoSplit(SG, split='CC', algo='ECG')\n",
    "ES = [list(x) for x in comms_es if len(x)>=10]    \n"
   ]
  },
  {
   "cell_type": "code",
   "execution_count": 122,
   "id": "e8c72817",
   "metadata": {},
   "outputs": [],
   "source": [
    "## given list of node memberships, return list of communities\n",
    "def mems2comms(X):\n",
    "    nc = max(set([i for j in X for i in j]))+1  \n",
    "    n = len(X)\n",
    "    L = [[] for _ in range(nc)]\n",
    "    for i in range(n):\n",
    "        for j in X[i]:\n",
    "            L[j].append(i)\n",
    "    return L\n"
   ]
  },
  {
   "cell_type": "code",
   "execution_count": 123,
   "id": "bc862a81",
   "metadata": {},
   "outputs": [],
   "source": [
    "GT = mems2comms(SG.vs['comms'])[1:]  ## ignore \"outlier community\"\n",
    "_GT = [[str(i) for i in x] for x in GT]\n",
    "GT = [x for x in _GT if len(x)>1]"
   ]
  },
  {
   "cell_type": "code",
   "execution_count": 124,
   "id": "f8e50354",
   "metadata": {},
   "outputs": [],
   "source": [
    "## input format: \n",
    "import csv\n",
    "import subprocess\n",
    "oNMI = '/Users/francois/Book/GraphMiningNotebooks/oNMI/onmi'          ## MAC - overlapping NMI executable\n",
    "def compute_oNMI(First, Second):\n",
    "    fn1 = '__'+str(random.random())[2:]\n",
    "    with open(fn1,\"w\") as f:\n",
    "        wr = csv.writer(f, delimiter=\" \")\n",
    "        wr.writerows(First)\n",
    "    f.close()   \n",
    "\n",
    "    fn2 = '__'+str(random.random())[2:]\n",
    "    with open(fn2,\"w\") as f:\n",
    "        wr = csv.writer(f, delimiter=\" \")\n",
    "        wr.writerows(Second)\n",
    "    f.close()   \n",
    "    x = float(subprocess.check_output([oNMI,fn1,fn2]).decode(\"utf-8\").split()[1])\n",
    "    _ = os.system('rm '+fn1)\n",
    "    _ = os.system('rm '+fn2)\n",
    "    return x\n"
   ]
  },
  {
   "cell_type": "code",
   "execution_count": 126,
   "id": "a1233b9c",
   "metadata": {
    "scrolled": false
   },
   "outputs": [
    {
     "data": {
      "text/plain": [
       "0.0174493"
      ]
     },
     "execution_count": 126,
     "metadata": {},
     "output_type": "execute_result"
    }
   ],
   "source": [
    "compute_oNMI(GT,ES)"
   ]
  },
  {
   "cell_type": "code",
   "execution_count": null,
   "id": "023d424c",
   "metadata": {},
   "outputs": [],
   "source": [
    "stop()"
   ]
  },
  {
   "cell_type": "markdown",
   "id": "6e4326f6",
   "metadata": {},
   "source": [
    "## Filter - min coreness and min comm size"
   ]
  },
  {
   "cell_type": "code",
   "execution_count": null,
   "id": "6b6279f0",
   "metadata": {},
   "outputs": [],
   "source": [
    "print(min(G.coreness()))\n",
    "V = np.where(np.array(G.coreness())<5)[0]\n",
    "G.delete_vertices(V)\n"
   ]
  },
  {
   "cell_type": "code",
   "execution_count": null,
   "id": "4431c639",
   "metadata": {},
   "outputs": [],
   "source": [
    "## GT community membership matrix\n",
    "X = np.repeat(np.arange(G.vcount(), dtype=int), G.vs['n_comms'])\n",
    "Y = np.array([i-1 for j in G.vs['comms'] for i in j])\n",
    "n = len(X)\n",
    "M = sparse.csr_matrix( (np.repeat(1,n), (X,Y)), shape=(G.vcount(), max(Y)+1) )\n"
   ]
  },
  {
   "cell_type": "code",
   "execution_count": null,
   "id": "623a3259",
   "metadata": {
    "scrolled": false
   },
   "outputs": [],
   "source": [
    "keep_col = np.where(np.array(M.sum(axis=0))[0] >= 10)[0]\n",
    "len(keep_col)"
   ]
  },
  {
   "cell_type": "code",
   "execution_count": null,
   "id": "f87917f8",
   "metadata": {},
   "outputs": [],
   "source": [
    "M = M[:,keep_col]"
   ]
  },
  {
   "cell_type": "code",
   "execution_count": null,
   "id": "570a4e45",
   "metadata": {},
   "outputs": [],
   "source": [
    "G.vcount()"
   ]
  },
  {
   "cell_type": "code",
   "execution_count": null,
   "id": "795a55d6",
   "metadata": {},
   "outputs": [],
   "source": [
    "for i in range(len(M.indptr)-1):\n",
    "    G.vs[i]['comms'] = M.indices[M.indptr[i]:M.indptr[i+1]]"
   ]
  },
  {
   "cell_type": "code",
   "execution_count": null,
   "id": "07eaf214",
   "metadata": {},
   "outputs": [],
   "source": [
    "G.vs[0]"
   ]
  },
  {
   "cell_type": "code",
   "execution_count": null,
   "id": "4410b7e4",
   "metadata": {},
   "outputs": [],
   "source": [
    "G.vs['n_comms'] = [len(x) for x in G.vs['comms']]"
   ]
  },
  {
   "cell_type": "code",
   "execution_count": null,
   "id": "a1d121b0",
   "metadata": {},
   "outputs": [],
   "source": [
    "A = G.get_adjacency_sparse()\n",
    "## Leiden:\n",
    "G.vs['leiden'] = G.community_leiden(objective_function='modularity').membership\n",
    "IEF, Beta, C, P, DegPart = CAS(A, partition2sparse(G.vs['leiden']))\n"
   ]
  },
  {
   "cell_type": "code",
   "execution_count": null,
   "id": "0a87e4c0",
   "metadata": {},
   "outputs": [],
   "source": [
    "y = [int(x>0) for x in G.vs['gt']]\n",
    "Counter(y)"
   ]
  },
  {
   "cell_type": "code",
   "execution_count": null,
   "id": "032e3b83",
   "metadata": {},
   "outputs": [],
   "source": [
    "G.vs['Beta'] = Beta.max(axis=1).toarray().flatten()\n",
    "fpr, tpr, thresholds = roc_curve(y, G.vs['Beta'], pos_label=1)\n",
    "auc = AUC(y, G.vs['Beta'])\n",
    "plt.plot(fpr, tpr, label='Beta: '+str(round(auc,3)))\n",
    "\n",
    "G.vs['P'] = P.max(axis=1).toarray().flatten()\n",
    "fpr, tpr, thresholds = roc_curve(y, G.vs['P'], pos_label=1)\n",
    "auc = AUC(y, G.vs['P'])\n",
    "plt.plot(fpr, tpr, label='P: '+str(round(auc,3)))\n",
    "\n",
    "plt.legend();\n"
   ]
  },
  {
   "cell_type": "markdown",
   "id": "5a6822e8",
   "metadata": {},
   "source": [
    "## oNMI"
   ]
  },
  {
   "cell_type": "code",
   "execution_count": null,
   "id": "41b0f692",
   "metadata": {},
   "outputs": [],
   "source": [
    "## GT community membership matrix\n",
    "X = np.repeat(np.arange(G.vcount(), dtype=int), G.vs['n_comms'])\n",
    "Y = np.array([i-1 for j in G.vs['comms'] for i in j])\n",
    "n = len(X)\n",
    "GT = sparse.csr_matrix( (np.repeat(1,n), (X,Y)), shape=(G.vcount(), max(Y)+1) )\n"
   ]
  },
  {
   "cell_type": "code",
   "execution_count": null,
   "id": "c4099bc3",
   "metadata": {},
   "outputs": [],
   "source": [
    "def memberships2list(S):\n",
    "    L = []\n",
    "    for i in range(len(S.indptr)-1):\n",
    "        if S.indptr[i] == S.indptr[i+1]:\n",
    "            L.append([0]) ## no membership == outlier (community 0)\n",
    "        else:\n",
    "            L.append(list(S.indices[S.indptr[i]:S.indptr[i+1]]+1)) ## 1-based\n",
    "    return L\n",
    "def mem2comms(X):\n",
    "    nc = max(set([i for j in X for i in j]))+1  \n",
    "    n = len(X)\n",
    "    L = [[] for _ in range(nc)]\n",
    "    for i in range(n):\n",
    "        for j in X[i]:\n",
    "            L[j].append(i)\n",
    "    return L"
   ]
  },
  {
   "cell_type": "code",
   "execution_count": null,
   "id": "84fd9ddf",
   "metadata": {},
   "outputs": [],
   "source": [
    "import csv\n",
    "import subprocess\n",
    "oNMI = '/Users/francois/Book/GraphMiningNotebooks/oNMI/onmi'          ## overlapping NMI executable\n",
    "#oNMI = '/work/home/fcthebe/Tools/oNMI/onmi'          ## overlapping NMI executable\n",
    "def compute_oNMI(First, Second):\n",
    "    fn1 = '__'+str(random.random())[2:]\n",
    "    with open(fn1,\"w\") as f:\n",
    "        wr = csv.writer(f, delimiter=\" \")\n",
    "        wr.writerows(First)\n",
    "    f.close()   \n",
    "\n",
    "    fn2 = '__'+str(random.random())[2:]\n",
    "    with open(fn2,\"w\") as f:\n",
    "        wr = csv.writer(f, delimiter=\" \")\n",
    "        wr.writerows(Second)\n",
    "    f.close()   \n",
    "    x = float(subprocess.check_output([oNMI,fn1,fn2]).decode(\"utf-8\").split()[1])\n",
    "    _ = os.system('rm '+fn1)\n",
    "    _ = os.system('rm '+fn2)\n",
    "    return x\n"
   ]
  },
  {
   "cell_type": "code",
   "execution_count": null,
   "id": "c0056b2c",
   "metadata": {},
   "outputs": [],
   "source": [
    "%%time\n",
    "X = memberships2list(GT)\n"
   ]
  },
  {
   "cell_type": "code",
   "execution_count": null,
   "id": "8f05265e",
   "metadata": {},
   "outputs": [],
   "source": [
    "G.vs['leiden'] = G.community_leiden(objective_function='modularity', resolution=1).membership\n",
    "print('number of communities found:',max(G.vs['leiden']))\n",
    "Leiden = mem2comms([[j] for j in G.vs['leiden']])\n",
    "GT = mem2comms(G.vs['comms'])[1:]\n",
    "ldn = compute_oNMI(GT, Leiden)\n",
    "ldn"
   ]
  },
  {
   "cell_type": "code",
   "execution_count": null,
   "id": "80ccfbb9",
   "metadata": {
    "scrolled": true
   },
   "outputs": [],
   "source": [
    "IEF, Beta, C, Pv, DegPart = CAS(G.get_adjacency_sparse(), partition2sparse(G.vs['leiden']))\n"
   ]
  },
  {
   "cell_type": "code",
   "execution_count": null,
   "id": "81d9151d",
   "metadata": {
    "scrolled": true
   },
   "outputs": [],
   "source": [
    "TH = [.02,.04,.06,.08,.1]\n",
    "for th1 in [.5,.55,.6,.65]:\n",
    "    non_outliers = np.array((Beta >= th1).sum(axis=1)>0).flatten()\n",
    "    for th2 in TH:\n",
    "        if th2 <= th1:\n",
    "            L = []\n",
    "            for i in range(Beta.shape[1]):\n",
    "                x = np.where( (np.array(Beta[:,i].todense()).flatten() >= th2) & non_outliers)[0]\n",
    "                if len(x)>0:\n",
    "                    L.append(list(x))\n",
    "            print([th1, th2, G.vcount() - sum(non_outliers), compute_oNMI(GT,L), sum([len(x) for x in L]) / sum(non_outliers)])\n"
   ]
  },
  {
   "cell_type": "markdown",
   "id": "2380510c",
   "metadata": {},
   "source": [
    "# Experiment with overlapping ground-truth (gt) communities\n",
    "\n",
    "* Input: membership (sparse) matrix M and (Sparse) adjacency A\n"
   ]
  },
  {
   "cell_type": "code",
   "execution_count": null,
   "id": "4b05cfdf",
   "metadata": {
    "scrolled": false
   },
   "outputs": [],
   "source": [
    "## GT community membership matrix\n",
    "X = np.repeat(np.arange(G.vcount(), dtype=int), G.vs['n_comms'])\n",
    "Y = np.array([i-1 for j in G.vs['comms'] for i in j])\n",
    "n = len(X)\n",
    "M = sparse.csr_matrix( (np.repeat(1,n), (X,Y)), shape=(G.vcount(), max(Y)+1) )\n",
    "A = G.get_adjacency_sparse()\n",
    "\n",
    "## Compute CAS measures\n",
    "IEF, Beta, C, Pv, DegPart = CAS(A, M, alpha=1)\n"
   ]
  },
  {
   "cell_type": "raw",
   "id": "8d016938",
   "metadata": {},
   "source": [
    "with open('CAS_1.pkl','wb') as fp:\n",
    "    pickle.dump((IEF,Beta,C,Pv,DegPart),fp)"
   ]
  },
  {
   "cell_type": "code",
   "execution_count": null,
   "id": "1bd7ccb7",
   "metadata": {},
   "outputs": [],
   "source": [
    "with open('Results/CAS_1.pkl','rb') as fp:\n",
    "    IEF,Beta,C,Pv,DegPart = pickle.load(fp)"
   ]
  },
  {
   "cell_type": "markdown",
   "id": "71bc0c07",
   "metadata": {},
   "source": [
    "## k-communities\n",
    "\n",
    "Look at nodes that are part of $k$ communities, with at least $l$ edges into each one of those, and compute average rank from each statistic\n"
   ]
  },
  {
   "cell_type": "code",
   "execution_count": null,
   "id": "0da34e26",
   "metadata": {},
   "outputs": [],
   "source": [
    "plt.style.use('default')\n",
    "K = 3\n",
    "\n",
    "V = np.array(G.vs['n_comms'])==K\n",
    "GT = np.array([G.vs[v]['comms'] for v in np.where(V)])[0] -1 ## map 1-based to 0-based\n",
    "Degs = np.array([G.vs[v]['degrees'] for v in np.where(V)])[0]\n",
    "plt.figure(figsize=(12,10))\n",
    "\n",
    "## IEF\n",
    "X = IEF[V]\n",
    "L = []\n",
    "for i in range(GT.shape[0]):\n",
    "    x = np.argsort(X[i].toarray()[0])[::-1]\n",
    "    L.append([np.where(x==GT[i][j])[0][0] for j in range(K) ])\n",
    "df = pd.DataFrame(np.array(L)+1)\n",
    "my_dict = {}\n",
    "for j in [1,2,3,4,5,6,7,8]:\n",
    "    _df = df[np.min(Degs, axis=1) >= j]\n",
    "    x = _df.mean(axis=1)\n",
    "    my_dict[str(j)] = list(x)\n",
    "plt.subplot(221)\n",
    "plt.hlines((K+1)/2,1,8,linestyles='dotted')\n",
    "ax = sns.boxplot([x for x in my_dict.values()], showfliers=False, );\n",
    "ax.set_xticks(np.arange(8))\n",
    "ax.grid(linestyle=':')\n",
    "ax.set_xticklabels(my_dict.keys())\n",
    "plt.ylabel('average rank for '+str(K)+' communities', fontsize=12);\n",
    "plt.title('IEF', fontsize=14);\n",
    "\n",
    "## Beta\n",
    "X = Beta[V]\n",
    "L = []\n",
    "for i in range(GT.shape[0]):\n",
    "    x = np.argsort(X[i].toarray()[0])[::-1]\n",
    "    L.append([np.where(x==GT[i][j])[0][0] for j in range(K) ])\n",
    "df = pd.DataFrame(np.array(L)+1)\n",
    "my_dict = {}\n",
    "for j in [1,2,3,4,5,6,7,8]:\n",
    "    _df = df[np.min(Degs, axis=1) >= j]\n",
    "    x = _df.mean(axis=1)\n",
    "    my_dict[str(j)] = list(x)\n",
    "plt.subplot(222)\n",
    "plt.hlines((K+1)/2,1,8,linestyles='dotted')\n",
    "ax = sns.boxplot([x for x in my_dict.values()], showfliers=False, );\n",
    "ax.set_xticks(np.arange(8))\n",
    "ax.grid(linestyle=':')\n",
    "ax.set_xticklabels(my_dict.keys())\n",
    "#plt.xlabel('min community degree at least');\n",
    "#plt.ylabel('average rank for '+str(K)+' communities');\n",
    "plt.title('Beta', fontsize=14);\n",
    "\n",
    "## C\n",
    "X = C[V]\n",
    "L = []\n",
    "for i in range(GT.shape[0]):\n",
    "    x = np.argsort(X[i].toarray()[0])[::-1]\n",
    "    L.append([np.where(x==GT[i][j])[0][0] for j in range(K) ])\n",
    "df = pd.DataFrame(np.array(L)+1)\n",
    "my_dict = {}\n",
    "for j in [1,2,3,4,5,6,7,8]:\n",
    "    _df = df[np.min(Degs, axis=1) >= j]\n",
    "    x = _df.mean(axis=1)\n",
    "    my_dict[str(j)] = list(x)\n",
    "plt.subplot(223)\n",
    "plt.hlines((K+1)/2,1,8,linestyles='dotted')\n",
    "ax = sns.boxplot([x for x in my_dict.values()], showfliers=False, );\n",
    "ax.set_xticks(np.arange(8))\n",
    "ax.grid(linestyle=':')\n",
    "ax.set_xticklabels(my_dict.keys())\n",
    "plt.xlabel('Minimum in-community degree', fontsize=12);\n",
    "plt.ylabel('average rank for '+str(K)+' communities', fontsize=12);\n",
    "plt.title('C', fontsize=14);\n",
    "\n",
    "## Pv\n",
    "X = Pv[V]\n",
    "L = []\n",
    "for i in range(GT.shape[0]):\n",
    "    x = np.argsort(X[i].toarray()[0])[::-1]\n",
    "    L.append([np.where(x==GT[i][j])[0][0] for j in range(K) ])\n",
    "df = pd.DataFrame(np.array(L)+1)\n",
    "my_dict = {}\n",
    "for j in [1,2,3,4,5,6,7,8]:\n",
    "    _df = df[np.min(Degs, axis=1) >= j]\n",
    "    x = _df.mean(axis=1)\n",
    "    my_dict[str(j)] = list(x)\n",
    "plt.subplot(224)\n",
    "plt.hlines((K+1)/2,1,8,linestyles='dotted')\n",
    "ax = sns.boxplot([x for x in my_dict.values()], showfliers=False, );\n",
    "ax.set_xticks(np.arange(8))\n",
    "ax.grid(linestyle=':')\n",
    "ax.set_xticklabels(my_dict.keys())\n",
    "plt.xlabel('Minimum in-community degree', fontsize=12);\n",
    "#plt.ylabel('average rank for '+str(K)+' communities');\n",
    "plt.title('p-values', fontsize=14);\n",
    "\n",
    "## save PNG\n",
    "fn = 'dblp_2hops_'+str(K)+'.png'\n",
    "plt.savefig(fn)\n"
   ]
  },
  {
   "cell_type": "markdown",
   "id": "1d7917cf",
   "metadata": {},
   "source": [
    "## Score distribution as function of community size"
   ]
  },
  {
   "cell_type": "code",
   "execution_count": null,
   "id": "49ddae11",
   "metadata": {
    "scrolled": false
   },
   "outputs": [],
   "source": [
    "score = []\n",
    "gt = []\n",
    "nc = []\n",
    "for ctr in np.arange(1,16):\n",
    "    V = np.array(G.vs['n_comms']) == ctr\n",
    "    for i in range(len(V)):\n",
    "        if V[i]:\n",
    "            x = IEF[i].toarray()[0]\n",
    "            y = np.array(G.vs[i]['comms'])-1\n",
    "            score.extend([x[i] for i in y])\n",
    "            gt.extend(np.repeat(True,len(y)))\n",
    "            score.extend(x[x>0])\n",
    "            gt.extend(np.repeat(False,sum(x>0)))\n",
    "            nc.extend(np.repeat(ctr,len(y)+sum(x>0)))\n",
    "D = pd.DataFrame( np.array([score,gt,nc]).transpose(), columns=['IEF','gt','number of communities'])\n"
   ]
  },
  {
   "cell_type": "code",
   "execution_count": null,
   "id": "4fa37116",
   "metadata": {},
   "outputs": [],
   "source": [
    "D['number of communities'] = [int(x) for x in D['number of communities']]\n",
    "g = sns.boxplot(x='number of communities', y='IEF', hue='gt', data=D, \n",
    "                showfliers=False, legend='full')\n",
    "leg = g.axes.get_legend()\n",
    "leg.set_title('IEF scores')\n",
    "new_labels = ['all non-zero','ground-truth only']\n",
    "for t, l in zip(leg.texts, new_labels):\n",
    "    t.set_text(l)\n",
    "fn = 'dblp_scores_IEF.png'\n",
    "plt.savefig(fn);\n"
   ]
  },
  {
   "cell_type": "code",
   "execution_count": null,
   "id": "1661a23d",
   "metadata": {
    "scrolled": false
   },
   "outputs": [],
   "source": [
    "score = []\n",
    "gt = []\n",
    "nc = []\n",
    "for ctr in np.arange(1,16):\n",
    "    V = np.array(G.vs['n_comms']) == ctr\n",
    "    for i in range(len(V)):\n",
    "        if V[i]:\n",
    "            x = Beta[i].toarray()[0]\n",
    "            y = np.array(G.vs[i]['comms'])-1\n",
    "            score.extend([x[i] for i in y])\n",
    "            gt.extend(np.repeat(True,len(y)))\n",
    "            score.extend(x[x>0])\n",
    "            gt.extend(np.repeat(False,sum(x>0)))\n",
    "            nc.extend(np.repeat(ctr,len(y)+sum(x>0)))\n",
    "D = pd.DataFrame( np.array([score,gt,nc]).transpose(), columns=['Beta','gt','number of communities'])\n"
   ]
  },
  {
   "cell_type": "code",
   "execution_count": null,
   "id": "bc701111",
   "metadata": {},
   "outputs": [],
   "source": [
    "D['number of communities'] = [int(x) for x in D['number of communities']]\n",
    "g = sns.boxplot(x='number of communities', y='Beta', hue='gt', data=D, \n",
    "                showfliers=False, legend='full')\n",
    "leg = g.axes.get_legend()\n",
    "leg.set_title('Beta scores')\n",
    "new_labels = ['all non-zero','ground-truth only']\n",
    "for t, l in zip(leg.texts, new_labels):\n",
    "    t.set_text(l)\n",
    "fn = 'dblp_scores_Beta.png'\n",
    "plt.savefig(fn);"
   ]
  },
  {
   "cell_type": "code",
   "execution_count": null,
   "id": "5560aeac",
   "metadata": {},
   "outputs": [],
   "source": [
    "score = []\n",
    "gt = []\n",
    "nc = []\n",
    "for ctr in np.arange(1,16):\n",
    "    V = np.array(G.vs['n_comms']) == ctr\n",
    "    for i in range(len(V)):\n",
    "        if V[i]:\n",
    "            x = C[i].toarray()[0]\n",
    "            y = np.array(G.vs[i]['comms'])-1\n",
    "            score.extend([x[i] for i in y])\n",
    "            gt.extend(np.repeat(True,len(y)))\n",
    "            score.extend(x[x>0])\n",
    "            gt.extend(np.repeat(False,sum(x>0)))\n",
    "            nc.extend(np.repeat(ctr,len(y)+sum(x>0)))\n",
    "D = pd.DataFrame( np.array([score,gt,nc]).transpose(), columns=['C','gt','number of communities'])\n"
   ]
  },
  {
   "cell_type": "code",
   "execution_count": null,
   "id": "3d56aa81",
   "metadata": {},
   "outputs": [],
   "source": [
    "D['number of communities'] = [int(x) for x in D['number of communities']]\n",
    "g = sns.boxplot(x='number of communities', y='C', hue='gt', data=D, \n",
    "                showfliers=False, legend='full')\n",
    "leg = g.axes.get_legend()\n",
    "leg.set_title('C scores')\n",
    "new_labels = ['all non-zero','ground-truth only']\n",
    "for t, l in zip(leg.texts, new_labels):\n",
    "    t.set_text(l)\n",
    "fn = 'dblp_scores_C.png'\n",
    "plt.savefig(fn);\n"
   ]
  },
  {
   "cell_type": "code",
   "execution_count": null,
   "id": "c500100c",
   "metadata": {},
   "outputs": [],
   "source": [
    "D['number of communities'] = [int(x) for x in D['number of communities']]\n",
    "g = sns.boxplot(x='number of communities', y='C', hue='gt', data=D, \n",
    "                showfliers=False, legend='full')\n",
    "plt.ylim((0,30));\n",
    "leg = g.axes.get_legend()\n",
    "leg.set_title('C scores')\n",
    "new_labels = ['all non-zero','ground-truth only']\n",
    "for t, l in zip(leg.texts, new_labels):\n",
    "    t.set_text(l)\n",
    "fn = 'dblp_scores_C_zoom.png'\n",
    "plt.savefig(fn);\n"
   ]
  },
  {
   "cell_type": "code",
   "execution_count": null,
   "id": "d021ebf6",
   "metadata": {},
   "outputs": [],
   "source": [
    "score = []\n",
    "gt = []\n",
    "nc = []\n",
    "for ctr in np.arange(1,16):\n",
    "    V = np.array(G.vs['n_comms']) == ctr\n",
    "    for i in range(len(V)):\n",
    "        if V[i]:\n",
    "            x = Pv[i].toarray()[0]\n",
    "            y = np.array(G.vs[i]['comms'])-1\n",
    "            score.extend([x[i] for i in y])\n",
    "            gt.extend(np.repeat(True,len(y)))\n",
    "            score.extend(x[x>0])\n",
    "            gt.extend(np.repeat(False,sum(x>0)))\n",
    "            nc.extend(np.repeat(ctr,len(y)+sum(x>0)))\n",
    "D = pd.DataFrame( np.array([score,gt,nc]).transpose(), columns=['Pv','gt','number of communities'])\n"
   ]
  },
  {
   "cell_type": "code",
   "execution_count": null,
   "id": "2466bf91",
   "metadata": {},
   "outputs": [],
   "source": [
    "D['number of communities'] = [int(x) for x in D['number of communities']]\n",
    "g = sns.boxplot(x='number of communities', y='Pv', hue='gt', data=D, \n",
    "                showfliers=False, legend='full')\n",
    "plt.ylabel('P-score')\n",
    "leg = g.axes.get_legend()\n",
    "leg.set_title('P scores')\n",
    "new_labels = ['all non-zero','ground-truth only']\n",
    "for t, l in zip(leg.texts, new_labels):\n",
    "    t.set_text(l)\n",
    "fn = 'dblp_scores_P.png'\n",
    "plt.savefig(fn);\n"
   ]
  },
  {
   "cell_type": "code",
   "execution_count": null,
   "id": "f9d22b65",
   "metadata": {},
   "outputs": [],
   "source": [
    "D['number of communities'] = [int(x) for x in D['number of communities']]\n",
    "g = sns.boxplot(x='number of communities', y='Pv', hue='gt', data=D, \n",
    "                showfliers=False, legend='full')\n",
    "plt.ylabel('P-score')\n",
    "plt.ylim((.99,1));\n",
    "leg = g.axes.get_legend()\n",
    "leg.set_title('P scores')\n",
    "new_labels = ['all non-zero','ground-truth only']\n",
    "for t, l in zip(leg.texts, new_labels):\n",
    "    t.set_text(l)\n",
    "fn = 'dblp_scores_P_zoom.png'\n",
    "plt.savefig(fn);\n"
   ]
  },
  {
   "cell_type": "markdown",
   "id": "ce420c9a",
   "metadata": {},
   "source": [
    "## Absolute and Relative\n",
    "\n",
    "Consider a node $i$ as part of a community $j$ if one of the folowing is true:\n",
    "\n",
    "* $\\beta_{i,j} \\ge \\beta^{*}$, for example $\\beta^{*} = 0.75$\n",
    "* $\\beta_{i,j}$ is above $Q^{th}$ quantile of all values $\\{\\beta_{i,*} > 0\\}$\n",
    "* also min number of edges\n",
    "\n"
   ]
  },
  {
   "cell_type": "code",
   "execution_count": null,
   "id": "6cf8fcc1",
   "metadata": {
    "scrolled": false
   },
   "outputs": [],
   "source": [
    "## IQR\n",
    "Q = betastar = .75\n",
    "MINDEG = 2\n",
    "\n",
    "gt = []\n",
    "nc = []\n",
    "total = []\n",
    "minDeg = np.array([min(v['degrees']) if v['n_comms']>0 else 0 for v in G.vs]) >= MINDEG\n",
    "\n",
    "for ctr in np.arange(1,16):\n",
    "    V = np.array(G.vs['n_comms']) == ctr\n",
    "    V = V & minDeg\n",
    "    for i in range(len(V)):\n",
    "        if V[i]:\n",
    "            x = Beta[i].toarray()[0]\n",
    "            th = min(np.quantile(x[x>0], Q), betastar)\n",
    "            l = len(set(np.where(x>th)[0]).intersection(set(np.array(G.vs[i]['comms'])-1)))\n",
    "            gt.append(l)\n",
    "            total.append(sum(x>th))\n",
    "            nc.append(ctr)\n",
    "D = pd.DataFrame( np.array([total,gt,nc]).transpose(), columns=['total', 'gt', 'number of communities'])\n"
   ]
  },
  {
   "cell_type": "code",
   "execution_count": null,
   "id": "0b202bca",
   "metadata": {},
   "outputs": [],
   "source": [
    "sns.boxplot(x = [int(i) for i in D['number of communities']], \n",
    "            y = D['gt'], \n",
    "            showfliers=False );\n",
    "plt.grid()\n",
    "plt.xlabel('number of GT communities')\n",
    "plt.ylabel('number of GT Beta above Q('+str(Q)+') or 0.75')\n",
    "plt.plot([0,14],[1,15], color='red');\n",
    "fn = 'dblp_beta_75_a.png'\n",
    "plt.savefig(fn);"
   ]
  },
  {
   "cell_type": "code",
   "execution_count": null,
   "id": "885e6bdc",
   "metadata": {},
   "outputs": [],
   "source": [
    "sns.boxplot(x = [int(i) for i in D['number of communities']], \n",
    "            y = D['total'], \n",
    "            showfliers=False );\n",
    "plt.grid()\n",
    "plt.xlabel('number of GT communities')\n",
    "plt.ylabel('number of Beta above Q('+str(Q)+') or 0.75')\n",
    "plt.plot([0,14],[1,15], color='red');\n",
    "fn = 'dblp_beta_75_b.png'\n",
    "plt.savefig(fn);\n"
   ]
  },
  {
   "cell_type": "code",
   "execution_count": null,
   "id": "b4e86b28",
   "metadata": {},
   "outputs": [],
   "source": [
    "D['prop'] = D['gt'] / D['total']\n",
    "sns.boxplot(x = [int(i) for i in D['number of communities']], \n",
    "            y = D['prop'], \n",
    "            showfliers=False );\n",
    "plt.grid()\n",
    "plt.xlabel('number of GT communities')\n",
    "plt.ylabel('P(GT) if above Q('+str(Q)+') or 0.75');\n",
    "fn = 'dblp_beta_75_c.png'\n",
    "plt.savefig(fn);\n"
   ]
  },
  {
   "cell_type": "markdown",
   "id": "04b17434",
   "metadata": {},
   "source": [
    "# Edge classification\n",
    "\n",
    "* first we do EDA - size of intersections of incident nodes\n"
   ]
  },
  {
   "cell_type": "code",
   "execution_count": null,
   "id": "bb5aafa8",
   "metadata": {},
   "outputs": [],
   "source": [
    "## read data\n",
    "with open('../Datasets/DBLPFull.pkl', 'rb') as handle:\n",
    "    b = pickle.load(handle)\n",
    "Communities = b[\"Community lists\"][:-1]\n",
    "Edges = b['edges'][:-1]\n",
    "G = ig.Graph.TupleList([tuple(e) for e in Edges])\n",
    "\n",
    "# Dictionary: node name to node id\n",
    "v_dct = {j:i for i,j in enumerate(G.vs['name'])}\n",
    "\n",
    "# store all communities for each node\n",
    "for v in G.vs:\n",
    "    v['comms'] = []\n",
    "## append communities in 1-based format (we keep 0 for the outliers - no communities)\n",
    "for i in range(len(Communities)):\n",
    "    for v in Communities[i]:\n",
    "        G.vs[v_dct[v]]['comms'].append(i+1)\n",
    "G.vs['n_comms'] = [len(x) for x in G.vs['comms']]\n",
    "\n",
    "## Add community degrees to G (deg_A(v)'s)\n",
    "for v in G.vs:\n",
    "    ctr = Counter([i for x in v.neighbors() for i in x['comms']])\n",
    "    v['degrees'] = [ctr[i] if i in ctr.keys() else 0 for i in v['comms'] ]\n"
   ]
  },
  {
   "cell_type": "code",
   "execution_count": null,
   "id": "5745c836",
   "metadata": {},
   "outputs": [],
   "source": [
    "## EDA on the edges\n",
    "G.es['gt'] = [len(set(G.vs[e.source]['comms']).intersection(set(G.vs[e.target]['comms']))) for e in G.es]\n",
    "Counter(G.es['gt'])"
   ]
  },
  {
   "cell_type": "code",
   "execution_count": null,
   "id": "e534586a",
   "metadata": {},
   "outputs": [],
   "source": [
    "ECG = G.community_ecg(ens_size=32,final='leiden', refuse_score=True)\n"
   ]
  },
  {
   "cell_type": "code",
   "execution_count": null,
   "id": "3424302b",
   "metadata": {},
   "outputs": [],
   "source": [
    "np.corrcoef(np.array(ECG.W), np.array(G.es['gt']))"
   ]
  },
  {
   "cell_type": "code",
   "execution_count": null,
   "id": "51e570e6",
   "metadata": {},
   "outputs": [],
   "source": [
    "plt.plot(np.array(ECG.W), np.array(G.es['gt']),'.');"
   ]
  }
 ],
 "metadata": {
  "kernelspec": {
   "display_name": "complexnetworks",
   "language": "python",
   "name": "complexnetworks"
  },
  "language_info": {
   "codemirror_mode": {
    "name": "ipython",
    "version": 3
   },
   "file_extension": ".py",
   "mimetype": "text/x-python",
   "name": "python",
   "nbconvert_exporter": "python",
   "pygments_lexer": "ipython3",
   "version": "3.11.9"
  }
 },
 "nbformat": 4,
 "nbformat_minor": 5
}
